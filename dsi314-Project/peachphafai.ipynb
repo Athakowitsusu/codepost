{
 "cells": [
  {
   "cell_type": "code",
   "execution_count": 1,
   "id": "7ca4f0fe",
   "metadata": {},
   "outputs": [],
   "source": [
    "from selenium import webdriver\n",
    "from selenium.webdriver.common.keys import Keys\n",
    "import bs4\n",
    "import pandas as pd"
   ]
  },
  {
   "cell_type": "code",
   "execution_count": 2,
   "id": "7d9bffdc",
   "metadata": {},
   "outputs": [],
   "source": [
    "driver = webdriver.Chrome()"
   ]
  },
  {
   "cell_type": "code",
   "execution_count": 3,
   "id": "5765e285",
   "metadata": {},
   "outputs": [],
   "source": [
    "driver.get('https://shopee.co.th/peach_phafai?utm_content=3grW3YsCiiAcSUqeTD23yRWxVpo9')"
   ]
  },
  {
   "cell_type": "code",
   "execution_count": 4,
   "id": "d1026f6d",
   "metadata": {},
   "outputs": [],
   "source": [
    "thai_button = driver.find_element(\"xpath\", '/html/body/div[2]/div[1]/div[1]/div/div[3]/div[1]/button')"
   ]
  },
  {
   "cell_type": "code",
   "execution_count": 5,
   "id": "6a6db314",
   "metadata": {},
   "outputs": [],
   "source": [
    "thai_button.click()"
   ]
  },
  {
   "cell_type": "code",
   "execution_count": 6,
   "id": "75125412",
   "metadata": {},
   "outputs": [],
   "source": [
    "driver.execute_script(\"document.body.style.zoom='25%'\")"
   ]
  },
  {
   "cell_type": "code",
   "execution_count": 7,
   "id": "3248e1cf",
   "metadata": {},
   "outputs": [],
   "source": [
    "data = driver.page_source"
   ]
  },
  {
   "cell_type": "code",
   "execution_count": 8,
   "id": "88c5fbfb",
   "metadata": {},
   "outputs": [],
   "source": [
    "soup = bs4.BeautifulSoup(data)"
   ]
  },
  {
   "cell_type": "code",
   "execution_count": 9,
   "id": "3636e976",
   "metadata": {},
   "outputs": [],
   "source": [
    "store_name = soup.find_all('div',{'class':'section-seller-overview-horizontal__seller-portrait UgJq78'})"
   ]
  },
  {
   "cell_type": "code",
   "execution_count": 10,
   "id": "92619aba",
   "metadata": {},
   "outputs": [
    {
     "data": {
      "text/plain": [
       "['ร้านแนะนำpeachphafaiActive 10 นาที  ที่ผ่านมา']"
      ]
     },
     "execution_count": 10,
     "metadata": {},
     "output_type": "execute_result"
    }
   ],
   "source": [
    "store_name_list = []\n",
    "for product in store_name:\n",
    "    text = product.text.strip()\n",
    "    if text:\n",
    "        store_name_list.append(text)\n",
    "store_name_list"
   ]
  },
  {
   "cell_type": "code",
   "execution_count": 11,
   "id": "2d986e6a",
   "metadata": {},
   "outputs": [],
   "source": [
    "store_score = driver.find_elements(\"xpath\",'/html/body/div[1]/div/div[2]/div/div/div/div[2]/div/div[1]/div/div[2]/div[4]/div[2]/div[2]')"
   ]
  },
  {
   "cell_type": "code",
   "execution_count": 12,
   "id": "ca2a682a",
   "metadata": {},
   "outputs": [
    {
     "data": {
      "text/plain": [
       "['4.7 (การให้คะแนนทั้งหมด 10.7พัน)']"
      ]
     },
     "execution_count": 12,
     "metadata": {},
     "output_type": "execute_result"
    }
   ],
   "source": [
    "store_score_list = []\n",
    "for product in store_score:\n",
    "    text = product.text.strip()\n",
    "    if text:\n",
    "        store_score_list.append(text)\n",
    "store_score_list"
   ]
  },
  {
   "cell_type": "code",
   "execution_count": 13,
   "id": "b41fd761",
   "metadata": {},
   "outputs": [],
   "source": [
    "store_promotion = soup.find_all('div',{'class':'SLtncH'})"
   ]
  },
  {
   "cell_type": "code",
   "execution_count": 14,
   "id": "ee08eb04",
   "metadata": {},
   "outputs": [
    {
     "data": {
      "text/plain": [
       "[]"
      ]
     },
     "execution_count": 14,
     "metadata": {},
     "output_type": "execute_result"
    }
   ],
   "source": [
    "store_promotion_list = []\n",
    "for product in store_promotion:\n",
    "    text = product.text.strip()\n",
    "    if text:\n",
    "        store_promotion_list.append(text)\n",
    "store_promotion_list"
   ]
  },
  {
   "cell_type": "code",
   "execution_count": 54,
   "id": "b3f66436",
   "metadata": {},
   "outputs": [],
   "source": [
    "search = driver.find_element(\"xpath\",'/html/body/div[1]/div/div[2]/div/header/div[2]/div/div[1]/form/div/div[1]/input')"
   ]
  },
  {
   "cell_type": "code",
   "execution_count": 55,
   "id": "ddd58656",
   "metadata": {},
   "outputs": [],
   "source": [
    "search.send_keys('มัดย้อม')"
   ]
  },
  {
   "cell_type": "code",
   "execution_count": 56,
   "id": "818f4030",
   "metadata": {},
   "outputs": [],
   "source": [
    "search.send_keys(Keys.ENTER)"
   ]
  },
  {
   "cell_type": "code",
   "execution_count": 18,
   "id": "ab50d443",
   "metadata": {},
   "outputs": [],
   "source": [
    "data = driver.page_source"
   ]
  },
  {
   "cell_type": "code",
   "execution_count": 19,
   "id": "a42b2189",
   "metadata": {},
   "outputs": [],
   "source": [
    "soup = bs4.BeautifulSoup(data)"
   ]
  },
  {
   "cell_type": "code",
   "execution_count": 20,
   "id": "daebf4ae",
   "metadata": {},
   "outputs": [],
   "source": [
    "product_name = soup.find_all('div',{'class':'FDn--+'})"
   ]
  },
  {
   "cell_type": "code",
   "execution_count": 21,
   "id": "6ece31f1",
   "metadata": {},
   "outputs": [
    {
     "data": {
      "text/plain": [
       "['หมีกางเกงรุ่นย้อมขาสั้นมัดย้อม',\n",
       " '[ใส่โค้ด WUZHLW ลด 60฿ ช็อปครบ 300฿] เสื้อคอโปโลมัดย้อม ชายหญิง',\n",
       " 'minidress มัดย้อมมัดใจ',\n",
       " 'ชุดมัดย้อมเนื้อผ้าสปันขายาว SP8',\n",
       " 'เสื้อยืดคอกลมมัดย้อมเนื้อผ้า cotton100%',\n",
       " 'เสื้อคู่มัดย้อมผ้าสปัน',\n",
       " 'ชุดใส่สบายมัดย้อมแขนกุด',\n",
       " 'Set cotton ชุดมัดย้อมขาสั้นผ้าCottonเด็ก',\n",
       " 'เสื้อเบเซอร์เนื้อผ้าฝ้ายลายมัดย้อม',\n",
       " 'เสื้อคอจีนสปันลายลงมัดย้อม',\n",
       " 'ชุดมัดย้อมสีชมพูเสื้อระบายผูกหน้า',\n",
       " 'เสื้อยืดมัดย้อมกัดลาย',\n",
       " 'ชุดมัดย้อมแขนสั้นขาสั้น',\n",
       " 'คอลเลคชั่นจั๊มเอวมัดย้อมสองชิ้นเนื้อผ้า cotton',\n",
       " 'เดรสบราวนี่เลเยอร์คอปกรุ่นมัดย้อม']"
      ]
     },
     "execution_count": 21,
     "metadata": {},
     "output_type": "execute_result"
    }
   ],
   "source": [
    "product_name_list = []\n",
    "for product in product_name:\n",
    "    text = product.text.strip()\n",
    "    if text:\n",
    "        product_name_list.append(text)\n",
    "product_name_list"
   ]
  },
  {
   "cell_type": "code",
   "execution_count": 22,
   "id": "4a0cad70",
   "metadata": {},
   "outputs": [],
   "source": [
    "product_price = soup.find_all('div',{'class':'vioxXd rVLWG6'})"
   ]
  },
  {
   "cell_type": "code",
   "execution_count": 23,
   "id": "eabba693",
   "metadata": {},
   "outputs": [
    {
     "data": {
      "text/plain": [
       "['฿170',\n",
       " '฿190',\n",
       " '฿150',\n",
       " '฿270',\n",
       " '฿190',\n",
       " '฿170',\n",
       " '฿79 - ฿150',\n",
       " '฿99',\n",
       " '฿99',\n",
       " '฿190',\n",
       " '฿390',\n",
       " '฿150',\n",
       " '฿89 - ฿170',\n",
       " '฿220',\n",
       " '฿250']"
      ]
     },
     "execution_count": 23,
     "metadata": {},
     "output_type": "execute_result"
    }
   ],
   "source": [
    "product_price_list = []\n",
    "for product in product_price:\n",
    "    text = product.text.strip()\n",
    "    if text:\n",
    "        product_price_list.append(text)\n",
    "product_price_list"
   ]
  },
  {
   "cell_type": "code",
   "execution_count": 24,
   "id": "a36ba8d5",
   "metadata": {},
   "outputs": [],
   "source": [
    "product_sale = soup.find_all('div',{'class':'r6HknA uEPGHT'})"
   ]
  },
  {
   "cell_type": "code",
   "execution_count": 25,
   "id": "c63c3f8a",
   "metadata": {},
   "outputs": [
    {
     "data": {
      "text/plain": [
       "['ขายแล้ว 13 ชิ้น',\n",
       " 'ขายแล้ว 256 ชิ้น',\n",
       " 'ขายแล้ว 56 ชิ้น',\n",
       " 'ขายแล้ว 5 ชิ้น',\n",
       " 'ขายแล้ว 4 ชิ้น',\n",
       " 'ขายแล้ว 992 ชิ้น',\n",
       " 'ขายแล้ว 7 ชิ้น',\n",
       " 'ขายแล้ว 4 ชิ้น',\n",
       " 'ขายแล้ว 161 ชิ้น',\n",
       " 'ขายแล้ว 9 ชิ้น',\n",
       " 'ขายแล้ว 2 ชิ้น']"
      ]
     },
     "execution_count": 25,
     "metadata": {},
     "output_type": "execute_result"
    }
   ],
   "source": [
    "product_sale_list = []\n",
    "for product in product_sale:\n",
    "    text = product.text.strip()\n",
    "    if text:\n",
    "        product_sale_list.append(text)\n",
    "product_sale_list"
   ]
  },
  {
   "cell_type": "code",
   "execution_count": 26,
   "id": "4df7c5cd",
   "metadata": {},
   "outputs": [],
   "source": [
    "driver.execute_script(\"document.body.style.zoom='100%'\")"
   ]
  },
  {
   "cell_type": "code",
   "execution_count": 27,
   "id": "17812eb0",
   "metadata": {},
   "outputs": [],
   "source": [
    "product1 = driver.find_element(\"xpath\", '/html/body/div[1]/div/div[2]/div/div/div[2]/section/ul/li[1]')"
   ]
  },
  {
   "cell_type": "code",
   "execution_count": 28,
   "id": "dbc4eaf1",
   "metadata": {},
   "outputs": [],
   "source": [
    "product1.click()"
   ]
  },
  {
   "cell_type": "code",
   "execution_count": 29,
   "id": "4a61c479",
   "metadata": {},
   "outputs": [],
   "source": [
    "driver.execute_script(\"document.body.style.zoom='25%'\")"
   ]
  },
  {
   "cell_type": "code",
   "execution_count": 30,
   "id": "d7cb4da7",
   "metadata": {},
   "outputs": [],
   "source": [
    "data = driver.page_source"
   ]
  },
  {
   "cell_type": "code",
   "execution_count": 31,
   "id": "a7102990",
   "metadata": {},
   "outputs": [],
   "source": [
    "soup = bs4.BeautifulSoup(data)"
   ]
  },
  {
   "cell_type": "code",
   "execution_count": 32,
   "id": "b640d8fa",
   "metadata": {},
   "outputs": [],
   "source": [
    "product1_score = soup.find_all('div',{'class':'flex items-center'})"
   ]
  },
  {
   "cell_type": "code",
   "execution_count": 33,
   "id": "209f1e18",
   "metadata": {},
   "outputs": [
    {
     "data": {
      "text/plain": [
       "['จำนวน 1มีสินค้าทั้งหมด 87 ชิ้น']"
      ]
     },
     "execution_count": 33,
     "metadata": {},
     "output_type": "execute_result"
    }
   ],
   "source": [
    "product1_score_list = []\n",
    "for product in product1_score:\n",
    "    text = product.text.strip()\n",
    "    if text:\n",
    "        product1_score_list.append(text)\n",
    "product1_score_list = product1_score_list[2]\n",
    "product1_score_list = product1_score_list.split('\\n')\n",
    "product1_score_list"
   ]
  },
  {
   "cell_type": "code",
   "execution_count": 34,
   "id": "321b12a4",
   "metadata": {},
   "outputs": [],
   "source": [
    "driver.back()"
   ]
  },
  {
   "cell_type": "code",
   "execution_count": 35,
   "id": "e14c6ed4",
   "metadata": {},
   "outputs": [],
   "source": [
    "driver.execute_script(\"document.body.style.zoom='100%'\")"
   ]
  },
  {
   "cell_type": "code",
   "execution_count": 36,
   "id": "0f142ab7",
   "metadata": {},
   "outputs": [],
   "source": [
    "product2 = driver.find_element(\"xpath\", '/html/body/div[1]/div/div[2]/div/div/div[2]/section/ul/li[2]/a/div/div')"
   ]
  },
  {
   "cell_type": "code",
   "execution_count": 37,
   "id": "b4b83812",
   "metadata": {},
   "outputs": [],
   "source": [
    "product2.click()"
   ]
  },
  {
   "cell_type": "code",
   "execution_count": 38,
   "id": "075bd3bb",
   "metadata": {},
   "outputs": [],
   "source": [
    "driver.execute_script(\"document.body.style.zoom='25%'\")"
   ]
  },
  {
   "cell_type": "code",
   "execution_count": 39,
   "id": "8277a6a6",
   "metadata": {},
   "outputs": [],
   "source": [
    "data = driver.page_source"
   ]
  },
  {
   "cell_type": "code",
   "execution_count": 40,
   "id": "5435f8a0",
   "metadata": {},
   "outputs": [],
   "source": [
    "soup = bs4.BeautifulSoup(data)"
   ]
  },
  {
   "cell_type": "code",
   "execution_count": 41,
   "id": "bb089da9",
   "metadata": {},
   "outputs": [],
   "source": [
    "product2_score = soup.find_all('div',{'class':'flex items-center'})"
   ]
  },
  {
   "cell_type": "code",
   "execution_count": 42,
   "id": "e32a2d5f",
   "metadata": {},
   "outputs": [
    {
     "data": {
      "text/plain": [
       "['จำนวน 1มีสินค้าทั้งหมด 177 ชิ้น']"
      ]
     },
     "execution_count": 42,
     "metadata": {},
     "output_type": "execute_result"
    }
   ],
   "source": [
    "product2_score_list = []\n",
    "for product in product2_score:\n",
    "    text = product.text.strip()\n",
    "    if text:\n",
    "        product2_score_list.append(text)\n",
    "product2_score_list = product2_score_list[2]\n",
    "product2_score_list = product2_score_list.split('\\n')\n",
    "product2_score_list"
   ]
  },
  {
   "cell_type": "code",
   "execution_count": 43,
   "id": "ef950f3f",
   "metadata": {},
   "outputs": [],
   "source": [
    "driver.back()"
   ]
  },
  {
   "cell_type": "code",
   "execution_count": 44,
   "id": "d500d77f",
   "metadata": {},
   "outputs": [],
   "source": [
    "driver.execute_script(\"document.body.style.zoom='100%'\")"
   ]
  },
  {
   "cell_type": "code",
   "execution_count": 45,
   "id": "df4510f5",
   "metadata": {},
   "outputs": [],
   "source": [
    "product3 = driver.find_element(\"xpath\",'/html/body/div[1]/div/div[2]/div/div/div[2]/section/ul/li[3]/a/div/div')"
   ]
  },
  {
   "cell_type": "code",
   "execution_count": 46,
   "id": "31c586ad",
   "metadata": {},
   "outputs": [],
   "source": [
    "product3.click()"
   ]
  },
  {
   "cell_type": "code",
   "execution_count": 47,
   "id": "add8ee4f",
   "metadata": {},
   "outputs": [],
   "source": [
    "driver.execute_script(\"document.body.style.zoom='25%'\")"
   ]
  },
  {
   "cell_type": "code",
   "execution_count": 48,
   "id": "7b61faa7",
   "metadata": {},
   "outputs": [],
   "source": [
    "data = driver.page_source"
   ]
  },
  {
   "cell_type": "code",
   "execution_count": 49,
   "id": "36b5370a",
   "metadata": {},
   "outputs": [],
   "source": [
    "soup = bs4.BeautifulSoup(data)"
   ]
  },
  {
   "cell_type": "code",
   "execution_count": 50,
   "id": "65f58fb8",
   "metadata": {},
   "outputs": [],
   "source": [
    "product3_score = soup.find_all('div',{'class':'flex items-center'})"
   ]
  },
  {
   "cell_type": "code",
   "execution_count": 51,
   "id": "e87588b9",
   "metadata": {},
   "outputs": [
    {
     "data": {
      "text/plain": [
       "['จำนวน 1มีสินค้าทั้งหมด 150 ชิ้น']"
      ]
     },
     "execution_count": 51,
     "metadata": {},
     "output_type": "execute_result"
    }
   ],
   "source": [
    "product3_score_list = []\n",
    "for product in product3_score:\n",
    "    text = product.text.strip()\n",
    "    if text:\n",
    "        product3_score_list.append(text)\n",
    "product3_score_list = product3_score_list[2]\n",
    "product3_score_list = product3_score_list.split('\\n')\n",
    "product3_score_list"
   ]
  },
  {
   "cell_type": "code",
   "execution_count": 53,
   "id": "f0c81ddb",
   "metadata": {},
   "outputs": [],
   "source": [
    "driver.back()"
   ]
  },
  {
   "cell_type": "code",
   "execution_count": 57,
   "id": "9e0affbb",
   "metadata": {},
   "outputs": [],
   "source": [
    "driver.execute_script(\"document.body.style.zoom='100%'\")"
   ]
  },
  {
   "cell_type": "code",
   "execution_count": 58,
   "id": "cec671f2",
   "metadata": {},
   "outputs": [],
   "source": [
    "product4 = driver.find_element(\"xpath\",'/html/body/div[1]/div/div[2]/div/div/div[2]/section/ul/li[4]/a/div/div')"
   ]
  },
  {
   "cell_type": "code",
   "execution_count": 59,
   "id": "f0a09f7f",
   "metadata": {},
   "outputs": [],
   "source": [
    "product4.click()"
   ]
  },
  {
   "cell_type": "code",
   "execution_count": 60,
   "id": "04b2667c",
   "metadata": {},
   "outputs": [],
   "source": [
    "driver.execute_script(\"document.body.style.zoom='25%'\")"
   ]
  },
  {
   "cell_type": "code",
   "execution_count": 61,
   "id": "3266e756",
   "metadata": {},
   "outputs": [],
   "source": [
    "data = driver.page_source"
   ]
  },
  {
   "cell_type": "code",
   "execution_count": 62,
   "id": "d573e0a4",
   "metadata": {},
   "outputs": [],
   "source": [
    "soup = bs4.BeautifulSoup(data)"
   ]
  },
  {
   "cell_type": "code",
   "execution_count": 63,
   "id": "99563e7e",
   "metadata": {},
   "outputs": [],
   "source": [
    "product4_score = soup.find_all('div',{'class':'flex items-center'})"
   ]
  },
  {
   "cell_type": "code",
   "execution_count": 64,
   "id": "f8adf409",
   "metadata": {},
   "outputs": [
    {
     "data": {
      "text/plain": [
       "['จำนวน 1มีสินค้าทั้งหมด 400 ชิ้น']"
      ]
     },
     "execution_count": 64,
     "metadata": {},
     "output_type": "execute_result"
    }
   ],
   "source": [
    "product4_score_list = []\n",
    "for product in product4_score:\n",
    "    text = product.text.strip()\n",
    "    if text:\n",
    "        product4_score_list.append(text)\n",
    "product4_score_list = product4_score_list[2]\n",
    "product4_score_list = product4_score_list.split('\\n')\n",
    "product4_score_list "
   ]
  },
  {
   "cell_type": "code",
   "execution_count": 65,
   "id": "8c4a0e04",
   "metadata": {},
   "outputs": [],
   "source": [
    "driver.back()"
   ]
  },
  {
   "cell_type": "code",
   "execution_count": 66,
   "id": "56601efc",
   "metadata": {},
   "outputs": [],
   "source": [
    "driver.execute_script(\"document.body.style.zoom='100%'\")"
   ]
  },
  {
   "cell_type": "code",
   "execution_count": 67,
   "id": "7784ff2d",
   "metadata": {},
   "outputs": [],
   "source": [
    "product5 = driver.find_element(\"xpath\",'/html/body/div[1]/div/div[2]/div/div/div[2]/section/ul/li[5]/a/div/div')"
   ]
  },
  {
   "cell_type": "code",
   "execution_count": 68,
   "id": "136fcd0b",
   "metadata": {},
   "outputs": [],
   "source": [
    "product5.click()"
   ]
  },
  {
   "cell_type": "code",
   "execution_count": 69,
   "id": "561f2299",
   "metadata": {},
   "outputs": [],
   "source": [
    "driver.execute_script(\"document.body.style.zoom='25%'\")"
   ]
  },
  {
   "cell_type": "code",
   "execution_count": 70,
   "id": "08d447e8",
   "metadata": {},
   "outputs": [],
   "source": [
    "data = driver.page_source"
   ]
  },
  {
   "cell_type": "code",
   "execution_count": 71,
   "id": "149a2199",
   "metadata": {},
   "outputs": [],
   "source": [
    "soup = bs4.BeautifulSoup(data)"
   ]
  },
  {
   "cell_type": "code",
   "execution_count": 72,
   "id": "77e8ec3a",
   "metadata": {},
   "outputs": [],
   "source": [
    "product5_score = soup.find_all('div',{'class':'flex items-center'})"
   ]
  },
  {
   "cell_type": "code",
   "execution_count": 73,
   "id": "d7c93b8a",
   "metadata": {},
   "outputs": [
    {
     "data": {
      "text/plain": [
       "['จำนวน 1มีสินค้าทั้งหมด 55 ชิ้น']"
      ]
     },
     "execution_count": 73,
     "metadata": {},
     "output_type": "execute_result"
    }
   ],
   "source": [
    "product5_score_list = []\n",
    "for product in product5_score:\n",
    "    text = product.text.strip()\n",
    "    if text:\n",
    "        product5_score_list.append(text)\n",
    "product5_score_list = product5_score_list[2]\n",
    "product5_score_list = product5_score_list.split('\\n')\n",
    "product5_score_list"
   ]
  },
  {
   "cell_type": "code",
   "execution_count": 74,
   "id": "5cb41a36",
   "metadata": {},
   "outputs": [],
   "source": [
    "driver.back()"
   ]
  },
  {
   "cell_type": "code",
   "execution_count": 75,
   "id": "af532983",
   "metadata": {},
   "outputs": [],
   "source": [
    "driver.execute_script(\"document.body.style.zoom='100%'\")"
   ]
  },
  {
   "cell_type": "code",
   "execution_count": 76,
   "id": "0c4645c6",
   "metadata": {},
   "outputs": [],
   "source": [
    "product6 = driver.find_element(\"xpath\",'/html/body/div[1]/div/div[2]/div/div/div[2]/section/ul/li[6]/a/div/div')"
   ]
  },
  {
   "cell_type": "code",
   "execution_count": 77,
   "id": "c4b48f80",
   "metadata": {},
   "outputs": [],
   "source": [
    "product6.click()"
   ]
  },
  {
   "cell_type": "code",
   "execution_count": 78,
   "id": "6e81954d",
   "metadata": {},
   "outputs": [],
   "source": [
    "driver.execute_script(\"document.body.style.zoom='25%'\")"
   ]
  },
  {
   "cell_type": "code",
   "execution_count": 79,
   "id": "b773ba30",
   "metadata": {},
   "outputs": [],
   "source": [
    "data = driver.page_source"
   ]
  },
  {
   "cell_type": "code",
   "execution_count": 80,
   "id": "a02dcd61",
   "metadata": {},
   "outputs": [],
   "source": [
    "soup = bs4.BeautifulSoup(data)"
   ]
  },
  {
   "cell_type": "code",
   "execution_count": 81,
   "id": "8c3cee7e",
   "metadata": {},
   "outputs": [],
   "source": [
    "product6_score = soup.find_all('div',{'class':'flex items-center'})"
   ]
  },
  {
   "cell_type": "code",
   "execution_count": 82,
   "id": "6e90bde7",
   "metadata": {},
   "outputs": [
    {
     "data": {
      "text/plain": [
       "['จำนวน 1มีสินค้าทั้งหมด 246 ชิ้น']"
      ]
     },
     "execution_count": 82,
     "metadata": {},
     "output_type": "execute_result"
    }
   ],
   "source": [
    "product6_score_list = []\n",
    "for product in product6_score:\n",
    "    text = product.text.strip()\n",
    "    if text:\n",
    "        product6_score_list.append(text)\n",
    "product6_score_list = product6_score_list[2]\n",
    "product6_score_list = product6_score_list.split('\\n')\n",
    "product6_score_list"
   ]
  },
  {
   "cell_type": "code",
   "execution_count": 83,
   "id": "cccffeb9",
   "metadata": {},
   "outputs": [],
   "source": [
    "driver.back()"
   ]
  },
  {
   "cell_type": "code",
   "execution_count": 84,
   "id": "44ffd6f7",
   "metadata": {},
   "outputs": [],
   "source": [
    "driver.execute_script(\"document.body.style.zoom='100%'\")"
   ]
  },
  {
   "cell_type": "code",
   "execution_count": 85,
   "id": "f0489826",
   "metadata": {},
   "outputs": [],
   "source": [
    "product7 = driver.find_element(\"xpath\",'/html/body/div[1]/div/div[2]/div/div/div[2]/section/ul/li[7]/a/div/div')"
   ]
  },
  {
   "cell_type": "code",
   "execution_count": 86,
   "id": "a254ec60",
   "metadata": {},
   "outputs": [],
   "source": [
    "product7.click()"
   ]
  },
  {
   "cell_type": "code",
   "execution_count": 87,
   "id": "68f059c2",
   "metadata": {},
   "outputs": [],
   "source": [
    "driver.execute_script(\"document.body.style.zoom='25%'\")"
   ]
  },
  {
   "cell_type": "code",
   "execution_count": 88,
   "id": "2467331e",
   "metadata": {},
   "outputs": [],
   "source": [
    "data = driver.page_source"
   ]
  },
  {
   "cell_type": "code",
   "execution_count": 89,
   "id": "fa0f0474",
   "metadata": {},
   "outputs": [],
   "source": [
    "soup = bs4.BeautifulSoup(data)"
   ]
  },
  {
   "cell_type": "code",
   "execution_count": 90,
   "id": "8db133cd",
   "metadata": {},
   "outputs": [],
   "source": [
    "product7_score = soup.find_all('div',{'class':'flex items-center'})"
   ]
  },
  {
   "cell_type": "code",
   "execution_count": 91,
   "id": "791fc61e",
   "metadata": {},
   "outputs": [
    {
     "data": {
      "text/plain": [
       "['จำนวน 1มีสินค้าทั้งหมด 1751 ชิ้น']"
      ]
     },
     "execution_count": 91,
     "metadata": {},
     "output_type": "execute_result"
    }
   ],
   "source": [
    "product7_score_list = []\n",
    "for product in product7_score:\n",
    "    text = product.text.strip()\n",
    "    if text:\n",
    "        product7_score_list.append(text)\n",
    "product7_score_list = product7_score_list[2]\n",
    "product7_score_list = product7_score_list.split('\\n')\n",
    "product7_score_list"
   ]
  },
  {
   "cell_type": "code",
   "execution_count": 92,
   "id": "2195d693",
   "metadata": {},
   "outputs": [],
   "source": [
    "driver.back()"
   ]
  },
  {
   "cell_type": "code",
   "execution_count": 93,
   "id": "a973561e",
   "metadata": {},
   "outputs": [],
   "source": [
    "driver.execute_script(\"document.body.style.zoom='100%'\")"
   ]
  },
  {
   "cell_type": "code",
   "execution_count": 94,
   "id": "40e17b0e",
   "metadata": {},
   "outputs": [],
   "source": [
    "product8 = driver.find_element(\"xpath\",'/html/body/div[1]/div/div[2]/div/div/div[2]/section/ul/li[8]/a/div/div')"
   ]
  },
  {
   "cell_type": "code",
   "execution_count": 95,
   "id": "db2727e4",
   "metadata": {},
   "outputs": [],
   "source": [
    "product8.click()"
   ]
  },
  {
   "cell_type": "code",
   "execution_count": 96,
   "id": "b6ae994b",
   "metadata": {},
   "outputs": [],
   "source": [
    "driver.execute_script(\"document.body.style.zoom='25%'\")"
   ]
  },
  {
   "cell_type": "code",
   "execution_count": 97,
   "id": "2f39bf64",
   "metadata": {},
   "outputs": [],
   "source": [
    "data = driver.page_source"
   ]
  },
  {
   "cell_type": "code",
   "execution_count": 98,
   "id": "3a20cf12",
   "metadata": {},
   "outputs": [],
   "source": [
    "soup = bs4.BeautifulSoup(data)"
   ]
  },
  {
   "cell_type": "code",
   "execution_count": 99,
   "id": "d9991b23",
   "metadata": {},
   "outputs": [],
   "source": [
    "product8_score = soup.find_all('div',{'class':'flex items-center'})"
   ]
  },
  {
   "cell_type": "code",
   "execution_count": 100,
   "id": "93b566d6",
   "metadata": {},
   "outputs": [
    {
     "data": {
      "text/plain": [
       "['จำนวน 1มีสินค้าทั้งหมด 58 ชิ้น']"
      ]
     },
     "execution_count": 100,
     "metadata": {},
     "output_type": "execute_result"
    }
   ],
   "source": [
    "product8_score_list = []\n",
    "for product in product8_score:\n",
    "    text = product.text.strip()\n",
    "    if text:\n",
    "        product8_score_list.append(text)\n",
    "product8_score_list = product8_score_list[2]\n",
    "product8_score_list = product8_score_list.split('\\n')\n",
    "product8_score_list"
   ]
  },
  {
   "cell_type": "code",
   "execution_count": 101,
   "id": "3af02874",
   "metadata": {},
   "outputs": [],
   "source": [
    "driver.back()"
   ]
  },
  {
   "cell_type": "code",
   "execution_count": 102,
   "id": "1facf778",
   "metadata": {},
   "outputs": [],
   "source": [
    "driver.execute_script(\"document.body.style.zoom='100%'\")"
   ]
  },
  {
   "cell_type": "code",
   "execution_count": 103,
   "id": "f4ad941c",
   "metadata": {},
   "outputs": [],
   "source": [
    "product9 = driver.find_element(\"xpath\",'/html/body/div[1]/div/div[2]/div/div/div[2]/section/ul/li[9]/a/div/div')"
   ]
  },
  {
   "cell_type": "code",
   "execution_count": 104,
   "id": "f23461b3",
   "metadata": {},
   "outputs": [],
   "source": [
    "product9.click()"
   ]
  },
  {
   "cell_type": "code",
   "execution_count": 105,
   "id": "64414415",
   "metadata": {},
   "outputs": [],
   "source": [
    "driver.execute_script(\"document.body.style.zoom='25%'\")"
   ]
  },
  {
   "cell_type": "code",
   "execution_count": 106,
   "id": "fa3c789d",
   "metadata": {},
   "outputs": [],
   "source": [
    "data = driver.page_source"
   ]
  },
  {
   "cell_type": "code",
   "execution_count": 107,
   "id": "97edeed3",
   "metadata": {},
   "outputs": [],
   "source": [
    "soup = bs4.BeautifulSoup(data)"
   ]
  },
  {
   "cell_type": "code",
   "execution_count": 108,
   "id": "3ee5055b",
   "metadata": {},
   "outputs": [],
   "source": [
    "product9_score = soup.find_all('div',{'class':'flex items-center'})"
   ]
  },
  {
   "cell_type": "code",
   "execution_count": 109,
   "id": "a7dfdc03",
   "metadata": {},
   "outputs": [
    {
     "data": {
      "text/plain": [
       "['จำนวน 1มีสินค้าทั้งหมด 79 ชิ้น']"
      ]
     },
     "execution_count": 109,
     "metadata": {},
     "output_type": "execute_result"
    }
   ],
   "source": [
    "product9_score_list = []\n",
    "for product in product9_score:\n",
    "    text = product.text.strip()\n",
    "    if text:\n",
    "        product9_score_list.append(text)\n",
    "product9_score_list = product9_score_list[2]\n",
    "product9_score_list = product9_score_list.split('\\n')\n",
    "product9_score_list"
   ]
  },
  {
   "cell_type": "code",
   "execution_count": 110,
   "id": "dce33de7",
   "metadata": {},
   "outputs": [],
   "source": [
    "driver.back()"
   ]
  },
  {
   "cell_type": "code",
   "execution_count": 111,
   "id": "b22862fa",
   "metadata": {},
   "outputs": [],
   "source": [
    "driver.execute_script(\"document.body.style.zoom='100%'\")"
   ]
  },
  {
   "cell_type": "code",
   "execution_count": 112,
   "id": "5c4341a3",
   "metadata": {},
   "outputs": [
    {
     "ename": "InvalidSelectorException",
     "evalue": "Message: invalid selector: Unable to locate an element with the xpath expression  because of the following error:\nSyntaxError: Failed to execute 'evaluate' on 'Document': The string '' is not a valid XPath expression.\n  (Session info: chrome=116.0.5845.187); For documentation on this error, please visit: https://www.selenium.dev/documentation/webdriver/troubleshooting/errors#invalid-selector-exception\nStacktrace:\n0   chromedriver                        0x0000000105829638 chromedriver + 5002808\n1   chromedriver                        0x0000000105820a53 chromedriver + 4966995\n2   chromedriver                        0x00000001053d1a57 chromedriver + 449111\n3   chromedriver                        0x00000001053d6d90 chromedriver + 470416\n4   chromedriver                        0x00000001053d8f74 chromedriver + 479092\n5   chromedriver                        0x00000001053d90bc chromedriver + 479420\n6   chromedriver                        0x0000000105417ad5 chromedriver + 735957\n7   chromedriver                        0x0000000105417ec1 chromedriver + 736961\n8   chromedriver                        0x000000010545bf04 chromedriver + 1015556\n9   chromedriver                        0x000000010543e41d chromedriver + 893981\n10  chromedriver                        0x0000000105459391 chromedriver + 1004433\n11  chromedriver                        0x000000010543e1c3 chromedriver + 893379\n12  chromedriver                        0x0000000105409df9 chromedriver + 679417\n13  chromedriver                        0x000000010540afde chromedriver + 683998\n14  chromedriver                        0x00000001057e62d9 chromedriver + 4727513\n15  chromedriver                        0x00000001057eb2de chromedriver + 4747998\n16  chromedriver                        0x00000001057a92c9 chromedriver + 4477641\n17  chromedriver                        0x00000001057ec02d chromedriver + 4751405\n18  chromedriver                        0x00000001057bf0ec chromedriver + 4567276\n19  chromedriver                        0x00000001058097f8 chromedriver + 4872184\n20  chromedriver                        0x00000001058099b7 chromedriver + 4872631\n21  chromedriver                        0x0000000105819a1f chromedriver + 4938271\n22  libsystem_pthread.dylib             0x00007fff72a9e2eb _pthread_body + 126\n23  libsystem_pthread.dylib             0x00007fff72aa1249 _pthread_start + 66\n24  libsystem_pthread.dylib             0x00007fff72a9d40d thread_start + 13\n",
     "output_type": "error",
     "traceback": [
      "\u001b[0;31m---------------------------------------------------------------------------\u001b[0m",
      "\u001b[0;31mInvalidSelectorException\u001b[0m                  Traceback (most recent call last)",
      "\u001b[0;32m<ipython-input-112-949ed7494653>\u001b[0m in \u001b[0;36m<module>\u001b[0;34m\u001b[0m\n\u001b[0;32m----> 1\u001b[0;31m \u001b[0mproduct10\u001b[0m \u001b[0;34m=\u001b[0m \u001b[0mdriver\u001b[0m\u001b[0;34m.\u001b[0m\u001b[0mfind_element\u001b[0m\u001b[0;34m(\u001b[0m\u001b[0;34m\"xpath\"\u001b[0m\u001b[0;34m,\u001b[0m\u001b[0;34m''\u001b[0m\u001b[0;34m)\u001b[0m\u001b[0;34m\u001b[0m\u001b[0;34m\u001b[0m\u001b[0m\n\u001b[0m",
      "\u001b[0;32m/opt/anaconda3/lib/python3.8/site-packages/selenium/webdriver/remote/webdriver.py\u001b[0m in \u001b[0;36mfind_element\u001b[0;34m(self, by, value)\u001b[0m\n\u001b[1;32m    736\u001b[0m             \u001b[0mvalue\u001b[0m \u001b[0;34m=\u001b[0m \u001b[0;34mf'[name=\"{value}\"]'\u001b[0m\u001b[0;34m\u001b[0m\u001b[0;34m\u001b[0m\u001b[0m\n\u001b[1;32m    737\u001b[0m \u001b[0;34m\u001b[0m\u001b[0m\n\u001b[0;32m--> 738\u001b[0;31m         \u001b[0;32mreturn\u001b[0m \u001b[0mself\u001b[0m\u001b[0;34m.\u001b[0m\u001b[0mexecute\u001b[0m\u001b[0;34m(\u001b[0m\u001b[0mCommand\u001b[0m\u001b[0;34m.\u001b[0m\u001b[0mFIND_ELEMENT\u001b[0m\u001b[0;34m,\u001b[0m \u001b[0;34m{\u001b[0m\u001b[0;34m\"using\"\u001b[0m\u001b[0;34m:\u001b[0m \u001b[0mby\u001b[0m\u001b[0;34m,\u001b[0m \u001b[0;34m\"value\"\u001b[0m\u001b[0;34m:\u001b[0m \u001b[0mvalue\u001b[0m\u001b[0;34m}\u001b[0m\u001b[0;34m)\u001b[0m\u001b[0;34m[\u001b[0m\u001b[0;34m\"value\"\u001b[0m\u001b[0;34m]\u001b[0m\u001b[0;34m\u001b[0m\u001b[0;34m\u001b[0m\u001b[0m\n\u001b[0m\u001b[1;32m    739\u001b[0m \u001b[0;34m\u001b[0m\u001b[0m\n\u001b[1;32m    740\u001b[0m     \u001b[0;32mdef\u001b[0m \u001b[0mfind_elements\u001b[0m\u001b[0;34m(\u001b[0m\u001b[0mself\u001b[0m\u001b[0;34m,\u001b[0m \u001b[0mby\u001b[0m\u001b[0;34m=\u001b[0m\u001b[0mBy\u001b[0m\u001b[0;34m.\u001b[0m\u001b[0mID\u001b[0m\u001b[0;34m,\u001b[0m \u001b[0mvalue\u001b[0m\u001b[0;34m:\u001b[0m \u001b[0mOptional\u001b[0m\u001b[0;34m[\u001b[0m\u001b[0mstr\u001b[0m\u001b[0;34m]\u001b[0m \u001b[0;34m=\u001b[0m \u001b[0;32mNone\u001b[0m\u001b[0;34m)\u001b[0m \u001b[0;34m->\u001b[0m \u001b[0mList\u001b[0m\u001b[0;34m[\u001b[0m\u001b[0mWebElement\u001b[0m\u001b[0;34m]\u001b[0m\u001b[0;34m:\u001b[0m\u001b[0;34m\u001b[0m\u001b[0;34m\u001b[0m\u001b[0m\n",
      "\u001b[0;32m/opt/anaconda3/lib/python3.8/site-packages/selenium/webdriver/remote/webdriver.py\u001b[0m in \u001b[0;36mexecute\u001b[0;34m(self, driver_command, params)\u001b[0m\n\u001b[1;32m    342\u001b[0m         \u001b[0mresponse\u001b[0m \u001b[0;34m=\u001b[0m \u001b[0mself\u001b[0m\u001b[0;34m.\u001b[0m\u001b[0mcommand_executor\u001b[0m\u001b[0;34m.\u001b[0m\u001b[0mexecute\u001b[0m\u001b[0;34m(\u001b[0m\u001b[0mdriver_command\u001b[0m\u001b[0;34m,\u001b[0m \u001b[0mparams\u001b[0m\u001b[0;34m)\u001b[0m\u001b[0;34m\u001b[0m\u001b[0;34m\u001b[0m\u001b[0m\n\u001b[1;32m    343\u001b[0m         \u001b[0;32mif\u001b[0m \u001b[0mresponse\u001b[0m\u001b[0;34m:\u001b[0m\u001b[0;34m\u001b[0m\u001b[0;34m\u001b[0m\u001b[0m\n\u001b[0;32m--> 344\u001b[0;31m             \u001b[0mself\u001b[0m\u001b[0;34m.\u001b[0m\u001b[0merror_handler\u001b[0m\u001b[0;34m.\u001b[0m\u001b[0mcheck_response\u001b[0m\u001b[0;34m(\u001b[0m\u001b[0mresponse\u001b[0m\u001b[0;34m)\u001b[0m\u001b[0;34m\u001b[0m\u001b[0;34m\u001b[0m\u001b[0m\n\u001b[0m\u001b[1;32m    345\u001b[0m             \u001b[0mresponse\u001b[0m\u001b[0;34m[\u001b[0m\u001b[0;34m\"value\"\u001b[0m\u001b[0;34m]\u001b[0m \u001b[0;34m=\u001b[0m \u001b[0mself\u001b[0m\u001b[0;34m.\u001b[0m\u001b[0m_unwrap_value\u001b[0m\u001b[0;34m(\u001b[0m\u001b[0mresponse\u001b[0m\u001b[0;34m.\u001b[0m\u001b[0mget\u001b[0m\u001b[0;34m(\u001b[0m\u001b[0;34m\"value\"\u001b[0m\u001b[0;34m,\u001b[0m \u001b[0;32mNone\u001b[0m\u001b[0;34m)\u001b[0m\u001b[0;34m)\u001b[0m\u001b[0;34m\u001b[0m\u001b[0;34m\u001b[0m\u001b[0m\n\u001b[1;32m    346\u001b[0m             \u001b[0;32mreturn\u001b[0m \u001b[0mresponse\u001b[0m\u001b[0;34m\u001b[0m\u001b[0;34m\u001b[0m\u001b[0m\n",
      "\u001b[0;32m/opt/anaconda3/lib/python3.8/site-packages/selenium/webdriver/remote/errorhandler.py\u001b[0m in \u001b[0;36mcheck_response\u001b[0;34m(self, response)\u001b[0m\n\u001b[1;32m    227\u001b[0m                 \u001b[0malert_text\u001b[0m \u001b[0;34m=\u001b[0m \u001b[0mvalue\u001b[0m\u001b[0;34m[\u001b[0m\u001b[0;34m\"alert\"\u001b[0m\u001b[0;34m]\u001b[0m\u001b[0;34m.\u001b[0m\u001b[0mget\u001b[0m\u001b[0;34m(\u001b[0m\u001b[0;34m\"text\"\u001b[0m\u001b[0;34m)\u001b[0m\u001b[0;34m\u001b[0m\u001b[0;34m\u001b[0m\u001b[0m\n\u001b[1;32m    228\u001b[0m             \u001b[0;32mraise\u001b[0m \u001b[0mexception_class\u001b[0m\u001b[0;34m(\u001b[0m\u001b[0mmessage\u001b[0m\u001b[0;34m,\u001b[0m \u001b[0mscreen\u001b[0m\u001b[0;34m,\u001b[0m \u001b[0mstacktrace\u001b[0m\u001b[0;34m,\u001b[0m \u001b[0malert_text\u001b[0m\u001b[0;34m)\u001b[0m  \u001b[0;31m# type: ignore[call-arg]  # mypy is not smart enough here\u001b[0m\u001b[0;34m\u001b[0m\u001b[0;34m\u001b[0m\u001b[0m\n\u001b[0;32m--> 229\u001b[0;31m         \u001b[0;32mraise\u001b[0m \u001b[0mexception_class\u001b[0m\u001b[0;34m(\u001b[0m\u001b[0mmessage\u001b[0m\u001b[0;34m,\u001b[0m \u001b[0mscreen\u001b[0m\u001b[0;34m,\u001b[0m \u001b[0mstacktrace\u001b[0m\u001b[0;34m)\u001b[0m\u001b[0;34m\u001b[0m\u001b[0;34m\u001b[0m\u001b[0m\n\u001b[0m",
      "\u001b[0;31mInvalidSelectorException\u001b[0m: Message: invalid selector: Unable to locate an element with the xpath expression  because of the following error:\nSyntaxError: Failed to execute 'evaluate' on 'Document': The string '' is not a valid XPath expression.\n  (Session info: chrome=116.0.5845.187); For documentation on this error, please visit: https://www.selenium.dev/documentation/webdriver/troubleshooting/errors#invalid-selector-exception\nStacktrace:\n0   chromedriver                        0x0000000105829638 chromedriver + 5002808\n1   chromedriver                        0x0000000105820a53 chromedriver + 4966995\n2   chromedriver                        0x00000001053d1a57 chromedriver + 449111\n3   chromedriver                        0x00000001053d6d90 chromedriver + 470416\n4   chromedriver                        0x00000001053d8f74 chromedriver + 479092\n5   chromedriver                        0x00000001053d90bc chromedriver + 479420\n6   chromedriver                        0x0000000105417ad5 chromedriver + 735957\n7   chromedriver                        0x0000000105417ec1 chromedriver + 736961\n8   chromedriver                        0x000000010545bf04 chromedriver + 1015556\n9   chromedriver                        0x000000010543e41d chromedriver + 893981\n10  chromedriver                        0x0000000105459391 chromedriver + 1004433\n11  chromedriver                        0x000000010543e1c3 chromedriver + 893379\n12  chromedriver                        0x0000000105409df9 chromedriver + 679417\n13  chromedriver                        0x000000010540afde chromedriver + 683998\n14  chromedriver                        0x00000001057e62d9 chromedriver + 4727513\n15  chromedriver                        0x00000001057eb2de chromedriver + 4747998\n16  chromedriver                        0x00000001057a92c9 chromedriver + 4477641\n17  chromedriver                        0x00000001057ec02d chromedriver + 4751405\n18  chromedriver                        0x00000001057bf0ec chromedriver + 4567276\n19  chromedriver                        0x00000001058097f8 chromedriver + 4872184\n20  chromedriver                        0x00000001058099b7 chromedriver + 4872631\n21  chromedriver                        0x0000000105819a1f chromedriver + 4938271\n22  libsystem_pthread.dylib             0x00007fff72a9e2eb _pthread_body + 126\n23  libsystem_pthread.dylib             0x00007fff72aa1249 _pthread_start + 66\n24  libsystem_pthread.dylib             0x00007fff72a9d40d thread_start + 13\n"
     ]
    }
   ],
   "source": [
    "product10 = driver.find_element(\"xpath\",'')"
   ]
  },
  {
   "cell_type": "code",
   "execution_count": 113,
   "id": "6f9f71e7",
   "metadata": {},
   "outputs": [
    {
     "ename": "NameError",
     "evalue": "name 'product10' is not defined",
     "output_type": "error",
     "traceback": [
      "\u001b[0;31m---------------------------------------------------------------------------\u001b[0m",
      "\u001b[0;31mNameError\u001b[0m                                 Traceback (most recent call last)",
      "\u001b[0;32m<ipython-input-113-caf28f5c2286>\u001b[0m in \u001b[0;36m<module>\u001b[0;34m\u001b[0m\n\u001b[0;32m----> 1\u001b[0;31m \u001b[0mproduct10\u001b[0m\u001b[0;34m.\u001b[0m\u001b[0mclick\u001b[0m\u001b[0;34m(\u001b[0m\u001b[0;34m)\u001b[0m\u001b[0;34m\u001b[0m\u001b[0;34m\u001b[0m\u001b[0m\n\u001b[0m",
      "\u001b[0;31mNameError\u001b[0m: name 'product10' is not defined"
     ]
    }
   ],
   "source": [
    "product10.click()"
   ]
  },
  {
   "cell_type": "code",
   "execution_count": null,
   "id": "10a4fe57",
   "metadata": {},
   "outputs": [],
   "source": [
    "driver.execute_script(\"document.body.style.zoom='25%'\")"
   ]
  },
  {
   "cell_type": "code",
   "execution_count": null,
   "id": "214b35ac",
   "metadata": {},
   "outputs": [],
   "source": [
    "data = driver.page_source"
   ]
  },
  {
   "cell_type": "code",
   "execution_count": null,
   "id": "3037986f",
   "metadata": {},
   "outputs": [],
   "source": [
    "soup = bs4.BeautifulSoup(data)"
   ]
  },
  {
   "cell_type": "code",
   "execution_count": 113,
   "id": "7809f2ff",
   "metadata": {},
   "outputs": [],
   "source": [
    "product10_score = soup.find_all('div',{'class':'flex items-center'})"
   ]
  },
  {
   "cell_type": "code",
   "execution_count": 114,
   "id": "5e5dff43",
   "metadata": {},
   "outputs": [
    {
     "data": {
      "text/plain": [
       "['จำนวน 1มีสินค้าทั้งหมด 19 ชิ้น']"
      ]
     },
     "execution_count": 114,
     "metadata": {},
     "output_type": "execute_result"
    }
   ],
   "source": [
    "product10_score_list = []\n",
    "for product in product10_score:\n",
    "    text = product.text.strip()\n",
    "    if text:\n",
    "        product10_score_list.append(text)\n",
    "product10_score_list = product10_score_list[2]\n",
    "product10_score_list = product10_score_list.split('\\n')\n",
    "product10_score_list"
   ]
  },
  {
   "cell_type": "code",
   "execution_count": 115,
   "id": "f9f67b9b",
   "metadata": {},
   "outputs": [],
   "source": [
    "driver.back()"
   ]
  },
  {
   "cell_type": "code",
   "execution_count": 116,
   "id": "bc734a6b",
   "metadata": {},
   "outputs": [],
   "source": [
    "driver.execute_script(\"document.body.style.zoom='100%'\")"
   ]
  },
  {
   "cell_type": "code",
   "execution_count": 117,
   "id": "4bf3d150",
   "metadata": {},
   "outputs": [],
   "source": [
    "product11 = driver.find_element(\"xpath\",'/html/body/div[1]/div/div[2]/div/div/div[2]/section/ul/li[11]/a/div/div')"
   ]
  },
  {
   "cell_type": "code",
   "execution_count": 118,
   "id": "e308f5d2",
   "metadata": {},
   "outputs": [],
   "source": [
    "product11.click()"
   ]
  },
  {
   "cell_type": "code",
   "execution_count": 119,
   "id": "576e53c2",
   "metadata": {},
   "outputs": [],
   "source": [
    "driver.execute_script(\"document.body.style.zoom='25%'\")"
   ]
  },
  {
   "cell_type": "code",
   "execution_count": 120,
   "id": "9f4269f6",
   "metadata": {},
   "outputs": [],
   "source": [
    "data = driver.page_source"
   ]
  },
  {
   "cell_type": "code",
   "execution_count": 121,
   "id": "ec1ba67b",
   "metadata": {},
   "outputs": [],
   "source": [
    "soup = bs4.BeautifulSoup(data)"
   ]
  },
  {
   "cell_type": "code",
   "execution_count": 122,
   "id": "8aeeda45",
   "metadata": {},
   "outputs": [],
   "source": [
    "product11_score = soup.find_all('div',{'class':'flex items-center'})"
   ]
  },
  {
   "cell_type": "code",
   "execution_count": 123,
   "id": "df0e965a",
   "metadata": {},
   "outputs": [
    {
     "data": {
      "text/plain": [
       "['จำนวน 1มีสินค้าทั้งหมด 16 ชิ้น']"
      ]
     },
     "execution_count": 123,
     "metadata": {},
     "output_type": "execute_result"
    }
   ],
   "source": [
    "product11_score_list = []\n",
    "for product in product11_score:\n",
    "    text = product.text.strip()\n",
    "    if text:\n",
    "        product11_score_list.append(text)\n",
    "product11_score_list = product11_score_list[2]\n",
    "product11_score_list = product11_score_list.split('\\n')\n",
    "product11_score_list"
   ]
  },
  {
   "cell_type": "code",
   "execution_count": 124,
   "id": "f2906d1e",
   "metadata": {},
   "outputs": [],
   "source": [
    "driver.back()"
   ]
  },
  {
   "cell_type": "code",
   "execution_count": 125,
   "id": "ccb6d7fb",
   "metadata": {},
   "outputs": [],
   "source": [
    "driver.execute_script(\"document.body.style.zoom='100%'\")"
   ]
  },
  {
   "cell_type": "code",
   "execution_count": 126,
   "id": "7fd0903a",
   "metadata": {},
   "outputs": [],
   "source": [
    "product12 = driver.find_element(\"xpath\",'/html/body/div[1]/div/div[2]/div/div/div[2]/section/ul/li[12]/a/div/div')"
   ]
  },
  {
   "cell_type": "code",
   "execution_count": 127,
   "id": "34f97ecb",
   "metadata": {},
   "outputs": [],
   "source": [
    "product12.click()"
   ]
  },
  {
   "cell_type": "code",
   "execution_count": 128,
   "id": "e8cd1478",
   "metadata": {},
   "outputs": [],
   "source": [
    "driver.execute_script(\"document.body.style.zoom='25%'\")"
   ]
  },
  {
   "cell_type": "code",
   "execution_count": 129,
   "id": "4b35397a",
   "metadata": {},
   "outputs": [],
   "source": [
    "data = driver.page_source"
   ]
  },
  {
   "cell_type": "code",
   "execution_count": 130,
   "id": "a8cf2a17",
   "metadata": {},
   "outputs": [],
   "source": [
    "soup = bs4.BeautifulSoup(data)"
   ]
  },
  {
   "cell_type": "code",
   "execution_count": 131,
   "id": "9d2b4ce6",
   "metadata": {},
   "outputs": [],
   "source": [
    "product12_score = soup.find_all('div',{'class':'flex items-center'})"
   ]
  },
  {
   "cell_type": "code",
   "execution_count": 132,
   "id": "70b577f9",
   "metadata": {},
   "outputs": [
    {
     "data": {
      "text/plain": [
       "['จำนวน 1มีสินค้าทั้งหมด 79 ชิ้น']"
      ]
     },
     "execution_count": 132,
     "metadata": {},
     "output_type": "execute_result"
    }
   ],
   "source": [
    "product12_score_list = []\n",
    "for product in product12_score:\n",
    "    text = product.text.strip()\n",
    "    if text:\n",
    "        product12_score_list.append(text)\n",
    "product12_score_list = product12_score_list[2]\n",
    "product12_score_list = product12_score_list.split('\\n')\n",
    "product12_score_list"
   ]
  },
  {
   "cell_type": "code",
   "execution_count": 133,
   "id": "d00c3644",
   "metadata": {},
   "outputs": [],
   "source": [
    "driver.back()"
   ]
  },
  {
   "cell_type": "code",
   "execution_count": 134,
   "id": "500c1a26",
   "metadata": {},
   "outputs": [],
   "source": [
    "driver.execute_script(\"document.body.style.zoom='100%'\")"
   ]
  },
  {
   "cell_type": "code",
   "execution_count": 135,
   "id": "fbb87a9c",
   "metadata": {},
   "outputs": [],
   "source": [
    "product13 = driver.find_element(\"xpath\",'/html/body/div[1]/div/div[2]/div/div/div[2]/section/ul/li[13]/a/div/div')"
   ]
  },
  {
   "cell_type": "code",
   "execution_count": 136,
   "id": "866aa919",
   "metadata": {},
   "outputs": [],
   "source": [
    "product13.click()"
   ]
  },
  {
   "cell_type": "code",
   "execution_count": 137,
   "id": "0aa9ae12",
   "metadata": {},
   "outputs": [],
   "source": [
    "driver.execute_script(\"document.body.style.zoom='25%'\")"
   ]
  },
  {
   "cell_type": "code",
   "execution_count": 138,
   "id": "31a93054",
   "metadata": {},
   "outputs": [],
   "source": [
    "data = driver.page_source"
   ]
  },
  {
   "cell_type": "code",
   "execution_count": 139,
   "id": "22778f46",
   "metadata": {},
   "outputs": [],
   "source": [
    "soup = bs4.BeautifulSoup(data)"
   ]
  },
  {
   "cell_type": "code",
   "execution_count": 140,
   "id": "4daa5c18",
   "metadata": {},
   "outputs": [],
   "source": [
    "product13_score = soup.find_all('div',{'class':'flex items-center'})"
   ]
  },
  {
   "cell_type": "code",
   "execution_count": 141,
   "id": "6ed48035",
   "metadata": {},
   "outputs": [
    {
     "data": {
      "text/plain": [
       "['จำนวน 1มีสินค้าทั้งหมด 79 ชิ้น']"
      ]
     },
     "execution_count": 141,
     "metadata": {},
     "output_type": "execute_result"
    }
   ],
   "source": [
    "product13_score_list = []\n",
    "for product in product13_score:\n",
    "    text = product.text.strip()\n",
    "    if text:\n",
    "        product13_score_list.append(text)\n",
    "product13_score_list = product13_score_list[2]\n",
    "product13_score_list = product13_score_list.split('\\n')\n",
    "product13_score_list"
   ]
  },
  {
   "cell_type": "code",
   "execution_count": 142,
   "id": "849741b7",
   "metadata": {},
   "outputs": [],
   "source": [
    "driver.back()"
   ]
  },
  {
   "cell_type": "code",
   "execution_count": 143,
   "id": "0704385e",
   "metadata": {},
   "outputs": [],
   "source": [
    "driver.execute_script(\"document.body.style.zoom='100%'\")"
   ]
  },
  {
   "cell_type": "code",
   "execution_count": 144,
   "id": "656f262f",
   "metadata": {},
   "outputs": [],
   "source": [
    "product14 = driver.find_element(\"xpath\",'/html/body/div[1]/div/div[2]/div/div/div[2]/section/ul/li[14]/a/div/div')"
   ]
  },
  {
   "cell_type": "code",
   "execution_count": 145,
   "id": "772b5e08",
   "metadata": {},
   "outputs": [],
   "source": [
    "product14.click()"
   ]
  },
  {
   "cell_type": "code",
   "execution_count": 146,
   "id": "6420ff8a",
   "metadata": {},
   "outputs": [],
   "source": [
    "driver.execute_script(\"document.body.style.zoom='25%'\")"
   ]
  },
  {
   "cell_type": "code",
   "execution_count": 147,
   "id": "a56364bd",
   "metadata": {},
   "outputs": [],
   "source": [
    "data = driver.page_source"
   ]
  },
  {
   "cell_type": "code",
   "execution_count": 148,
   "id": "55b09390",
   "metadata": {},
   "outputs": [],
   "source": [
    "soup = bs4.BeautifulSoup(data)"
   ]
  },
  {
   "cell_type": "code",
   "execution_count": 149,
   "id": "048749a4",
   "metadata": {},
   "outputs": [],
   "source": [
    "product14_score = soup.find_all('div',{'class':'flex items-center'})"
   ]
  },
  {
   "cell_type": "code",
   "execution_count": 150,
   "id": "e82d3587",
   "metadata": {},
   "outputs": [
    {
     "data": {
      "text/plain": [
       "['จำนวน 1มีสินค้าทั้งหมด 79 ชิ้น']"
      ]
     },
     "execution_count": 150,
     "metadata": {},
     "output_type": "execute_result"
    }
   ],
   "source": [
    "product14_score_list = []\n",
    "for product in product14_score:\n",
    "    text = product.text.strip()\n",
    "    if text:\n",
    "        product14_score_list.append(text)\n",
    "product14_score_list = product14_score_list[2]\n",
    "product14_score_list = product14_score_list.split('\\n')\n",
    "product14_score_list"
   ]
  },
  {
   "cell_type": "code",
   "execution_count": 151,
   "id": "68a01c80",
   "metadata": {},
   "outputs": [],
   "source": [
    "driver.back()"
   ]
  },
  {
   "cell_type": "code",
   "execution_count": 152,
   "id": "0e88550e",
   "metadata": {},
   "outputs": [],
   "source": [
    "driver.execute_script(\"document.body.style.zoom='100%'\")"
   ]
  },
  {
   "cell_type": "code",
   "execution_count": 153,
   "id": "7dd69c9c",
   "metadata": {},
   "outputs": [],
   "source": [
    "product15 = driver.find_element(\"xpath\",'/html/body/div[1]/div/div[2]/div/div/div[2]/section/ul/li[15]/a/div/div')"
   ]
  },
  {
   "cell_type": "code",
   "execution_count": 154,
   "id": "0b911187",
   "metadata": {},
   "outputs": [],
   "source": [
    "product15.click()"
   ]
  },
  {
   "cell_type": "code",
   "execution_count": 155,
   "id": "536aa877",
   "metadata": {},
   "outputs": [],
   "source": [
    "driver.execute_script(\"document.body.style.zoom='25%'\")"
   ]
  },
  {
   "cell_type": "code",
   "execution_count": 156,
   "id": "a369cd3b",
   "metadata": {},
   "outputs": [],
   "source": [
    "data = driver.page_source"
   ]
  },
  {
   "cell_type": "code",
   "execution_count": 157,
   "id": "9f1afffa",
   "metadata": {},
   "outputs": [],
   "source": [
    "soup = bs4.BeautifulSoup(data)"
   ]
  },
  {
   "cell_type": "code",
   "execution_count": 158,
   "id": "f42f2cbf",
   "metadata": {},
   "outputs": [],
   "source": [
    "product15_score = soup.find_all('div',{'class':'flex items-center'})"
   ]
  },
  {
   "cell_type": "code",
   "execution_count": 159,
   "id": "311d87a3",
   "metadata": {},
   "outputs": [
    {
     "data": {
      "text/plain": [
       "['จำนวน 1มีสินค้าทั้งหมด 19 ชิ้น']"
      ]
     },
     "execution_count": 159,
     "metadata": {},
     "output_type": "execute_result"
    }
   ],
   "source": [
    "product15_score_list = []\n",
    "for product in product15_score:\n",
    "    text = product.text.strip()\n",
    "    if text:\n",
    "        product15_score_list.append(text)\n",
    "product15_score_list = product15_score_list[2]\n",
    "product15_score_list = product15_score_list.split('\\n')\n",
    "product15_score_list"
   ]
  },
  {
   "cell_type": "code",
   "execution_count": 160,
   "id": "3004a5a8",
   "metadata": {},
   "outputs": [],
   "source": [
    "driver.back()"
   ]
  },
  {
   "cell_type": "code",
   "execution_count": 161,
   "id": "e6e1bcc5",
   "metadata": {},
   "outputs": [],
   "source": [
    "product_stock_list = product1_score_list + product2_score_list + product3_score_list + product4_score_list + product5_score_list + product6_score_list + product7_score_list + product8_score_list + product9_score_list + product10_score_list + product11_score_list + product12_score_list + product13_score_list + product14_score_list + product15_score_list"
   ]
  },
  {
   "cell_type": "code",
   "execution_count": 162,
   "id": "5c7b4f77",
   "metadata": {},
   "outputs": [
    {
     "data": {
      "text/plain": [
       "['จำนวน 1มีสินค้าทั้งหมด 87 ชิ้น',\n",
       " 'จำนวน 1มีสินค้าทั้งหมด 55 ชิ้น',\n",
       " 'จำนวน 1มีสินค้าทั้งหมด 150 ชิ้น',\n",
       " 'จำนวน 1มีสินค้าทั้งหมด 179 ชิ้น',\n",
       " 'จำนวน 1มีสินค้าทั้งหมด 246 ชิ้น',\n",
       " 'จำนวน 1มีสินค้าทั้งหมด 400 ชิ้น',\n",
       " 'จำนวน 1มีสินค้าทั้งหมด 36 ชิ้น',\n",
       " 'จำนวน 1มีสินค้าทั้งหมด 1756 ชิ้น',\n",
       " 'จำนวน 1มีสินค้าทั้งหมด 19 ชิ้น',\n",
       " 'จำนวน 1มีสินค้าทั้งหมด 19 ชิ้น',\n",
       " 'จำนวน 1มีสินค้าทั้งหมด 16 ชิ้น',\n",
       " 'จำนวน 1มีสินค้าทั้งหมด 79 ชิ้น',\n",
       " 'จำนวน 1มีสินค้าทั้งหมด 79 ชิ้น',\n",
       " 'จำนวน 1มีสินค้าทั้งหมด 79 ชิ้น',\n",
       " 'จำนวน 1มีสินค้าทั้งหมด 19 ชิ้น']"
      ]
     },
     "execution_count": 162,
     "metadata": {},
     "output_type": "execute_result"
    }
   ],
   "source": [
    "product_stock_list"
   ]
  },
  {
   "cell_type": "code",
   "execution_count": 163,
   "id": "2221a21c",
   "metadata": {},
   "outputs": [],
   "source": [
    "shopee_data = pd.DataFrame([store_name_list, store_score_list, store_promotion_list, product_name_list, product_price_list, product_sale_list, product_stock_list])"
   ]
  },
  {
   "cell_type": "code",
   "execution_count": 164,
   "id": "47e1ae5a",
   "metadata": {},
   "outputs": [
    {
     "data": {
      "text/html": [
       "<div>\n",
       "<style scoped>\n",
       "    .dataframe tbody tr th:only-of-type {\n",
       "        vertical-align: middle;\n",
       "    }\n",
       "\n",
       "    .dataframe tbody tr th {\n",
       "        vertical-align: top;\n",
       "    }\n",
       "\n",
       "    .dataframe thead th {\n",
       "        text-align: right;\n",
       "    }\n",
       "</style>\n",
       "<table border=\"1\" class=\"dataframe\">\n",
       "  <thead>\n",
       "    <tr style=\"text-align: right;\">\n",
       "      <th></th>\n",
       "      <th>name</th>\n",
       "      <th>score</th>\n",
       "      <th>promotion</th>\n",
       "      <th>product_name</th>\n",
       "      <th>price</th>\n",
       "      <th>sale</th>\n",
       "      <th>stock</th>\n",
       "    </tr>\n",
       "  </thead>\n",
       "  <tbody>\n",
       "    <tr>\n",
       "      <th>0</th>\n",
       "      <td>ร้านแนะนำpeachphafaiActive 1 ชั่วโมง  ที่ผ่านมา</td>\n",
       "      <td>4.7 (การให้คะแนนทั้งหมด 10.7พัน)</td>\n",
       "      <td>ส่วนลด 8%ขั้นต่ำ ฿310 สูงสุด ฿31ใช้ได้ในอีก: 3...</td>\n",
       "      <td>หมีกางเกงรุ่นย้อมขาสั้นมัดย้อม</td>\n",
       "      <td>฿170</td>\n",
       "      <td>ขายแล้ว 13 ชิ้น</td>\n",
       "      <td>จำนวน 1มีสินค้าทั้งหมด 87 ชิ้น</td>\n",
       "    </tr>\n",
       "    <tr>\n",
       "      <th>1</th>\n",
       "      <td>None</td>\n",
       "      <td>None</td>\n",
       "      <td>None</td>\n",
       "      <td>เสื้อยืดคอกลมมัดย้อมเนื้อผ้า cotton100%</td>\n",
       "      <td>฿190</td>\n",
       "      <td>ขายแล้ว 5 ชิ้น</td>\n",
       "      <td>จำนวน 1มีสินค้าทั้งหมด 55 ชิ้น</td>\n",
       "    </tr>\n",
       "    <tr>\n",
       "      <th>2</th>\n",
       "      <td>None</td>\n",
       "      <td>None</td>\n",
       "      <td>None</td>\n",
       "      <td>minidress มัดย้อมมัดใจ</td>\n",
       "      <td>฿150</td>\n",
       "      <td>ขายแล้ว 56 ชิ้น</td>\n",
       "      <td>จำนวน 1มีสินค้าทั้งหมด 150 ชิ้น</td>\n",
       "    </tr>\n",
       "    <tr>\n",
       "      <th>3</th>\n",
       "      <td>None</td>\n",
       "      <td>None</td>\n",
       "      <td>None</td>\n",
       "      <td>[ใส่โค้ด WUZHLW ลด 60฿ ช็อปครบ 300฿] เสื้อคอโป...</td>\n",
       "      <td>฿190</td>\n",
       "      <td>ขายแล้ว 256 ชิ้น</td>\n",
       "      <td>จำนวน 1มีสินค้าทั้งหมด 179 ชิ้น</td>\n",
       "    </tr>\n",
       "    <tr>\n",
       "      <th>4</th>\n",
       "      <td>None</td>\n",
       "      <td>None</td>\n",
       "      <td>None</td>\n",
       "      <td>เสื้อคู่มัดย้อมผ้าสปัน</td>\n",
       "      <td>฿170</td>\n",
       "      <td>ขายแล้ว 4 ชิ้น</td>\n",
       "      <td>จำนวน 1มีสินค้าทั้งหมด 246 ชิ้น</td>\n",
       "    </tr>\n",
       "    <tr>\n",
       "      <th>5</th>\n",
       "      <td>None</td>\n",
       "      <td>None</td>\n",
       "      <td>None</td>\n",
       "      <td>ชุดมัดย้อมเนื้อผ้าสปันขายาว SP8</td>\n",
       "      <td>฿270</td>\n",
       "      <td>ขายแล้ว 992 ชิ้น</td>\n",
       "      <td>จำนวน 1มีสินค้าทั้งหมด 400 ชิ้น</td>\n",
       "    </tr>\n",
       "    <tr>\n",
       "      <th>6</th>\n",
       "      <td>None</td>\n",
       "      <td>None</td>\n",
       "      <td>None</td>\n",
       "      <td>เสื้อคอจีนสปันลายลงมัดย้อม</td>\n",
       "      <td>฿190</td>\n",
       "      <td>ขายแล้ว 9 ชิ้น</td>\n",
       "      <td>จำนวน 1มีสินค้าทั้งหมด 36 ชิ้น</td>\n",
       "    </tr>\n",
       "    <tr>\n",
       "      <th>7</th>\n",
       "      <td>None</td>\n",
       "      <td>None</td>\n",
       "      <td>None</td>\n",
       "      <td>ชุดใส่สบายมัดย้อมแขนกุด</td>\n",
       "      <td>฿79 - ฿150</td>\n",
       "      <td>ขายแล้ว 4 ชิ้น</td>\n",
       "      <td>จำนวน 1มีสินค้าทั้งหมด 1756 ชิ้น</td>\n",
       "    </tr>\n",
       "    <tr>\n",
       "      <th>8</th>\n",
       "      <td>None</td>\n",
       "      <td>None</td>\n",
       "      <td>None</td>\n",
       "      <td>เสื้อยืดมัดย้อมกัดลาย</td>\n",
       "      <td>฿150</td>\n",
       "      <td>ขายแล้ว 7 ชิ้น</td>\n",
       "      <td>จำนวน 1มีสินค้าทั้งหมด 19 ชิ้น</td>\n",
       "    </tr>\n",
       "    <tr>\n",
       "      <th>9</th>\n",
       "      <td>None</td>\n",
       "      <td>None</td>\n",
       "      <td>None</td>\n",
       "      <td>คอลเลคชั่นจั๊มเอวมัดย้อมสองชิ้นเนื้อผ้า cotton</td>\n",
       "      <td>฿220</td>\n",
       "      <td>ขายแล้ว 158 ชิ้น</td>\n",
       "      <td>จำนวน 1มีสินค้าทั้งหมด 19 ชิ้น</td>\n",
       "    </tr>\n",
       "    <tr>\n",
       "      <th>10</th>\n",
       "      <td>None</td>\n",
       "      <td>None</td>\n",
       "      <td>None</td>\n",
       "      <td>ชุดมัดย้อมสีชมพูเสื้อระบายผูกหน้า</td>\n",
       "      <td>฿390</td>\n",
       "      <td>ขายแล้ว 2 ชิ้น</td>\n",
       "      <td>จำนวน 1มีสินค้าทั้งหมด 16 ชิ้น</td>\n",
       "    </tr>\n",
       "    <tr>\n",
       "      <th>11</th>\n",
       "      <td>None</td>\n",
       "      <td>None</td>\n",
       "      <td>None</td>\n",
       "      <td>เสื้อเบเซอร์เนื้อผ้าฝ้ายลายมัดย้อม</td>\n",
       "      <td>฿99</td>\n",
       "      <td>None</td>\n",
       "      <td>จำนวน 1มีสินค้าทั้งหมด 79 ชิ้น</td>\n",
       "    </tr>\n",
       "    <tr>\n",
       "      <th>12</th>\n",
       "      <td>None</td>\n",
       "      <td>None</td>\n",
       "      <td>None</td>\n",
       "      <td>Set cotton ชุดมัดย้อมขาสั้นผ้าCottonเด็ก</td>\n",
       "      <td>฿99</td>\n",
       "      <td>None</td>\n",
       "      <td>จำนวน 1มีสินค้าทั้งหมด 79 ชิ้น</td>\n",
       "    </tr>\n",
       "    <tr>\n",
       "      <th>13</th>\n",
       "      <td>None</td>\n",
       "      <td>None</td>\n",
       "      <td>None</td>\n",
       "      <td>ชุดมัดย้อมแขนสั้นขาสั้น</td>\n",
       "      <td>฿89 - ฿170</td>\n",
       "      <td>None</td>\n",
       "      <td>จำนวน 1มีสินค้าทั้งหมด 79 ชิ้น</td>\n",
       "    </tr>\n",
       "    <tr>\n",
       "      <th>14</th>\n",
       "      <td>None</td>\n",
       "      <td>None</td>\n",
       "      <td>None</td>\n",
       "      <td>เดรสบราวนี่เลเยอร์คอปกรุ่นมัดย้อม</td>\n",
       "      <td>฿250</td>\n",
       "      <td>None</td>\n",
       "      <td>จำนวน 1มีสินค้าทั้งหมด 19 ชิ้น</td>\n",
       "    </tr>\n",
       "  </tbody>\n",
       "</table>\n",
       "</div>"
      ],
      "text/plain": [
       "                                               name  \\\n",
       "0   ร้านแนะนำpeachphafaiActive 1 ชั่วโมง  ที่ผ่านมา   \n",
       "1                                              None   \n",
       "2                                              None   \n",
       "3                                              None   \n",
       "4                                              None   \n",
       "5                                              None   \n",
       "6                                              None   \n",
       "7                                              None   \n",
       "8                                              None   \n",
       "9                                              None   \n",
       "10                                             None   \n",
       "11                                             None   \n",
       "12                                             None   \n",
       "13                                             None   \n",
       "14                                             None   \n",
       "\n",
       "                               score  \\\n",
       "0   4.7 (การให้คะแนนทั้งหมด 10.7พัน)   \n",
       "1                               None   \n",
       "2                               None   \n",
       "3                               None   \n",
       "4                               None   \n",
       "5                               None   \n",
       "6                               None   \n",
       "7                               None   \n",
       "8                               None   \n",
       "9                               None   \n",
       "10                              None   \n",
       "11                              None   \n",
       "12                              None   \n",
       "13                              None   \n",
       "14                              None   \n",
       "\n",
       "                                            promotion  \\\n",
       "0   ส่วนลด 8%ขั้นต่ำ ฿310 สูงสุด ฿31ใช้ได้ในอีก: 3...   \n",
       "1                                                None   \n",
       "2                                                None   \n",
       "3                                                None   \n",
       "4                                                None   \n",
       "5                                                None   \n",
       "6                                                None   \n",
       "7                                                None   \n",
       "8                                                None   \n",
       "9                                                None   \n",
       "10                                               None   \n",
       "11                                               None   \n",
       "12                                               None   \n",
       "13                                               None   \n",
       "14                                               None   \n",
       "\n",
       "                                         product_name       price  \\\n",
       "0                      หมีกางเกงรุ่นย้อมขาสั้นมัดย้อม        ฿170   \n",
       "1             เสื้อยืดคอกลมมัดย้อมเนื้อผ้า cotton100%        ฿190   \n",
       "2                              minidress มัดย้อมมัดใจ        ฿150   \n",
       "3   [ใส่โค้ด WUZHLW ลด 60฿ ช็อปครบ 300฿] เสื้อคอโป...        ฿190   \n",
       "4                              เสื้อคู่มัดย้อมผ้าสปัน        ฿170   \n",
       "5                     ชุดมัดย้อมเนื้อผ้าสปันขายาว SP8        ฿270   \n",
       "6                          เสื้อคอจีนสปันลายลงมัดย้อม        ฿190   \n",
       "7                             ชุดใส่สบายมัดย้อมแขนกุด  ฿79 - ฿150   \n",
       "8                               เสื้อยืดมัดย้อมกัดลาย        ฿150   \n",
       "9      คอลเลคชั่นจั๊มเอวมัดย้อมสองชิ้นเนื้อผ้า cotton        ฿220   \n",
       "10                  ชุดมัดย้อมสีชมพูเสื้อระบายผูกหน้า        ฿390   \n",
       "11                 เสื้อเบเซอร์เนื้อผ้าฝ้ายลายมัดย้อม         ฿99   \n",
       "12           Set cotton ชุดมัดย้อมขาสั้นผ้าCottonเด็ก         ฿99   \n",
       "13                            ชุดมัดย้อมแขนสั้นขาสั้น  ฿89 - ฿170   \n",
       "14                  เดรสบราวนี่เลเยอร์คอปกรุ่นมัดย้อม        ฿250   \n",
       "\n",
       "                sale                             stock  \n",
       "0    ขายแล้ว 13 ชิ้น    จำนวน 1มีสินค้าทั้งหมด 87 ชิ้น  \n",
       "1     ขายแล้ว 5 ชิ้น    จำนวน 1มีสินค้าทั้งหมด 55 ชิ้น  \n",
       "2    ขายแล้ว 56 ชิ้น   จำนวน 1มีสินค้าทั้งหมด 150 ชิ้น  \n",
       "3   ขายแล้ว 256 ชิ้น   จำนวน 1มีสินค้าทั้งหมด 179 ชิ้น  \n",
       "4     ขายแล้ว 4 ชิ้น   จำนวน 1มีสินค้าทั้งหมด 246 ชิ้น  \n",
       "5   ขายแล้ว 992 ชิ้น   จำนวน 1มีสินค้าทั้งหมด 400 ชิ้น  \n",
       "6     ขายแล้ว 9 ชิ้น    จำนวน 1มีสินค้าทั้งหมด 36 ชิ้น  \n",
       "7     ขายแล้ว 4 ชิ้น  จำนวน 1มีสินค้าทั้งหมด 1756 ชิ้น  \n",
       "8     ขายแล้ว 7 ชิ้น    จำนวน 1มีสินค้าทั้งหมด 19 ชิ้น  \n",
       "9   ขายแล้ว 158 ชิ้น    จำนวน 1มีสินค้าทั้งหมด 19 ชิ้น  \n",
       "10    ขายแล้ว 2 ชิ้น    จำนวน 1มีสินค้าทั้งหมด 16 ชิ้น  \n",
       "11              None    จำนวน 1มีสินค้าทั้งหมด 79 ชิ้น  \n",
       "12              None    จำนวน 1มีสินค้าทั้งหมด 79 ชิ้น  \n",
       "13              None    จำนวน 1มีสินค้าทั้งหมด 79 ชิ้น  \n",
       "14              None    จำนวน 1มีสินค้าทั้งหมด 19 ชิ้น  "
      ]
     },
     "execution_count": 164,
     "metadata": {},
     "output_type": "execute_result"
    }
   ],
   "source": [
    "shopee_data = shopee_data.transpose()\n",
    "shopee_data.columns = ['name','score','promotion','product_name','price', 'sale', 'stock']\n",
    "shopee_data"
   ]
  },
  {
   "cell_type": "code",
   "execution_count": 165,
   "id": "b9a87aeb",
   "metadata": {},
   "outputs": [],
   "source": [
    "shopee_data.to_excel(r'/Users/kritchayahirunno/Desktop/webscp/peachphafai(9.10).xlsx')"
   ]
  },
  {
   "cell_type": "code",
   "execution_count": null,
   "id": "c6123059",
   "metadata": {},
   "outputs": [],
   "source": []
  }
 ],
 "metadata": {
  "kernelspec": {
   "display_name": "Python 3",
   "language": "python",
   "name": "python3"
  },
  "language_info": {
   "codemirror_mode": {
    "name": "ipython",
    "version": 3
   },
   "file_extension": ".py",
   "mimetype": "text/x-python",
   "name": "python",
   "nbconvert_exporter": "python",
   "pygments_lexer": "ipython3",
   "version": "3.8.8"
  }
 },
 "nbformat": 4,
 "nbformat_minor": 5
}
