{
 "cells": [
  {
   "cell_type": "code",
   "execution_count": 1,
   "id": "3ec86675",
   "metadata": {},
   "outputs": [],
   "source": [
    "from selenium import webdriver\n",
    "from selenium.webdriver.common.keys import Keys\n",
    "import bs4\n",
    "import pandas as pd"
   ]
  },
  {
   "cell_type": "code",
   "execution_count": 2,
   "id": "2219fae6",
   "metadata": {},
   "outputs": [],
   "source": [
    "driver = webdriver.Chrome()"
   ]
  },
  {
   "cell_type": "code",
   "execution_count": 3,
   "id": "6826829f",
   "metadata": {},
   "outputs": [],
   "source": [
    "driver.get('https://shopee.co.th/chinrada?categoryId=100017&entryPoint=ShopByPDP&itemId=23128850038&upstream=search')"
   ]
  },
  {
   "cell_type": "code",
   "execution_count": 4,
   "id": "13ef6c9c",
   "metadata": {},
   "outputs": [],
   "source": [
    "thai_button = driver.find_element(\"xpath\", '/html/body/div[2]/div[1]/div[1]/div/div[3]/div[1]/button')"
   ]
  },
  {
   "cell_type": "code",
   "execution_count": 5,
   "id": "e7d41b7f",
   "metadata": {},
   "outputs": [],
   "source": [
    "thai_button.click()"
   ]
  },
  {
   "cell_type": "code",
   "execution_count": 6,
   "id": "6d718591",
   "metadata": {},
   "outputs": [],
   "source": [
    "driver.execute_script(\"document.body.style.zoom='25%'\")"
   ]
  },
  {
   "cell_type": "code",
   "execution_count": 7,
   "id": "c8e5805b",
   "metadata": {},
   "outputs": [],
   "source": [
    "data = driver.page_source"
   ]
  },
  {
   "cell_type": "code",
   "execution_count": 8,
   "id": "0a853831",
   "metadata": {},
   "outputs": [],
   "source": [
    "soup = bs4.BeautifulSoup(data)"
   ]
  },
  {
   "cell_type": "code",
   "execution_count": 9,
   "id": "1b08ff98",
   "metadata": {},
   "outputs": [],
   "source": [
    "store_name = soup.find_all('div',{'class':'section-seller-overview-horizontal__seller-portrait UgJq78'})"
   ]
  },
  {
   "cell_type": "code",
   "execution_count": 10,
   "id": "94cbc505",
   "metadata": {},
   "outputs": [
    {
     "data": {
      "text/plain": [
       "['ร้านแนะนำchinradaActive 23 นาที  ที่ผ่านมา']"
      ]
     },
     "execution_count": 10,
     "metadata": {},
     "output_type": "execute_result"
    }
   ],
   "source": [
    "store_name_list = []\n",
    "for product in store_name:\n",
    "    text = product.text.strip()\n",
    "    if text:\n",
    "        store_name_list.append(text)\n",
    "store_name_list"
   ]
  },
  {
   "cell_type": "code",
   "execution_count": 11,
   "id": "034c2ae7",
   "metadata": {},
   "outputs": [],
   "source": [
    "store_score = driver.find_elements(\"xpath\",'/html/body/div[1]/div/div[2]/div/div/div/div[2]/div/div[1]/div/div[2]/div[4]/div[2]/div[2]')"
   ]
  },
  {
   "cell_type": "code",
   "execution_count": 12,
   "id": "a7601fab",
   "metadata": {},
   "outputs": [
    {
     "data": {
      "text/plain": [
       "['4.8 (การให้คะแนนทั้งหมด 12.5พัน)']"
      ]
     },
     "execution_count": 12,
     "metadata": {},
     "output_type": "execute_result"
    }
   ],
   "source": [
    "store_score_list = []\n",
    "for product in store_score:\n",
    "    text = product.text.strip()\n",
    "    if text:\n",
    "        store_score_list.append(text)\n",
    "store_score_list"
   ]
  },
  {
   "cell_type": "code",
   "execution_count": 13,
   "id": "37d7a002",
   "metadata": {},
   "outputs": [],
   "source": [
    "store_promotion = soup.find_all('div',{'class':'SLtncH'})"
   ]
  },
  {
   "cell_type": "code",
   "execution_count": 14,
   "id": "cc477aef",
   "metadata": {},
   "outputs": [
    {
     "data": {
      "text/plain": [
       "['ส่วนลด ฿5ขั้นต่ำ ฿99ซื้อร้านนี้ครั้งแรกใช้ได้ก่อน: 30.11.2023',\n",
       " 'ส่วนลด ฿5ขั้นต่ำ ฿99ใช้แล้ว 60%, ใช้ได้ก่อน: 31.10.2023',\n",
       " 'ส่วนลด ฿10ขั้นต่ำ ฿299ใช้ได้ก่อน: 31.10.2023',\n",
       " 'ส่วนลด ฿15ขั้นต่ำ ฿499ใช้ได้ก่อน: 31.10.2023']"
      ]
     },
     "execution_count": 14,
     "metadata": {},
     "output_type": "execute_result"
    }
   ],
   "source": [
    "store_promotion_list = []\n",
    "for product in store_promotion:\n",
    "    text = product.text.strip()\n",
    "    if text:\n",
    "        store_promotion_list.append(text)\n",
    "store_promotion_list"
   ]
  },
  {
   "cell_type": "code",
   "execution_count": 15,
   "id": "c734f1d2",
   "metadata": {},
   "outputs": [],
   "source": [
    "search = driver.find_element(\"xpath\",'/html/body/div[1]/div/div[2]/div/header/div[2]/div/div[1]/form/div/div[1]/input')"
   ]
  },
  {
   "cell_type": "code",
   "execution_count": 16,
   "id": "1d48d2a0",
   "metadata": {},
   "outputs": [],
   "source": [
    "search.send_keys('มัดย้อม')"
   ]
  },
  {
   "cell_type": "code",
   "execution_count": 17,
   "id": "fac8b4d0",
   "metadata": {},
   "outputs": [],
   "source": [
    "search.send_keys(Keys.ENTER)"
   ]
  },
  {
   "cell_type": "code",
   "execution_count": 18,
   "id": "fa141cc8",
   "metadata": {},
   "outputs": [],
   "source": [
    "data = driver.page_source"
   ]
  },
  {
   "cell_type": "code",
   "execution_count": 19,
   "id": "e9efc322",
   "metadata": {},
   "outputs": [],
   "source": [
    "soup = bs4.BeautifulSoup(data)"
   ]
  },
  {
   "cell_type": "code",
   "execution_count": 20,
   "id": "60163664",
   "metadata": {},
   "outputs": [],
   "source": [
    "product_name = soup.find_all('div',{'class':'FDn--+'})"
   ]
  },
  {
   "cell_type": "code",
   "execution_count": 21,
   "id": "da2aa03a",
   "metadata": {},
   "outputs": [
    {
     "data": {
      "text/plain": [
       "['กางเกงช้าง เอวสม็อคลายช้างมัดย้อม',\n",
       " 'มัดย้อม (ฟามิงโก้B) HandMade เนื้อผ้าสปัน สวมใส่สบายมากไม่ร้อนแน่นอน ทะเล คาเฟ่ ภูเขา ได้หมด พร้อมส่งจากไทย',\n",
       " 'มัดย้อม (ฟามิงโก้) HandMade เนื้อผ้าสปัน สวมใส่สบายมากไม่ร้อนแน่นอน ทะเล คาเฟ่ ภูเขา ได้หมด พร้อมส่งจากไทย',\n",
       " 'เสื้อมัดย้อม เด็กและผู้ใหญ่ ใส่ได้ทั้งครอบครัว พร้อมส่งจากไทย (สินค้ามีจำนวนจำกัด)',\n",
       " 'กางเกง 4 สาย ลายมัดย้อม หม้อฮ่อม สวยๆ พริ้วๆ ผ้าเรยอน ใส่ได้ทั้ง สาวเล็ก สาวอวบ พร้อมส่งจากไทย',\n",
       " 'กางเกงช้างผ้าเมมเบิดสุดฮิตลาย ช้างมัดย้อม   เอวเชือก   (พร้อมส่งจากไทย) ถูกและดีที่สุด',\n",
       " 'กางเกง 4 สาย ลายมัดย้อม  ผ้าเรยอน พริ้วๆ ใส่ได้ทั้ง สาวเล็ก สาวอวบ พร้อมส่งจากไทย',\n",
       " 'มัดย้อม (ชุดตุ๊กตาบาร์บี้มินิมอล) HandMade  เนื้อผ้าสปัน สวมใส่สบายมากไม่ร้อนแน่นอน ทะเล คาเฟ่ ภูเขา พร้อมส่งจากไทย',\n",
       " 'เสื้อฮาวายมัดย้อม L-4XL ผ้าสปัน ใส่สบายผ้าพริ้วมาก  ย้อมจากครามธรรมชาติ พร้อมส่งจากไทย',\n",
       " 'มัดย้อม (ตุ๊กตาบาร์บี้มินิมอล) HandMade เนื้อผ้าสปัน สวมใส่สบายมากไม่ร้อนแน่นอน ทะเล คาเฟ่ ภูเขา ได้หมด พร้อมส่งจากไทย',\n",
       " 'เสื้อมัดย้อมมือกัดสี 1 Cotton 100% (ส่งจากไทย)',\n",
       " '(พร้อมส่ง) กางเกงช้าง เอวสม็อค ลายมัดย้อมดอก',\n",
       " 'มัดย้อม (บิกินี+กางเกง) HandMade เนื้อผ้าสปัน สวมใส่สบายมากไม่ร้อนแน่นอน ทะเล คาเฟ่ ภูเขา ได้หมด พร้อมส่งจากไทย',\n",
       " 'เสื้อมัดย้อมสีคราม เด็ก/ผู้ใหญ่ เนื้อผ้าคอตตอน100% สวมใส่สบาย เด็ก - ผู้ใหญ่ สีสันสดใส สินค้าราคาโรงงาน คอกลม สีคราม',\n",
       " 'กางเกงมัดย้อม  กางเกงสงกรานต์',\n",
       " 'กางเกงขาบาน มัดย้อม เอวสม็อค ฟรีไซส์สาวอวบใส่ได้ เนื้อผ้าใส่สบายพริ้วๆ พร้อมส่งจากไทย ส่งเร็ว วันต่อวัน',\n",
       " 'มัดย้อม (เดรสชมพู่) HandMade เนื้อผ้าสปัน สวมใส่สบายมากไม่ร้อนแน่นอน ทะเล คาเฟ่ ภูเขา ได้หมด พร้อมส่งจากไทย',\n",
       " 'เสื้อฮาวาย  มัดย้อมดาว สีสันสดใส ผ้าเรยอนบางเบาใส่สบายๆ พร้อมส่งจากไทย',\n",
       " 'เสื้อฮาวาย ลายมัดย้อมกัด และ กางเกง 4 สาย ผ้านิ่มขึ้น สไตล์เกาหลีมาแรง ใส่คู่สุดต๊าซ *สินค้าสั่งแยกนะคะ*',\n",
       " 'มัดย้อม (ชุดเฉียงข้าง) HandMade เนื้อผ้าสปัน สวมใส่สบายมากไม่ร้อนแน่นอน ทะเล คาเฟ่ ภูเขา ได้หมด พร้อมส่งจากไทย',\n",
       " 'เดรสมัดย้อม (สายเดี่ยวเกาหลี) เนื้อผ้าสปัน ย้อมครามธรรมชาติ หอม ใส่สบาย',\n",
       " 'มัดย้อม (ชุดเดรสคอเต่าผูกหลัง) HandMade เนื้อผ้าสปัน สวมใส่สบายมากไม่ร้อนแน่นอน ทะเล คาเฟ่ ภูเขา ได้หมด พร้อมส่งจากไทย',\n",
       " 'กางเกง 4 สาย ผ้าเรยอน ผูกหน้าหลัง (มัดย้อมก้นหอย) ใส่ได้ทั้ง สาวเล็ก สาวอวบ พร้อมส่งจากไทย',\n",
       " 'กางเกงมัดย้อม กางเกงสงกรานต์',\n",
       " 'ชุดมัดย้อม (ฟามิงโก้กัดสี)  เหมาะสำหรับสาวๆใส่ง่าย ถอดง่าย แหวกง่าย เดินง่าย พรางหุ่น พร้อมส่งจากไทย',\n",
       " 'มัดย้อม (ชุดเซ็ตแขนระบาย) HandMade เนื้อผ้าสปัน สวมใส่สบายมากไม่ร้อนแน่นอน ทะเล คาเฟ่ ภูเขา ได้หมด พร้อมส่งจากไทย',\n",
       " 'มัดย้อม (ชุดบาร์บี้) HandMade เนื้อผ้าสปัน สวมใส่สบายมากไม่ร้อนแน่นอน ทะเล คาเฟ่ ภูเขา ได้หมด พร้อมส่งจากไทย',\n",
       " 'เดรสมัดย้อม ผ้าสปันใส่สบายๆๆ ฟรีไซส์ มีหลากหลายลาย พร้อมส่งจากเชียงใหม่ ส่งของเร็ว',\n",
       " 'มัดย้อม (เดรสบาหลี) HandMade เนื้อผ้าสปัน สวมใส่สบายมากไม่ร้อนแน่นอน ทะเล คาเฟ่ ภูเขา ได้หมด พร้อมส่งจากไทย',\n",
       " 'เสื้อฮาวายผ้าเรยอน ลายมัดย้อมพลุ ใส่สบาย ผ้าพริ้ว พร้อมส่งจากไทย (ส่งเร็วมาก)',\n",
       " 'มัดย้อม (ชุดแขนกุด) HandMade เนื้อผ้าสปัน สวมใส่สบายมากไม่ร้อนแน่นอน ทะเล คาเฟ่ ภูเขา ได้หมด พร้อมส่งจากไทย',\n",
       " 'มัดย้อม (เดรสปุ้มปุ้ย) HandMade เนื้อผ้าสปัน สวมใส่สบายมากไม่ร้อนแน่นอน ทะเล คาเฟ่ ภูเขา ได้หมด พร้อมส่งจากไทย',\n",
       " 'เสื้อฮาวาย ลายมัดย้อมดาว และ กางเกง 4 สาย ผ้านิ่มขึ้น สไตล์เกาหลีมาแรง ใส่คู่สุดต๊าซ *สินค้าสั่งแยกนะคะ*',\n",
       " 'เสื้อฮาวาย+กางเกงขายาวเอวเชือก ลายรุ้ง กัญชา หม้อฮ่อมมัดย้อม ผ้าเรยอนใส่สบาย',\n",
       " 'เซ็ตเสื้อชมพู่+กางเกงขายาวเอวสม็อค เก๋มาก งานมัดย้อม handmadeจากครามธรรมชาติ100%',\n",
       " 'มัดย้อม (เดรสปุ้มปุ้ย) HandMade เนื้อผ้าสปัน สวมใส่สบายมากไม่ร้อนแน่นอน ทะเล คาเฟ่ ภูเขา ได้หมด พร้อมส่งจากไทย',\n",
       " 'มัดย้อม (เดรสนากา) HandMade เนื้อผ้าสปัน สวมใส่สบายมากไม่ร้อนแน่นอน ทะเล คาเฟ่ ภูเขา ได้หมด พร้อมส่งจากไทย',\n",
       " 'กางเกงคู่เสื้อลายมัดย้อมกัดสี ผ้าเรยอน ใส่สบาย ดูดีมีสไตล์ ฮาเรม โบฮีเมียน พร้อมส่งจากไทย (เซทเสื้อ+กางเกง) SET 4',\n",
       " 'มัดย้อม (กระโปรงพัน ระบาย 2 ชั้น) HandMade เนื้อผ้าสปัน สวมใส่สบายมากไม่ร้อนแน่นอน ทะเล คาเฟ่ ภูเขา ได้หมด พร้อมส่งจากไท',\n",
       " 'เสื้อมัดย้อมกัดสี เด็กและผู้ใหญ่ ใส่ได้ทั้งครอบครัว พร้อมส่งจากไทย (สินค้ามีพร้อมส่ง)',\n",
       " '(พร้อมส่ง) กางเกงช้าง เอวสม็อค ลายมัดย้อมพลุ',\n",
       " 'เสื้อมัดย้อม คู่กางเกงช้าง สำหรับเด็กเล็กและเด็กโต เสื้อผ้าคอตตอน สีสันสดใส พร้อมส่งจากไทย']"
      ]
     },
     "execution_count": 21,
     "metadata": {},
     "output_type": "execute_result"
    }
   ],
   "source": [
    "product_name_list = []\n",
    "for product in product_name:\n",
    "    text = product.text.strip()\n",
    "    if text:\n",
    "        product_name_list.append(text)\n",
    "product_name_list"
   ]
  },
  {
   "cell_type": "code",
   "execution_count": 22,
   "id": "e2d79e94",
   "metadata": {},
   "outputs": [],
   "source": [
    "product_price = soup.find_all('div',{'class':'vioxXd rVLWG6'})"
   ]
  },
  {
   "cell_type": "code",
   "execution_count": 23,
   "id": "ae2ea14b",
   "metadata": {},
   "outputs": [
    {
     "data": {
      "text/plain": [
       "['฿150',\n",
       " '฿250',\n",
       " '฿250',\n",
       " '฿150 - ฿190',\n",
       " '฿150',\n",
       " '฿150',\n",
       " '฿150',\n",
       " '฿260',\n",
       " '฿200',\n",
       " '฿260',\n",
       " '฿170',\n",
       " '฿150',\n",
       " '฿250',\n",
       " '฿150 - ฿190',\n",
       " '฿150',\n",
       " '฿250',\n",
       " '฿200',\n",
       " '฿180',\n",
       " '฿150 - ฿180',\n",
       " '฿200',\n",
       " '฿270',\n",
       " '฿230',\n",
       " '฿150',\n",
       " '฿150',\n",
       " '฿250',\n",
       " '฿370',\n",
       " '฿260',\n",
       " '฿250',\n",
       " '฿250',\n",
       " '฿180',\n",
       " '฿230',\n",
       " '฿250',\n",
       " '฿150 - ฿180',\n",
       " '฿330',\n",
       " '฿450',\n",
       " '฿250',\n",
       " '฿250',\n",
       " '฿300',\n",
       " '฿230',\n",
       " '฿150 - ฿190',\n",
       " '฿150',\n",
       " '฿100 - ฿170']"
      ]
     },
     "execution_count": 23,
     "metadata": {},
     "output_type": "execute_result"
    }
   ],
   "source": [
    "product_price_list = []\n",
    "for product in product_price:\n",
    "    text = product.text.strip()\n",
    "    if text:\n",
    "        product_price_list.append(text)\n",
    "product_price_list"
   ]
  },
  {
   "cell_type": "code",
   "execution_count": 24,
   "id": "fa8fe820",
   "metadata": {},
   "outputs": [],
   "source": [
    "product_sale = soup.find_all('div',{'class':'r6HknA uEPGHT'})"
   ]
  },
  {
   "cell_type": "code",
   "execution_count": 25,
   "id": "8c9a0e47",
   "metadata": {},
   "outputs": [
    {
     "data": {
      "text/plain": [
       "['ขายแล้ว 20 ชิ้น',\n",
       " 'ขายแล้ว 124 ชิ้น',\n",
       " 'ขายแล้ว 192 ชิ้น',\n",
       " 'ขายแล้ว 100 ชิ้น',\n",
       " 'ขายแล้ว 33 ชิ้น',\n",
       " 'ขายแล้ว 13 ชิ้น',\n",
       " 'ขายแล้ว 148 ชิ้น',\n",
       " 'ขายแล้ว 53 ชิ้น',\n",
       " 'ขายแล้ว 1.3พัน ชิ้น',\n",
       " 'ขายแล้ว 129 ชิ้น',\n",
       " 'ขายแล้ว 206 ชิ้น',\n",
       " 'ขายแล้ว 67 ชิ้น',\n",
       " 'ขายแล้ว 57 ชิ้น',\n",
       " 'ขายแล้ว 102 ชิ้น',\n",
       " 'ขายแล้ว 107 ชิ้น',\n",
       " 'ขายแล้ว 407 ชิ้น',\n",
       " 'ขายแล้ว 266 ชิ้น',\n",
       " 'ขายแล้ว 61 ชิ้น',\n",
       " 'ขายแล้ว 21 ชิ้น',\n",
       " 'ขายแล้ว 90 ชิ้น',\n",
       " 'ขายแล้ว 30 ชิ้น',\n",
       " 'ขายแล้ว 136 ชิ้น',\n",
       " 'ขายแล้ว 98 ชิ้น',\n",
       " 'ขายแล้ว 49 ชิ้น',\n",
       " 'ขายแล้ว 73 ชิ้น',\n",
       " 'ขายแล้ว 6 ชิ้น',\n",
       " 'ขายแล้ว 219 ชิ้น',\n",
       " 'ขายแล้ว 443 ชิ้น',\n",
       " 'ขายแล้ว 40 ชิ้น',\n",
       " 'ขายแล้ว 21 ชิ้น',\n",
       " 'ขายแล้ว 581 ชิ้น',\n",
       " 'ขายแล้ว 46 ชิ้น',\n",
       " 'ขายแล้ว 90 ชิ้น',\n",
       " 'ขายแล้ว 38 ชิ้น',\n",
       " 'ขายแล้ว 219 ชิ้น',\n",
       " 'ขายแล้ว 14 ชิ้น',\n",
       " 'ขายแล้ว 1 ชิ้น',\n",
       " 'ขายแล้ว 37 ชิ้น']"
      ]
     },
     "execution_count": 25,
     "metadata": {},
     "output_type": "execute_result"
    }
   ],
   "source": [
    "product_sale_list = []\n",
    "for product in product_sale:\n",
    "    text = product.text.strip()\n",
    "    if text:\n",
    "        product_sale_list.append(text)\n",
    "product_sale_list"
   ]
  },
  {
   "cell_type": "code",
   "execution_count": 381,
   "id": "ed499f17",
   "metadata": {},
   "outputs": [],
   "source": [
    "driver.execute_script(\"document.body.style.zoom='100%'\")"
   ]
  },
  {
   "cell_type": "code",
   "execution_count": 382,
   "id": "bba46e81",
   "metadata": {},
   "outputs": [],
   "source": [
    "product1 = driver.find_element(\"xpath\", '/html/body/div[1]/div/div[2]/div/div/div[2]/section/ul/li[1]')"
   ]
  },
  {
   "cell_type": "code",
   "execution_count": 383,
   "id": "6c7fce61",
   "metadata": {},
   "outputs": [],
   "source": [
    "product1.click()"
   ]
  },
  {
   "cell_type": "code",
   "execution_count": 384,
   "id": "464bcf1e",
   "metadata": {},
   "outputs": [],
   "source": [
    "driver.execute_script(\"document.body.style.zoom='25%'\")"
   ]
  },
  {
   "cell_type": "code",
   "execution_count": 385,
   "id": "f7a712cf",
   "metadata": {},
   "outputs": [],
   "source": [
    "data = driver.page_source"
   ]
  },
  {
   "cell_type": "code",
   "execution_count": 386,
   "id": "81c589d8",
   "metadata": {},
   "outputs": [],
   "source": [
    "soup = bs4.BeautifulSoup(data)"
   ]
  },
  {
   "cell_type": "code",
   "execution_count": 387,
   "id": "72d49e70",
   "metadata": {},
   "outputs": [],
   "source": [
    "product1_score = soup.find_all('div',{'class':'flex items-center'})"
   ]
  },
  {
   "cell_type": "code",
   "execution_count": 388,
   "id": "5d53c265",
   "metadata": {},
   "outputs": [
    {
     "data": {
      "text/plain": [
       "['จำนวน 1มีสินค้าทั้งหมด 9 ชิ้น']"
      ]
     },
     "execution_count": 388,
     "metadata": {},
     "output_type": "execute_result"
    }
   ],
   "source": [
    "product1_score_list = []\n",
    "for product in product1_score:\n",
    "    text = product.text.strip()\n",
    "    if text:\n",
    "        product1_score_list.append(text)\n",
    "product1_score_list = product1_score_list[2]\n",
    "product1_score_list = product1_score_list.split('\\n')\n",
    "product1_score_list"
   ]
  },
  {
   "cell_type": "code",
   "execution_count": 34,
   "id": "8b50801d",
   "metadata": {},
   "outputs": [],
   "source": [
    "driver.back()"
   ]
  },
  {
   "cell_type": "code",
   "execution_count": 35,
   "id": "589803dd",
   "metadata": {},
   "outputs": [],
   "source": [
    "driver.execute_script(\"document.body.style.zoom='100%'\")"
   ]
  },
  {
   "cell_type": "code",
   "execution_count": 27,
   "id": "9c3d7931",
   "metadata": {},
   "outputs": [],
   "source": [
    "product2 = driver.find_element(\"xpath\", '/html/body/div[1]/div/div[2]/div/div/div[2]/section/ul/li[2]/a/div/div')"
   ]
  },
  {
   "cell_type": "code",
   "execution_count": 28,
   "id": "1d8726b0",
   "metadata": {},
   "outputs": [],
   "source": [
    "product2.click()"
   ]
  },
  {
   "cell_type": "code",
   "execution_count": 29,
   "id": "7440c986",
   "metadata": {},
   "outputs": [],
   "source": [
    "driver.execute_script(\"document.body.style.zoom='25%'\")"
   ]
  },
  {
   "cell_type": "code",
   "execution_count": 30,
   "id": "0ecebffe",
   "metadata": {},
   "outputs": [],
   "source": [
    "data = driver.page_source"
   ]
  },
  {
   "cell_type": "code",
   "execution_count": 31,
   "id": "e38cadba",
   "metadata": {},
   "outputs": [],
   "source": [
    "soup = bs4.BeautifulSoup(data)"
   ]
  },
  {
   "cell_type": "code",
   "execution_count": 32,
   "id": "71f2c16c",
   "metadata": {},
   "outputs": [],
   "source": [
    "product2_score = soup.find_all('div',{'class':'flex items-center'})"
   ]
  },
  {
   "cell_type": "code",
   "execution_count": 33,
   "id": "64f39a7d",
   "metadata": {},
   "outputs": [
    {
     "data": {
      "text/plain": [
       "['จำนวน 1มีสินค้าทั้งหมด 94 ชิ้น']"
      ]
     },
     "execution_count": 33,
     "metadata": {},
     "output_type": "execute_result"
    }
   ],
   "source": [
    "product2_score_list = []\n",
    "for product in product2_score:\n",
    "    text = product.text.strip()\n",
    "    if text:\n",
    "        product2_score_list.append(text)\n",
    "product2_score_list = product2_score_list[2]\n",
    "product2_score_list = product2_score_list.split('\\n')\n",
    "product2_score_list"
   ]
  },
  {
   "cell_type": "code",
   "execution_count": 34,
   "id": "b7a5b78a",
   "metadata": {},
   "outputs": [],
   "source": [
    "driver.back()"
   ]
  },
  {
   "cell_type": "code",
   "execution_count": 35,
   "id": "0211167b",
   "metadata": {},
   "outputs": [],
   "source": [
    "driver.execute_script(\"document.body.style.zoom='100%'\")"
   ]
  },
  {
   "cell_type": "code",
   "execution_count": 36,
   "id": "38453023",
   "metadata": {},
   "outputs": [],
   "source": [
    "product3 = driver.find_element(\"xpath\",'/html/body/div[1]/div/div[2]/div/div/div[2]/section/ul/li[3]/a/div/div')"
   ]
  },
  {
   "cell_type": "code",
   "execution_count": 37,
   "id": "be66de56",
   "metadata": {},
   "outputs": [],
   "source": [
    "product3.click()"
   ]
  },
  {
   "cell_type": "code",
   "execution_count": 38,
   "id": "e67ccc5c",
   "metadata": {},
   "outputs": [],
   "source": [
    "driver.execute_script(\"document.body.style.zoom='25%'\")"
   ]
  },
  {
   "cell_type": "code",
   "execution_count": 39,
   "id": "5ef77e3c",
   "metadata": {},
   "outputs": [],
   "source": [
    "data = driver.page_source"
   ]
  },
  {
   "cell_type": "code",
   "execution_count": 40,
   "id": "41169f38",
   "metadata": {},
   "outputs": [],
   "source": [
    "soup = bs4.BeautifulSoup(data)"
   ]
  },
  {
   "cell_type": "code",
   "execution_count": 41,
   "id": "9786e98c",
   "metadata": {},
   "outputs": [],
   "source": [
    "product3_score = soup.find_all('div',{'class':'flex items-center'})"
   ]
  },
  {
   "cell_type": "code",
   "execution_count": 42,
   "id": "f5528931",
   "metadata": {},
   "outputs": [
    {
     "data": {
      "text/plain": [
       "['จำนวน 1มีสินค้าทั้งหมด 346 ชิ้น']"
      ]
     },
     "execution_count": 42,
     "metadata": {},
     "output_type": "execute_result"
    }
   ],
   "source": [
    "product3_score_list = []\n",
    "for product in product3_score:\n",
    "    text = product.text.strip()\n",
    "    if text:\n",
    "        product3_score_list.append(text)\n",
    "product3_score_list = product3_score_list[2]\n",
    "product3_score_list = product3_score_list.split('\\n')\n",
    "product3_score_list"
   ]
  },
  {
   "cell_type": "code",
   "execution_count": 43,
   "id": "da0ef91c",
   "metadata": {},
   "outputs": [],
   "source": [
    "driver.back()"
   ]
  },
  {
   "cell_type": "code",
   "execution_count": 44,
   "id": "b21dad27",
   "metadata": {},
   "outputs": [],
   "source": [
    "driver.execute_script(\"document.body.style.zoom='100%'\")"
   ]
  },
  {
   "cell_type": "code",
   "execution_count": 45,
   "id": "2194869d",
   "metadata": {},
   "outputs": [],
   "source": [
    "product4 = driver.find_element(\"xpath\",'/html/body/div[1]/div/div[2]/div/div/div[2]/section/ul/li[4]/a/div/div')"
   ]
  },
  {
   "cell_type": "code",
   "execution_count": 46,
   "id": "61d14622",
   "metadata": {},
   "outputs": [],
   "source": [
    "product4.click()"
   ]
  },
  {
   "cell_type": "code",
   "execution_count": 47,
   "id": "af2281e8",
   "metadata": {},
   "outputs": [],
   "source": [
    "driver.execute_script(\"document.body.style.zoom='25%'\")"
   ]
  },
  {
   "cell_type": "code",
   "execution_count": 48,
   "id": "024d7a18",
   "metadata": {},
   "outputs": [],
   "source": [
    "data = driver.page_source"
   ]
  },
  {
   "cell_type": "code",
   "execution_count": 49,
   "id": "a5a286ff",
   "metadata": {},
   "outputs": [],
   "source": [
    "soup = bs4.BeautifulSoup(data)"
   ]
  },
  {
   "cell_type": "code",
   "execution_count": 50,
   "id": "4821041c",
   "metadata": {},
   "outputs": [],
   "source": [
    "product4_score = soup.find_all('div',{'class':'flex items-center'})"
   ]
  },
  {
   "cell_type": "code",
   "execution_count": 51,
   "id": "94559ea7",
   "metadata": {},
   "outputs": [
    {
     "data": {
      "text/plain": [
       "['จำนวน 1มีสินค้าทั้งหมด 1564 ชิ้น']"
      ]
     },
     "execution_count": 51,
     "metadata": {},
     "output_type": "execute_result"
    }
   ],
   "source": [
    "product4_score_list = []\n",
    "for product in product4_score:\n",
    "    text = product.text.strip()\n",
    "    if text:\n",
    "        product4_score_list.append(text)\n",
    "product4_score_list = product4_score_list[2]\n",
    "product4_score_list = product4_score_list.split('\\n')\n",
    "product4_score_list "
   ]
  },
  {
   "cell_type": "code",
   "execution_count": 52,
   "id": "e57c1f69",
   "metadata": {},
   "outputs": [],
   "source": [
    "driver.back()"
   ]
  },
  {
   "cell_type": "code",
   "execution_count": 53,
   "id": "9e247124",
   "metadata": {},
   "outputs": [],
   "source": [
    "driver.execute_script(\"document.body.style.zoom='100%'\")"
   ]
  },
  {
   "cell_type": "code",
   "execution_count": 54,
   "id": "6f0be79e",
   "metadata": {},
   "outputs": [],
   "source": [
    "product5 = driver.find_element(\"xpath\",'/html/body/div[1]/div/div[2]/div/div/div[2]/section/ul/li[5]/a/div/div')"
   ]
  },
  {
   "cell_type": "code",
   "execution_count": 55,
   "id": "dcedd019",
   "metadata": {},
   "outputs": [],
   "source": [
    "product5.click()"
   ]
  },
  {
   "cell_type": "code",
   "execution_count": 56,
   "id": "c1f27778",
   "metadata": {},
   "outputs": [],
   "source": [
    "driver.execute_script(\"document.body.style.zoom='25%'\")"
   ]
  },
  {
   "cell_type": "code",
   "execution_count": 57,
   "id": "0695957d",
   "metadata": {},
   "outputs": [],
   "source": [
    "data = driver.page_source"
   ]
  },
  {
   "cell_type": "code",
   "execution_count": 58,
   "id": "996e37b9",
   "metadata": {},
   "outputs": [],
   "source": [
    "soup = bs4.BeautifulSoup(data)"
   ]
  },
  {
   "cell_type": "code",
   "execution_count": 59,
   "id": "a5189169",
   "metadata": {},
   "outputs": [],
   "source": [
    "product5_score = soup.find_all('div',{'class':'flex items-center'})"
   ]
  },
  {
   "cell_type": "code",
   "execution_count": 60,
   "id": "0a890ad8",
   "metadata": {},
   "outputs": [
    {
     "data": {
      "text/plain": [
       "['จำนวน 1มีสินค้าทั้งหมด 143 ชิ้น']"
      ]
     },
     "execution_count": 60,
     "metadata": {},
     "output_type": "execute_result"
    }
   ],
   "source": [
    "product5_score_list = []\n",
    "for product in product5_score:\n",
    "    text = product.text.strip()\n",
    "    if text:\n",
    "        product5_score_list.append(text)\n",
    "product5_score_list = product5_score_list[2]\n",
    "product5_score_list = product5_score_list.split('\\n')\n",
    "product5_score_list"
   ]
  },
  {
   "cell_type": "code",
   "execution_count": 61,
   "id": "dcbe540d",
   "metadata": {},
   "outputs": [],
   "source": [
    "driver.back()"
   ]
  },
  {
   "cell_type": "code",
   "execution_count": 62,
   "id": "776bd750",
   "metadata": {},
   "outputs": [],
   "source": [
    "driver.execute_script(\"document.body.style.zoom='100%'\")"
   ]
  },
  {
   "cell_type": "code",
   "execution_count": 63,
   "id": "69040dd3",
   "metadata": {},
   "outputs": [],
   "source": [
    "product6 = driver.find_element(\"xpath\",'/html/body/div[1]/div/div[2]/div/div/div[2]/section/ul/li[6]/a/div/div')"
   ]
  },
  {
   "cell_type": "code",
   "execution_count": 64,
   "id": "ec21c877",
   "metadata": {},
   "outputs": [],
   "source": [
    "product6.click()"
   ]
  },
  {
   "cell_type": "code",
   "execution_count": 65,
   "id": "99e6f62c",
   "metadata": {},
   "outputs": [],
   "source": [
    "driver.execute_script(\"document.body.style.zoom='25%'\")"
   ]
  },
  {
   "cell_type": "code",
   "execution_count": 66,
   "id": "17a45595",
   "metadata": {},
   "outputs": [],
   "source": [
    "data = driver.page_source"
   ]
  },
  {
   "cell_type": "code",
   "execution_count": 67,
   "id": "06755173",
   "metadata": {},
   "outputs": [],
   "source": [
    "soup = bs4.BeautifulSoup(data)"
   ]
  },
  {
   "cell_type": "code",
   "execution_count": 68,
   "id": "ed8caacf",
   "metadata": {},
   "outputs": [],
   "source": [
    "product6_score = soup.find_all('div',{'class':'flex items-center'})"
   ]
  },
  {
   "cell_type": "code",
   "execution_count": 69,
   "id": "ac771e9e",
   "metadata": {},
   "outputs": [
    {
     "data": {
      "text/plain": [
       "['จำนวน 1มีสินค้าทั้งหมด 60 ชิ้น']"
      ]
     },
     "execution_count": 69,
     "metadata": {},
     "output_type": "execute_result"
    }
   ],
   "source": [
    "product6_score_list = []\n",
    "for product in product6_score:\n",
    "    text = product.text.strip()\n",
    "    if text:\n",
    "        product6_score_list.append(text)\n",
    "product6_score_list = product6_score_list[2]\n",
    "product6_score_list = product6_score_list.split('\\n')\n",
    "product6_score_list"
   ]
  },
  {
   "cell_type": "code",
   "execution_count": 70,
   "id": "19d7c25f",
   "metadata": {},
   "outputs": [],
   "source": [
    "driver.back()"
   ]
  },
  {
   "cell_type": "code",
   "execution_count": 71,
   "id": "c26d50ff",
   "metadata": {},
   "outputs": [],
   "source": [
    "driver.execute_script(\"document.body.style.zoom='100%'\")"
   ]
  },
  {
   "cell_type": "code",
   "execution_count": 72,
   "id": "e012de8d",
   "metadata": {},
   "outputs": [],
   "source": [
    "product7 = driver.find_element(\"xpath\",'/html/body/div[1]/div/div[2]/div/div/div[2]/section/ul/li[7]/a/div/div')"
   ]
  },
  {
   "cell_type": "code",
   "execution_count": 73,
   "id": "09a67222",
   "metadata": {},
   "outputs": [],
   "source": [
    "product7.click()"
   ]
  },
  {
   "cell_type": "code",
   "execution_count": 74,
   "id": "bbcda713",
   "metadata": {},
   "outputs": [],
   "source": [
    "driver.execute_script(\"document.body.style.zoom='25%'\")"
   ]
  },
  {
   "cell_type": "code",
   "execution_count": 75,
   "id": "a4030ed3",
   "metadata": {},
   "outputs": [],
   "source": [
    "data = driver.page_source"
   ]
  },
  {
   "cell_type": "code",
   "execution_count": 76,
   "id": "aa28ffc2",
   "metadata": {},
   "outputs": [],
   "source": [
    "soup = bs4.BeautifulSoup(data)"
   ]
  },
  {
   "cell_type": "code",
   "execution_count": 77,
   "id": "eacb3af8",
   "metadata": {},
   "outputs": [],
   "source": [
    "product7_score = soup.find_all('div',{'class':'flex items-center'})"
   ]
  },
  {
   "cell_type": "code",
   "execution_count": 78,
   "id": "07a1a36c",
   "metadata": {},
   "outputs": [
    {
     "data": {
      "text/plain": [
       "['จำนวน 1มีสินค้าทั้งหมด 91 ชิ้น']"
      ]
     },
     "execution_count": 78,
     "metadata": {},
     "output_type": "execute_result"
    }
   ],
   "source": [
    "product7_score_list = []\n",
    "for product in product7_score:\n",
    "    text = product.text.strip()\n",
    "    if text:\n",
    "        product7_score_list.append(text)\n",
    "product7_score_list = product7_score_list[2]\n",
    "product7_score_list = product7_score_list.split('\\n')\n",
    "product7_score_list"
   ]
  },
  {
   "cell_type": "code",
   "execution_count": 79,
   "id": "c941c62c",
   "metadata": {},
   "outputs": [],
   "source": [
    "driver.back()"
   ]
  },
  {
   "cell_type": "code",
   "execution_count": 80,
   "id": "8a87a150",
   "metadata": {},
   "outputs": [],
   "source": [
    "driver.execute_script(\"document.body.style.zoom='100%'\")"
   ]
  },
  {
   "cell_type": "code",
   "execution_count": 81,
   "id": "a2bcdec3",
   "metadata": {},
   "outputs": [],
   "source": [
    "product8 = driver.find_element(\"xpath\",'/html/body/div[1]/div/div[2]/div/div/div[2]/section/ul/li[8]/a/div/div')"
   ]
  },
  {
   "cell_type": "code",
   "execution_count": 82,
   "id": "bd3e4512",
   "metadata": {},
   "outputs": [],
   "source": [
    "product8.click()"
   ]
  },
  {
   "cell_type": "code",
   "execution_count": 83,
   "id": "7d6db463",
   "metadata": {},
   "outputs": [],
   "source": [
    "driver.execute_script(\"document.body.style.zoom='25%'\")"
   ]
  },
  {
   "cell_type": "code",
   "execution_count": 84,
   "id": "1e3cea35",
   "metadata": {},
   "outputs": [],
   "source": [
    "data = driver.page_source"
   ]
  },
  {
   "cell_type": "code",
   "execution_count": 85,
   "id": "cf99e1ae",
   "metadata": {},
   "outputs": [],
   "source": [
    "soup = bs4.BeautifulSoup(data)"
   ]
  },
  {
   "cell_type": "code",
   "execution_count": 86,
   "id": "5161d7e5",
   "metadata": {},
   "outputs": [],
   "source": [
    "product8_score = soup.find_all('div',{'class':'flex items-center'})"
   ]
  },
  {
   "cell_type": "code",
   "execution_count": 87,
   "id": "16a8b096",
   "metadata": {},
   "outputs": [
    {
     "data": {
      "text/plain": [
       "['จำนวน 1มีสินค้าทั้งหมด 82 ชิ้น']"
      ]
     },
     "execution_count": 87,
     "metadata": {},
     "output_type": "execute_result"
    }
   ],
   "source": [
    "product8_score_list = []\n",
    "for product in product8_score:\n",
    "    text = product.text.strip()\n",
    "    if text:\n",
    "        product8_score_list.append(text)\n",
    "product8_score_list = product8_score_list[2]\n",
    "product8_score_list = product8_score_list.split('\\n')\n",
    "product8_score_list"
   ]
  },
  {
   "cell_type": "code",
   "execution_count": 88,
   "id": "a504acd0",
   "metadata": {},
   "outputs": [],
   "source": [
    "driver.back()"
   ]
  },
  {
   "cell_type": "code",
   "execution_count": 89,
   "id": "203e01c6",
   "metadata": {},
   "outputs": [],
   "source": [
    "driver.execute_script(\"document.body.style.zoom='100%'\")"
   ]
  },
  {
   "cell_type": "code",
   "execution_count": 90,
   "id": "e31f43b5",
   "metadata": {},
   "outputs": [],
   "source": [
    "product9 = driver.find_element(\"xpath\",'/html/body/div[1]/div/div[2]/div/div/div[2]/section/ul/li[9]/a/div/div')"
   ]
  },
  {
   "cell_type": "code",
   "execution_count": 91,
   "id": "0f14532c",
   "metadata": {},
   "outputs": [],
   "source": [
    "product9.click()"
   ]
  },
  {
   "cell_type": "code",
   "execution_count": 92,
   "id": "16a60dc9",
   "metadata": {},
   "outputs": [],
   "source": [
    "driver.execute_script(\"document.body.style.zoom='25%'\")"
   ]
  },
  {
   "cell_type": "code",
   "execution_count": 93,
   "id": "c44c5901",
   "metadata": {},
   "outputs": [],
   "source": [
    "data = driver.page_source"
   ]
  },
  {
   "cell_type": "code",
   "execution_count": 94,
   "id": "022a606f",
   "metadata": {},
   "outputs": [],
   "source": [
    "soup = bs4.BeautifulSoup(data)"
   ]
  },
  {
   "cell_type": "code",
   "execution_count": 95,
   "id": "9091316f",
   "metadata": {},
   "outputs": [],
   "source": [
    "product9_score = soup.find_all('div',{'class':'flex items-center'})"
   ]
  },
  {
   "cell_type": "code",
   "execution_count": 96,
   "id": "0176cd97",
   "metadata": {},
   "outputs": [
    {
     "data": {
      "text/plain": [
       "['จำนวน 1มีสินค้าทั้งหมด 907 ชิ้น']"
      ]
     },
     "execution_count": 96,
     "metadata": {},
     "output_type": "execute_result"
    }
   ],
   "source": [
    "product9_score_list = []\n",
    "for product in product9_score:\n",
    "    text = product.text.strip()\n",
    "    if text:\n",
    "        product9_score_list.append(text)\n",
    "product9_score_list = product9_score_list[2]\n",
    "product9_score_list = product9_score_list.split('\\n')\n",
    "product9_score_list"
   ]
  },
  {
   "cell_type": "code",
   "execution_count": 97,
   "id": "2a9dfa75",
   "metadata": {},
   "outputs": [],
   "source": [
    "driver.back()"
   ]
  },
  {
   "cell_type": "code",
   "execution_count": 98,
   "id": "d8b45f42",
   "metadata": {},
   "outputs": [],
   "source": [
    "driver.execute_script(\"document.body.style.zoom='100%'\")"
   ]
  },
  {
   "cell_type": "code",
   "execution_count": 101,
   "id": "c7fc4911",
   "metadata": {},
   "outputs": [],
   "source": [
    "product10 = driver.find_element(\"xpath\",'/html/body/div[1]/div/div[2]/div/div/div[2]/section/ul/li[10]/a/div/div')"
   ]
  },
  {
   "cell_type": "code",
   "execution_count": 102,
   "id": "b3481b55",
   "metadata": {},
   "outputs": [],
   "source": [
    "product10.click()"
   ]
  },
  {
   "cell_type": "code",
   "execution_count": 103,
   "id": "4b70650f",
   "metadata": {},
   "outputs": [],
   "source": [
    "driver.execute_script(\"document.body.style.zoom='25%'\")"
   ]
  },
  {
   "cell_type": "code",
   "execution_count": 104,
   "id": "d8b86fe3",
   "metadata": {},
   "outputs": [],
   "source": [
    "data = driver.page_source"
   ]
  },
  {
   "cell_type": "code",
   "execution_count": 105,
   "id": "4cb2c056",
   "metadata": {},
   "outputs": [],
   "source": [
    "soup = bs4.BeautifulSoup(data)"
   ]
  },
  {
   "cell_type": "code",
   "execution_count": 106,
   "id": "18524fb0",
   "metadata": {},
   "outputs": [],
   "source": [
    "product10_score = soup.find_all('div',{'class':'flex items-center'})"
   ]
  },
  {
   "cell_type": "code",
   "execution_count": 107,
   "id": "fdf298e7",
   "metadata": {},
   "outputs": [
    {
     "data": {
      "text/plain": [
       "['จำนวน 1มีสินค้าทั้งหมด 80 ชิ้น']"
      ]
     },
     "execution_count": 107,
     "metadata": {},
     "output_type": "execute_result"
    }
   ],
   "source": [
    "product10_score_list = []\n",
    "for product in product10_score:\n",
    "    text = product.text.strip()\n",
    "    if text:\n",
    "        product10_score_list.append(text)\n",
    "product10_score_list = product10_score_list[2]\n",
    "product10_score_list = product10_score_list.split('\\n')\n",
    "product10_score_list"
   ]
  },
  {
   "cell_type": "code",
   "execution_count": 108,
   "id": "24f1e38a",
   "metadata": {},
   "outputs": [],
   "source": [
    "driver.back()"
   ]
  },
  {
   "cell_type": "code",
   "execution_count": 109,
   "id": "73b8e312",
   "metadata": {},
   "outputs": [],
   "source": [
    "driver.execute_script(\"document.body.style.zoom='100%'\")"
   ]
  },
  {
   "cell_type": "code",
   "execution_count": 110,
   "id": "a6cd6324",
   "metadata": {},
   "outputs": [],
   "source": [
    "product11 = driver.find_element(\"xpath\",'/html/body/div[1]/div/div[2]/div/div/div[2]/section/ul/li[11]/a/div/div')"
   ]
  },
  {
   "cell_type": "code",
   "execution_count": 111,
   "id": "0c9f0d8f",
   "metadata": {},
   "outputs": [],
   "source": [
    "product11.click()"
   ]
  },
  {
   "cell_type": "code",
   "execution_count": 112,
   "id": "24c1511f",
   "metadata": {},
   "outputs": [],
   "source": [
    "driver.execute_script(\"document.body.style.zoom='25%'\")"
   ]
  },
  {
   "cell_type": "code",
   "execution_count": 113,
   "id": "0c48175f",
   "metadata": {},
   "outputs": [],
   "source": [
    "data = driver.page_source"
   ]
  },
  {
   "cell_type": "code",
   "execution_count": 114,
   "id": "d435c9a8",
   "metadata": {},
   "outputs": [],
   "source": [
    "soup = bs4.BeautifulSoup(data)"
   ]
  },
  {
   "cell_type": "code",
   "execution_count": 115,
   "id": "3d057b14",
   "metadata": {},
   "outputs": [],
   "source": [
    "product11_score = soup.find_all('div',{'class':'flex items-center'})"
   ]
  },
  {
   "cell_type": "code",
   "execution_count": 116,
   "id": "dbf03d41",
   "metadata": {},
   "outputs": [
    {
     "data": {
      "text/plain": [
       "['จำนวน 1มีสินค้าทั้งหมด 69 ชิ้น']"
      ]
     },
     "execution_count": 116,
     "metadata": {},
     "output_type": "execute_result"
    }
   ],
   "source": [
    "product11_score_list = []\n",
    "for product in product11_score:\n",
    "    text = product.text.strip()\n",
    "    if text:\n",
    "        product11_score_list.append(text)\n",
    "product11_score_list = product11_score_list[2]\n",
    "product11_score_list = product11_score_list.split('\\n')\n",
    "product11_score_list"
   ]
  },
  {
   "cell_type": "code",
   "execution_count": 117,
   "id": "c2f4a337",
   "metadata": {},
   "outputs": [],
   "source": [
    "driver.back()"
   ]
  },
  {
   "cell_type": "code",
   "execution_count": 118,
   "id": "5dc66c04",
   "metadata": {},
   "outputs": [],
   "source": [
    "driver.execute_script(\"document.body.style.zoom='100%'\")"
   ]
  },
  {
   "cell_type": "code",
   "execution_count": 119,
   "id": "1f507e9a",
   "metadata": {},
   "outputs": [],
   "source": [
    "product12 = driver.find_element(\"xpath\",'/html/body/div[1]/div/div[2]/div/div/div[2]/section/ul/li[12]/a/div/div')"
   ]
  },
  {
   "cell_type": "code",
   "execution_count": 120,
   "id": "932ff58b",
   "metadata": {},
   "outputs": [],
   "source": [
    "product12.click()"
   ]
  },
  {
   "cell_type": "code",
   "execution_count": 121,
   "id": "549c6250",
   "metadata": {},
   "outputs": [],
   "source": [
    "driver.execute_script(\"document.body.style.zoom='25%'\")"
   ]
  },
  {
   "cell_type": "code",
   "execution_count": 122,
   "id": "f39a5945",
   "metadata": {},
   "outputs": [],
   "source": [
    "data = driver.page_source"
   ]
  },
  {
   "cell_type": "code",
   "execution_count": 123,
   "id": "f0555133",
   "metadata": {},
   "outputs": [],
   "source": [
    "soup = bs4.BeautifulSoup(data)"
   ]
  },
  {
   "cell_type": "code",
   "execution_count": 124,
   "id": "ae83df9d",
   "metadata": {},
   "outputs": [],
   "source": [
    "product12_score = soup.find_all('div',{'class':'flex items-center'})"
   ]
  },
  {
   "cell_type": "code",
   "execution_count": 125,
   "id": "567c6242",
   "metadata": {},
   "outputs": [
    {
     "data": {
      "text/plain": [
       "['จำนวน 1มีสินค้าทั้งหมด 40 ชิ้น']"
      ]
     },
     "execution_count": 125,
     "metadata": {},
     "output_type": "execute_result"
    }
   ],
   "source": [
    "product12_score_list = []\n",
    "for product in product12_score:\n",
    "    text = product.text.strip()\n",
    "    if text:\n",
    "        product12_score_list.append(text)\n",
    "product12_score_list = product12_score_list[2]\n",
    "product12_score_list = product12_score_list.split('\\n')\n",
    "product12_score_list"
   ]
  },
  {
   "cell_type": "code",
   "execution_count": 126,
   "id": "44d62183",
   "metadata": {},
   "outputs": [],
   "source": [
    "driver.back()"
   ]
  },
  {
   "cell_type": "code",
   "execution_count": 127,
   "id": "6fe4c6da",
   "metadata": {},
   "outputs": [],
   "source": [
    "driver.execute_script(\"document.body.style.zoom='100%'\")"
   ]
  },
  {
   "cell_type": "code",
   "execution_count": 128,
   "id": "f605f9c5",
   "metadata": {},
   "outputs": [],
   "source": [
    "product13 = driver.find_element(\"xpath\",'/html/body/div[1]/div/div[2]/div/div/div[2]/section/ul/li[13]/a/div/div')"
   ]
  },
  {
   "cell_type": "code",
   "execution_count": 129,
   "id": "f912d17a",
   "metadata": {},
   "outputs": [],
   "source": [
    "product13.click()"
   ]
  },
  {
   "cell_type": "code",
   "execution_count": 130,
   "id": "afe75873",
   "metadata": {},
   "outputs": [],
   "source": [
    "driver.execute_script(\"document.body.style.zoom='25%'\")"
   ]
  },
  {
   "cell_type": "code",
   "execution_count": 131,
   "id": "e235c977",
   "metadata": {},
   "outputs": [],
   "source": [
    "data = driver.page_source"
   ]
  },
  {
   "cell_type": "code",
   "execution_count": 132,
   "id": "4e76f138",
   "metadata": {},
   "outputs": [],
   "source": [
    "soup = bs4.BeautifulSoup(data)"
   ]
  },
  {
   "cell_type": "code",
   "execution_count": 133,
   "id": "1495f16d",
   "metadata": {},
   "outputs": [],
   "source": [
    "product13_score = soup.find_all('div',{'class':'flex items-center'})"
   ]
  },
  {
   "cell_type": "code",
   "execution_count": 134,
   "id": "e26a471e",
   "metadata": {},
   "outputs": [
    {
     "data": {
      "text/plain": [
       "['จำนวน 1มีสินค้าทั้งหมด 71 ชิ้น']"
      ]
     },
     "execution_count": 134,
     "metadata": {},
     "output_type": "execute_result"
    }
   ],
   "source": [
    "product13_score_list = []\n",
    "for product in product13_score:\n",
    "    text = product.text.strip()\n",
    "    if text:\n",
    "        product13_score_list.append(text)\n",
    "product13_score_list = product13_score_list[2]\n",
    "product13_score_list = product13_score_list.split('\\n')\n",
    "product13_score_list"
   ]
  },
  {
   "cell_type": "code",
   "execution_count": 135,
   "id": "8830207b",
   "metadata": {},
   "outputs": [],
   "source": [
    "driver.back()"
   ]
  },
  {
   "cell_type": "code",
   "execution_count": 136,
   "id": "2ea03db5",
   "metadata": {},
   "outputs": [],
   "source": [
    "driver.execute_script(\"document.body.style.zoom='100%'\")"
   ]
  },
  {
   "cell_type": "code",
   "execution_count": 137,
   "id": "96254ba4",
   "metadata": {},
   "outputs": [],
   "source": [
    "product14 = driver.find_element(\"xpath\",'/html/body/div[1]/div/div[2]/div/div/div[2]/section/ul/li[14]/a/div/div')"
   ]
  },
  {
   "cell_type": "code",
   "execution_count": 138,
   "id": "c92675dc",
   "metadata": {},
   "outputs": [],
   "source": [
    "product14.click()"
   ]
  },
  {
   "cell_type": "code",
   "execution_count": 139,
   "id": "251ebb03",
   "metadata": {},
   "outputs": [],
   "source": [
    "driver.execute_script(\"document.body.style.zoom='25%'\")"
   ]
  },
  {
   "cell_type": "code",
   "execution_count": 140,
   "id": "c3600fc8",
   "metadata": {},
   "outputs": [],
   "source": [
    "data = driver.page_source"
   ]
  },
  {
   "cell_type": "code",
   "execution_count": 141,
   "id": "3119090b",
   "metadata": {},
   "outputs": [],
   "source": [
    "soup = bs4.BeautifulSoup(data)"
   ]
  },
  {
   "cell_type": "code",
   "execution_count": 142,
   "id": "769d5543",
   "metadata": {},
   "outputs": [],
   "source": [
    "product14_score = soup.find_all('div',{'class':'flex items-center'})"
   ]
  },
  {
   "cell_type": "code",
   "execution_count": 143,
   "id": "3858fe1c",
   "metadata": {},
   "outputs": [
    {
     "data": {
      "text/plain": [
       "['จำนวน 1มีสินค้าทั้งหมด 966 ชิ้น']"
      ]
     },
     "execution_count": 143,
     "metadata": {},
     "output_type": "execute_result"
    }
   ],
   "source": [
    "product14_score_list = []\n",
    "for product in product14_score:\n",
    "    text = product.text.strip()\n",
    "    if text:\n",
    "        product14_score_list.append(text)\n",
    "product14_score_list = product14_score_list[2]\n",
    "product14_score_list = product14_score_list.split('\\n')\n",
    "product14_score_list"
   ]
  },
  {
   "cell_type": "code",
   "execution_count": 144,
   "id": "1cd45267",
   "metadata": {},
   "outputs": [],
   "source": [
    "driver.back()"
   ]
  },
  {
   "cell_type": "code",
   "execution_count": 145,
   "id": "5527b69e",
   "metadata": {},
   "outputs": [],
   "source": [
    "driver.execute_script(\"document.body.style.zoom='100%'\")"
   ]
  },
  {
   "cell_type": "code",
   "execution_count": 148,
   "id": "8321d1a2",
   "metadata": {},
   "outputs": [],
   "source": [
    "product15 = driver.find_element(\"xpath\",'/html/body/div[1]/div/div[2]/div/div/div[2]/section/ul/li[15]/a/div/div')"
   ]
  },
  {
   "cell_type": "code",
   "execution_count": 149,
   "id": "e60272ea",
   "metadata": {},
   "outputs": [],
   "source": [
    "product15.click()"
   ]
  },
  {
   "cell_type": "code",
   "execution_count": 150,
   "id": "8a5d321c",
   "metadata": {},
   "outputs": [],
   "source": [
    "driver.execute_script(\"document.body.style.zoom='25%'\")"
   ]
  },
  {
   "cell_type": "code",
   "execution_count": 151,
   "id": "5927cf18",
   "metadata": {},
   "outputs": [],
   "source": [
    "data = driver.page_source"
   ]
  },
  {
   "cell_type": "code",
   "execution_count": 152,
   "id": "bc49baf6",
   "metadata": {},
   "outputs": [],
   "source": [
    "soup = bs4.BeautifulSoup(data)"
   ]
  },
  {
   "cell_type": "code",
   "execution_count": 153,
   "id": "5f47a568",
   "metadata": {},
   "outputs": [],
   "source": [
    "product15_score = soup.find_all('div',{'class':'flex items-center'})"
   ]
  },
  {
   "cell_type": "code",
   "execution_count": 154,
   "id": "469181ff",
   "metadata": {},
   "outputs": [
    {
     "data": {
      "text/plain": [
       "['จำนวน 1มีสินค้าทั้งหมด 20 ชิ้น']"
      ]
     },
     "execution_count": 154,
     "metadata": {},
     "output_type": "execute_result"
    }
   ],
   "source": [
    "product15_score_list = []\n",
    "for product in product15_score:\n",
    "    text = product.text.strip()\n",
    "    if text:\n",
    "        product15_score_list.append(text)\n",
    "product15_score_list = product15_score_list[2]\n",
    "product15_score_list = product15_score_list.split('\\n')\n",
    "product15_score_list"
   ]
  },
  {
   "cell_type": "code",
   "execution_count": 155,
   "id": "0ebd1318",
   "metadata": {},
   "outputs": [],
   "source": [
    "driver.back()"
   ]
  },
  {
   "cell_type": "code",
   "execution_count": 156,
   "id": "19a9010a",
   "metadata": {},
   "outputs": [],
   "source": [
    "driver.execute_script(\"document.body.style.zoom='100%'\")"
   ]
  },
  {
   "cell_type": "code",
   "execution_count": 157,
   "id": "62a25cc7",
   "metadata": {},
   "outputs": [],
   "source": [
    "product16 = driver.find_element(\"xpath\",'/html/body/div[1]/div/div[2]/div/div/div[2]/section/ul/li[16]/a/div/div')"
   ]
  },
  {
   "cell_type": "code",
   "execution_count": 158,
   "id": "1860965b",
   "metadata": {},
   "outputs": [],
   "source": [
    "product16.click()"
   ]
  },
  {
   "cell_type": "code",
   "execution_count": 159,
   "id": "8a9e7be7",
   "metadata": {},
   "outputs": [],
   "source": [
    "driver.execute_script(\"document.body.style.zoom='25%'\")"
   ]
  },
  {
   "cell_type": "code",
   "execution_count": 160,
   "id": "52b8f6e9",
   "metadata": {},
   "outputs": [],
   "source": [
    "data = driver.page_source"
   ]
  },
  {
   "cell_type": "code",
   "execution_count": 161,
   "id": "7785b5b8",
   "metadata": {},
   "outputs": [],
   "source": [
    "soup = bs4.BeautifulSoup(data)"
   ]
  },
  {
   "cell_type": "code",
   "execution_count": 162,
   "id": "aeb11cdb",
   "metadata": {},
   "outputs": [],
   "source": [
    "product16_score = soup.find_all('div',{'class':'flex items-center'})"
   ]
  },
  {
   "cell_type": "code",
   "execution_count": 163,
   "id": "4001faeb",
   "metadata": {},
   "outputs": [
    {
     "data": {
      "text/plain": [
       "['จำนวน 1มีสินค้าทั้งหมด 257 ชิ้น']"
      ]
     },
     "execution_count": 163,
     "metadata": {},
     "output_type": "execute_result"
    }
   ],
   "source": [
    "product16_score_list = []\n",
    "for product in product16_score:\n",
    "    text = product.text.strip()\n",
    "    if text:\n",
    "        product16_score_list.append(text)\n",
    "product16_score_list = product16_score_list[2]\n",
    "product16_score_list = product16_score_list.split('\\n')\n",
    "product16_score_list"
   ]
  },
  {
   "cell_type": "code",
   "execution_count": 164,
   "id": "9f9bb54e",
   "metadata": {},
   "outputs": [],
   "source": [
    "driver.back()"
   ]
  },
  {
   "cell_type": "code",
   "execution_count": 165,
   "id": "d798fbb7",
   "metadata": {},
   "outputs": [],
   "source": [
    "driver.execute_script(\"document.body.style.zoom='100%'\")"
   ]
  },
  {
   "cell_type": "code",
   "execution_count": 166,
   "id": "9e14369b",
   "metadata": {},
   "outputs": [],
   "source": [
    "product17 = driver.find_element(\"xpath\",'/html/body/div[1]/div/div[2]/div/div/div[2]/section/ul/li[17]/a/div/div')"
   ]
  },
  {
   "cell_type": "code",
   "execution_count": 167,
   "id": "a7a798b7",
   "metadata": {},
   "outputs": [],
   "source": [
    "product17.click()"
   ]
  },
  {
   "cell_type": "code",
   "execution_count": 168,
   "id": "691c7b2a",
   "metadata": {},
   "outputs": [],
   "source": [
    "driver.execute_script(\"document.body.style.zoom='25%'\")"
   ]
  },
  {
   "cell_type": "code",
   "execution_count": 169,
   "id": "eb3eb442",
   "metadata": {},
   "outputs": [],
   "source": [
    "data = driver.page_source"
   ]
  },
  {
   "cell_type": "code",
   "execution_count": 170,
   "id": "fcf39745",
   "metadata": {},
   "outputs": [],
   "source": [
    "soup = bs4.BeautifulSoup(data)"
   ]
  },
  {
   "cell_type": "code",
   "execution_count": 171,
   "id": "f3ec3c5b",
   "metadata": {},
   "outputs": [],
   "source": [
    "product17_score = soup.find_all('div',{'class':'flex items-center'})"
   ]
  },
  {
   "cell_type": "code",
   "execution_count": 172,
   "id": "3585f182",
   "metadata": {},
   "outputs": [
    {
     "data": {
      "text/plain": [
       "['จำนวน 1มีสินค้าทั้งหมด 181 ชิ้น']"
      ]
     },
     "execution_count": 172,
     "metadata": {},
     "output_type": "execute_result"
    }
   ],
   "source": [
    "product17_score_list = []\n",
    "for product in product17_score:\n",
    "    text = product.text.strip()\n",
    "    if text:\n",
    "        product17_score_list.append(text)\n",
    "product17_score_list = product17_score_list[2]\n",
    "product17_score_list = product17_score_list.split('\\n')\n",
    "product17_score_list"
   ]
  },
  {
   "cell_type": "code",
   "execution_count": 173,
   "id": "78679afe",
   "metadata": {},
   "outputs": [],
   "source": [
    "driver.back()"
   ]
  },
  {
   "cell_type": "code",
   "execution_count": 174,
   "id": "dc57d738",
   "metadata": {},
   "outputs": [],
   "source": [
    "driver.execute_script(\"document.body.style.zoom='100%'\")"
   ]
  },
  {
   "cell_type": "code",
   "execution_count": 175,
   "id": "7d185bf9",
   "metadata": {},
   "outputs": [],
   "source": [
    "product18 = driver.find_element(\"xpath\",'/html/body/div[1]/div/div[2]/div/div/div[2]/section/ul/li[18]/a/div/div')"
   ]
  },
  {
   "cell_type": "code",
   "execution_count": 176,
   "id": "c20ec359",
   "metadata": {},
   "outputs": [],
   "source": [
    "product18.click()"
   ]
  },
  {
   "cell_type": "code",
   "execution_count": 177,
   "id": "ebebe00f",
   "metadata": {},
   "outputs": [],
   "source": [
    "driver.execute_script(\"document.body.style.zoom='25%'\")"
   ]
  },
  {
   "cell_type": "code",
   "execution_count": 178,
   "id": "2829ef64",
   "metadata": {},
   "outputs": [],
   "source": [
    "data = driver.page_source"
   ]
  },
  {
   "cell_type": "code",
   "execution_count": 179,
   "id": "df9f641d",
   "metadata": {},
   "outputs": [],
   "source": [
    "soup = bs4.BeautifulSoup(data)"
   ]
  },
  {
   "cell_type": "code",
   "execution_count": 180,
   "id": "04669763",
   "metadata": {},
   "outputs": [],
   "source": [
    "product18_score = soup.find_all('div',{'class':'flex items-center'})"
   ]
  },
  {
   "cell_type": "code",
   "execution_count": 181,
   "id": "b4c0ff0e",
   "metadata": {},
   "outputs": [
    {
     "data": {
      "text/plain": [
       "['จำนวน 1มีสินค้าทั้งหมด 728 ชิ้น']"
      ]
     },
     "execution_count": 181,
     "metadata": {},
     "output_type": "execute_result"
    }
   ],
   "source": [
    "product18_score_list = []\n",
    "for product in product18_score:\n",
    "    text = product.text.strip()\n",
    "    if text:\n",
    "        product18_score_list.append(text)\n",
    "product18_score_list = product18_score_list[2]\n",
    "product18_score_list = product18_score_list.split('\\n')\n",
    "product18_score_list"
   ]
  },
  {
   "cell_type": "code",
   "execution_count": 182,
   "id": "1c1f688b",
   "metadata": {},
   "outputs": [],
   "source": [
    "driver.back()"
   ]
  },
  {
   "cell_type": "code",
   "execution_count": 183,
   "id": "23362410",
   "metadata": {},
   "outputs": [],
   "source": [
    "driver.execute_script(\"document.body.style.zoom='100%'\")"
   ]
  },
  {
   "cell_type": "code",
   "execution_count": 184,
   "id": "1272855e",
   "metadata": {},
   "outputs": [],
   "source": [
    "product19 = driver.find_element(\"xpath\",'/html/body/div[1]/div/div[2]/div/div/div[2]/section/ul/li[19]/a/div/div')"
   ]
  },
  {
   "cell_type": "code",
   "execution_count": 185,
   "id": "75e8dc03",
   "metadata": {},
   "outputs": [],
   "source": [
    "product19.click()"
   ]
  },
  {
   "cell_type": "code",
   "execution_count": 186,
   "id": "d9b45245",
   "metadata": {},
   "outputs": [],
   "source": [
    "driver.execute_script(\"document.body.style.zoom='25%'\")"
   ]
  },
  {
   "cell_type": "code",
   "execution_count": 187,
   "id": "a8903ae2",
   "metadata": {},
   "outputs": [],
   "source": [
    "data = driver.page_source"
   ]
  },
  {
   "cell_type": "code",
   "execution_count": 188,
   "id": "beef40ef",
   "metadata": {},
   "outputs": [],
   "source": [
    "soup = bs4.BeautifulSoup(data)"
   ]
  },
  {
   "cell_type": "code",
   "execution_count": 189,
   "id": "814a45bd",
   "metadata": {},
   "outputs": [],
   "source": [
    "product19_score = soup.find_all('div',{'class':'flex items-center'})"
   ]
  },
  {
   "cell_type": "code",
   "execution_count": 190,
   "id": "a1beccb1",
   "metadata": {},
   "outputs": [
    {
     "data": {
      "text/plain": [
       "['จำนวน 1มีสินค้าทั้งหมด 560 ชิ้น']"
      ]
     },
     "execution_count": 190,
     "metadata": {},
     "output_type": "execute_result"
    }
   ],
   "source": [
    "product19_score_list = []\n",
    "for product in product19_score:\n",
    "    text = product.text.strip()\n",
    "    if text:\n",
    "        product19_score_list.append(text)\n",
    "product19_score_list = product19_score_list[2]\n",
    "product19_score_list = product19_score_list.split('\\n')\n",
    "product19_score_list"
   ]
  },
  {
   "cell_type": "code",
   "execution_count": 191,
   "id": "86c1311c",
   "metadata": {},
   "outputs": [],
   "source": [
    "driver.back()"
   ]
  },
  {
   "cell_type": "code",
   "execution_count": 192,
   "id": "85da7502",
   "metadata": {},
   "outputs": [],
   "source": [
    "driver.execute_script(\"document.body.style.zoom='100%'\")"
   ]
  },
  {
   "cell_type": "code",
   "execution_count": 193,
   "id": "432cbf0c",
   "metadata": {},
   "outputs": [],
   "source": [
    "product20 = driver.find_element(\"xpath\",'/html/body/div[1]/div/div[2]/div/div/div[2]/section/ul/li[20]/a/div/div')"
   ]
  },
  {
   "cell_type": "code",
   "execution_count": 194,
   "id": "0dbd3845",
   "metadata": {},
   "outputs": [],
   "source": [
    "product20.click()"
   ]
  },
  {
   "cell_type": "code",
   "execution_count": 195,
   "id": "4b4803cb",
   "metadata": {},
   "outputs": [],
   "source": [
    "driver.execute_script(\"document.body.style.zoom='25%'\")"
   ]
  },
  {
   "cell_type": "code",
   "execution_count": 196,
   "id": "f00fd4a8",
   "metadata": {},
   "outputs": [],
   "source": [
    "data = driver.page_source"
   ]
  },
  {
   "cell_type": "code",
   "execution_count": 197,
   "id": "64b0e223",
   "metadata": {},
   "outputs": [],
   "source": [
    "soup = bs4.BeautifulSoup(data)"
   ]
  },
  {
   "cell_type": "code",
   "execution_count": 198,
   "id": "0f3ef7d9",
   "metadata": {},
   "outputs": [],
   "source": [
    "product20_score = soup.find_all('div',{'class':'flex items-center'})"
   ]
  },
  {
   "cell_type": "code",
   "execution_count": 199,
   "id": "5d2595cd",
   "metadata": {},
   "outputs": [
    {
     "data": {
      "text/plain": [
       "['จำนวน 1มีสินค้าทั้งหมด 107 ชิ้น']"
      ]
     },
     "execution_count": 199,
     "metadata": {},
     "output_type": "execute_result"
    }
   ],
   "source": [
    "product20_score_list = []\n",
    "for product in product20_score:\n",
    "    text = product.text.strip()\n",
    "    if text:\n",
    "        product20_score_list.append(text)\n",
    "product20_score_list = product20_score_list[2]\n",
    "product20_score_list = product20_score_list.split('\\n')\n",
    "product20_score_list"
   ]
  },
  {
   "cell_type": "code",
   "execution_count": 200,
   "id": "613d1c39",
   "metadata": {},
   "outputs": [],
   "source": [
    "driver.back()"
   ]
  },
  {
   "cell_type": "code",
   "execution_count": 201,
   "id": "d4e796c2",
   "metadata": {},
   "outputs": [],
   "source": [
    "driver.execute_script(\"document.body.style.zoom='100%'\")"
   ]
  },
  {
   "cell_type": "code",
   "execution_count": 202,
   "id": "a08399f5",
   "metadata": {},
   "outputs": [],
   "source": [
    "product21 = driver.find_element(\"xpath\",'/html/body/div[1]/div/div[2]/div/div/div[2]/section/ul/li[21]/a/div/div')"
   ]
  },
  {
   "cell_type": "code",
   "execution_count": 203,
   "id": "24773212",
   "metadata": {},
   "outputs": [],
   "source": [
    "product21.click()"
   ]
  },
  {
   "cell_type": "code",
   "execution_count": 204,
   "id": "78772f03",
   "metadata": {},
   "outputs": [],
   "source": [
    "driver.execute_script(\"document.body.style.zoom='25%'\")"
   ]
  },
  {
   "cell_type": "code",
   "execution_count": 205,
   "id": "28c7ac1d",
   "metadata": {},
   "outputs": [],
   "source": [
    "data = driver.page_source"
   ]
  },
  {
   "cell_type": "code",
   "execution_count": 206,
   "id": "9080f849",
   "metadata": {},
   "outputs": [],
   "source": [
    "soup = bs4.BeautifulSoup(data)"
   ]
  },
  {
   "cell_type": "code",
   "execution_count": 207,
   "id": "4f19e532",
   "metadata": {},
   "outputs": [],
   "source": [
    "product21_score = soup.find_all('div',{'class':'flex items-center'})"
   ]
  },
  {
   "cell_type": "code",
   "execution_count": 208,
   "id": "70a199ef",
   "metadata": {},
   "outputs": [
    {
     "data": {
      "text/plain": [
       "['จำนวน 1มีสินค้าทั้งหมด 115 ชิ้น']"
      ]
     },
     "execution_count": 208,
     "metadata": {},
     "output_type": "execute_result"
    }
   ],
   "source": [
    "product21_score_list = []\n",
    "for product in product21_score:\n",
    "    text = product.text.strip()\n",
    "    if text:\n",
    "        product21_score_list.append(text)\n",
    "product21_score_list = product21_score_list[2]\n",
    "product21_score_list = product21_score_list.split('\\n')\n",
    "product21_score_list"
   ]
  },
  {
   "cell_type": "code",
   "execution_count": 209,
   "id": "2e39b39c",
   "metadata": {},
   "outputs": [],
   "source": [
    "driver.back()"
   ]
  },
  {
   "cell_type": "code",
   "execution_count": 210,
   "id": "051dcd72",
   "metadata": {},
   "outputs": [],
   "source": [
    "driver.execute_script(\"document.body.style.zoom='100%'\")"
   ]
  },
  {
   "cell_type": "code",
   "execution_count": 211,
   "id": "db3df6fe",
   "metadata": {},
   "outputs": [],
   "source": [
    "product22 = driver.find_element(\"xpath\",'/html/body/div[1]/div/div[2]/div/div/div[2]/section/ul/li[22]/a/div/div')"
   ]
  },
  {
   "cell_type": "code",
   "execution_count": 212,
   "id": "df813aa1",
   "metadata": {},
   "outputs": [],
   "source": [
    "product22.click()"
   ]
  },
  {
   "cell_type": "code",
   "execution_count": 213,
   "id": "8ceddb40",
   "metadata": {},
   "outputs": [],
   "source": [
    "driver.execute_script(\"document.body.style.zoom='25%'\")"
   ]
  },
  {
   "cell_type": "code",
   "execution_count": 214,
   "id": "aeebab0c",
   "metadata": {},
   "outputs": [],
   "source": [
    "data = driver.page_source"
   ]
  },
  {
   "cell_type": "code",
   "execution_count": 215,
   "id": "4e8b494a",
   "metadata": {},
   "outputs": [],
   "source": [
    "soup = bs4.BeautifulSoup(data)"
   ]
  },
  {
   "cell_type": "code",
   "execution_count": 216,
   "id": "1fd69ddf",
   "metadata": {},
   "outputs": [],
   "source": [
    "product22_score = soup.find_all('div',{'class':'flex items-center'})"
   ]
  },
  {
   "cell_type": "code",
   "execution_count": 217,
   "id": "b12d0ba4",
   "metadata": {},
   "outputs": [
    {
     "data": {
      "text/plain": [
       "['จำนวน 1มีสินค้าทั้งหมด 296 ชิ้น']"
      ]
     },
     "execution_count": 217,
     "metadata": {},
     "output_type": "execute_result"
    }
   ],
   "source": [
    "product22_score_list = []\n",
    "for product in product22_score:\n",
    "    text = product.text.strip()\n",
    "    if text:\n",
    "        product22_score_list.append(text)\n",
    "product22_score_list = product22_score_list[2]\n",
    "product22_score_list = product22_score_list.split('\\n')\n",
    "product22_score_list"
   ]
  },
  {
   "cell_type": "code",
   "execution_count": 218,
   "id": "4f0e2d1a",
   "metadata": {},
   "outputs": [],
   "source": [
    "driver.back()"
   ]
  },
  {
   "cell_type": "code",
   "execution_count": 219,
   "id": "ceb6ab56",
   "metadata": {},
   "outputs": [],
   "source": [
    "driver.execute_script(\"document.body.style.zoom='100%'\")"
   ]
  },
  {
   "cell_type": "code",
   "execution_count": 220,
   "id": "ff4d87b6",
   "metadata": {},
   "outputs": [],
   "source": [
    "product23 = driver.find_element(\"xpath\",'/html/body/div[1]/div/div[2]/div/div/div[2]/section/ul/li[23]/a/div/div')"
   ]
  },
  {
   "cell_type": "code",
   "execution_count": 221,
   "id": "9dd257ec",
   "metadata": {},
   "outputs": [],
   "source": [
    "product23.click()"
   ]
  },
  {
   "cell_type": "code",
   "execution_count": 222,
   "id": "53f2e3ca",
   "metadata": {},
   "outputs": [],
   "source": [
    "driver.execute_script(\"document.body.style.zoom='25%'\")"
   ]
  },
  {
   "cell_type": "code",
   "execution_count": 223,
   "id": "ac4b3976",
   "metadata": {},
   "outputs": [],
   "source": [
    "data = driver.page_source"
   ]
  },
  {
   "cell_type": "code",
   "execution_count": 224,
   "id": "7618179b",
   "metadata": {},
   "outputs": [],
   "source": [
    "soup = bs4.BeautifulSoup(data)"
   ]
  },
  {
   "cell_type": "code",
   "execution_count": 225,
   "id": "40f9510e",
   "metadata": {},
   "outputs": [],
   "source": [
    "product23_score = soup.find_all('div',{'class':'flex items-center'})"
   ]
  },
  {
   "cell_type": "code",
   "execution_count": 226,
   "id": "a6c5f1e1",
   "metadata": {},
   "outputs": [
    {
     "data": {
      "text/plain": [
       "['จำนวน 1มีสินค้าทั้งหมด 167 ชิ้น']"
      ]
     },
     "execution_count": 226,
     "metadata": {},
     "output_type": "execute_result"
    }
   ],
   "source": [
    "product23_score_list = []\n",
    "for product in product23_score:\n",
    "    text = product.text.strip()\n",
    "    if text:\n",
    "        product23_score_list.append(text)\n",
    "product23_score_list = product23_score_list[2]\n",
    "product23_score_list = product23_score_list.split('\\n')\n",
    "product23_score_list"
   ]
  },
  {
   "cell_type": "code",
   "execution_count": 227,
   "id": "bd384c92",
   "metadata": {},
   "outputs": [],
   "source": [
    "driver.back()"
   ]
  },
  {
   "cell_type": "code",
   "execution_count": 228,
   "id": "74699913",
   "metadata": {},
   "outputs": [],
   "source": [
    "driver.execute_script(\"document.body.style.zoom='100%'\")"
   ]
  },
  {
   "cell_type": "code",
   "execution_count": 229,
   "id": "e205f293",
   "metadata": {},
   "outputs": [],
   "source": [
    "product24 = driver.find_element(\"xpath\",'/html/body/div[1]/div/div[2]/div/div/div[2]/section/ul/li[24]/a/div/div')"
   ]
  },
  {
   "cell_type": "code",
   "execution_count": 230,
   "id": "f92c777f",
   "metadata": {},
   "outputs": [],
   "source": [
    "product24.click()"
   ]
  },
  {
   "cell_type": "code",
   "execution_count": 231,
   "id": "373d309b",
   "metadata": {},
   "outputs": [],
   "source": [
    "driver.execute_script(\"document.body.style.zoom='25%'\")"
   ]
  },
  {
   "cell_type": "code",
   "execution_count": 232,
   "id": "6de756eb",
   "metadata": {},
   "outputs": [],
   "source": [
    "data = driver.page_source"
   ]
  },
  {
   "cell_type": "code",
   "execution_count": 233,
   "id": "59ce5a4e",
   "metadata": {},
   "outputs": [],
   "source": [
    "soup = bs4.BeautifulSoup(data)"
   ]
  },
  {
   "cell_type": "code",
   "execution_count": 234,
   "id": "681227c5",
   "metadata": {},
   "outputs": [],
   "source": [
    "product24_score = soup.find_all('div',{'class':'flex items-center'})"
   ]
  },
  {
   "cell_type": "code",
   "execution_count": 235,
   "id": "c0da9157",
   "metadata": {},
   "outputs": [
    {
     "data": {
      "text/plain": [
       "['จำนวน 1มีสินค้าทั้งหมด 79 ชิ้น']"
      ]
     },
     "execution_count": 235,
     "metadata": {},
     "output_type": "execute_result"
    }
   ],
   "source": [
    "product24_score_list = []\n",
    "for product in product24_score:\n",
    "    text = product.text.strip()\n",
    "    if text:\n",
    "        product24_score_list.append(text)\n",
    "product24_score_list = product24_score_list[2]\n",
    "product24_score_list = product24_score_list.split('\\n')\n",
    "product24_score_list"
   ]
  },
  {
   "cell_type": "code",
   "execution_count": 236,
   "id": "4e70c5a3",
   "metadata": {},
   "outputs": [],
   "source": [
    "driver.back()"
   ]
  },
  {
   "cell_type": "code",
   "execution_count": 237,
   "id": "21572c08",
   "metadata": {},
   "outputs": [],
   "source": [
    "driver.execute_script(\"document.body.style.zoom='100%'\")"
   ]
  },
  {
   "cell_type": "code",
   "execution_count": 238,
   "id": "038628ce",
   "metadata": {},
   "outputs": [],
   "source": [
    "product25 = driver.find_element(\"xpath\",'/html/body/div[1]/div/div[2]/div/div/div[2]/section/ul/li[25]/a/div/div')"
   ]
  },
  {
   "cell_type": "code",
   "execution_count": 239,
   "id": "2d2a7da3",
   "metadata": {},
   "outputs": [],
   "source": [
    "product25.click()"
   ]
  },
  {
   "cell_type": "code",
   "execution_count": 240,
   "id": "1492c947",
   "metadata": {},
   "outputs": [],
   "source": [
    "driver.execute_script(\"document.body.style.zoom='25%'\")"
   ]
  },
  {
   "cell_type": "code",
   "execution_count": 241,
   "id": "6d79fa1f",
   "metadata": {},
   "outputs": [],
   "source": [
    "data = driver.page_source"
   ]
  },
  {
   "cell_type": "code",
   "execution_count": 242,
   "id": "a5637b16",
   "metadata": {},
   "outputs": [],
   "source": [
    "soup = bs4.BeautifulSoup(data)"
   ]
  },
  {
   "cell_type": "code",
   "execution_count": 243,
   "id": "8377c5c2",
   "metadata": {},
   "outputs": [],
   "source": [
    "product25_score = soup.find_all('div',{'class':'flex items-center'})"
   ]
  },
  {
   "cell_type": "code",
   "execution_count": 244,
   "id": "5f2883f5",
   "metadata": {},
   "outputs": [
    {
     "data": {
      "text/plain": [
       "['จำนวน 1มีสินค้าทั้งหมด 234 ชิ้น']"
      ]
     },
     "execution_count": 244,
     "metadata": {},
     "output_type": "execute_result"
    }
   ],
   "source": [
    "product25_score_list = []\n",
    "for product in product25_score:\n",
    "    text = product.text.strip()\n",
    "    if text:\n",
    "        product25_score_list.append(text)\n",
    "product25_score_list = product25_score_list[2]\n",
    "product25_score_list = product25_score_list.split('\\n')\n",
    "product25_score_list"
   ]
  },
  {
   "cell_type": "code",
   "execution_count": 245,
   "id": "060fa1e4",
   "metadata": {},
   "outputs": [],
   "source": [
    "driver.back()"
   ]
  },
  {
   "cell_type": "code",
   "execution_count": 246,
   "id": "7e09c1d3",
   "metadata": {},
   "outputs": [],
   "source": [
    "driver.execute_script(\"document.body.style.zoom='100%'\")"
   ]
  },
  {
   "cell_type": "code",
   "execution_count": 247,
   "id": "de343d90",
   "metadata": {},
   "outputs": [],
   "source": [
    "product26 = driver.find_element(\"xpath\",'/html/body/div[1]/div/div[2]/div/div/div[2]/section/ul/li[26]/a/div/div')"
   ]
  },
  {
   "cell_type": "code",
   "execution_count": 248,
   "id": "becad6a1",
   "metadata": {},
   "outputs": [],
   "source": [
    "product26.click()"
   ]
  },
  {
   "cell_type": "code",
   "execution_count": 249,
   "id": "148abb58",
   "metadata": {},
   "outputs": [],
   "source": [
    "driver.execute_script(\"document.body.style.zoom='25%'\")"
   ]
  },
  {
   "cell_type": "code",
   "execution_count": 250,
   "id": "789ce1bf",
   "metadata": {},
   "outputs": [],
   "source": [
    "data = driver.page_source"
   ]
  },
  {
   "cell_type": "code",
   "execution_count": 251,
   "id": "c16fc596",
   "metadata": {},
   "outputs": [],
   "source": [
    "soup = bs4.BeautifulSoup(data)"
   ]
  },
  {
   "cell_type": "code",
   "execution_count": 252,
   "id": "f8c3e109",
   "metadata": {},
   "outputs": [],
   "source": [
    "product26_score = soup.find_all('div',{'class':'flex items-center'})"
   ]
  },
  {
   "cell_type": "code",
   "execution_count": 253,
   "id": "8b237d4b",
   "metadata": {},
   "outputs": [
    {
     "data": {
      "text/plain": [
       "['จำนวน 1มีสินค้าทั้งหมด 96 ชิ้น']"
      ]
     },
     "execution_count": 253,
     "metadata": {},
     "output_type": "execute_result"
    }
   ],
   "source": [
    "product26_score_list = []\n",
    "for product in product26_score:\n",
    "    text = product.text.strip()\n",
    "    if text:\n",
    "        product26_score_list.append(text)\n",
    "product26_score_list = product26_score_list[2]\n",
    "product26_score_list = product26_score_list.split('\\n')\n",
    "product26_score_list"
   ]
  },
  {
   "cell_type": "code",
   "execution_count": 254,
   "id": "a51ceb0e",
   "metadata": {},
   "outputs": [],
   "source": [
    "driver.back()"
   ]
  },
  {
   "cell_type": "code",
   "execution_count": 255,
   "id": "25d78224",
   "metadata": {},
   "outputs": [],
   "source": [
    "driver.execute_script(\"document.body.style.zoom='100%'\")"
   ]
  },
  {
   "cell_type": "code",
   "execution_count": 256,
   "id": "bba26e64",
   "metadata": {},
   "outputs": [],
   "source": [
    "product27 = driver.find_element(\"xpath\",'/html/body/div[1]/div/div[2]/div/div/div[2]/section/ul/li[27]/a/div/div')"
   ]
  },
  {
   "cell_type": "code",
   "execution_count": 257,
   "id": "21f1b2f6",
   "metadata": {},
   "outputs": [],
   "source": [
    "product27.click()"
   ]
  },
  {
   "cell_type": "code",
   "execution_count": 258,
   "id": "5e63fc24",
   "metadata": {},
   "outputs": [],
   "source": [
    "driver.execute_script(\"document.body.style.zoom='25%'\")"
   ]
  },
  {
   "cell_type": "code",
   "execution_count": 259,
   "id": "76a93b9d",
   "metadata": {},
   "outputs": [],
   "source": [
    "data = driver.page_source"
   ]
  },
  {
   "cell_type": "code",
   "execution_count": 260,
   "id": "a116ac9e",
   "metadata": {},
   "outputs": [],
   "source": [
    "soup = bs4.BeautifulSoup(data)"
   ]
  },
  {
   "cell_type": "code",
   "execution_count": 261,
   "id": "6c118d75",
   "metadata": {},
   "outputs": [],
   "source": [
    "product27_score = soup.find_all('div',{'class':'flex items-center'})"
   ]
  },
  {
   "cell_type": "code",
   "execution_count": 262,
   "id": "dab30524",
   "metadata": {},
   "outputs": [
    {
     "data": {
      "text/plain": [
       "['จำนวน 1มีสินค้าทั้งหมด 113 ชิ้น']"
      ]
     },
     "execution_count": 262,
     "metadata": {},
     "output_type": "execute_result"
    }
   ],
   "source": [
    "product27_score_list = []\n",
    "for product in product27_score:\n",
    "    text = product.text.strip()\n",
    "    if text:\n",
    "        product27_score_list.append(text)\n",
    "product27_score_list = product27_score_list[2]\n",
    "product27_score_list = product27_score_list.split('\\n')\n",
    "product27_score_list"
   ]
  },
  {
   "cell_type": "code",
   "execution_count": 263,
   "id": "eb5a4aa3",
   "metadata": {},
   "outputs": [],
   "source": [
    "driver.back()"
   ]
  },
  {
   "cell_type": "code",
   "execution_count": 264,
   "id": "344904b2",
   "metadata": {},
   "outputs": [],
   "source": [
    "driver.execute_script(\"document.body.style.zoom='100%'\")"
   ]
  },
  {
   "cell_type": "code",
   "execution_count": 265,
   "id": "f77c0fd4",
   "metadata": {},
   "outputs": [],
   "source": [
    "product28 = driver.find_element(\"xpath\",'/html/body/div[1]/div/div[2]/div/div/div[2]/section/ul/li[28]/a/div/div')"
   ]
  },
  {
   "cell_type": "code",
   "execution_count": 266,
   "id": "78ed03ea",
   "metadata": {},
   "outputs": [],
   "source": [
    "product28.click()"
   ]
  },
  {
   "cell_type": "code",
   "execution_count": 267,
   "id": "688e30fe",
   "metadata": {},
   "outputs": [],
   "source": [
    "driver.execute_script(\"document.body.style.zoom='25%'\")"
   ]
  },
  {
   "cell_type": "code",
   "execution_count": 268,
   "id": "dc2461f0",
   "metadata": {},
   "outputs": [],
   "source": [
    "data = driver.page_source"
   ]
  },
  {
   "cell_type": "code",
   "execution_count": 269,
   "id": "14b62767",
   "metadata": {},
   "outputs": [],
   "source": [
    "soup = bs4.BeautifulSoup(data)"
   ]
  },
  {
   "cell_type": "code",
   "execution_count": 270,
   "id": "67f08e69",
   "metadata": {},
   "outputs": [],
   "source": [
    "product28_score = soup.find_all('div',{'class':'flex items-center'})"
   ]
  },
  {
   "cell_type": "code",
   "execution_count": 271,
   "id": "d1338a27",
   "metadata": {},
   "outputs": [
    {
     "data": {
      "text/plain": [
       "['จำนวน 1มีสินค้าทั้งหมด 37 ชิ้น']"
      ]
     },
     "execution_count": 271,
     "metadata": {},
     "output_type": "execute_result"
    }
   ],
   "source": [
    "product28_score_list = []\n",
    "for product in product28_score:\n",
    "    text = product.text.strip()\n",
    "    if text:\n",
    "        product28_score_list.append(text)\n",
    "product28_score_list = product28_score_list[2]\n",
    "product28_score_list = product28_score_list.split('\\n')\n",
    "product28_score_list"
   ]
  },
  {
   "cell_type": "code",
   "execution_count": 272,
   "id": "12a82437",
   "metadata": {},
   "outputs": [],
   "source": [
    "driver.back()"
   ]
  },
  {
   "cell_type": "code",
   "execution_count": 273,
   "id": "2b148a3b",
   "metadata": {},
   "outputs": [],
   "source": [
    "driver.execute_script(\"document.body.style.zoom='100%'\")"
   ]
  },
  {
   "cell_type": "code",
   "execution_count": 274,
   "id": "603e161e",
   "metadata": {},
   "outputs": [],
   "source": [
    "product29 = driver.find_element(\"xpath\",'/html/body/div[1]/div/div[2]/div/div/div[2]/section/ul/li[29]/a/div/div')"
   ]
  },
  {
   "cell_type": "code",
   "execution_count": 275,
   "id": "1035b0c8",
   "metadata": {},
   "outputs": [],
   "source": [
    "product29.click()"
   ]
  },
  {
   "cell_type": "code",
   "execution_count": 276,
   "id": "879b2376",
   "metadata": {},
   "outputs": [],
   "source": [
    "driver.execute_script(\"document.body.style.zoom='25%'\")"
   ]
  },
  {
   "cell_type": "code",
   "execution_count": 277,
   "id": "513ec936",
   "metadata": {},
   "outputs": [],
   "source": [
    "data = driver.page_source"
   ]
  },
  {
   "cell_type": "code",
   "execution_count": 278,
   "id": "aa97fa54",
   "metadata": {},
   "outputs": [],
   "source": [
    "soup = bs4.BeautifulSoup(data)"
   ]
  },
  {
   "cell_type": "code",
   "execution_count": 279,
   "id": "74230ec3",
   "metadata": {},
   "outputs": [],
   "source": [
    "product29_score = soup.find_all('div',{'class':'flex items-center'})"
   ]
  },
  {
   "cell_type": "code",
   "execution_count": 280,
   "id": "a844b06d",
   "metadata": {},
   "outputs": [
    {
     "data": {
      "text/plain": [
       "['จำนวน 1มีสินค้าทั้งหมด 98 ชิ้น']"
      ]
     },
     "execution_count": 280,
     "metadata": {},
     "output_type": "execute_result"
    }
   ],
   "source": [
    "product29_score_list = []\n",
    "for product in product29_score:\n",
    "    text = product.text.strip()\n",
    "    if text:\n",
    "        product29_score_list.append(text)\n",
    "product29_score_list = product29_score_list[2]\n",
    "product29_score_list = product29_score_list.split('\\n')\n",
    "product29_score_list"
   ]
  },
  {
   "cell_type": "code",
   "execution_count": 281,
   "id": "4c435015",
   "metadata": {},
   "outputs": [],
   "source": [
    "driver.back()"
   ]
  },
  {
   "cell_type": "code",
   "execution_count": 282,
   "id": "5db87291",
   "metadata": {},
   "outputs": [],
   "source": [
    "driver.execute_script(\"document.body.style.zoom='100%'\")"
   ]
  },
  {
   "cell_type": "code",
   "execution_count": 283,
   "id": "9d6be28d",
   "metadata": {},
   "outputs": [],
   "source": [
    "product30 = driver.find_element(\"xpath\",'/html/body/div[1]/div/div[2]/div/div/div[2]/section/ul/li[30]/a/div/div')"
   ]
  },
  {
   "cell_type": "code",
   "execution_count": 284,
   "id": "41dac48b",
   "metadata": {},
   "outputs": [],
   "source": [
    "product30.click()"
   ]
  },
  {
   "cell_type": "code",
   "execution_count": 285,
   "id": "9b13c5b2",
   "metadata": {},
   "outputs": [],
   "source": [
    "driver.execute_script(\"document.body.style.zoom='25%'\")"
   ]
  },
  {
   "cell_type": "code",
   "execution_count": 286,
   "id": "aa8650de",
   "metadata": {},
   "outputs": [],
   "source": [
    "data = driver.page_source"
   ]
  },
  {
   "cell_type": "code",
   "execution_count": 287,
   "id": "b58f83ff",
   "metadata": {},
   "outputs": [],
   "source": [
    "soup = bs4.BeautifulSoup(data)"
   ]
  },
  {
   "cell_type": "code",
   "execution_count": 288,
   "id": "0668eecd",
   "metadata": {},
   "outputs": [],
   "source": [
    "product30_score = soup.find_all('div',{'class':'flex items-center'})"
   ]
  },
  {
   "cell_type": "code",
   "execution_count": 289,
   "id": "3d564fc2",
   "metadata": {},
   "outputs": [
    {
     "data": {
      "text/plain": [
       "['จำนวน 1มีสินค้าทั้งหมด 599 ชิ้น']"
      ]
     },
     "execution_count": 289,
     "metadata": {},
     "output_type": "execute_result"
    }
   ],
   "source": [
    "product30_score_list = []\n",
    "for product in product30_score:\n",
    "    text = product.text.strip()\n",
    "    if text:\n",
    "        product30_score_list.append(text)\n",
    "product30_score_list = product30_score_list[2]\n",
    "product30_score_list = product30_score_list.split('\\n')\n",
    "product30_score_list"
   ]
  },
  {
   "cell_type": "code",
   "execution_count": 290,
   "id": "66db1f02",
   "metadata": {},
   "outputs": [],
   "source": [
    "driver.back()"
   ]
  },
  {
   "cell_type": "code",
   "execution_count": 291,
   "id": "0104136a",
   "metadata": {},
   "outputs": [],
   "source": [
    "driver.execute_script(\"document.body.style.zoom='100%'\")"
   ]
  },
  {
   "cell_type": "code",
   "execution_count": 292,
   "id": "d314691c",
   "metadata": {},
   "outputs": [],
   "source": [
    "product31 = driver.find_element(\"xpath\",'/html/body/div[1]/div/div[2]/div/div/div[2]/section/ul/li[31]/a/div/div')"
   ]
  },
  {
   "cell_type": "code",
   "execution_count": 293,
   "id": "2bae0c05",
   "metadata": {},
   "outputs": [],
   "source": [
    "product31.click()"
   ]
  },
  {
   "cell_type": "code",
   "execution_count": 294,
   "id": "73314540",
   "metadata": {},
   "outputs": [],
   "source": [
    "driver.execute_script(\"document.body.style.zoom='25%'\")"
   ]
  },
  {
   "cell_type": "code",
   "execution_count": 295,
   "id": "ad747cf6",
   "metadata": {},
   "outputs": [],
   "source": [
    "data = driver.page_source"
   ]
  },
  {
   "cell_type": "code",
   "execution_count": 296,
   "id": "5931f4bb",
   "metadata": {},
   "outputs": [],
   "source": [
    "soup = bs4.BeautifulSoup(data)"
   ]
  },
  {
   "cell_type": "code",
   "execution_count": 297,
   "id": "d67e9ee6",
   "metadata": {},
   "outputs": [],
   "source": [
    "product31_score = soup.find_all('div',{'class':'flex items-center'})"
   ]
  },
  {
   "cell_type": "code",
   "execution_count": 298,
   "id": "afb13a5f",
   "metadata": {},
   "outputs": [
    {
     "data": {
      "text/plain": [
       "['จำนวน 1มีสินค้าทั้งหมด 111 ชิ้น']"
      ]
     },
     "execution_count": 298,
     "metadata": {},
     "output_type": "execute_result"
    }
   ],
   "source": [
    "product31_score_list = []\n",
    "for product in product31_score:\n",
    "    text = product.text.strip()\n",
    "    if text:\n",
    "        product31_score_list.append(text)\n",
    "product31_score_list = product31_score_list[2]\n",
    "product31_score_list = product31_score_list.split('\\n')\n",
    "product31_score_list"
   ]
  },
  {
   "cell_type": "code",
   "execution_count": 299,
   "id": "75d04fc3",
   "metadata": {},
   "outputs": [],
   "source": [
    "driver.back()"
   ]
  },
  {
   "cell_type": "code",
   "execution_count": 300,
   "id": "3cf78eed",
   "metadata": {},
   "outputs": [],
   "source": [
    "driver.execute_script(\"document.body.style.zoom='100%'\")"
   ]
  },
  {
   "cell_type": "code",
   "execution_count": 301,
   "id": "91513daf",
   "metadata": {},
   "outputs": [],
   "source": [
    "product32 = driver.find_element(\"xpath\",'/html/body/div[1]/div/div[2]/div/div/div[2]/section/ul/li[32]/a/div/div')"
   ]
  },
  {
   "cell_type": "code",
   "execution_count": 302,
   "id": "4bff4a6f",
   "metadata": {},
   "outputs": [],
   "source": [
    "product32.click()"
   ]
  },
  {
   "cell_type": "code",
   "execution_count": 303,
   "id": "e7552c03",
   "metadata": {},
   "outputs": [],
   "source": [
    "driver.execute_script(\"document.body.style.zoom='25%'\")"
   ]
  },
  {
   "cell_type": "code",
   "execution_count": 304,
   "id": "9528bb5f",
   "metadata": {},
   "outputs": [],
   "source": [
    "data = driver.page_source"
   ]
  },
  {
   "cell_type": "code",
   "execution_count": 305,
   "id": "d068fd10",
   "metadata": {},
   "outputs": [],
   "source": [
    "soup = bs4.BeautifulSoup(data)"
   ]
  },
  {
   "cell_type": "code",
   "execution_count": 306,
   "id": "8b52d334",
   "metadata": {},
   "outputs": [],
   "source": [
    "product32_score = soup.find_all('div',{'class':'flex items-center'})"
   ]
  },
  {
   "cell_type": "code",
   "execution_count": 307,
   "id": "7dae91c8",
   "metadata": {},
   "outputs": [
    {
     "data": {
      "text/plain": [
       "['จำนวน 1มีสินค้าทั้งหมด 409 ชิ้น']"
      ]
     },
     "execution_count": 307,
     "metadata": {},
     "output_type": "execute_result"
    }
   ],
   "source": [
    "product32_score_list = []\n",
    "for product in product32_score:\n",
    "    text = product.text.strip()\n",
    "    if text:\n",
    "        product32_score_list.append(text)\n",
    "product32_score_list = product32_score_list[2]\n",
    "product32_score_list = product32_score_list.split('\\n')\n",
    "product32_score_list"
   ]
  },
  {
   "cell_type": "code",
   "execution_count": 308,
   "id": "74465e85",
   "metadata": {},
   "outputs": [],
   "source": [
    "driver.back()"
   ]
  },
  {
   "cell_type": "code",
   "execution_count": 309,
   "id": "27ba0cce",
   "metadata": {},
   "outputs": [],
   "source": [
    "driver.execute_script(\"document.body.style.zoom='100%'\")"
   ]
  },
  {
   "cell_type": "code",
   "execution_count": 310,
   "id": "3fa35e72",
   "metadata": {},
   "outputs": [],
   "source": [
    "product33 = driver.find_element(\"xpath\",'/html/body/div[1]/div/div[2]/div/div/div[2]/section/ul/li[33]/a/div/div')"
   ]
  },
  {
   "cell_type": "code",
   "execution_count": 311,
   "id": "fc739bb8",
   "metadata": {},
   "outputs": [],
   "source": [
    "product33.click()"
   ]
  },
  {
   "cell_type": "code",
   "execution_count": 312,
   "id": "ab364496",
   "metadata": {},
   "outputs": [],
   "source": [
    "driver.execute_script(\"document.body.style.zoom='25%'\")"
   ]
  },
  {
   "cell_type": "code",
   "execution_count": 313,
   "id": "6c19f88e",
   "metadata": {},
   "outputs": [],
   "source": [
    "data = driver.page_source"
   ]
  },
  {
   "cell_type": "code",
   "execution_count": 314,
   "id": "c68a92bc",
   "metadata": {},
   "outputs": [],
   "source": [
    "soup = bs4.BeautifulSoup(data)"
   ]
  },
  {
   "cell_type": "code",
   "execution_count": 315,
   "id": "5d408c49",
   "metadata": {},
   "outputs": [],
   "source": [
    "product33_score = soup.find_all('div',{'class':'flex items-center'})"
   ]
  },
  {
   "cell_type": "code",
   "execution_count": 316,
   "id": "d097aa75",
   "metadata": {},
   "outputs": [
    {
     "data": {
      "text/plain": [
       "['จำนวน 1มีสินค้าทั้งหมด 471 ชิ้น']"
      ]
     },
     "execution_count": 316,
     "metadata": {},
     "output_type": "execute_result"
    }
   ],
   "source": [
    "product33_score_list = []\n",
    "for product in product33_score:\n",
    "    text = product.text.strip()\n",
    "    if text:\n",
    "        product33_score_list.append(text)\n",
    "product33_score_list = product33_score_list[2]\n",
    "product33_score_list = product33_score_list.split('\\n')\n",
    "product33_score_list"
   ]
  },
  {
   "cell_type": "code",
   "execution_count": 389,
   "id": "8a5f4911",
   "metadata": {},
   "outputs": [],
   "source": [
    "driver.back()"
   ]
  },
  {
   "cell_type": "code",
   "execution_count": 390,
   "id": "bbf5a8ce",
   "metadata": {},
   "outputs": [],
   "source": [
    "driver.execute_script(\"document.body.style.zoom='100%'\")"
   ]
  },
  {
   "cell_type": "code",
   "execution_count": 391,
   "id": "95181fc4",
   "metadata": {},
   "outputs": [],
   "source": [
    "product34 = driver.find_element(\"xpath\",'/html/body/div[1]/div/div[2]/div/div/div[2]/section/ul/li[34]/a/div/div')"
   ]
  },
  {
   "cell_type": "code",
   "execution_count": 392,
   "id": "f4a380d6",
   "metadata": {},
   "outputs": [],
   "source": [
    "product34.click()"
   ]
  },
  {
   "cell_type": "code",
   "execution_count": 393,
   "id": "8da9704d",
   "metadata": {},
   "outputs": [],
   "source": [
    "driver.execute_script(\"document.body.style.zoom='25%'\")"
   ]
  },
  {
   "cell_type": "code",
   "execution_count": 322,
   "id": "d1b953f6",
   "metadata": {},
   "outputs": [],
   "source": [
    "data = driver.page_source"
   ]
  },
  {
   "cell_type": "code",
   "execution_count": 323,
   "id": "3d964840",
   "metadata": {},
   "outputs": [],
   "source": [
    "soup = bs4.BeautifulSoup(data)"
   ]
  },
  {
   "cell_type": "code",
   "execution_count": 324,
   "id": "c7574535",
   "metadata": {},
   "outputs": [],
   "source": [
    "product34_score = soup.find_all('div',{'class':'flex items-center'})"
   ]
  },
  {
   "cell_type": "code",
   "execution_count": 325,
   "id": "7452b0f7",
   "metadata": {},
   "outputs": [
    {
     "data": {
      "text/plain": [
       "['จำนวน 1มีสินค้าทั้งหมด 320 ชิ้น']"
      ]
     },
     "execution_count": 325,
     "metadata": {},
     "output_type": "execute_result"
    }
   ],
   "source": [
    "product34_score_list = []\n",
    "for product in product34_score:\n",
    "    text = product.text.strip()\n",
    "    if text:\n",
    "        product34_score_list.append(text)\n",
    "product34_score_list = product34_score_list[2]\n",
    "product34_score_list = product34_score_list.split('\\n')\n",
    "product34_score_list"
   ]
  },
  {
   "cell_type": "code",
   "execution_count": 394,
   "id": "575d7119",
   "metadata": {},
   "outputs": [],
   "source": [
    "driver.back()"
   ]
  },
  {
   "cell_type": "code",
   "execution_count": 395,
   "id": "f15375bd",
   "metadata": {},
   "outputs": [],
   "source": [
    "driver.execute_script(\"document.body.style.zoom='100%'\")"
   ]
  },
  {
   "cell_type": "code",
   "execution_count": 396,
   "id": "cb43ae96",
   "metadata": {},
   "outputs": [],
   "source": [
    "product35 = driver.find_element(\"xpath\",'/html/body/div[1]/div/div[2]/div/div/div[2]/section/ul/li[35]/a/div/div')"
   ]
  },
  {
   "cell_type": "code",
   "execution_count": 397,
   "id": "eec4405f",
   "metadata": {},
   "outputs": [],
   "source": [
    "product35.click()"
   ]
  },
  {
   "cell_type": "code",
   "execution_count": 398,
   "id": "ee55b0c7",
   "metadata": {},
   "outputs": [],
   "source": [
    "driver.execute_script(\"document.body.style.zoom='25%'\")"
   ]
  },
  {
   "cell_type": "code",
   "execution_count": 399,
   "id": "6d5fe97d",
   "metadata": {},
   "outputs": [],
   "source": [
    "data = driver.page_source"
   ]
  },
  {
   "cell_type": "code",
   "execution_count": 400,
   "id": "2b5c1293",
   "metadata": {},
   "outputs": [],
   "source": [
    "soup = bs4.BeautifulSoup(data)"
   ]
  },
  {
   "cell_type": "code",
   "execution_count": 401,
   "id": "c0774999",
   "metadata": {},
   "outputs": [],
   "source": [
    "product35_score = soup.find_all('div',{'class':'flex items-center'})"
   ]
  },
  {
   "cell_type": "code",
   "execution_count": 402,
   "id": "41cf11a3",
   "metadata": {},
   "outputs": [
    {
     "data": {
      "text/plain": [
       "['จำนวน 1มีสินค้าทั้งหมด 30 ชิ้น']"
      ]
     },
     "execution_count": 402,
     "metadata": {},
     "output_type": "execute_result"
    }
   ],
   "source": [
    "product35_score_list = []\n",
    "for product in product35_score:\n",
    "    text = product.text.strip()\n",
    "    if text:\n",
    "        product35_score_list.append(text)\n",
    "product35_score_list = product35_score_list[2]\n",
    "product35_score_list = product35_score_list.split('\\n')\n",
    "product35_score_list"
   ]
  },
  {
   "cell_type": "code",
   "execution_count": 348,
   "id": "c7af9720",
   "metadata": {},
   "outputs": [],
   "source": [
    "driver.back()"
   ]
  },
  {
   "cell_type": "code",
   "execution_count": 327,
   "id": "c57f2f00",
   "metadata": {},
   "outputs": [],
   "source": [
    "driver.execute_script(\"document.body.style.zoom='100%'\")"
   ]
  },
  {
   "cell_type": "code",
   "execution_count": 328,
   "id": "67962c04",
   "metadata": {},
   "outputs": [],
   "source": [
    "product36 = driver.find_element(\"xpath\",'/html/body/div[1]/div/div[2]/div/div/div[2]/section/ul/li[36]/a/div/div')"
   ]
  },
  {
   "cell_type": "code",
   "execution_count": 329,
   "id": "03ee13b3",
   "metadata": {},
   "outputs": [],
   "source": [
    "product36.click()"
   ]
  },
  {
   "cell_type": "code",
   "execution_count": 330,
   "id": "dfb7b1de",
   "metadata": {},
   "outputs": [],
   "source": [
    "driver.execute_script(\"document.body.style.zoom='25%'\")"
   ]
  },
  {
   "cell_type": "code",
   "execution_count": 331,
   "id": "5e8e9025",
   "metadata": {},
   "outputs": [],
   "source": [
    "data = driver.page_source"
   ]
  },
  {
   "cell_type": "code",
   "execution_count": 332,
   "id": "0cd5fafa",
   "metadata": {},
   "outputs": [],
   "source": [
    "soup = bs4.BeautifulSoup(data)"
   ]
  },
  {
   "cell_type": "code",
   "execution_count": 333,
   "id": "d67e8ed8",
   "metadata": {},
   "outputs": [],
   "source": [
    "product36_score = soup.find_all('div',{'class':'flex items-center'})"
   ]
  },
  {
   "cell_type": "code",
   "execution_count": 334,
   "id": "5f5c10ef",
   "metadata": {},
   "outputs": [
    {
     "data": {
      "text/plain": [
       "['จำนวน 1มีสินค้าทั้งหมด 202 ชิ้น']"
      ]
     },
     "execution_count": 334,
     "metadata": {},
     "output_type": "execute_result"
    }
   ],
   "source": [
    "product36_score_list = []\n",
    "for product in product36_score:\n",
    "    text = product.text.strip()\n",
    "    if text:\n",
    "        product36_score_list.append(text)\n",
    "product36_score_list = product36_score_list[2]\n",
    "product36_score_list = product36_score_list.split('\\n')\n",
    "product36_score_list"
   ]
  },
  {
   "cell_type": "code",
   "execution_count": 335,
   "id": "c86bd9f6",
   "metadata": {},
   "outputs": [],
   "source": [
    "driver.back()"
   ]
  },
  {
   "cell_type": "code",
   "execution_count": 336,
   "id": "5d212d1e",
   "metadata": {},
   "outputs": [],
   "source": [
    "driver.execute_script(\"document.body.style.zoom='100%'\")"
   ]
  },
  {
   "cell_type": "code",
   "execution_count": 337,
   "id": "3b121fbe",
   "metadata": {},
   "outputs": [],
   "source": [
    "product37 = driver.find_element(\"xpath\",'/html/body/div[1]/div/div[2]/div/div/div[2]/section/ul/li[37]/a/div/div')"
   ]
  },
  {
   "cell_type": "code",
   "execution_count": 338,
   "id": "70a4fa65",
   "metadata": {},
   "outputs": [],
   "source": [
    "product37.click()"
   ]
  },
  {
   "cell_type": "code",
   "execution_count": 339,
   "id": "99915343",
   "metadata": {},
   "outputs": [],
   "source": [
    "driver.execute_script(\"document.body.style.zoom='25%'\")"
   ]
  },
  {
   "cell_type": "code",
   "execution_count": 340,
   "id": "30fbf008",
   "metadata": {},
   "outputs": [],
   "source": [
    "data = driver.page_source"
   ]
  },
  {
   "cell_type": "code",
   "execution_count": 341,
   "id": "88b7af4e",
   "metadata": {},
   "outputs": [],
   "source": [
    "soup = bs4.BeautifulSoup(data)"
   ]
  },
  {
   "cell_type": "code",
   "execution_count": 342,
   "id": "cb2b27bd",
   "metadata": {},
   "outputs": [],
   "source": [
    "product37_score = soup.find_all('div',{'class':'flex items-center'})"
   ]
  },
  {
   "cell_type": "code",
   "execution_count": 343,
   "id": "ab0882bc",
   "metadata": {},
   "outputs": [
    {
     "data": {
      "text/plain": [
       "['จำนวน 1มีสินค้าทั้งหมด 207 ชิ้น']"
      ]
     },
     "execution_count": 343,
     "metadata": {},
     "output_type": "execute_result"
    }
   ],
   "source": [
    "product37_score_list = []\n",
    "for product in product37_score:\n",
    "    text = product.text.strip()\n",
    "    if text:\n",
    "        product37_score_list.append(text)\n",
    "product37_score_list = product37_score_list[2]\n",
    "product37_score_list = product37_score_list.split('\\n')\n",
    "product37_score_list"
   ]
  },
  {
   "cell_type": "code",
   "execution_count": 344,
   "id": "46308477",
   "metadata": {},
   "outputs": [],
   "source": [
    "driver.back()"
   ]
  },
  {
   "cell_type": "code",
   "execution_count": 345,
   "id": "ed7f28c2",
   "metadata": {},
   "outputs": [],
   "source": [
    "driver.execute_script(\"document.body.style.zoom='100%'\")"
   ]
  },
  {
   "cell_type": "code",
   "execution_count": 346,
   "id": "8adb495d",
   "metadata": {},
   "outputs": [],
   "source": [
    "product38 = driver.find_element(\"xpath\",'/html/body/div[1]/div/div[2]/div/div/div[2]/section/ul/li[38]/a/div/div')"
   ]
  },
  {
   "cell_type": "code",
   "execution_count": 347,
   "id": "6b902e24",
   "metadata": {},
   "outputs": [],
   "source": [
    "product38.click()"
   ]
  },
  {
   "cell_type": "code",
   "execution_count": 348,
   "id": "4d162241",
   "metadata": {},
   "outputs": [],
   "source": [
    "driver.execute_script(\"document.body.style.zoom='25%'\")"
   ]
  },
  {
   "cell_type": "code",
   "execution_count": 349,
   "id": "2853d780",
   "metadata": {},
   "outputs": [],
   "source": [
    "data = driver.page_source"
   ]
  },
  {
   "cell_type": "code",
   "execution_count": 350,
   "id": "86d4fd0b",
   "metadata": {},
   "outputs": [],
   "source": [
    "soup = bs4.BeautifulSoup(data)"
   ]
  },
  {
   "cell_type": "code",
   "execution_count": 351,
   "id": "b3f3bd70",
   "metadata": {},
   "outputs": [],
   "source": [
    "product38_score = soup.find_all('div',{'class':'flex items-center'})"
   ]
  },
  {
   "cell_type": "code",
   "execution_count": 352,
   "id": "5be1373c",
   "metadata": {},
   "outputs": [
    {
     "data": {
      "text/plain": [
       "['จำนวน 1มีสินค้าทั้งหมด 367 ชิ้น']"
      ]
     },
     "execution_count": 352,
     "metadata": {},
     "output_type": "execute_result"
    }
   ],
   "source": [
    "product38_score_list = []\n",
    "for product in product38_score:\n",
    "    text = product.text.strip()\n",
    "    if text:\n",
    "        product38_score_list.append(text)\n",
    "product38_score_list = product38_score_list[2]\n",
    "product38_score_list = product38_score_list.split('\\n')\n",
    "product38_score_list"
   ]
  },
  {
   "cell_type": "code",
   "execution_count": 353,
   "id": "6349907d",
   "metadata": {},
   "outputs": [],
   "source": [
    "driver.back()"
   ]
  },
  {
   "cell_type": "code",
   "execution_count": 354,
   "id": "dffdbb45",
   "metadata": {},
   "outputs": [],
   "source": [
    "driver.execute_script(\"document.body.style.zoom='100%'\")"
   ]
  },
  {
   "cell_type": "code",
   "execution_count": 355,
   "id": "9a2a4da3",
   "metadata": {},
   "outputs": [],
   "source": [
    "product39 = driver.find_element(\"xpath\",'/html/body/div[1]/div/div[2]/div/div/div[2]/section/ul/li[39]/a/div/div')"
   ]
  },
  {
   "cell_type": "code",
   "execution_count": 356,
   "id": "bde7ecb0",
   "metadata": {},
   "outputs": [],
   "source": [
    "product39.click()"
   ]
  },
  {
   "cell_type": "code",
   "execution_count": 357,
   "id": "1677313b",
   "metadata": {},
   "outputs": [],
   "source": [
    "driver.execute_script(\"document.body.style.zoom='25%'\")"
   ]
  },
  {
   "cell_type": "code",
   "execution_count": 358,
   "id": "f00f012a",
   "metadata": {},
   "outputs": [],
   "source": [
    "data = driver.page_source"
   ]
  },
  {
   "cell_type": "code",
   "execution_count": 359,
   "id": "3b9a84bc",
   "metadata": {},
   "outputs": [],
   "source": [
    "soup = bs4.BeautifulSoup(data)"
   ]
  },
  {
   "cell_type": "code",
   "execution_count": 360,
   "id": "79734a76",
   "metadata": {},
   "outputs": [],
   "source": [
    "product39_score = soup.find_all('div',{'class':'flex items-center'})"
   ]
  },
  {
   "cell_type": "code",
   "execution_count": 361,
   "id": "86dc5b95",
   "metadata": {},
   "outputs": [
    {
     "data": {
      "text/plain": [
       "['จำนวน 1มีสินค้าทั้งหมด 118 ชิ้น']"
      ]
     },
     "execution_count": 361,
     "metadata": {},
     "output_type": "execute_result"
    }
   ],
   "source": [
    "product39_score_list = []\n",
    "for product in product39_score:\n",
    "    text = product.text.strip()\n",
    "    if text:\n",
    "        product39_score_list.append(text)\n",
    "product39_score_list = product39_score_list[2]\n",
    "product39_score_list = product39_score_list.split('\\n')\n",
    "product39_score_list"
   ]
  },
  {
   "cell_type": "code",
   "execution_count": 362,
   "id": "73c74fd9",
   "metadata": {},
   "outputs": [],
   "source": [
    "driver.back()"
   ]
  },
  {
   "cell_type": "code",
   "execution_count": 363,
   "id": "09d6683d",
   "metadata": {},
   "outputs": [],
   "source": [
    "driver.execute_script(\"document.body.style.zoom='100%'\")"
   ]
  },
  {
   "cell_type": "code",
   "execution_count": 364,
   "id": "67060f90",
   "metadata": {},
   "outputs": [],
   "source": [
    "product40 = driver.find_element(\"xpath\",'/html/body/div[1]/div/div[2]/div/div/div[2]/section/ul/li[40]/a/div/div')"
   ]
  },
  {
   "cell_type": "code",
   "execution_count": 365,
   "id": "52ad05e6",
   "metadata": {},
   "outputs": [],
   "source": [
    "product40.click()"
   ]
  },
  {
   "cell_type": "code",
   "execution_count": 366,
   "id": "14ced55b",
   "metadata": {},
   "outputs": [],
   "source": [
    "driver.execute_script(\"document.body.style.zoom='25%'\")"
   ]
  },
  {
   "cell_type": "code",
   "execution_count": 367,
   "id": "e12c2c76",
   "metadata": {},
   "outputs": [],
   "source": [
    "data = driver.page_source"
   ]
  },
  {
   "cell_type": "code",
   "execution_count": 368,
   "id": "11e1ca4b",
   "metadata": {},
   "outputs": [],
   "source": [
    "soup = bs4.BeautifulSoup(data)"
   ]
  },
  {
   "cell_type": "code",
   "execution_count": 369,
   "id": "f6a25125",
   "metadata": {},
   "outputs": [],
   "source": [
    "product40_score = soup.find_all('div',{'class':'flex items-center'})"
   ]
  },
  {
   "cell_type": "code",
   "execution_count": 370,
   "id": "557f471d",
   "metadata": {},
   "outputs": [
    {
     "data": {
      "text/plain": [
       "['จำนวน 1มีสินค้าทั้งหมด 278 ชิ้น']"
      ]
     },
     "execution_count": 370,
     "metadata": {},
     "output_type": "execute_result"
    }
   ],
   "source": [
    "product40_score_list = []\n",
    "for product in product40_score:\n",
    "    text = product.text.strip()\n",
    "    if text:\n",
    "        product40_score_list.append(text)\n",
    "product40_score_list = product40_score_list[2]\n",
    "product40_score_list = product40_score_list.split('\\n')\n",
    "product40_score_list"
   ]
  },
  {
   "cell_type": "code",
   "execution_count": 371,
   "id": "2f2665b4",
   "metadata": {},
   "outputs": [],
   "source": [
    "driver.back()"
   ]
  },
  {
   "cell_type": "code",
   "execution_count": 372,
   "id": "f8b76feb",
   "metadata": {},
   "outputs": [],
   "source": [
    "driver.execute_script(\"document.body.style.zoom='100%'\")"
   ]
  },
  {
   "cell_type": "code",
   "execution_count": 373,
   "id": "52179c63",
   "metadata": {},
   "outputs": [],
   "source": [
    "product41 = driver.find_element(\"xpath\",'/html/body/div[1]/div/div[2]/div/div/div[2]/section/ul/li[41]/a/div/div')"
   ]
  },
  {
   "cell_type": "code",
   "execution_count": 374,
   "id": "bbd0e81b",
   "metadata": {},
   "outputs": [],
   "source": [
    "product41.click()"
   ]
  },
  {
   "cell_type": "code",
   "execution_count": 375,
   "id": "573b7d22",
   "metadata": {},
   "outputs": [],
   "source": [
    "driver.execute_script(\"document.body.style.zoom='25%'\")"
   ]
  },
  {
   "cell_type": "code",
   "execution_count": 376,
   "id": "eb07bb92",
   "metadata": {},
   "outputs": [],
   "source": [
    "data = driver.page_source"
   ]
  },
  {
   "cell_type": "code",
   "execution_count": 377,
   "id": "3aa6d275",
   "metadata": {},
   "outputs": [],
   "source": [
    "soup = bs4.BeautifulSoup(data)"
   ]
  },
  {
   "cell_type": "code",
   "execution_count": 378,
   "id": "e9474acc",
   "metadata": {},
   "outputs": [],
   "source": [
    "product41_score = soup.find_all('div',{'class':'flex items-center'})"
   ]
  },
  {
   "cell_type": "code",
   "execution_count": 379,
   "id": "982ea3dc",
   "metadata": {},
   "outputs": [
    {
     "data": {
      "text/plain": [
       "['จำนวน 1มีสินค้าทั้งหมด 60 ชิ้น']"
      ]
     },
     "execution_count": 379,
     "metadata": {},
     "output_type": "execute_result"
    }
   ],
   "source": [
    "product41_score_list = []\n",
    "for product in product41_score:\n",
    "    text = product.text.strip()\n",
    "    if text:\n",
    "        product41_score_list.append(text)\n",
    "product41_score_list = product41_score_list[2]\n",
    "product41_score_list = product41_score_list.split('\\n')\n",
    "product41_score_list"
   ]
  },
  {
   "cell_type": "code",
   "execution_count": 380,
   "id": "119bc5de",
   "metadata": {},
   "outputs": [],
   "source": [
    "driver.back()"
   ]
  },
  {
   "cell_type": "code",
   "execution_count": 403,
   "id": "952b8e65",
   "metadata": {},
   "outputs": [],
   "source": [
    "product_stock_list = product1_score_list + product2_score_list + product3_score_list + product4_score_list + product5_score_list + product6_score_list + product7_score_list + product8_score_list + product9_score_list + product10_score_list + product11_score_list + product12_score_list + product13_score_list + product14_score_list + product15_score_list + product16_score_list + product17_score_list + product18_score_list + product19_score_list + product20_score_list + product21_score_list + product22_score_list + product23_score_list + product24_score_list + product25_score_list + product26_score_list + product27_score_list + product28_score_list + product29_score_list + product30_score_list + product31_score_list + product32_score_list + product33_score_list + product34_score_list + product35_score_list + product36_score_list + product37_score_list + product38_score_list + product39_score_list + product40_score_list + product41_score_list"
   ]
  },
  {
   "cell_type": "code",
   "execution_count": 404,
   "id": "e7dcb381",
   "metadata": {},
   "outputs": [
    {
     "data": {
      "text/plain": [
       "['จำนวน 1มีสินค้าทั้งหมด 9 ชิ้น',\n",
       " 'จำนวน 1มีสินค้าทั้งหมด 94 ชิ้น',\n",
       " 'จำนวน 1มีสินค้าทั้งหมด 346 ชิ้น',\n",
       " 'จำนวน 1มีสินค้าทั้งหมด 1564 ชิ้น',\n",
       " 'จำนวน 1มีสินค้าทั้งหมด 143 ชิ้น',\n",
       " 'จำนวน 1มีสินค้าทั้งหมด 60 ชิ้น',\n",
       " 'จำนวน 1มีสินค้าทั้งหมด 91 ชิ้น',\n",
       " 'จำนวน 1มีสินค้าทั้งหมด 82 ชิ้น',\n",
       " 'จำนวน 1มีสินค้าทั้งหมด 907 ชิ้น',\n",
       " 'จำนวน 1มีสินค้าทั้งหมด 80 ชิ้น',\n",
       " 'จำนวน 1มีสินค้าทั้งหมด 69 ชิ้น',\n",
       " 'จำนวน 1มีสินค้าทั้งหมด 40 ชิ้น',\n",
       " 'จำนวน 1มีสินค้าทั้งหมด 71 ชิ้น',\n",
       " 'จำนวน 1มีสินค้าทั้งหมด 966 ชิ้น',\n",
       " 'จำนวน 1มีสินค้าทั้งหมด 20 ชิ้น',\n",
       " 'จำนวน 1มีสินค้าทั้งหมด 257 ชิ้น',\n",
       " 'จำนวน 1มีสินค้าทั้งหมด 181 ชิ้น',\n",
       " 'จำนวน 1มีสินค้าทั้งหมด 728 ชิ้น',\n",
       " 'จำนวน 1มีสินค้าทั้งหมด 560 ชิ้น',\n",
       " 'จำนวน 1มีสินค้าทั้งหมด 107 ชิ้น',\n",
       " 'จำนวน 1มีสินค้าทั้งหมด 115 ชิ้น',\n",
       " 'จำนวน 1มีสินค้าทั้งหมด 296 ชิ้น',\n",
       " 'จำนวน 1มีสินค้าทั้งหมด 167 ชิ้น',\n",
       " 'จำนวน 1มีสินค้าทั้งหมด 79 ชิ้น',\n",
       " 'จำนวน 1มีสินค้าทั้งหมด 234 ชิ้น',\n",
       " 'จำนวน 1มีสินค้าทั้งหมด 96 ชิ้น',\n",
       " 'จำนวน 1มีสินค้าทั้งหมด 113 ชิ้น',\n",
       " 'จำนวน 1มีสินค้าทั้งหมด 37 ชิ้น',\n",
       " 'จำนวน 1มีสินค้าทั้งหมด 98 ชิ้น',\n",
       " 'จำนวน 1มีสินค้าทั้งหมด 599 ชิ้น',\n",
       " 'จำนวน 1มีสินค้าทั้งหมด 111 ชิ้น',\n",
       " 'จำนวน 1มีสินค้าทั้งหมด 409 ชิ้น',\n",
       " 'จำนวน 1มีสินค้าทั้งหมด 471 ชิ้น',\n",
       " 'จำนวน 1มีสินค้าทั้งหมด 320 ชิ้น',\n",
       " 'จำนวน 1มีสินค้าทั้งหมด 30 ชิ้น',\n",
       " 'จำนวน 1มีสินค้าทั้งหมด 202 ชิ้น',\n",
       " 'จำนวน 1มีสินค้าทั้งหมด 207 ชิ้น',\n",
       " 'จำนวน 1มีสินค้าทั้งหมด 367 ชิ้น',\n",
       " 'จำนวน 1มีสินค้าทั้งหมด 118 ชิ้น',\n",
       " 'จำนวน 1มีสินค้าทั้งหมด 278 ชิ้น',\n",
       " 'จำนวน 1มีสินค้าทั้งหมด 60 ชิ้น']"
      ]
     },
     "execution_count": 404,
     "metadata": {},
     "output_type": "execute_result"
    }
   ],
   "source": [
    "product_stock_list"
   ]
  },
  {
   "cell_type": "code",
   "execution_count": 405,
   "id": "306d54c4",
   "metadata": {},
   "outputs": [],
   "source": [
    "shopee_data = pd.DataFrame([store_name_list, store_score_list, store_promotion_list, product_name_list, product_price_list, product_sale_list, product_stock_list])"
   ]
  },
  {
   "cell_type": "code",
   "execution_count": 421,
   "id": "d3523c76",
   "metadata": {},
   "outputs": [
    {
     "data": {
      "text/html": [
       "<div>\n",
       "<style scoped>\n",
       "    .dataframe tbody tr th:only-of-type {\n",
       "        vertical-align: middle;\n",
       "    }\n",
       "\n",
       "    .dataframe tbody tr th {\n",
       "        vertical-align: top;\n",
       "    }\n",
       "\n",
       "    .dataframe thead th {\n",
       "        text-align: right;\n",
       "    }\n",
       "</style>\n",
       "<table border=\"1\" class=\"dataframe\">\n",
       "  <thead>\n",
       "    <tr style=\"text-align: right;\">\n",
       "      <th></th>\n",
       "      <th>name</th>\n",
       "      <th>score</th>\n",
       "      <th>promotion</th>\n",
       "      <th>product_name</th>\n",
       "      <th>price</th>\n",
       "      <th>sale</th>\n",
       "      <th>stock</th>\n",
       "    </tr>\n",
       "  </thead>\n",
       "  <tbody>\n",
       "    <tr>\n",
       "      <th>0</th>\n",
       "      <td>ร้านแนะนำchinradaActive 5 ชั่วโมง  ที่ผ่านมา</td>\n",
       "      <td>4.8 (การให้คะแนนทั้งหมด 12.5พัน)</td>\n",
       "      <td>ส่วนลด ฿5ขั้นต่ำ ฿99ซื้อร้านนี้ครั้งแรกใช้ได้ก...</td>\n",
       "      <td>มัดย้อม (ฟามิงโก้) HandMade เนื้อผ้าสปัน สวมใส...</td>\n",
       "      <td>฿250</td>\n",
       "      <td>ขายแล้ว 191 ชิ้น</td>\n",
       "      <td>จำนวน 1มีสินค้าทั้งหมด 346 ชิ้น</td>\n",
       "    </tr>\n",
       "    <tr>\n",
       "      <th>1</th>\n",
       "      <td>None</td>\n",
       "      <td>None</td>\n",
       "      <td>ส่วนลด ฿5ขั้นต่ำ ฿99ใช้แล้ว 58%, ใช้ได้ก่อน: 3...</td>\n",
       "      <td>มัดย้อม (ฟามิงโก้B) HandMade เนื้อผ้าสปัน สวมใ...</td>\n",
       "      <td>฿250</td>\n",
       "      <td>ขายแล้ว 123 ชิ้น</td>\n",
       "      <td>จำนวน 1มีสินค้าทั้งหมด 95 ชิ้น</td>\n",
       "    </tr>\n",
       "    <tr>\n",
       "      <th>2</th>\n",
       "      <td>None</td>\n",
       "      <td>None</td>\n",
       "      <td>ส่วนลด ฿10ขั้นต่ำ ฿299ใช้ได้ก่อน: 31.10.2023</td>\n",
       "      <td>เสื้อฮาวายมัดย้อม L-4XL ผ้าสปัน ใส่สบายผ้าพริ้...</td>\n",
       "      <td>฿200</td>\n",
       "      <td>ขายแล้ว 1.3พัน ชิ้น</td>\n",
       "      <td>จำนวน 1มีสินค้าทั้งหมด 911 ชิ้น</td>\n",
       "    </tr>\n",
       "    <tr>\n",
       "      <th>3</th>\n",
       "      <td>None</td>\n",
       "      <td>None</td>\n",
       "      <td>ส่วนลด ฿15ขั้นต่ำ ฿499ใช้ได้ก่อน: 31.10.2023</td>\n",
       "      <td>กางเกงขาบาน มัดย้อม เอวสม็อค ฟรีไซส์สาวอวบใส่ไ...</td>\n",
       "      <td>฿250</td>\n",
       "      <td>ขายแล้ว 97 ชิ้น</td>\n",
       "      <td>จำนวน 1มีสินค้าทั้งหมด 258 ชิ้น</td>\n",
       "    </tr>\n",
       "    <tr>\n",
       "      <th>4</th>\n",
       "      <td>None</td>\n",
       "      <td>None</td>\n",
       "      <td>None</td>\n",
       "      <td>กางเกง 4 สาย ลายมัดย้อม  ผ้าเรยอน พริ้วๆ ใส่ได...</td>\n",
       "      <td>฿150</td>\n",
       "      <td>ขายแล้ว 147 ชิ้น</td>\n",
       "      <td>จำนวน 1มีสินค้าทั้งหมด 91 ชิ้น</td>\n",
       "    </tr>\n",
       "    <tr>\n",
       "      <th>5</th>\n",
       "      <td>None</td>\n",
       "      <td>None</td>\n",
       "      <td>None</td>\n",
       "      <td>กางเกงช้าง เอวสม็อคลายช้างมัดย้อม</td>\n",
       "      <td>฿150</td>\n",
       "      <td>ขายแล้ว 20 ชิ้น</td>\n",
       "      <td>จำนวน 1มีสินค้าทั้งหมด 9 ชิ้น</td>\n",
       "    </tr>\n",
       "    <tr>\n",
       "      <th>6</th>\n",
       "      <td>None</td>\n",
       "      <td>None</td>\n",
       "      <td>None</td>\n",
       "      <td>กางเกง 4 สาย ลายมัดย้อม หม้อฮ่อม สวยๆ พริ้วๆ ผ...</td>\n",
       "      <td>฿150</td>\n",
       "      <td>ขายแล้ว 33 ชิ้น</td>\n",
       "      <td>จำนวน 1มีสินค้าทั้งหมด 143 ชิ้น</td>\n",
       "    </tr>\n",
       "    <tr>\n",
       "      <th>7</th>\n",
       "      <td>None</td>\n",
       "      <td>None</td>\n",
       "      <td>None</td>\n",
       "      <td>เสื้อฮาวาย  มัดย้อมดาว สีสันสดใส ผ้าเรยอนบางเบ...</td>\n",
       "      <td>฿180</td>\n",
       "      <td>ขายแล้ว 407 ชิ้น</td>\n",
       "      <td>จำนวน 1มีสินค้าทั้งหมด 728 ชิ้น</td>\n",
       "    </tr>\n",
       "    <tr>\n",
       "      <th>8</th>\n",
       "      <td>None</td>\n",
       "      <td>None</td>\n",
       "      <td>None</td>\n",
       "      <td>มัดย้อม (บิกินี+กางเกง) HandMade เนื้อผ้าสปัน ...</td>\n",
       "      <td>฿238</td>\n",
       "      <td>ขายแล้ว 203 ชิ้น</td>\n",
       "      <td>จำนวน 1มีสินค้าทั้งหมด 72 ชิ้น</td>\n",
       "    </tr>\n",
       "    <tr>\n",
       "      <th>9</th>\n",
       "      <td>None</td>\n",
       "      <td>None</td>\n",
       "      <td>None</td>\n",
       "      <td>(พร้อมส่ง) กางเกงช้าง เอวสม็อค ลายมัดย้อมดอก</td>\n",
       "      <td>฿150</td>\n",
       "      <td>ขายแล้ว 13 ชิ้น</td>\n",
       "      <td>จำนวน 1มีสินค้าทั้งหมด 40 ชิ้น</td>\n",
       "    </tr>\n",
       "    <tr>\n",
       "      <th>10</th>\n",
       "      <td>None</td>\n",
       "      <td>None</td>\n",
       "      <td>None</td>\n",
       "      <td>กางเกงช้างผ้าเมมเบิดสุดฮิตลาย ช้างมัดย้อม   เอ...</td>\n",
       "      <td>฿150</td>\n",
       "      <td>ขายแล้ว 106 ชิ้น</td>\n",
       "      <td>จำนวน 1มีสินค้าทั้งหมด 60 ชิ้น</td>\n",
       "    </tr>\n",
       "    <tr>\n",
       "      <th>11</th>\n",
       "      <td>None</td>\n",
       "      <td>None</td>\n",
       "      <td>None</td>\n",
       "      <td>มัดย้อม (เดรสชมพู่) HandMade เนื้อผ้าสปัน สวมใ...</td>\n",
       "      <td>฿200</td>\n",
       "      <td>ขายแล้ว 266 ชิ้น</td>\n",
       "      <td>จำนวน 1มีสินค้าทั้งหมด 181 ชิ้น</td>\n",
       "    </tr>\n",
       "    <tr>\n",
       "      <th>12</th>\n",
       "      <td>None</td>\n",
       "      <td>None</td>\n",
       "      <td>None</td>\n",
       "      <td>เสื้อฮาวาย ลายมัดย้อมกัด และ กางเกง 4 สาย ผ้าน...</td>\n",
       "      <td>฿150 - ฿180</td>\n",
       "      <td>ขายแล้ว 67 ชิ้น</td>\n",
       "      <td>จำนวน 1มีสินค้าทั้งหมด 560 ชิ้น</td>\n",
       "    </tr>\n",
       "    <tr>\n",
       "      <th>13</th>\n",
       "      <td>None</td>\n",
       "      <td>None</td>\n",
       "      <td>None</td>\n",
       "      <td>เสื้อมัดย้อมสีคราม เด็ก/ผู้ใหญ่ เนื้อผ้าคอตตอน...</td>\n",
       "      <td>฿150 - ฿190</td>\n",
       "      <td>ขายแล้ว 129 ชิ้น</td>\n",
       "      <td>จำนวน 1มีสินค้าทั้งหมด 966 ชิ้น</td>\n",
       "    </tr>\n",
       "    <tr>\n",
       "      <th>14</th>\n",
       "      <td>None</td>\n",
       "      <td>None</td>\n",
       "      <td>None</td>\n",
       "      <td>เสื้อมัดย้อมมือกัดสี 1 Cotton 100% (ส่งจากไทย)</td>\n",
       "      <td>฿170</td>\n",
       "      <td>ขายแล้ว 57 ชิ้น</td>\n",
       "      <td>จำนวน 1มีสินค้าทั้งหมด 69 ชิ้น</td>\n",
       "    </tr>\n",
       "    <tr>\n",
       "      <th>15</th>\n",
       "      <td>None</td>\n",
       "      <td>None</td>\n",
       "      <td>None</td>\n",
       "      <td>กางเกงมัดย้อม  กางเกงสงกรานต์</td>\n",
       "      <td>฿150</td>\n",
       "      <td>ขายแล้ว 136 ชิ้น</td>\n",
       "      <td>จำนวน 1มีสินค้าทั้งหมด 20 ชิ้น</td>\n",
       "    </tr>\n",
       "    <tr>\n",
       "      <th>16</th>\n",
       "      <td>None</td>\n",
       "      <td>None</td>\n",
       "      <td>None</td>\n",
       "      <td>กางเกงมัดย้อม กางเกงสงกรานต์</td>\n",
       "      <td>฿150</td>\n",
       "      <td>ขายแล้ว 581 ชิ้น</td>\n",
       "      <td>จำนวน 1มีสินค้าทั้งหมด 79 ชิ้น</td>\n",
       "    </tr>\n",
       "    <tr>\n",
       "      <th>17</th>\n",
       "      <td>None</td>\n",
       "      <td>None</td>\n",
       "      <td>None</td>\n",
       "      <td>เสื้อฮาวาย ลายมัดย้อมดาว และ กางเกง 4 สาย ผ้าน...</td>\n",
       "      <td>฿150 - ฿180</td>\n",
       "      <td>ขายแล้ว 53 ชิ้น</td>\n",
       "      <td>จำนวน 1มีสินค้าทั้งหมด 474 ชิ้น</td>\n",
       "    </tr>\n",
       "    <tr>\n",
       "      <th>18</th>\n",
       "      <td>None</td>\n",
       "      <td>None</td>\n",
       "      <td>None</td>\n",
       "      <td>มัดย้อม (ชุดตุ๊กตาบาร์บี้มินิมอล) HandMade  เน...</td>\n",
       "      <td>฿260</td>\n",
       "      <td>ขายแล้ว 90 ชิ้น</td>\n",
       "      <td>จำนวน 1มีสินค้าทั้งหมด 82 ชิ้น</td>\n",
       "    </tr>\n",
       "    <tr>\n",
       "      <th>19</th>\n",
       "      <td>None</td>\n",
       "      <td>None</td>\n",
       "      <td>None</td>\n",
       "      <td>มัดย้อม (ชุดเดรสคอเต่าผูกหลัง) HandMade เนื้อผ...</td>\n",
       "      <td>฿230</td>\n",
       "      <td>ขายแล้ว 48 ชิ้น</td>\n",
       "      <td>จำนวน 1มีสินค้าทั้งหมด 296 ชิ้น</td>\n",
       "    </tr>\n",
       "    <tr>\n",
       "      <th>20</th>\n",
       "      <td>None</td>\n",
       "      <td>None</td>\n",
       "      <td>None</td>\n",
       "      <td>มัดย้อม (ชุดเซ็ตแขนระบาย) HandMade เนื้อผ้าสปั...</td>\n",
       "      <td>฿370</td>\n",
       "      <td>ขายแล้ว 21 ชิ้น</td>\n",
       "      <td>จำนวน 1มีสินค้าทั้งหมด 96 ชิ้น</td>\n",
       "    </tr>\n",
       "    <tr>\n",
       "      <th>21</th>\n",
       "      <td>None</td>\n",
       "      <td>None</td>\n",
       "      <td>None</td>\n",
       "      <td>มัดย้อม (เดรสปุ้มปุ้ย) HandMade เนื้อผ้าสปัน ส...</td>\n",
       "      <td>฿250</td>\n",
       "      <td>ขายแล้ว 30 ชิ้น</td>\n",
       "      <td>จำนวน 1มีสินค้าทั้งหมด 409 ชิ้น</td>\n",
       "    </tr>\n",
       "    <tr>\n",
       "      <th>22</th>\n",
       "      <td>None</td>\n",
       "      <td>None</td>\n",
       "      <td>None</td>\n",
       "      <td>กางเกง 4 สาย ผ้าเรยอน ผูกหน้าหลัง (มัดย้อมก้นห...</td>\n",
       "      <td>฿150</td>\n",
       "      <td>ขายแล้ว 443 ชิ้น</td>\n",
       "      <td>จำนวน 1มีสินค้าทั้งหมด 167 ชิ้น</td>\n",
       "    </tr>\n",
       "    <tr>\n",
       "      <th>23</th>\n",
       "      <td>None</td>\n",
       "      <td>None</td>\n",
       "      <td>None</td>\n",
       "      <td>มัดย้อม (ตุ๊กตาบาร์บี้มินิมอล) HandMade เนื้อผ...</td>\n",
       "      <td>฿260</td>\n",
       "      <td>ขายแล้ว 21 ชิ้น</td>\n",
       "      <td>จำนวน 1มีสินค้าทั้งหมด 80 ชิ้น</td>\n",
       "    </tr>\n",
       "    <tr>\n",
       "      <th>24</th>\n",
       "      <td>None</td>\n",
       "      <td>None</td>\n",
       "      <td>None</td>\n",
       "      <td>เสื้อฮาวายผ้าเรยอน ลายมัดย้อมพลุ ใส่สบาย ผ้าพร...</td>\n",
       "      <td>฿180</td>\n",
       "      <td>ขายแล้ว 40 ชิ้น</td>\n",
       "      <td>จำนวน 1มีสินค้าทั้งหมด 599 ชิ้น</td>\n",
       "    </tr>\n",
       "    <tr>\n",
       "      <th>25</th>\n",
       "      <td>None</td>\n",
       "      <td>None</td>\n",
       "      <td>None</td>\n",
       "      <td>เดรสมัดย้อม (สายเดี่ยวเกาหลี) เนื้อผ้าสปัน ย้อ...</td>\n",
       "      <td>฿270</td>\n",
       "      <td>ขายแล้ว 97 ชิ้น</td>\n",
       "      <td>จำนวน 1มีสินค้าทั้งหมด 115 ชิ้น</td>\n",
       "    </tr>\n",
       "    <tr>\n",
       "      <th>26</th>\n",
       "      <td>None</td>\n",
       "      <td>None</td>\n",
       "      <td>None</td>\n",
       "      <td>มัดย้อม (ชุดแขนกุด) HandMade เนื้อผ้าสปัน สวมใ...</td>\n",
       "      <td>฿230</td>\n",
       "      <td>ขายแล้ว 6 ชิ้น</td>\n",
       "      <td>จำนวน 1มีสินค้าทั้งหมด 111 ชิ้น</td>\n",
       "    </tr>\n",
       "    <tr>\n",
       "      <th>27</th>\n",
       "      <td>None</td>\n",
       "      <td>None</td>\n",
       "      <td>None</td>\n",
       "      <td>เซ็ตเสื้อชมพู่+กางเกงขายาวเอวสม็อค เก๋มาก งานม...</td>\n",
       "      <td>฿450</td>\n",
       "      <td>ขายแล้ว 219 ชิ้น</td>\n",
       "      <td>จำนวน 1มีสินค้าทั้งหมด 30 ชิ้น</td>\n",
       "    </tr>\n",
       "    <tr>\n",
       "      <th>28</th>\n",
       "      <td>None</td>\n",
       "      <td>None</td>\n",
       "      <td>None</td>\n",
       "      <td>ชุดมัดย้อม (ฟามิงโก้กัดสี)  เหมาะสำหรับสาวๆใส่...</td>\n",
       "      <td>฿250</td>\n",
       "      <td>ขายแล้ว 73 ชิ้น</td>\n",
       "      <td>จำนวน 1มีสินค้าทั้งหมด 30 ชิ้น</td>\n",
       "    </tr>\n",
       "    <tr>\n",
       "      <th>29</th>\n",
       "      <td>None</td>\n",
       "      <td>None</td>\n",
       "      <td>None</td>\n",
       "      <td>เดรสมัดย้อม ผ้าสปันใส่สบายๆๆ ฟรีไซส์ มีหลากหลา...</td>\n",
       "      <td>฿250</td>\n",
       "      <td>ขายแล้ว 89 ชิ้น</td>\n",
       "      <td>จำนวน 1มีสินค้าทั้งหมด 30 ชิ้น</td>\n",
       "    </tr>\n",
       "    <tr>\n",
       "      <th>30</th>\n",
       "      <td>None</td>\n",
       "      <td>None</td>\n",
       "      <td>None</td>\n",
       "      <td>มัดย้อม (เดรสบาหลี) HandMade เนื้อผ้าสปัน สวมใ...</td>\n",
       "      <td>฿250</td>\n",
       "      <td>ขายแล้ว 46 ชิ้น</td>\n",
       "      <td>จำนวน 1มีสินค้าทั้งหมด 30 ชิ้น</td>\n",
       "    </tr>\n",
       "    <tr>\n",
       "      <th>31</th>\n",
       "      <td>None</td>\n",
       "      <td>None</td>\n",
       "      <td>None</td>\n",
       "      <td>มัดย้อม (ชุดบาร์บี้) HandMade เนื้อผ้าสปัน สวม...</td>\n",
       "      <td>฿260</td>\n",
       "      <td>ขายแล้ว 60 ชิ้น</td>\n",
       "      <td>จำนวน 1มีสินค้าทั้งหมด 30 ชิ้น</td>\n",
       "    </tr>\n",
       "    <tr>\n",
       "      <th>32</th>\n",
       "      <td>None</td>\n",
       "      <td>None</td>\n",
       "      <td>None</td>\n",
       "      <td>มัดย้อม (เดรสนากา) HandMade เนื้อผ้าสปัน สวมใส...</td>\n",
       "      <td>฿250</td>\n",
       "      <td>ขายแล้ว 38 ชิ้น</td>\n",
       "      <td>จำนวน 1มีสินค้าทั้งหมด 30 ชิ้น</td>\n",
       "    </tr>\n",
       "    <tr>\n",
       "      <th>33</th>\n",
       "      <td>None</td>\n",
       "      <td>None</td>\n",
       "      <td>None</td>\n",
       "      <td>เสื้อฮาวาย+กางเกงขายาวเอวเชือก ลายรุ้ง กัญชา ห...</td>\n",
       "      <td>฿330</td>\n",
       "      <td>ขายแล้ว 100 ชิ้น</td>\n",
       "      <td>จำนวน 1มีสินค้าทั้งหมด 30 ชิ้น</td>\n",
       "    </tr>\n",
       "    <tr>\n",
       "      <th>34</th>\n",
       "      <td>None</td>\n",
       "      <td>None</td>\n",
       "      <td>None</td>\n",
       "      <td>มัดย้อม (เดรสปุ้มปุ้ย) HandMade เนื้อผ้าสปัน ส...</td>\n",
       "      <td>฿250</td>\n",
       "      <td>ขายแล้ว 14 ชิ้น</td>\n",
       "      <td>จำนวน 1มีสินค้าทั้งหมด 30 ชิ้น</td>\n",
       "    </tr>\n",
       "    <tr>\n",
       "      <th>35</th>\n",
       "      <td>None</td>\n",
       "      <td>None</td>\n",
       "      <td>None</td>\n",
       "      <td>มัดย้อม (ชุดเฉียงข้าง) HandMade เนื้อผ้าสปัน ส...</td>\n",
       "      <td>฿200</td>\n",
       "      <td>ขายแล้ว 219 ชิ้น</td>\n",
       "      <td>จำนวน 1มีสินค้าทั้งหมด 30 ชิ้น</td>\n",
       "    </tr>\n",
       "    <tr>\n",
       "      <th>36</th>\n",
       "      <td>None</td>\n",
       "      <td>None</td>\n",
       "      <td>None</td>\n",
       "      <td>กางเกงคู่เสื้อลายมัดย้อมกัดสี ผ้าเรยอน ใส่สบาย...</td>\n",
       "      <td>฿300</td>\n",
       "      <td>ขายแล้ว 1 ชิ้น</td>\n",
       "      <td>จำนวน 1มีสินค้าทั้งหมด 30 ชิ้น</td>\n",
       "    </tr>\n",
       "    <tr>\n",
       "      <th>37</th>\n",
       "      <td>None</td>\n",
       "      <td>None</td>\n",
       "      <td>None</td>\n",
       "      <td>เสื้อมัดย้อม เด็กและผู้ใหญ่ ใส่ได้ทั้งครอบครัว...</td>\n",
       "      <td>฿150 - ฿190</td>\n",
       "      <td>ขายแล้ว 37 ชิ้น</td>\n",
       "      <td>จำนวน 1มีสินค้าทั้งหมด 30 ชิ้น</td>\n",
       "    </tr>\n",
       "    <tr>\n",
       "      <th>38</th>\n",
       "      <td>None</td>\n",
       "      <td>None</td>\n",
       "      <td>None</td>\n",
       "      <td>เสื้อมัดย้อมกัดสี เด็กและผู้ใหญ่ ใส่ได้ทั้งครอ...</td>\n",
       "      <td>฿150 - ฿190</td>\n",
       "      <td>None</td>\n",
       "      <td>จำนวน 1มีสินค้าทั้งหมด 30 ชิ้น</td>\n",
       "    </tr>\n",
       "    <tr>\n",
       "      <th>39</th>\n",
       "      <td>None</td>\n",
       "      <td>None</td>\n",
       "      <td>None</td>\n",
       "      <td>มัดย้อม (กระโปรงพัน ระบาย 2 ชั้น) HandMade เนื...</td>\n",
       "      <td>฿230</td>\n",
       "      <td>None</td>\n",
       "      <td>จำนวน 1มีสินค้าทั้งหมด 30 ชิ้น</td>\n",
       "    </tr>\n",
       "    <tr>\n",
       "      <th>40</th>\n",
       "      <td>None</td>\n",
       "      <td>None</td>\n",
       "      <td>None</td>\n",
       "      <td>(พร้อมส่ง) กางเกงช้าง เอวสม็อค ลายมัดย้อมพลุ</td>\n",
       "      <td>฿150</td>\n",
       "      <td>None</td>\n",
       "      <td>จำนวน 1มีสินค้าทั้งหมด 30 ชิ้น</td>\n",
       "    </tr>\n",
       "    <tr>\n",
       "      <th>41</th>\n",
       "      <td>None</td>\n",
       "      <td>None</td>\n",
       "      <td>None</td>\n",
       "      <td>เสื้อมัดย้อม คู่กางเกงช้าง สำหรับเด็กเล็กและเด...</td>\n",
       "      <td>฿100 - ฿170</td>\n",
       "      <td>None</td>\n",
       "      <td>None</td>\n",
       "    </tr>\n",
       "  </tbody>\n",
       "</table>\n",
       "</div>"
      ],
      "text/plain": [
       "                                            name  \\\n",
       "0   ร้านแนะนำchinradaActive 5 ชั่วโมง  ที่ผ่านมา   \n",
       "1                                           None   \n",
       "2                                           None   \n",
       "3                                           None   \n",
       "4                                           None   \n",
       "5                                           None   \n",
       "6                                           None   \n",
       "7                                           None   \n",
       "8                                           None   \n",
       "9                                           None   \n",
       "10                                          None   \n",
       "11                                          None   \n",
       "12                                          None   \n",
       "13                                          None   \n",
       "14                                          None   \n",
       "15                                          None   \n",
       "16                                          None   \n",
       "17                                          None   \n",
       "18                                          None   \n",
       "19                                          None   \n",
       "20                                          None   \n",
       "21                                          None   \n",
       "22                                          None   \n",
       "23                                          None   \n",
       "24                                          None   \n",
       "25                                          None   \n",
       "26                                          None   \n",
       "27                                          None   \n",
       "28                                          None   \n",
       "29                                          None   \n",
       "30                                          None   \n",
       "31                                          None   \n",
       "32                                          None   \n",
       "33                                          None   \n",
       "34                                          None   \n",
       "35                                          None   \n",
       "36                                          None   \n",
       "37                                          None   \n",
       "38                                          None   \n",
       "39                                          None   \n",
       "40                                          None   \n",
       "41                                          None   \n",
       "\n",
       "                               score  \\\n",
       "0   4.8 (การให้คะแนนทั้งหมด 12.5พัน)   \n",
       "1                               None   \n",
       "2                               None   \n",
       "3                               None   \n",
       "4                               None   \n",
       "5                               None   \n",
       "6                               None   \n",
       "7                               None   \n",
       "8                               None   \n",
       "9                               None   \n",
       "10                              None   \n",
       "11                              None   \n",
       "12                              None   \n",
       "13                              None   \n",
       "14                              None   \n",
       "15                              None   \n",
       "16                              None   \n",
       "17                              None   \n",
       "18                              None   \n",
       "19                              None   \n",
       "20                              None   \n",
       "21                              None   \n",
       "22                              None   \n",
       "23                              None   \n",
       "24                              None   \n",
       "25                              None   \n",
       "26                              None   \n",
       "27                              None   \n",
       "28                              None   \n",
       "29                              None   \n",
       "30                              None   \n",
       "31                              None   \n",
       "32                              None   \n",
       "33                              None   \n",
       "34                              None   \n",
       "35                              None   \n",
       "36                              None   \n",
       "37                              None   \n",
       "38                              None   \n",
       "39                              None   \n",
       "40                              None   \n",
       "41                              None   \n",
       "\n",
       "                                            promotion  \\\n",
       "0   ส่วนลด ฿5ขั้นต่ำ ฿99ซื้อร้านนี้ครั้งแรกใช้ได้ก...   \n",
       "1   ส่วนลด ฿5ขั้นต่ำ ฿99ใช้แล้ว 58%, ใช้ได้ก่อน: 3...   \n",
       "2        ส่วนลด ฿10ขั้นต่ำ ฿299ใช้ได้ก่อน: 31.10.2023   \n",
       "3        ส่วนลด ฿15ขั้นต่ำ ฿499ใช้ได้ก่อน: 31.10.2023   \n",
       "4                                                None   \n",
       "5                                                None   \n",
       "6                                                None   \n",
       "7                                                None   \n",
       "8                                                None   \n",
       "9                                                None   \n",
       "10                                               None   \n",
       "11                                               None   \n",
       "12                                               None   \n",
       "13                                               None   \n",
       "14                                               None   \n",
       "15                                               None   \n",
       "16                                               None   \n",
       "17                                               None   \n",
       "18                                               None   \n",
       "19                                               None   \n",
       "20                                               None   \n",
       "21                                               None   \n",
       "22                                               None   \n",
       "23                                               None   \n",
       "24                                               None   \n",
       "25                                               None   \n",
       "26                                               None   \n",
       "27                                               None   \n",
       "28                                               None   \n",
       "29                                               None   \n",
       "30                                               None   \n",
       "31                                               None   \n",
       "32                                               None   \n",
       "33                                               None   \n",
       "34                                               None   \n",
       "35                                               None   \n",
       "36                                               None   \n",
       "37                                               None   \n",
       "38                                               None   \n",
       "39                                               None   \n",
       "40                                               None   \n",
       "41                                               None   \n",
       "\n",
       "                                         product_name        price  \\\n",
       "0   มัดย้อม (ฟามิงโก้) HandMade เนื้อผ้าสปัน สวมใส...         ฿250   \n",
       "1   มัดย้อม (ฟามิงโก้B) HandMade เนื้อผ้าสปัน สวมใ...         ฿250   \n",
       "2   เสื้อฮาวายมัดย้อม L-4XL ผ้าสปัน ใส่สบายผ้าพริ้...         ฿200   \n",
       "3   กางเกงขาบาน มัดย้อม เอวสม็อค ฟรีไซส์สาวอวบใส่ไ...         ฿250   \n",
       "4   กางเกง 4 สาย ลายมัดย้อม  ผ้าเรยอน พริ้วๆ ใส่ได...         ฿150   \n",
       "5                   กางเกงช้าง เอวสม็อคลายช้างมัดย้อม         ฿150   \n",
       "6   กางเกง 4 สาย ลายมัดย้อม หม้อฮ่อม สวยๆ พริ้วๆ ผ...         ฿150   \n",
       "7   เสื้อฮาวาย  มัดย้อมดาว สีสันสดใส ผ้าเรยอนบางเบ...         ฿180   \n",
       "8   มัดย้อม (บิกินี+กางเกง) HandMade เนื้อผ้าสปัน ...         ฿238   \n",
       "9        (พร้อมส่ง) กางเกงช้าง เอวสม็อค ลายมัดย้อมดอก         ฿150   \n",
       "10  กางเกงช้างผ้าเมมเบิดสุดฮิตลาย ช้างมัดย้อม   เอ...         ฿150   \n",
       "11  มัดย้อม (เดรสชมพู่) HandMade เนื้อผ้าสปัน สวมใ...         ฿200   \n",
       "12  เสื้อฮาวาย ลายมัดย้อมกัด และ กางเกง 4 สาย ผ้าน...  ฿150 - ฿180   \n",
       "13  เสื้อมัดย้อมสีคราม เด็ก/ผู้ใหญ่ เนื้อผ้าคอตตอน...  ฿150 - ฿190   \n",
       "14     เสื้อมัดย้อมมือกัดสี 1 Cotton 100% (ส่งจากไทย)         ฿170   \n",
       "15                      กางเกงมัดย้อม  กางเกงสงกรานต์         ฿150   \n",
       "16                       กางเกงมัดย้อม กางเกงสงกรานต์         ฿150   \n",
       "17  เสื้อฮาวาย ลายมัดย้อมดาว และ กางเกง 4 สาย ผ้าน...  ฿150 - ฿180   \n",
       "18  มัดย้อม (ชุดตุ๊กตาบาร์บี้มินิมอล) HandMade  เน...         ฿260   \n",
       "19  มัดย้อม (ชุดเดรสคอเต่าผูกหลัง) HandMade เนื้อผ...         ฿230   \n",
       "20  มัดย้อม (ชุดเซ็ตแขนระบาย) HandMade เนื้อผ้าสปั...         ฿370   \n",
       "21  มัดย้อม (เดรสปุ้มปุ้ย) HandMade เนื้อผ้าสปัน ส...         ฿250   \n",
       "22  กางเกง 4 สาย ผ้าเรยอน ผูกหน้าหลัง (มัดย้อมก้นห...         ฿150   \n",
       "23  มัดย้อม (ตุ๊กตาบาร์บี้มินิมอล) HandMade เนื้อผ...         ฿260   \n",
       "24  เสื้อฮาวายผ้าเรยอน ลายมัดย้อมพลุ ใส่สบาย ผ้าพร...         ฿180   \n",
       "25  เดรสมัดย้อม (สายเดี่ยวเกาหลี) เนื้อผ้าสปัน ย้อ...         ฿270   \n",
       "26  มัดย้อม (ชุดแขนกุด) HandMade เนื้อผ้าสปัน สวมใ...         ฿230   \n",
       "27  เซ็ตเสื้อชมพู่+กางเกงขายาวเอวสม็อค เก๋มาก งานม...         ฿450   \n",
       "28  ชุดมัดย้อม (ฟามิงโก้กัดสี)  เหมาะสำหรับสาวๆใส่...         ฿250   \n",
       "29  เดรสมัดย้อม ผ้าสปันใส่สบายๆๆ ฟรีไซส์ มีหลากหลา...         ฿250   \n",
       "30  มัดย้อม (เดรสบาหลี) HandMade เนื้อผ้าสปัน สวมใ...         ฿250   \n",
       "31  มัดย้อม (ชุดบาร์บี้) HandMade เนื้อผ้าสปัน สวม...         ฿260   \n",
       "32  มัดย้อม (เดรสนากา) HandMade เนื้อผ้าสปัน สวมใส...         ฿250   \n",
       "33  เสื้อฮาวาย+กางเกงขายาวเอวเชือก ลายรุ้ง กัญชา ห...         ฿330   \n",
       "34  มัดย้อม (เดรสปุ้มปุ้ย) HandMade เนื้อผ้าสปัน ส...         ฿250   \n",
       "35  มัดย้อม (ชุดเฉียงข้าง) HandMade เนื้อผ้าสปัน ส...         ฿200   \n",
       "36  กางเกงคู่เสื้อลายมัดย้อมกัดสี ผ้าเรยอน ใส่สบาย...         ฿300   \n",
       "37  เสื้อมัดย้อม เด็กและผู้ใหญ่ ใส่ได้ทั้งครอบครัว...  ฿150 - ฿190   \n",
       "38  เสื้อมัดย้อมกัดสี เด็กและผู้ใหญ่ ใส่ได้ทั้งครอ...  ฿150 - ฿190   \n",
       "39  มัดย้อม (กระโปรงพัน ระบาย 2 ชั้น) HandMade เนื...         ฿230   \n",
       "40       (พร้อมส่ง) กางเกงช้าง เอวสม็อค ลายมัดย้อมพลุ         ฿150   \n",
       "41  เสื้อมัดย้อม คู่กางเกงช้าง สำหรับเด็กเล็กและเด...  ฿100 - ฿170   \n",
       "\n",
       "                   sale                            stock  \n",
       "0      ขายแล้ว 191 ชิ้น  จำนวน 1มีสินค้าทั้งหมด 346 ชิ้น  \n",
       "1      ขายแล้ว 123 ชิ้น   จำนวน 1มีสินค้าทั้งหมด 95 ชิ้น  \n",
       "2   ขายแล้ว 1.3พัน ชิ้น  จำนวน 1มีสินค้าทั้งหมด 911 ชิ้น  \n",
       "3       ขายแล้ว 97 ชิ้น  จำนวน 1มีสินค้าทั้งหมด 258 ชิ้น  \n",
       "4      ขายแล้ว 147 ชิ้น   จำนวน 1มีสินค้าทั้งหมด 91 ชิ้น  \n",
       "5       ขายแล้ว 20 ชิ้น    จำนวน 1มีสินค้าทั้งหมด 9 ชิ้น  \n",
       "6       ขายแล้ว 33 ชิ้น  จำนวน 1มีสินค้าทั้งหมด 143 ชิ้น  \n",
       "7      ขายแล้ว 407 ชิ้น  จำนวน 1มีสินค้าทั้งหมด 728 ชิ้น  \n",
       "8      ขายแล้ว 203 ชิ้น   จำนวน 1มีสินค้าทั้งหมด 72 ชิ้น  \n",
       "9       ขายแล้ว 13 ชิ้น   จำนวน 1มีสินค้าทั้งหมด 40 ชิ้น  \n",
       "10     ขายแล้ว 106 ชิ้น   จำนวน 1มีสินค้าทั้งหมด 60 ชิ้น  \n",
       "11     ขายแล้ว 266 ชิ้น  จำนวน 1มีสินค้าทั้งหมด 181 ชิ้น  \n",
       "12      ขายแล้ว 67 ชิ้น  จำนวน 1มีสินค้าทั้งหมด 560 ชิ้น  \n",
       "13     ขายแล้ว 129 ชิ้น  จำนวน 1มีสินค้าทั้งหมด 966 ชิ้น  \n",
       "14      ขายแล้ว 57 ชิ้น   จำนวน 1มีสินค้าทั้งหมด 69 ชิ้น  \n",
       "15     ขายแล้ว 136 ชิ้น   จำนวน 1มีสินค้าทั้งหมด 20 ชิ้น  \n",
       "16     ขายแล้ว 581 ชิ้น   จำนวน 1มีสินค้าทั้งหมด 79 ชิ้น  \n",
       "17      ขายแล้ว 53 ชิ้น  จำนวน 1มีสินค้าทั้งหมด 474 ชิ้น  \n",
       "18      ขายแล้ว 90 ชิ้น   จำนวน 1มีสินค้าทั้งหมด 82 ชิ้น  \n",
       "19      ขายแล้ว 48 ชิ้น  จำนวน 1มีสินค้าทั้งหมด 296 ชิ้น  \n",
       "20      ขายแล้ว 21 ชิ้น   จำนวน 1มีสินค้าทั้งหมด 96 ชิ้น  \n",
       "21      ขายแล้ว 30 ชิ้น  จำนวน 1มีสินค้าทั้งหมด 409 ชิ้น  \n",
       "22     ขายแล้ว 443 ชิ้น  จำนวน 1มีสินค้าทั้งหมด 167 ชิ้น  \n",
       "23      ขายแล้ว 21 ชิ้น   จำนวน 1มีสินค้าทั้งหมด 80 ชิ้น  \n",
       "24      ขายแล้ว 40 ชิ้น  จำนวน 1มีสินค้าทั้งหมด 599 ชิ้น  \n",
       "25      ขายแล้ว 97 ชิ้น  จำนวน 1มีสินค้าทั้งหมด 115 ชิ้น  \n",
       "26       ขายแล้ว 6 ชิ้น  จำนวน 1มีสินค้าทั้งหมด 111 ชิ้น  \n",
       "27     ขายแล้ว 219 ชิ้น   จำนวน 1มีสินค้าทั้งหมด 30 ชิ้น  \n",
       "28      ขายแล้ว 73 ชิ้น   จำนวน 1มีสินค้าทั้งหมด 30 ชิ้น  \n",
       "29      ขายแล้ว 89 ชิ้น   จำนวน 1มีสินค้าทั้งหมด 30 ชิ้น  \n",
       "30      ขายแล้ว 46 ชิ้น   จำนวน 1มีสินค้าทั้งหมด 30 ชิ้น  \n",
       "31      ขายแล้ว 60 ชิ้น   จำนวน 1มีสินค้าทั้งหมด 30 ชิ้น  \n",
       "32      ขายแล้ว 38 ชิ้น   จำนวน 1มีสินค้าทั้งหมด 30 ชิ้น  \n",
       "33     ขายแล้ว 100 ชิ้น   จำนวน 1มีสินค้าทั้งหมด 30 ชิ้น  \n",
       "34      ขายแล้ว 14 ชิ้น   จำนวน 1มีสินค้าทั้งหมด 30 ชิ้น  \n",
       "35     ขายแล้ว 219 ชิ้น   จำนวน 1มีสินค้าทั้งหมด 30 ชิ้น  \n",
       "36       ขายแล้ว 1 ชิ้น   จำนวน 1มีสินค้าทั้งหมด 30 ชิ้น  \n",
       "37      ขายแล้ว 37 ชิ้น   จำนวน 1มีสินค้าทั้งหมด 30 ชิ้น  \n",
       "38                 None   จำนวน 1มีสินค้าทั้งหมด 30 ชิ้น  \n",
       "39                 None   จำนวน 1มีสินค้าทั้งหมด 30 ชิ้น  \n",
       "40                 None   จำนวน 1มีสินค้าทั้งหมด 30 ชิ้น  \n",
       "41                 None                             None  "
      ]
     },
     "execution_count": 421,
     "metadata": {},
     "output_type": "execute_result"
    }
   ],
   "source": [
    "shopee_data = shopee_data.transpose()\n",
    "shopee_data.columns = ['name','score','promotion','product_name','price', 'sale', 'stock']\n",
    "shopee_data"
   ]
  },
  {
   "cell_type": "code",
   "execution_count": 422,
   "id": "a2e80276",
   "metadata": {},
   "outputs": [],
   "source": [
    "shopee_data.to_excel(r'/Users/kritchayahirunno/Desktop/webscp/chinrada(11.10).xlsx')"
   ]
  },
  {
   "cell_type": "code",
   "execution_count": null,
   "id": "a85db479",
   "metadata": {},
   "outputs": [],
   "source": []
  }
 ],
 "metadata": {
  "kernelspec": {
   "display_name": "Python 3",
   "language": "python",
   "name": "python3"
  },
  "language_info": {
   "codemirror_mode": {
    "name": "ipython",
    "version": 3
   },
   "file_extension": ".py",
   "mimetype": "text/x-python",
   "name": "python",
   "nbconvert_exporter": "python",
   "pygments_lexer": "ipython3",
   "version": "3.8.8"
  }
 },
 "nbformat": 4,
 "nbformat_minor": 5
}
