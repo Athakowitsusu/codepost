{
 "cells": [
  {
   "cell_type": "code",
   "execution_count": 57,
   "id": "f4ab4558",
   "metadata": {},
   "outputs": [],
   "source": [
    "from selenium import webdriver\n",
    "from selenium.webdriver.common.keys import Keys\n",
    "import bs4\n",
    "import pandas as pd"
   ]
  },
  {
   "cell_type": "code",
   "execution_count": 58,
   "id": "151b102c",
   "metadata": {},
   "outputs": [],
   "source": [
    "driver = webdriver.Chrome()"
   ]
  },
  {
   "cell_type": "code",
   "execution_count": 59,
   "id": "e2d8e8a9",
   "metadata": {},
   "outputs": [],
   "source": [
    "driver.get('https://shopee.co.th/24storebybn?utm_content=3grW3YsCii6cvCiBWgCx11Xc2kSs')"
   ]
  },
  {
   "cell_type": "code",
   "execution_count": 60,
   "id": "ff402cea",
   "metadata": {},
   "outputs": [],
   "source": [
    "thai_button = driver.find_element(\"xpath\", '/html/body/div[2]/div[1]/div[1]/div/div[3]/div[1]/button')"
   ]
  },
  {
   "cell_type": "code",
   "execution_count": 61,
   "id": "95966693",
   "metadata": {},
   "outputs": [],
   "source": [
    "thai_button.click()"
   ]
  },
  {
   "cell_type": "code",
   "execution_count": 62,
   "id": "77b566f9",
   "metadata": {},
   "outputs": [],
   "source": [
    "driver.execute_script(\"document.body.style.zoom='25%'\")"
   ]
  },
  {
   "cell_type": "code",
   "execution_count": 63,
   "id": "f130ecc4",
   "metadata": {},
   "outputs": [],
   "source": [
    "data = driver.page_source"
   ]
  },
  {
   "cell_type": "code",
   "execution_count": 64,
   "id": "1a632e26",
   "metadata": {},
   "outputs": [],
   "source": [
    "soup = bs4.BeautifulSoup(data)"
   ]
  },
  {
   "cell_type": "code",
   "execution_count": 65,
   "id": "590e8738",
   "metadata": {},
   "outputs": [],
   "source": [
    "store_name = soup.find_all('div',{'class':'section-seller-overview-horizontal__seller-portrait UgJq78'})"
   ]
  },
  {
   "cell_type": "code",
   "execution_count": 66,
   "id": "209ee694",
   "metadata": {},
   "outputs": [
    {
     "data": {
      "text/plain": [
       "['24storebybn.officialActive 46 นาที  ที่ผ่านมา']"
      ]
     },
     "execution_count": 66,
     "metadata": {},
     "output_type": "execute_result"
    }
   ],
   "source": [
    "store_name_list = []\n",
    "for product in store_name:\n",
    "    text = product.text.strip()\n",
    "    if text:\n",
    "        store_name_list.append(text)\n",
    "store_name_list"
   ]
  },
  {
   "cell_type": "code",
   "execution_count": 67,
   "id": "8cde92d1",
   "metadata": {},
   "outputs": [],
   "source": [
    "store_score = driver.find_elements(\"xpath\",'/html/body/div[1]/div/div[2]/div/div/div/div[2]/div/div[1]/div/div[2]/div[4]/div[2]/div[2]')"
   ]
  },
  {
   "cell_type": "code",
   "execution_count": 68,
   "id": "8cc99f90",
   "metadata": {},
   "outputs": [
    {
     "data": {
      "text/plain": [
       "['4.8 (การให้คะแนนทั้งหมด 2.2พัน)']"
      ]
     },
     "execution_count": 68,
     "metadata": {},
     "output_type": "execute_result"
    }
   ],
   "source": [
    "store_score_list = []\n",
    "for product in store_score:\n",
    "    text = product.text.strip()\n",
    "    if text:\n",
    "        store_score_list.append(text)\n",
    "store_score_list"
   ]
  },
  {
   "cell_type": "code",
   "execution_count": 69,
   "id": "eb3dfb52",
   "metadata": {},
   "outputs": [],
   "source": [
    "store_promotion = soup.find_all('div',{'class':'SLtncH'})"
   ]
  },
  {
   "cell_type": "code",
   "execution_count": 70,
   "id": "77eee4c9",
   "metadata": {},
   "outputs": [
    {
     "data": {
      "text/plain": [
       "['ส่วนลด ฿20ขั้นต่ำ ฿299ใช้ได้ก่อน: 20.10.2023',\n",
       " 'ส่วนลด ฿30ขั้นต่ำ ฿399ใช้ได้ก่อน: 12.11.2023',\n",
       " 'ส่วนลด ฿50ขั้นต่ำ ฿799สินค้าที่กำหนดใช้ได้ก่อน: 12.11.2023']"
      ]
     },
     "execution_count": 70,
     "metadata": {},
     "output_type": "execute_result"
    }
   ],
   "source": [
    "store_promotion_list = []\n",
    "for product in store_promotion:\n",
    "    text = product.text.strip()\n",
    "    if text:\n",
    "        store_promotion_list.append(text)\n",
    "store_promotion_list"
   ]
  },
  {
   "cell_type": "code",
   "execution_count": 71,
   "id": "c2a6dbf9",
   "metadata": {},
   "outputs": [],
   "source": [
    "search = driver.find_element(\"xpath\",'/html/body/div[1]/div/div[2]/div/header/div[2]/div/div[1]/form/div/div[1]/input')"
   ]
  },
  {
   "cell_type": "code",
   "execution_count": 72,
   "id": "389e78e5",
   "metadata": {},
   "outputs": [],
   "source": [
    "search.send_keys('มัดย้อม')"
   ]
  },
  {
   "cell_type": "code",
   "execution_count": 73,
   "id": "7e89f5c6",
   "metadata": {},
   "outputs": [],
   "source": [
    "search.send_keys(Keys.ENTER)"
   ]
  },
  {
   "cell_type": "code",
   "execution_count": 74,
   "id": "d3152748",
   "metadata": {},
   "outputs": [],
   "source": [
    "data = driver.page_source"
   ]
  },
  {
   "cell_type": "code",
   "execution_count": 75,
   "id": "72006d83",
   "metadata": {},
   "outputs": [],
   "source": [
    "soup = bs4.BeautifulSoup(data)"
   ]
  },
  {
   "cell_type": "code",
   "execution_count": 76,
   "id": "daa17436",
   "metadata": {},
   "outputs": [],
   "source": [
    "product_name = soup.find_all('div',{'class':'FDn--+'})"
   ]
  },
  {
   "cell_type": "code",
   "execution_count": 77,
   "id": "2254a1da",
   "metadata": {},
   "outputs": [
    {
     "data": {
      "text/plain": [
       "['💙เสื้อคอจีนมัดย้อม/แขนสั้น💙เข้ม+ท้องฟ้า☁️',\n",
       " '🌈เสื้อปกคอจีนมัดย้อม/แขนสั้น (มีกระเป๋าหน้าอก) 🌈เนื้อผ้าฝ้ายเมมเบิด💯 ใส่สบาย ไม่ร้อน มีSizeตั้งแต่รอบอก44\"-50\"',\n",
       " 'มีสินค้าพร้อมส่ง✅ ผ้าคาดผมมัดย้อมทรงสามเหลี่ยม ลายดอกเดซี่Daisy🌼',\n",
       " 'มีสินค้าพร้อมส่ง✅ ผ้าคาดผมมัดย้อม (ยางยืดรอบเส้น) คละลาย✔️',\n",
       " 'เสื้อยืดมัดย้อม🔵สีม่อฮ่อม🔵ใส่ได้ทั้งหญิง/ชาย🔵ผ้าCotton100%',\n",
       " '💥Collection2💥 🌈เสื้อยืดมัดย้อมแฟชั่น🎨 เนื้อผ้าCOTTON 100% นุ่ม ใส่สบาย 👉🏻มีตั้งแต่Size S-4XL👈🏻',\n",
       " 'เสื้อยืดมัดย้อม🔵สีม่อฮ่อม🔵ใส่ได้ทั้งหญิง/ชาย🔵',\n",
       " '⭐️NEW⭐️กางเกงขายาวมัดย้อม รุ่น OCEAN PANTS (ผูกโบว์ได้)  6 แบบ | ใส่ได้ทั้งผู้ชายและผู้หญิง',\n",
       " '🔥UNISEX ขายดีที่สุด ถูกที่สุด🔥 🌈เสื้อยืดมัดย้อมแฟชั่น🎨 เนื้อผ้าCOTTON 100% นุ่ม ใส่สบาย 👉🏻มีตั้งแต่Size S-4XL👈🏻',\n",
       " '💣เสื้อยืดมัดย้อมดำกัดลาย 💣 ใส่แล้วเท่ นุ่ม สบาย เนื้อระบายอากาศได้ดี',\n",
       " '🌈เสื้อเชิ้ตฮาวายมัดย้อม(มีกระเป๋าหน้าอก) 🌈เนื้อผ้าฝ้ายเมมเบิด💯 ใส่สบาย ไม่ร้อน',\n",
       " '🌈เสื้อเชิ้ตฮาวายมัดย้อม 🌈No.7🟦',\n",
       " 'เสื้อยืดมัดย้อมเด็กๆ | 𝗦𝗛𝗜𝗥𝗧 𝗙𝗢𝗥 𝗞𝗜𝗗𝗦 👶🏻 Cottonแท้100% ใส่ได้ทั้งเด็กผู้หญิงและเด็กผู้ชาย',\n",
       " '💙เสื้อยืดมัดย้อม💙สีม่อฮ่อม🌧ใส่ได้ทั้งหญิง/ชาย 🌿ผ้าCotton100%🌿',\n",
       " '🌈เสื้อเชิ้ตฮาวายมัดย้อม 🌈No.9🟦',\n",
       " '🌈เสื้อเชิ้ตฮาวายมัดย้อม 🌈No.10🟦',\n",
       " 'NEW IN🌧 ⭐️ สินค้าใหม่ ⭐️ เสื้อแขนกุดสไตล์มัดย้อม 🌈',\n",
       " '🌈เสื้อปกคอจีนมัดย้อม/แขนยาว (มีกระเป๋าหน้าอก🌈 เนื้อผ้าฝ้ายเมมเบิด💯 ใส่สบาย ไม่ร้อน มีSizeตั้งแต่รอบอก44\"-50\"',\n",
       " '✅เสื้อยืด 𝗖𝗥𝗢𝗣 𝗧𝗢𝗣 เอวลอยสไตล์มัดย้อม🌧6 แบบ 6 ลาย',\n",
       " '☀️เสื้อคอจีนมัดย้อม/แขนยาว☀️เข้ม+ท้องฟ้า☁️',\n",
       " '🌈เสื้อเชิ้ตฮาวายมัดย้อม 🌈No.8🟦',\n",
       " '🌈เสื้อเชิ้ตฮาวายมัดย้อม 🌈No.12🟦',\n",
       " '☁️เสื้อคอจีนมัดย้อม/แขนสั้น💙 No.7',\n",
       " '🌈เสื้อเชิ้ตฮาวายมัดย้อม 🌈No.11🟦',\n",
       " '🔹เสื้อคอจีนมัดย้อม/แขนยาว🔹☁️ลายท้องฟ้า☁️',\n",
       " '🟦 เสื้อเชิ้ตฮาวายมัดย้อม 🟦เข้ม+ท้องฟ้า☁️',\n",
       " '🧧เสื้อปกคอจีนมัดย้อม/แขนสั้น (มีกระเป๋าหน้าอก) 🧧เนื้อผ้าฝ้ายเมมเบิด💯 ลายตาราง',\n",
       " '🔹เสื้อคอจีนมัดย้อม/แขนสั้น🔹☁️ลายท้องฟ้า☁️',\n",
       " '🧧เสื้อปกคอจีนมัดย้อม/แขนยาว (มีกระเป๋าหน้าอก) 🧧เนื้อผ้าฝ้ายเมมเบิด💯 ลายเส้น',\n",
       " '🐱สินค้าพร้อมส่ง🐶สร้อยปลอกคอหมา/แมว สไตล์มัดย้อม(แบบนิรภัยพร้อมกระดิ่ง)']"
      ]
     },
     "execution_count": 77,
     "metadata": {},
     "output_type": "execute_result"
    }
   ],
   "source": [
    "product_name_list = []\n",
    "for product in product_name:\n",
    "    text = product.text.strip()\n",
    "    if text:\n",
    "        product_name_list.append(text)\n",
    "product_name_list"
   ]
  },
  {
   "cell_type": "code",
   "execution_count": 78,
   "id": "534c07a4",
   "metadata": {},
   "outputs": [],
   "source": [
    "product_price = soup.find_all('div',{'class':'vioxXd rVLWG6'})"
   ]
  },
  {
   "cell_type": "code",
   "execution_count": 79,
   "id": "2641ec9c",
   "metadata": {},
   "outputs": [
    {
     "data": {
      "text/plain": [
       "['฿187',\n",
       " '฿187',\n",
       " '฿79',\n",
       " '฿69',\n",
       " '฿187 - ฿255',\n",
       " '฿187 - ฿255',\n",
       " '฿179 - ฿249',\n",
       " '฿189',\n",
       " '฿187 - ฿255',\n",
       " '฿169 - ฿229',\n",
       " '฿198',\n",
       " '฿198',\n",
       " '฿150',\n",
       " '฿187 - ฿255',\n",
       " '฿198',\n",
       " '฿198',\n",
       " '฿169',\n",
       " '฿198',\n",
       " '฿179',\n",
       " '฿198',\n",
       " '฿198',\n",
       " '฿198',\n",
       " '฿187',\n",
       " '฿198',\n",
       " '฿198',\n",
       " '฿198',\n",
       " '฿187',\n",
       " '฿187',\n",
       " '฿198',\n",
       " '฿79']"
      ]
     },
     "execution_count": 79,
     "metadata": {},
     "output_type": "execute_result"
    }
   ],
   "source": [
    "product_price_list = []\n",
    "for product in product_price:\n",
    "    text = product.text.strip()\n",
    "    if text:\n",
    "        product_price_list.append(text)\n",
    "product_price_list"
   ]
  },
  {
   "cell_type": "code",
   "execution_count": 80,
   "id": "353b481c",
   "metadata": {},
   "outputs": [],
   "source": [
    "product_sale = soup.find_all('div',{'class':'r6HknA uEPGHT'})"
   ]
  },
  {
   "cell_type": "code",
   "execution_count": 81,
   "id": "568d9664",
   "metadata": {
    "scrolled": true
   },
   "outputs": [
    {
     "data": {
      "text/plain": [
       "['ขายแล้ว 18 ชิ้น',\n",
       " 'ขายแล้ว 803 ชิ้น',\n",
       " 'ขายแล้ว 49 ชิ้น',\n",
       " 'ขายแล้ว 8 ชิ้น',\n",
       " 'ขายแล้ว 93 ชิ้น',\n",
       " 'ขายแล้ว 4 ชิ้น',\n",
       " 'ขายแล้ว 47 ชิ้น',\n",
       " 'ขายแล้ว 1.5พัน ชิ้น',\n",
       " 'ขายแล้ว 25 ชิ้น',\n",
       " 'ขายแล้ว 2.9พัน ชิ้น',\n",
       " 'ขายแล้ว 20 ชิ้น',\n",
       " 'ขายแล้ว 6 ชิ้น',\n",
       " 'ขายแล้ว 6 ชิ้น',\n",
       " 'ขายแล้ว 13 ชิ้น',\n",
       " 'ขายแล้ว 10 ชิ้น',\n",
       " 'ขายแล้ว 92 ชิ้น',\n",
       " 'ขายแล้ว 481 ชิ้น',\n",
       " 'ขายแล้ว 83 ชิ้น',\n",
       " 'ขายแล้ว 41 ชิ้น',\n",
       " 'ขายแล้ว 10 ชิ้น',\n",
       " 'ขายแล้ว 1 ชิ้น',\n",
       " 'ขายแล้ว 6 ชิ้น',\n",
       " 'ขายแล้ว 209 ชิ้น',\n",
       " 'ขายแล้ว 9 ชิ้น',\n",
       " 'ขายแล้ว 10 ชิ้น',\n",
       " 'ขายแล้ว 260 ชิ้น',\n",
       " 'ขายแล้ว 7 ชิ้น',\n",
       " 'ขายแล้ว 4 ชิ้น']"
      ]
     },
     "execution_count": 81,
     "metadata": {},
     "output_type": "execute_result"
    }
   ],
   "source": [
    "product_sale_list = []\n",
    "for product in product_sale:\n",
    "    text = product.text.strip()\n",
    "    if text:\n",
    "        product_sale_list.append(text)\n",
    "product_sale_list"
   ]
  },
  {
   "cell_type": "code",
   "execution_count": 82,
   "id": "3bf19bb3",
   "metadata": {},
   "outputs": [],
   "source": [
    "driver.execute_script(\"document.body.style.zoom='100%'\")"
   ]
  },
  {
   "cell_type": "code",
   "execution_count": 83,
   "id": "09f35514",
   "metadata": {},
   "outputs": [],
   "source": [
    "product1 = driver.find_element(\"xpath\", '/html/body/div[1]/div/div[2]/div/div/div[2]/section/ul/li[1]')"
   ]
  },
  {
   "cell_type": "code",
   "execution_count": 84,
   "id": "ea9bcf30",
   "metadata": {},
   "outputs": [],
   "source": [
    "product1.click()"
   ]
  },
  {
   "cell_type": "code",
   "execution_count": 85,
   "id": "b35fd971",
   "metadata": {},
   "outputs": [],
   "source": [
    "driver.execute_script(\"document.body.style.zoom='25%'\")"
   ]
  },
  {
   "cell_type": "code",
   "execution_count": 86,
   "id": "a55c49fb",
   "metadata": {},
   "outputs": [],
   "source": [
    "data = driver.page_source"
   ]
  },
  {
   "cell_type": "code",
   "execution_count": 87,
   "id": "1f31d551",
   "metadata": {},
   "outputs": [],
   "source": [
    "soup = bs4.BeautifulSoup(data)"
   ]
  },
  {
   "cell_type": "code",
   "execution_count": 88,
   "id": "f642a230",
   "metadata": {},
   "outputs": [],
   "source": [
    "product1_score = soup.find_all('div',{'class':'flex items-center'})"
   ]
  },
  {
   "cell_type": "code",
   "execution_count": 89,
   "id": "1bcde375",
   "metadata": {},
   "outputs": [
    {
     "data": {
      "text/plain": [
       "['จำนวน 1มีสินค้าทั้งหมด 50 ชิ้น']"
      ]
     },
     "execution_count": 89,
     "metadata": {},
     "output_type": "execute_result"
    }
   ],
   "source": [
    "product1_score_list = []\n",
    "for product in product1_score:\n",
    "    text = product.text.strip()\n",
    "    if text:\n",
    "        product1_score_list.append(text)\n",
    "product1_score_list = product1_score_list[2]\n",
    "product1_score_list = product1_score_list.split('\\n')\n",
    "product1_score_list"
   ]
  },
  {
   "cell_type": "code",
   "execution_count": 90,
   "id": "416ab336",
   "metadata": {},
   "outputs": [],
   "source": [
    "driver.back()"
   ]
  },
  {
   "cell_type": "code",
   "execution_count": 91,
   "id": "121b220a",
   "metadata": {},
   "outputs": [],
   "source": [
    "driver.execute_script(\"document.body.style.zoom='100%'\")"
   ]
  },
  {
   "cell_type": "code",
   "execution_count": 92,
   "id": "9c70b271",
   "metadata": {},
   "outputs": [],
   "source": [
    "product2 = driver.find_element(\"xpath\", '/html/body/div[1]/div/div[2]/div/div/div[2]/section/ul/li[2]/a/div/div')"
   ]
  },
  {
   "cell_type": "code",
   "execution_count": 93,
   "id": "1bc8bd5d",
   "metadata": {},
   "outputs": [],
   "source": [
    "product2.click()"
   ]
  },
  {
   "cell_type": "code",
   "execution_count": 94,
   "id": "b1bd4f6c",
   "metadata": {},
   "outputs": [],
   "source": [
    "driver.execute_script(\"document.body.style.zoom='25%'\")"
   ]
  },
  {
   "cell_type": "code",
   "execution_count": 95,
   "id": "68d6cdeb",
   "metadata": {},
   "outputs": [],
   "source": [
    "data = driver.page_source"
   ]
  },
  {
   "cell_type": "code",
   "execution_count": 96,
   "id": "46bb5af0",
   "metadata": {},
   "outputs": [],
   "source": [
    "soup = bs4.BeautifulSoup(data)"
   ]
  },
  {
   "cell_type": "code",
   "execution_count": 97,
   "id": "957a356b",
   "metadata": {},
   "outputs": [],
   "source": [
    "product2_score = soup.find_all('div',{'class':'flex items-center'})"
   ]
  },
  {
   "cell_type": "code",
   "execution_count": 98,
   "id": "58fa72bb",
   "metadata": {},
   "outputs": [
    {
     "data": {
      "text/plain": [
       "['จำนวน 1มีสินค้าทั้งหมด 295 ชิ้น']"
      ]
     },
     "execution_count": 98,
     "metadata": {},
     "output_type": "execute_result"
    }
   ],
   "source": [
    "product2_score_list = []\n",
    "for product in product2_score:\n",
    "    text = product.text.strip()\n",
    "    if text:\n",
    "        product2_score_list.append(text)\n",
    "product2_score_list = product2_score_list[2]\n",
    "product2_score_list = product2_score_list.split('\\n')\n",
    "product2_score_list"
   ]
  },
  {
   "cell_type": "code",
   "execution_count": 99,
   "id": "ac5ecc67",
   "metadata": {},
   "outputs": [],
   "source": [
    "driver.back()"
   ]
  },
  {
   "cell_type": "code",
   "execution_count": 334,
   "id": "db62e566",
   "metadata": {},
   "outputs": [],
   "source": [
    "driver.execute_script(\"document.body.style.zoom='100%'\")"
   ]
  },
  {
   "cell_type": "code",
   "execution_count": 335,
   "id": "094f73bd",
   "metadata": {},
   "outputs": [],
   "source": [
    "product3 = driver.find_element(\"xpath\",'/html/body/div[1]/div/div[2]/div/div/div[2]/section/ul/li[3]/a/div/div')"
   ]
  },
  {
   "cell_type": "code",
   "execution_count": 336,
   "id": "e5ee85a0",
   "metadata": {},
   "outputs": [],
   "source": [
    "product3.click()"
   ]
  },
  {
   "cell_type": "code",
   "execution_count": 337,
   "id": "b2e247b5",
   "metadata": {},
   "outputs": [],
   "source": [
    "driver.execute_script(\"document.body.style.zoom='25%'\")"
   ]
  },
  {
   "cell_type": "code",
   "execution_count": 338,
   "id": "e9a10d86",
   "metadata": {},
   "outputs": [],
   "source": [
    "data = driver.page_source"
   ]
  },
  {
   "cell_type": "code",
   "execution_count": 339,
   "id": "fd272d87",
   "metadata": {},
   "outputs": [],
   "source": [
    "soup = bs4.BeautifulSoup(data)"
   ]
  },
  {
   "cell_type": "code",
   "execution_count": 340,
   "id": "24c2f96a",
   "metadata": {},
   "outputs": [],
   "source": [
    "product3_score = soup.find_all('div',{'class':'flex items-center'})"
   ]
  },
  {
   "cell_type": "code",
   "execution_count": 341,
   "id": "266412e9",
   "metadata": {},
   "outputs": [
    {
     "data": {
      "text/plain": [
       "['จำนวน 1มีสินค้าทั้งหมด 31 ชิ้น']"
      ]
     },
     "execution_count": 341,
     "metadata": {},
     "output_type": "execute_result"
    }
   ],
   "source": [
    "product3_score_list = []\n",
    "for product in product3_score:\n",
    "    text = product.text.strip()\n",
    "    if text:\n",
    "        product3_score_list.append(text)\n",
    "product3_score_list = product3_score_list[2]\n",
    "product3_score_list = product3_score_list.split('\\n')\n",
    "product3_score_list"
   ]
  },
  {
   "cell_type": "code",
   "execution_count": null,
   "id": "fd7bf240",
   "metadata": {},
   "outputs": [],
   "source": [
    "driver.back()"
   ]
  },
  {
   "cell_type": "code",
   "execution_count": 44,
   "id": "1624fbe4",
   "metadata": {},
   "outputs": [],
   "source": [
    "driver.execute_script(\"document.body.style.zoom='100%'\")"
   ]
  },
  {
   "cell_type": "code",
   "execution_count": 45,
   "id": "d3b0d834",
   "metadata": {},
   "outputs": [],
   "source": [
    "product4 = driver.find_element(\"xpath\",'/html/body/div[1]/div/div[2]/div/div/div[2]/section/ul/li[4]/a/div/div')"
   ]
  },
  {
   "cell_type": "code",
   "execution_count": 46,
   "id": "c277fa62",
   "metadata": {},
   "outputs": [],
   "source": [
    "product4.click()"
   ]
  },
  {
   "cell_type": "code",
   "execution_count": 47,
   "id": "192793f0",
   "metadata": {},
   "outputs": [],
   "source": [
    "driver.execute_script(\"document.body.style.zoom='25%'\")"
   ]
  },
  {
   "cell_type": "code",
   "execution_count": 48,
   "id": "687e8b2c",
   "metadata": {},
   "outputs": [],
   "source": [
    "data = driver.page_source"
   ]
  },
  {
   "cell_type": "code",
   "execution_count": 49,
   "id": "46da9dc7",
   "metadata": {},
   "outputs": [],
   "source": [
    "soup = bs4.BeautifulSoup(data)"
   ]
  },
  {
   "cell_type": "code",
   "execution_count": 50,
   "id": "f712074d",
   "metadata": {},
   "outputs": [],
   "source": [
    "product4_score = soup.find_all('div',{'class':'flex items-center'})"
   ]
  },
  {
   "cell_type": "code",
   "execution_count": 51,
   "id": "86fe403a",
   "metadata": {},
   "outputs": [
    {
     "data": {
      "text/plain": [
       "['จำนวน 1มีสินค้าทั้งหมด 20 ชิ้น']"
      ]
     },
     "execution_count": 51,
     "metadata": {},
     "output_type": "execute_result"
    }
   ],
   "source": [
    "product4_score_list = []\n",
    "for product in product4_score:\n",
    "    text = product.text.strip()\n",
    "    if text:\n",
    "        product4_score_list.append(text)\n",
    "product4_score_list = product4_score_list[2]\n",
    "product4_score_list = product4_score_list.split('\\n')\n",
    "product4_score_list "
   ]
  },
  {
   "cell_type": "code",
   "execution_count": 52,
   "id": "4d0a5c8f",
   "metadata": {},
   "outputs": [],
   "source": [
    "driver.back()"
   ]
  },
  {
   "cell_type": "code",
   "execution_count": 100,
   "id": "54674362",
   "metadata": {},
   "outputs": [],
   "source": [
    "driver.execute_script(\"document.body.style.zoom='100%'\")"
   ]
  },
  {
   "cell_type": "code",
   "execution_count": 101,
   "id": "d6b2d949",
   "metadata": {},
   "outputs": [],
   "source": [
    "product5 = driver.find_element(\"xpath\",'/html/body/div[1]/div/div[2]/div/div/div[2]/section/ul/li[5]/a/div/div')"
   ]
  },
  {
   "cell_type": "code",
   "execution_count": 102,
   "id": "7e01bdfe",
   "metadata": {},
   "outputs": [],
   "source": [
    "product5.click()"
   ]
  },
  {
   "cell_type": "code",
   "execution_count": 103,
   "id": "4bd54bef",
   "metadata": {},
   "outputs": [],
   "source": [
    "driver.execute_script(\"document.body.style.zoom='25%'\")"
   ]
  },
  {
   "cell_type": "code",
   "execution_count": 104,
   "id": "478d28e7",
   "metadata": {},
   "outputs": [],
   "source": [
    "data = driver.page_source"
   ]
  },
  {
   "cell_type": "code",
   "execution_count": 105,
   "id": "4c5822ff",
   "metadata": {},
   "outputs": [],
   "source": [
    "soup = bs4.BeautifulSoup(data)"
   ]
  },
  {
   "cell_type": "code",
   "execution_count": 106,
   "id": "11e86033",
   "metadata": {},
   "outputs": [],
   "source": [
    "product5_score = soup.find_all('div',{'class':'flex items-center'})"
   ]
  },
  {
   "cell_type": "code",
   "execution_count": 107,
   "id": "8734c4cb",
   "metadata": {},
   "outputs": [
    {
     "data": {
      "text/plain": [
       "['จำนวน 1มีสินค้าทั้งหมด 692 ชิ้น']"
      ]
     },
     "execution_count": 107,
     "metadata": {},
     "output_type": "execute_result"
    }
   ],
   "source": [
    "product5_score_list = []\n",
    "for product in product5_score:\n",
    "    text = product.text.strip()\n",
    "    if text:\n",
    "        product5_score_list.append(text)\n",
    "product5_score_list = product5_score_list[2]\n",
    "product5_score_list = product5_score_list.split('\\n')\n",
    "product5_score_list"
   ]
  },
  {
   "cell_type": "code",
   "execution_count": 108,
   "id": "1035f911",
   "metadata": {},
   "outputs": [],
   "source": [
    "driver.back()"
   ]
  },
  {
   "cell_type": "code",
   "execution_count": 109,
   "id": "8600fab4",
   "metadata": {},
   "outputs": [],
   "source": [
    "driver.execute_script(\"document.body.style.zoom='100%'\")"
   ]
  },
  {
   "cell_type": "code",
   "execution_count": 110,
   "id": "80fc1eff",
   "metadata": {},
   "outputs": [],
   "source": [
    "product6 = driver.find_element(\"xpath\",'/html/body/div[1]/div/div[2]/div/div/div[2]/section/ul/li[6]/a/div/div')"
   ]
  },
  {
   "cell_type": "code",
   "execution_count": 111,
   "id": "89169b04",
   "metadata": {},
   "outputs": [],
   "source": [
    "product6.click()"
   ]
  },
  {
   "cell_type": "code",
   "execution_count": 112,
   "id": "76521588",
   "metadata": {},
   "outputs": [],
   "source": [
    "driver.execute_script(\"document.body.style.zoom='25%'\")"
   ]
  },
  {
   "cell_type": "code",
   "execution_count": 113,
   "id": "c3f38413",
   "metadata": {},
   "outputs": [],
   "source": [
    "data = driver.page_source"
   ]
  },
  {
   "cell_type": "code",
   "execution_count": 114,
   "id": "356f5cc6",
   "metadata": {},
   "outputs": [],
   "source": [
    "soup = bs4.BeautifulSoup(data)"
   ]
  },
  {
   "cell_type": "code",
   "execution_count": 115,
   "id": "4e691041",
   "metadata": {},
   "outputs": [],
   "source": [
    "product6_score = soup.find_all('div',{'class':'flex items-center'})"
   ]
  },
  {
   "cell_type": "code",
   "execution_count": 116,
   "id": "818edb76",
   "metadata": {},
   "outputs": [
    {
     "data": {
      "text/plain": [
       "['จำนวน 1มีสินค้าทั้งหมด 1752 ชิ้น']"
      ]
     },
     "execution_count": 116,
     "metadata": {},
     "output_type": "execute_result"
    }
   ],
   "source": [
    "product6_score_list = []\n",
    "for product in product6_score:\n",
    "    text = product.text.strip()\n",
    "    if text:\n",
    "        product6_score_list.append(text)\n",
    "product6_score_list = product6_score_list[2]\n",
    "product6_score_list = product6_score_list.split('\\n')\n",
    "product6_score_list"
   ]
  },
  {
   "cell_type": "code",
   "execution_count": 117,
   "id": "5a5c7df6",
   "metadata": {},
   "outputs": [],
   "source": [
    "driver.back()"
   ]
  },
  {
   "cell_type": "code",
   "execution_count": 118,
   "id": "9a020f45",
   "metadata": {},
   "outputs": [],
   "source": [
    "driver.execute_script(\"document.body.style.zoom='100%'\")"
   ]
  },
  {
   "cell_type": "code",
   "execution_count": 119,
   "id": "0fe36bd5",
   "metadata": {},
   "outputs": [],
   "source": [
    "product7 = driver.find_element(\"xpath\",'/html/body/div[1]/div/div[2]/div/div/div[2]/section/ul/li[7]/a/div/div')"
   ]
  },
  {
   "cell_type": "code",
   "execution_count": 120,
   "id": "0d9b1410",
   "metadata": {},
   "outputs": [],
   "source": [
    "product7.click()"
   ]
  },
  {
   "cell_type": "code",
   "execution_count": 121,
   "id": "04b24708",
   "metadata": {},
   "outputs": [],
   "source": [
    "driver.execute_script(\"document.body.style.zoom='25%'\")"
   ]
  },
  {
   "cell_type": "code",
   "execution_count": 122,
   "id": "ad4267b9",
   "metadata": {},
   "outputs": [],
   "source": [
    "data = driver.page_source"
   ]
  },
  {
   "cell_type": "code",
   "execution_count": 123,
   "id": "c84870ac",
   "metadata": {},
   "outputs": [],
   "source": [
    "soup = bs4.BeautifulSoup(data)"
   ]
  },
  {
   "cell_type": "code",
   "execution_count": 124,
   "id": "000208c1",
   "metadata": {},
   "outputs": [],
   "source": [
    "product7_score = soup.find_all('div',{'class':'flex items-center'})"
   ]
  },
  {
   "cell_type": "code",
   "execution_count": 125,
   "id": "0cbf5067",
   "metadata": {},
   "outputs": [
    {
     "data": {
      "text/plain": [
       "['จำนวน 1มีสินค้าทั้งหมด 696 ชิ้น']"
      ]
     },
     "execution_count": 125,
     "metadata": {},
     "output_type": "execute_result"
    }
   ],
   "source": [
    "product7_score_list = []\n",
    "for product in product7_score:\n",
    "    text = product.text.strip()\n",
    "    if text:\n",
    "        product7_score_list.append(text)\n",
    "product7_score_list = product7_score_list[2]\n",
    "product7_score_list = product7_score_list.split('\\n')\n",
    "product7_score_list"
   ]
  },
  {
   "cell_type": "code",
   "execution_count": 126,
   "id": "4ef92f84",
   "metadata": {},
   "outputs": [],
   "source": [
    "driver.back()"
   ]
  },
  {
   "cell_type": "code",
   "execution_count": 127,
   "id": "ed1b5720",
   "metadata": {},
   "outputs": [],
   "source": [
    "driver.execute_script(\"document.body.style.zoom='100%'\")"
   ]
  },
  {
   "cell_type": "code",
   "execution_count": 128,
   "id": "92433057",
   "metadata": {},
   "outputs": [],
   "source": [
    "product8 = driver.find_element(\"xpath\",'/html/body/div[1]/div/div[2]/div/div/div[2]/section/ul/li[8]/a/div/div')"
   ]
  },
  {
   "cell_type": "code",
   "execution_count": 129,
   "id": "936d28d5",
   "metadata": {},
   "outputs": [],
   "source": [
    "product8.click()"
   ]
  },
  {
   "cell_type": "code",
   "execution_count": 130,
   "id": "d49ceb25",
   "metadata": {},
   "outputs": [],
   "source": [
    "driver.execute_script(\"document.body.style.zoom='25%'\")"
   ]
  },
  {
   "cell_type": "code",
   "execution_count": 131,
   "id": "6e8fd0df",
   "metadata": {},
   "outputs": [],
   "source": [
    "data = driver.page_source"
   ]
  },
  {
   "cell_type": "code",
   "execution_count": 132,
   "id": "f6cd0875",
   "metadata": {},
   "outputs": [],
   "source": [
    "soup = bs4.BeautifulSoup(data)"
   ]
  },
  {
   "cell_type": "code",
   "execution_count": 133,
   "id": "dfc54906",
   "metadata": {},
   "outputs": [],
   "source": [
    "product8_score = soup.find_all('div',{'class':'flex items-center'})"
   ]
  },
  {
   "cell_type": "code",
   "execution_count": 134,
   "id": "356a11cf",
   "metadata": {},
   "outputs": [
    {
     "data": {
      "text/plain": [
       "['จำนวน 1มีสินค้าทั้งหมด 53 ชิ้น']"
      ]
     },
     "execution_count": 134,
     "metadata": {},
     "output_type": "execute_result"
    }
   ],
   "source": [
    "product8_score_list = []\n",
    "for product in product8_score:\n",
    "    text = product.text.strip()\n",
    "    if text:\n",
    "        product8_score_list.append(text)\n",
    "product8_score_list = product8_score_list[2]\n",
    "product8_score_list = product8_score_list.split('\\n')\n",
    "product8_score_list"
   ]
  },
  {
   "cell_type": "code",
   "execution_count": 135,
   "id": "a4c2cac2",
   "metadata": {},
   "outputs": [],
   "source": [
    "driver.back()"
   ]
  },
  {
   "cell_type": "code",
   "execution_count": 136,
   "id": "c72a3644",
   "metadata": {},
   "outputs": [],
   "source": [
    "driver.execute_script(\"document.body.style.zoom='100%'\")"
   ]
  },
  {
   "cell_type": "code",
   "execution_count": 137,
   "id": "dedf9afb",
   "metadata": {},
   "outputs": [],
   "source": [
    "product9 = driver.find_element(\"xpath\",'/html/body/div[1]/div/div[2]/div/div/div[2]/section/ul/li[9]/a/div/div')"
   ]
  },
  {
   "cell_type": "code",
   "execution_count": 138,
   "id": "271e0235",
   "metadata": {},
   "outputs": [],
   "source": [
    "product9.click()"
   ]
  },
  {
   "cell_type": "code",
   "execution_count": 139,
   "id": "a21e4756",
   "metadata": {},
   "outputs": [],
   "source": [
    "driver.execute_script(\"document.body.style.zoom='25%'\")"
   ]
  },
  {
   "cell_type": "code",
   "execution_count": 140,
   "id": "4b2aa9ed",
   "metadata": {},
   "outputs": [],
   "source": [
    "data = driver.page_source"
   ]
  },
  {
   "cell_type": "code",
   "execution_count": 141,
   "id": "42374da2",
   "metadata": {},
   "outputs": [],
   "source": [
    "soup = bs4.BeautifulSoup(data)"
   ]
  },
  {
   "cell_type": "code",
   "execution_count": 142,
   "id": "767dd05a",
   "metadata": {},
   "outputs": [],
   "source": [
    "product9_score = soup.find_all('div',{'class':'flex items-center'})"
   ]
  },
  {
   "cell_type": "code",
   "execution_count": 143,
   "id": "e489a811",
   "metadata": {},
   "outputs": [
    {
     "data": {
      "text/plain": [
       "['จำนวน 1มีสินค้าทั้งหมด 27982 ชิ้น']"
      ]
     },
     "execution_count": 143,
     "metadata": {},
     "output_type": "execute_result"
    }
   ],
   "source": [
    "product9_score_list = []\n",
    "for product in product9_score:\n",
    "    text = product.text.strip()\n",
    "    if text:\n",
    "        product9_score_list.append(text)\n",
    "product9_score_list = product9_score_list[2]\n",
    "product9_score_list = product9_score_list.split('\\n')\n",
    "product9_score_list"
   ]
  },
  {
   "cell_type": "code",
   "execution_count": 144,
   "id": "d4a9d66f",
   "metadata": {},
   "outputs": [],
   "source": [
    "driver.back()"
   ]
  },
  {
   "cell_type": "code",
   "execution_count": 145,
   "id": "411f501c",
   "metadata": {},
   "outputs": [],
   "source": [
    "driver.execute_script(\"document.body.style.zoom='100%'\")"
   ]
  },
  {
   "cell_type": "code",
   "execution_count": 146,
   "id": "1fbf3346",
   "metadata": {},
   "outputs": [],
   "source": [
    "product10 = driver.find_element(\"xpath\",'/html/body/div[1]/div/div[2]/div/div/div[2]/section/ul/li[10]/a/div/div')"
   ]
  },
  {
   "cell_type": "code",
   "execution_count": 147,
   "id": "71f596ab",
   "metadata": {},
   "outputs": [],
   "source": [
    "product10.click()"
   ]
  },
  {
   "cell_type": "code",
   "execution_count": 148,
   "id": "d24fa6e1",
   "metadata": {},
   "outputs": [],
   "source": [
    "driver.execute_script(\"document.body.style.zoom='25%'\")"
   ]
  },
  {
   "cell_type": "code",
   "execution_count": 149,
   "id": "7f6a19d9",
   "metadata": {},
   "outputs": [],
   "source": [
    "data = driver.page_source"
   ]
  },
  {
   "cell_type": "code",
   "execution_count": 150,
   "id": "13fa70d3",
   "metadata": {},
   "outputs": [],
   "source": [
    "soup = bs4.BeautifulSoup(data)"
   ]
  },
  {
   "cell_type": "code",
   "execution_count": 151,
   "id": "e18b0906",
   "metadata": {},
   "outputs": [],
   "source": [
    "product10_score = soup.find_all('div',{'class':'flex items-center'})"
   ]
  },
  {
   "cell_type": "code",
   "execution_count": 152,
   "id": "ae8ab928",
   "metadata": {},
   "outputs": [
    {
     "data": {
      "text/plain": [
       "['จำนวน 1มีสินค้าทั้งหมด 1774 ชิ้น']"
      ]
     },
     "execution_count": 152,
     "metadata": {},
     "output_type": "execute_result"
    }
   ],
   "source": [
    "product10_score_list = []\n",
    "for product in product10_score:\n",
    "    text = product.text.strip()\n",
    "    if text:\n",
    "        product10_score_list.append(text)\n",
    "product10_score_list = product10_score_list[2]\n",
    "product10_score_list = product10_score_list.split('\\n')\n",
    "product10_score_list"
   ]
  },
  {
   "cell_type": "code",
   "execution_count": 153,
   "id": "a63c7499",
   "metadata": {},
   "outputs": [],
   "source": [
    "driver.back()"
   ]
  },
  {
   "cell_type": "code",
   "execution_count": 154,
   "id": "f8e92871",
   "metadata": {},
   "outputs": [],
   "source": [
    "driver.execute_script(\"document.body.style.zoom='100%'\")"
   ]
  },
  {
   "cell_type": "code",
   "execution_count": 155,
   "id": "e29e16ae",
   "metadata": {},
   "outputs": [],
   "source": [
    "product11 = driver.find_element(\"xpath\",'/html/body/div[1]/div/div[2]/div[1]/div/div[2]/section/ul/li[11]/a/div/div')"
   ]
  },
  {
   "cell_type": "code",
   "execution_count": 156,
   "id": "bbaab906",
   "metadata": {},
   "outputs": [],
   "source": [
    "product11.click()"
   ]
  },
  {
   "cell_type": "code",
   "execution_count": 157,
   "id": "c678693b",
   "metadata": {},
   "outputs": [],
   "source": [
    "driver.execute_script(\"document.body.style.zoom='25%'\")"
   ]
  },
  {
   "cell_type": "code",
   "execution_count": 158,
   "id": "5020260b",
   "metadata": {},
   "outputs": [],
   "source": [
    "data = driver.page_source"
   ]
  },
  {
   "cell_type": "code",
   "execution_count": 159,
   "id": "30558309",
   "metadata": {},
   "outputs": [],
   "source": [
    "soup = bs4.BeautifulSoup(data)"
   ]
  },
  {
   "cell_type": "code",
   "execution_count": 160,
   "id": "f3150ead",
   "metadata": {},
   "outputs": [],
   "source": [
    "product11_score = soup.find_all('div',{'class':'flex items-center'})"
   ]
  },
  {
   "cell_type": "code",
   "execution_count": 161,
   "id": "7d227a80",
   "metadata": {},
   "outputs": [
    {
     "data": {
      "text/plain": [
       "['จำนวน 1มีสินค้าทั้งหมด 463 ชิ้น']"
      ]
     },
     "execution_count": 161,
     "metadata": {},
     "output_type": "execute_result"
    }
   ],
   "source": [
    "product11_score_list = []\n",
    "for product in product11_score:\n",
    "    text = product.text.strip()\n",
    "    if text:\n",
    "        product11_score_list.append(text)\n",
    "product11_score_list = product11_score_list[2]\n",
    "product11_score_list = product11_score_list.split('\\n')\n",
    "product11_score_list"
   ]
  },
  {
   "cell_type": "code",
   "execution_count": 162,
   "id": "5ee58894",
   "metadata": {},
   "outputs": [],
   "source": [
    "driver.back()"
   ]
  },
  {
   "cell_type": "code",
   "execution_count": 163,
   "id": "14b5013c",
   "metadata": {},
   "outputs": [],
   "source": [
    "driver.execute_script(\"document.body.style.zoom='100%'\")"
   ]
  },
  {
   "cell_type": "code",
   "execution_count": 164,
   "id": "36085c02",
   "metadata": {},
   "outputs": [],
   "source": [
    "product12 = driver.find_element(\"xpath\",'/html/body/div[1]/div/div[2]/div/div/div[2]/section/ul/li[12]/a/div/div')"
   ]
  },
  {
   "cell_type": "code",
   "execution_count": 165,
   "id": "bf55ecb1",
   "metadata": {},
   "outputs": [],
   "source": [
    "product12.click()"
   ]
  },
  {
   "cell_type": "code",
   "execution_count": 166,
   "id": "ebe8eaad",
   "metadata": {},
   "outputs": [],
   "source": [
    "driver.execute_script(\"document.body.style.zoom='25%'\")"
   ]
  },
  {
   "cell_type": "code",
   "execution_count": 167,
   "id": "f65771f7",
   "metadata": {},
   "outputs": [],
   "source": [
    "data = driver.page_source"
   ]
  },
  {
   "cell_type": "code",
   "execution_count": 168,
   "id": "7037f853",
   "metadata": {},
   "outputs": [],
   "source": [
    "soup = bs4.BeautifulSoup(data)"
   ]
  },
  {
   "cell_type": "code",
   "execution_count": 169,
   "id": "f43d2c7a",
   "metadata": {},
   "outputs": [],
   "source": [
    "product12_score = soup.find_all('div',{'class':'flex items-center'})"
   ]
  },
  {
   "cell_type": "code",
   "execution_count": 170,
   "id": "522da903",
   "metadata": {},
   "outputs": [
    {
     "data": {
      "text/plain": [
       "['จำนวน 1มีสินค้าทั้งหมด 96 ชิ้น']"
      ]
     },
     "execution_count": 170,
     "metadata": {},
     "output_type": "execute_result"
    }
   ],
   "source": [
    "product12_score_list = []\n",
    "for product in product12_score:\n",
    "    text = product.text.strip()\n",
    "    if text:\n",
    "        product12_score_list.append(text)\n",
    "product12_score_list = product12_score_list[2]\n",
    "product12_score_list = product12_score_list.split('\\n')\n",
    "product12_score_list"
   ]
  },
  {
   "cell_type": "code",
   "execution_count": 171,
   "id": "441d1cfc",
   "metadata": {},
   "outputs": [],
   "source": [
    "driver.back()"
   ]
  },
  {
   "cell_type": "code",
   "execution_count": 172,
   "id": "ea211c2f",
   "metadata": {},
   "outputs": [],
   "source": [
    "driver.execute_script(\"document.body.style.zoom='100%'\")"
   ]
  },
  {
   "cell_type": "code",
   "execution_count": 173,
   "id": "fd05a902",
   "metadata": {},
   "outputs": [],
   "source": [
    "product13 = driver.find_element(\"xpath\",'/html/body/div[1]/div/div[2]/div/div/div[2]/section/ul/li[13]/a/div/div')"
   ]
  },
  {
   "cell_type": "code",
   "execution_count": 174,
   "id": "0452fa2b",
   "metadata": {},
   "outputs": [],
   "source": [
    "product13.click()"
   ]
  },
  {
   "cell_type": "code",
   "execution_count": 175,
   "id": "00969d22",
   "metadata": {},
   "outputs": [],
   "source": [
    "driver.execute_script(\"document.body.style.zoom='25%'\")"
   ]
  },
  {
   "cell_type": "code",
   "execution_count": 176,
   "id": "7d06ef95",
   "metadata": {},
   "outputs": [],
   "source": [
    "data = driver.page_source"
   ]
  },
  {
   "cell_type": "code",
   "execution_count": 177,
   "id": "6696a2fc",
   "metadata": {},
   "outputs": [],
   "source": [
    "soup = bs4.BeautifulSoup(data)"
   ]
  },
  {
   "cell_type": "code",
   "execution_count": 178,
   "id": "2cdd6202",
   "metadata": {},
   "outputs": [],
   "source": [
    "product13_score = soup.find_all('div',{'class':'flex items-center'})"
   ]
  },
  {
   "cell_type": "code",
   "execution_count": 179,
   "id": "ef381390",
   "metadata": {},
   "outputs": [
    {
     "data": {
      "text/plain": [
       "['จำนวน 1มีสินค้าทั้งหมด 233 ชิ้น']"
      ]
     },
     "execution_count": 179,
     "metadata": {},
     "output_type": "execute_result"
    }
   ],
   "source": [
    "product13_score_list = []\n",
    "for product in product13_score:\n",
    "    text = product.text.strip()\n",
    "    if text:\n",
    "        product13_score_list.append(text)\n",
    "product13_score_list = product13_score_list[2]\n",
    "product13_score_list = product13_score_list.split('\\n')\n",
    "product13_score_list"
   ]
  },
  {
   "cell_type": "code",
   "execution_count": 180,
   "id": "a4e8aa27",
   "metadata": {},
   "outputs": [],
   "source": [
    "driver.back()"
   ]
  },
  {
   "cell_type": "code",
   "execution_count": 181,
   "id": "46936f73",
   "metadata": {},
   "outputs": [],
   "source": [
    "driver.execute_script(\"document.body.style.zoom='100%'\")"
   ]
  },
  {
   "cell_type": "code",
   "execution_count": 182,
   "id": "ecdc5e9c",
   "metadata": {},
   "outputs": [],
   "source": [
    "product14 = driver.find_element(\"xpath\",'/html/body/div[1]/div/div[2]/div/div/div[2]/section/ul/li[14]/a/div/div')"
   ]
  },
  {
   "cell_type": "code",
   "execution_count": 183,
   "id": "1c152062",
   "metadata": {},
   "outputs": [],
   "source": [
    "product14.click()"
   ]
  },
  {
   "cell_type": "code",
   "execution_count": 184,
   "id": "8bf23387",
   "metadata": {},
   "outputs": [],
   "source": [
    "driver.execute_script(\"document.body.style.zoom='25%'\")"
   ]
  },
  {
   "cell_type": "code",
   "execution_count": 185,
   "id": "dbbb4da1",
   "metadata": {},
   "outputs": [],
   "source": [
    "data = driver.page_source"
   ]
  },
  {
   "cell_type": "code",
   "execution_count": 186,
   "id": "897624a1",
   "metadata": {},
   "outputs": [],
   "source": [
    "soup = bs4.BeautifulSoup(data)"
   ]
  },
  {
   "cell_type": "code",
   "execution_count": 187,
   "id": "e6d47ae7",
   "metadata": {},
   "outputs": [],
   "source": [
    "product14_score = soup.find_all('div',{'class':'flex items-center'})"
   ]
  },
  {
   "cell_type": "code",
   "execution_count": 188,
   "id": "0733f28d",
   "metadata": {},
   "outputs": [
    {
     "data": {
      "text/plain": [
       "['จำนวน 1มีสินค้าทั้งหมด 344 ชิ้น']"
      ]
     },
     "execution_count": 188,
     "metadata": {},
     "output_type": "execute_result"
    }
   ],
   "source": [
    "product14_score_list = []\n",
    "for product in product14_score:\n",
    "    text = product.text.strip()\n",
    "    if text:\n",
    "        product14_score_list.append(text)\n",
    "product14_score_list = product14_score_list[2]\n",
    "product14_score_list = product14_score_list.split('\\n')\n",
    "product14_score_list"
   ]
  },
  {
   "cell_type": "code",
   "execution_count": 189,
   "id": "1922ddf7",
   "metadata": {},
   "outputs": [],
   "source": [
    "driver.back()"
   ]
  },
  {
   "cell_type": "code",
   "execution_count": 190,
   "id": "a822eb54",
   "metadata": {},
   "outputs": [],
   "source": [
    "driver.execute_script(\"document.body.style.zoom='100%'\")"
   ]
  },
  {
   "cell_type": "code",
   "execution_count": 191,
   "id": "536ced62",
   "metadata": {},
   "outputs": [],
   "source": [
    "product15 = driver.find_element(\"xpath\",'/html/body/div[1]/div/div[2]/div/div/div[2]/section/ul/li[15]/a/div/div')"
   ]
  },
  {
   "cell_type": "code",
   "execution_count": 192,
   "id": "dda2cf00",
   "metadata": {},
   "outputs": [],
   "source": [
    "product15.click()"
   ]
  },
  {
   "cell_type": "code",
   "execution_count": 193,
   "id": "b27157cb",
   "metadata": {},
   "outputs": [],
   "source": [
    "driver.execute_script(\"document.body.style.zoom='25%'\")"
   ]
  },
  {
   "cell_type": "code",
   "execution_count": 194,
   "id": "cdd921df",
   "metadata": {},
   "outputs": [],
   "source": [
    "data = driver.page_source"
   ]
  },
  {
   "cell_type": "code",
   "execution_count": 195,
   "id": "9d8f22e5",
   "metadata": {},
   "outputs": [],
   "source": [
    "soup = bs4.BeautifulSoup(data)"
   ]
  },
  {
   "cell_type": "code",
   "execution_count": 196,
   "id": "52895cf9",
   "metadata": {},
   "outputs": [],
   "source": [
    "product15_score = soup.find_all('div',{'class':'flex items-center'})"
   ]
  },
  {
   "cell_type": "code",
   "execution_count": 197,
   "id": "8618daaf",
   "metadata": {},
   "outputs": [
    {
     "data": {
      "text/plain": [
       "['จำนวน 1มีสินค้าทั้งหมด 97 ชิ้น']"
      ]
     },
     "execution_count": 197,
     "metadata": {},
     "output_type": "execute_result"
    }
   ],
   "source": [
    "product15_score_list = []\n",
    "for product in product15_score:\n",
    "    text = product.text.strip()\n",
    "    if text:\n",
    "        product15_score_list.append(text)\n",
    "product15_score_list = product15_score_list[2]\n",
    "product15_score_list = product15_score_list.split('\\n')\n",
    "product15_score_list"
   ]
  },
  {
   "cell_type": "code",
   "execution_count": 198,
   "id": "d95bdd17",
   "metadata": {},
   "outputs": [],
   "source": [
    "driver.back()"
   ]
  },
  {
   "cell_type": "code",
   "execution_count": 199,
   "id": "38661d03",
   "metadata": {},
   "outputs": [],
   "source": [
    "driver.execute_script(\"document.body.style.zoom='100%'\")"
   ]
  },
  {
   "cell_type": "code",
   "execution_count": 200,
   "id": "c9f7347d",
   "metadata": {},
   "outputs": [],
   "source": [
    "product16 = driver.find_element(\"xpath\",'/html/body/div[1]/div/div[2]/div/div/div[2]/section/ul/li[16]/a/div/div')"
   ]
  },
  {
   "cell_type": "code",
   "execution_count": 201,
   "id": "dc03b8ca",
   "metadata": {},
   "outputs": [],
   "source": [
    "product16.click()"
   ]
  },
  {
   "cell_type": "code",
   "execution_count": 202,
   "id": "128e6fa3",
   "metadata": {},
   "outputs": [],
   "source": [
    "driver.execute_script(\"document.body.style.zoom='25%'\")"
   ]
  },
  {
   "cell_type": "code",
   "execution_count": 203,
   "id": "aca73508",
   "metadata": {},
   "outputs": [],
   "source": [
    "data = driver.page_source"
   ]
  },
  {
   "cell_type": "code",
   "execution_count": 204,
   "id": "364a25d4",
   "metadata": {},
   "outputs": [],
   "source": [
    "soup = bs4.BeautifulSoup(data)"
   ]
  },
  {
   "cell_type": "code",
   "execution_count": 205,
   "id": "7f58e65c",
   "metadata": {},
   "outputs": [],
   "source": [
    "product16_score = soup.find_all('div',{'class':'flex items-center'})"
   ]
  },
  {
   "cell_type": "code",
   "execution_count": 206,
   "id": "9d2159b1",
   "metadata": {},
   "outputs": [
    {
     "data": {
      "text/plain": [
       "['จำนวน 1มีสินค้าทั้งหมด 98 ชิ้น']"
      ]
     },
     "execution_count": 206,
     "metadata": {},
     "output_type": "execute_result"
    }
   ],
   "source": [
    "product16_score_list = []\n",
    "for product in product16_score:\n",
    "    text = product.text.strip()\n",
    "    if text:\n",
    "        product16_score_list.append(text)\n",
    "product16_score_list = product16_score_list[2]\n",
    "product16_score_list = product16_score_list.split('\\n')\n",
    "product16_score_list"
   ]
  },
  {
   "cell_type": "code",
   "execution_count": 207,
   "id": "d06d288f",
   "metadata": {},
   "outputs": [],
   "source": [
    "driver.back()"
   ]
  },
  {
   "cell_type": "code",
   "execution_count": 208,
   "id": "c187e3df",
   "metadata": {},
   "outputs": [],
   "source": [
    "driver.execute_script(\"document.body.style.zoom='100%'\")"
   ]
  },
  {
   "cell_type": "code",
   "execution_count": 209,
   "id": "2caa6d87",
   "metadata": {},
   "outputs": [],
   "source": [
    "product17 = driver.find_element(\"xpath\",'/html/body/div[1]/div/div[2]/div/div/div[2]/section/ul/li[17]/a/div/div')"
   ]
  },
  {
   "cell_type": "code",
   "execution_count": 210,
   "id": "3caae7cc",
   "metadata": {},
   "outputs": [],
   "source": [
    "product17.click()"
   ]
  },
  {
   "cell_type": "code",
   "execution_count": 211,
   "id": "d8cfc9ee",
   "metadata": {},
   "outputs": [],
   "source": [
    "driver.execute_script(\"document.body.style.zoom='25%'\")"
   ]
  },
  {
   "cell_type": "code",
   "execution_count": 212,
   "id": "83e9120f",
   "metadata": {},
   "outputs": [],
   "source": [
    "data = driver.page_source"
   ]
  },
  {
   "cell_type": "code",
   "execution_count": 213,
   "id": "565d427c",
   "metadata": {},
   "outputs": [],
   "source": [
    "soup = bs4.BeautifulSoup(data)"
   ]
  },
  {
   "cell_type": "code",
   "execution_count": 214,
   "id": "1bad64cf",
   "metadata": {},
   "outputs": [],
   "source": [
    "product17_score = soup.find_all('div',{'class':'flex items-center'})"
   ]
  },
  {
   "cell_type": "code",
   "execution_count": 215,
   "id": "41d40834",
   "metadata": {},
   "outputs": [
    {
     "data": {
      "text/plain": [
       "['จำนวน 1มีสินค้าทั้งหมด 40 ชิ้น']"
      ]
     },
     "execution_count": 215,
     "metadata": {},
     "output_type": "execute_result"
    }
   ],
   "source": [
    "product17_score_list = []\n",
    "for product in product17_score:\n",
    "    text = product.text.strip()\n",
    "    if text:\n",
    "        product17_score_list.append(text)\n",
    "product17_score_list = product17_score_list[2]\n",
    "product17_score_list = product17_score_list.split('\\n')\n",
    "product17_score_list"
   ]
  },
  {
   "cell_type": "code",
   "execution_count": 216,
   "id": "e871de45",
   "metadata": {},
   "outputs": [],
   "source": [
    "driver.back()"
   ]
  },
  {
   "cell_type": "code",
   "execution_count": 217,
   "id": "0ead2f24",
   "metadata": {},
   "outputs": [],
   "source": [
    "driver.execute_script(\"document.body.style.zoom='100%'\")"
   ]
  },
  {
   "cell_type": "code",
   "execution_count": 218,
   "id": "de6fa196",
   "metadata": {},
   "outputs": [],
   "source": [
    "product18 = driver.find_element(\"xpath\",'/html/body/div[1]/div/div[2]/div/div/div[2]/section/ul/li[18]/a/div/div')"
   ]
  },
  {
   "cell_type": "code",
   "execution_count": 219,
   "id": "788de694",
   "metadata": {},
   "outputs": [],
   "source": [
    "product18.click()"
   ]
  },
  {
   "cell_type": "code",
   "execution_count": 220,
   "id": "27237b12",
   "metadata": {},
   "outputs": [],
   "source": [
    "driver.execute_script(\"document.body.style.zoom='25%'\")"
   ]
  },
  {
   "cell_type": "code",
   "execution_count": 221,
   "id": "33b0b747",
   "metadata": {},
   "outputs": [],
   "source": [
    "data = driver.page_source"
   ]
  },
  {
   "cell_type": "code",
   "execution_count": 222,
   "id": "be5e958d",
   "metadata": {},
   "outputs": [],
   "source": [
    "soup = bs4.BeautifulSoup(data)"
   ]
  },
  {
   "cell_type": "code",
   "execution_count": 223,
   "id": "0c5f4ac1",
   "metadata": {},
   "outputs": [],
   "source": [
    "product18_score = soup.find_all('div',{'class':'flex items-center'})"
   ]
  },
  {
   "cell_type": "code",
   "execution_count": 224,
   "id": "723687b4",
   "metadata": {},
   "outputs": [
    {
     "data": {
      "text/plain": [
       "['จำนวน 1มีสินค้าทั้งหมด 202 ชิ้น']"
      ]
     },
     "execution_count": 224,
     "metadata": {},
     "output_type": "execute_result"
    }
   ],
   "source": [
    "product18_score_list = []\n",
    "for product in product18_score:\n",
    "    text = product.text.strip()\n",
    "    if text:\n",
    "        product18_score_list.append(text)\n",
    "product18_score_list = product18_score_list[2]\n",
    "product18_score_list = product18_score_list.split('\\n')\n",
    "product18_score_list"
   ]
  },
  {
   "cell_type": "code",
   "execution_count": 225,
   "id": "3fc2b4e3",
   "metadata": {},
   "outputs": [],
   "source": [
    "driver.back()"
   ]
  },
  {
   "cell_type": "code",
   "execution_count": 226,
   "id": "e3446c80",
   "metadata": {},
   "outputs": [],
   "source": [
    "driver.execute_script(\"document.body.style.zoom='100%'\")"
   ]
  },
  {
   "cell_type": "code",
   "execution_count": 227,
   "id": "a01ddae8",
   "metadata": {},
   "outputs": [],
   "source": [
    "product19 = driver.find_element(\"xpath\",'/html/body/div[1]/div/div[2]/div/div/div[2]/section/ul/li[19]/a/div/div')"
   ]
  },
  {
   "cell_type": "code",
   "execution_count": 228,
   "id": "369b50af",
   "metadata": {},
   "outputs": [],
   "source": [
    "product19.click()"
   ]
  },
  {
   "cell_type": "code",
   "execution_count": 229,
   "id": "0f18cb7a",
   "metadata": {},
   "outputs": [],
   "source": [
    "driver.execute_script(\"document.body.style.zoom='25%'\")"
   ]
  },
  {
   "cell_type": "code",
   "execution_count": 230,
   "id": "149c67e7",
   "metadata": {},
   "outputs": [],
   "source": [
    "data = driver.page_source"
   ]
  },
  {
   "cell_type": "code",
   "execution_count": 231,
   "id": "a314b363",
   "metadata": {},
   "outputs": [],
   "source": [
    "soup = bs4.BeautifulSoup(data)"
   ]
  },
  {
   "cell_type": "code",
   "execution_count": 232,
   "id": "36ddc170",
   "metadata": {},
   "outputs": [],
   "source": [
    "product19_score = soup.find_all('div',{'class':'flex items-center'})"
   ]
  },
  {
   "cell_type": "code",
   "execution_count": 233,
   "id": "e6fcde34",
   "metadata": {},
   "outputs": [
    {
     "data": {
      "text/plain": [
       "['จำนวน 1มีสินค้าทั้งหมด 117 ชิ้น']"
      ]
     },
     "execution_count": 233,
     "metadata": {},
     "output_type": "execute_result"
    }
   ],
   "source": [
    "product19_score_list = []\n",
    "for product in product19_score:\n",
    "    text = product.text.strip()\n",
    "    if text:\n",
    "        product19_score_list.append(text)\n",
    "product19_score_list = product19_score_list[2]\n",
    "product19_score_list = product19_score_list.split('\\n')\n",
    "product19_score_list"
   ]
  },
  {
   "cell_type": "code",
   "execution_count": 234,
   "id": "dcbca7c8",
   "metadata": {},
   "outputs": [],
   "source": [
    "driver.back()"
   ]
  },
  {
   "cell_type": "code",
   "execution_count": 235,
   "id": "9fbe9f28",
   "metadata": {},
   "outputs": [],
   "source": [
    "driver.execute_script(\"document.body.style.zoom='100%'\")"
   ]
  },
  {
   "cell_type": "code",
   "execution_count": 236,
   "id": "985a22a0",
   "metadata": {},
   "outputs": [],
   "source": [
    "product20 = driver.find_element(\"xpath\",'/html/body/div[1]/div/div[2]/div/div/div[2]/section/ul/li[20]/a/div/div')"
   ]
  },
  {
   "cell_type": "code",
   "execution_count": 237,
   "id": "9eb9c8b4",
   "metadata": {},
   "outputs": [],
   "source": [
    "product20.click()"
   ]
  },
  {
   "cell_type": "code",
   "execution_count": 238,
   "id": "a92c0896",
   "metadata": {},
   "outputs": [],
   "source": [
    "driver.execute_script(\"document.body.style.zoom='25%'\")"
   ]
  },
  {
   "cell_type": "code",
   "execution_count": 239,
   "id": "db687e7d",
   "metadata": {},
   "outputs": [],
   "source": [
    "data = driver.page_source"
   ]
  },
  {
   "cell_type": "code",
   "execution_count": 240,
   "id": "50f6a0b5",
   "metadata": {},
   "outputs": [],
   "source": [
    "soup = bs4.BeautifulSoup(data)"
   ]
  },
  {
   "cell_type": "code",
   "execution_count": 241,
   "id": "f810e682",
   "metadata": {},
   "outputs": [],
   "source": [
    "product20_score = soup.find_all('div',{'class':'flex items-center'})"
   ]
  },
  {
   "cell_type": "code",
   "execution_count": 242,
   "id": "a098f13b",
   "metadata": {},
   "outputs": [
    {
     "data": {
      "text/plain": [
       "['จำนวน 1มีสินค้าทั้งหมด 37 ชิ้น']"
      ]
     },
     "execution_count": 242,
     "metadata": {},
     "output_type": "execute_result"
    }
   ],
   "source": [
    "product20_score_list = []\n",
    "for product in product20_score:\n",
    "    text = product.text.strip()\n",
    "    if text:\n",
    "        product20_score_list.append(text)\n",
    "product20_score_list = product20_score_list[2]\n",
    "product20_score_list = product20_score_list.split('\\n')\n",
    "product20_score_list"
   ]
  },
  {
   "cell_type": "code",
   "execution_count": 243,
   "id": "dfa7dbfa",
   "metadata": {},
   "outputs": [],
   "source": [
    "driver.back()"
   ]
  },
  {
   "cell_type": "code",
   "execution_count": 244,
   "id": "9be49789",
   "metadata": {},
   "outputs": [],
   "source": [
    "driver.execute_script(\"document.body.style.zoom='100%'\")"
   ]
  },
  {
   "cell_type": "code",
   "execution_count": 245,
   "id": "8f9652c0",
   "metadata": {},
   "outputs": [],
   "source": [
    "product21 = driver.find_element(\"xpath\",'/html/body/div[1]/div/div[2]/div/div/div[2]/section/ul/li[21]/a/div/div')"
   ]
  },
  {
   "cell_type": "code",
   "execution_count": 246,
   "id": "1c02b8f0",
   "metadata": {},
   "outputs": [],
   "source": [
    "product21.click()"
   ]
  },
  {
   "cell_type": "code",
   "execution_count": 247,
   "id": "43fae2a1",
   "metadata": {},
   "outputs": [],
   "source": [
    "driver.execute_script(\"document.body.style.zoom='25%'\")"
   ]
  },
  {
   "cell_type": "code",
   "execution_count": 248,
   "id": "4474474b",
   "metadata": {},
   "outputs": [],
   "source": [
    "data = driver.page_source"
   ]
  },
  {
   "cell_type": "code",
   "execution_count": 249,
   "id": "59b77c1a",
   "metadata": {},
   "outputs": [],
   "source": [
    "soup = bs4.BeautifulSoup(data)"
   ]
  },
  {
   "cell_type": "code",
   "execution_count": 250,
   "id": "4a08c52e",
   "metadata": {},
   "outputs": [],
   "source": [
    "product21_score = soup.find_all('div',{'class':'flex items-center'})"
   ]
  },
  {
   "cell_type": "code",
   "execution_count": 251,
   "id": "b2ee0200",
   "metadata": {},
   "outputs": [
    {
     "data": {
      "text/plain": [
       "['จำนวน 1มีสินค้าทั้งหมด 97 ชิ้น']"
      ]
     },
     "execution_count": 251,
     "metadata": {},
     "output_type": "execute_result"
    }
   ],
   "source": [
    "product21_score_list = []\n",
    "for product in product21_score:\n",
    "    text = product.text.strip()\n",
    "    if text:\n",
    "        product21_score_list.append(text)\n",
    "product21_score_list = product21_score_list[2]\n",
    "product21_score_list = product21_score_list.split('\\n')\n",
    "product21_score_list"
   ]
  },
  {
   "cell_type": "code",
   "execution_count": 252,
   "id": "bf046837",
   "metadata": {},
   "outputs": [],
   "source": [
    "driver.back()"
   ]
  },
  {
   "cell_type": "code",
   "execution_count": 253,
   "id": "73469fa8",
   "metadata": {},
   "outputs": [],
   "source": [
    "driver.execute_script(\"document.body.style.zoom='100%'\")"
   ]
  },
  {
   "cell_type": "code",
   "execution_count": 254,
   "id": "a637bac7",
   "metadata": {},
   "outputs": [],
   "source": [
    "product22 = driver.find_element(\"xpath\",'/html/body/div[1]/div/div[2]/div/div/div[2]/section/ul/li[22]/a/div/div')"
   ]
  },
  {
   "cell_type": "code",
   "execution_count": 255,
   "id": "b4c30a9b",
   "metadata": {},
   "outputs": [],
   "source": [
    "product22.click()"
   ]
  },
  {
   "cell_type": "code",
   "execution_count": 256,
   "id": "f2e471f6",
   "metadata": {},
   "outputs": [],
   "source": [
    "driver.execute_script(\"document.body.style.zoom='25%'\")"
   ]
  },
  {
   "cell_type": "code",
   "execution_count": 257,
   "id": "0e6badee",
   "metadata": {},
   "outputs": [],
   "source": [
    "data = driver.page_source"
   ]
  },
  {
   "cell_type": "code",
   "execution_count": 258,
   "id": "55d89e19",
   "metadata": {},
   "outputs": [],
   "source": [
    "soup = bs4.BeautifulSoup(data)"
   ]
  },
  {
   "cell_type": "code",
   "execution_count": 259,
   "id": "7621c4bd",
   "metadata": {},
   "outputs": [],
   "source": [
    "product22_score = soup.find_all('div',{'class':'flex items-center'})"
   ]
  },
  {
   "cell_type": "code",
   "execution_count": 260,
   "id": "0f6e51a0",
   "metadata": {},
   "outputs": [
    {
     "data": {
      "text/plain": [
       "['จำนวน 1มีสินค้าทั้งหมด 49 ชิ้น']"
      ]
     },
     "execution_count": 260,
     "metadata": {},
     "output_type": "execute_result"
    }
   ],
   "source": [
    "product22_score_list = []\n",
    "for product in product22_score:\n",
    "    text = product.text.strip()\n",
    "    if text:\n",
    "        product22_score_list.append(text)\n",
    "product22_score_list = product22_score_list[2]\n",
    "product22_score_list = product22_score_list.split('\\n')\n",
    "product22_score_list"
   ]
  },
  {
   "cell_type": "code",
   "execution_count": 261,
   "id": "2f0af442",
   "metadata": {},
   "outputs": [],
   "source": [
    "driver.back()"
   ]
  },
  {
   "cell_type": "code",
   "execution_count": 262,
   "id": "a85ca0da",
   "metadata": {},
   "outputs": [],
   "source": [
    "driver.execute_script(\"document.body.style.zoom='100%'\")"
   ]
  },
  {
   "cell_type": "code",
   "execution_count": 263,
   "id": "9d1af5fe",
   "metadata": {},
   "outputs": [],
   "source": [
    "product23 = driver.find_element(\"xpath\",'/html/body/div[1]/div/div[2]/div/div/div[2]/section/ul/li[23]/a/div/div')"
   ]
  },
  {
   "cell_type": "code",
   "execution_count": 264,
   "id": "0399dac9",
   "metadata": {},
   "outputs": [],
   "source": [
    "product23.click()"
   ]
  },
  {
   "cell_type": "code",
   "execution_count": 265,
   "id": "0e568f33",
   "metadata": {},
   "outputs": [],
   "source": [
    "driver.execute_script(\"document.body.style.zoom='25%'\")"
   ]
  },
  {
   "cell_type": "code",
   "execution_count": 266,
   "id": "0d515809",
   "metadata": {},
   "outputs": [],
   "source": [
    "data = driver.page_source"
   ]
  },
  {
   "cell_type": "code",
   "execution_count": 267,
   "id": "433c96f5",
   "metadata": {},
   "outputs": [],
   "source": [
    "soup = bs4.BeautifulSoup(data)"
   ]
  },
  {
   "cell_type": "code",
   "execution_count": 268,
   "id": "51c574dd",
   "metadata": {},
   "outputs": [],
   "source": [
    "product23_score = soup.find_all('div',{'class':'flex items-center'})"
   ]
  },
  {
   "cell_type": "code",
   "execution_count": 269,
   "id": "47460891",
   "metadata": {},
   "outputs": [
    {
     "data": {
      "text/plain": [
       "['จำนวน 1มีสินค้าทั้งหมด 50 ชิ้น']"
      ]
     },
     "execution_count": 269,
     "metadata": {},
     "output_type": "execute_result"
    }
   ],
   "source": [
    "product23_score_list = []\n",
    "for product in product23_score:\n",
    "    text = product.text.strip()\n",
    "    if text:\n",
    "        product23_score_list.append(text)\n",
    "product23_score_list = product23_score_list[2]\n",
    "product23_score_list = product23_score_list.split('\\n')\n",
    "product23_score_list"
   ]
  },
  {
   "cell_type": "code",
   "execution_count": 270,
   "id": "d308ec22",
   "metadata": {},
   "outputs": [],
   "source": [
    "driver.back()"
   ]
  },
  {
   "cell_type": "code",
   "execution_count": 271,
   "id": "e17a3278",
   "metadata": {},
   "outputs": [],
   "source": [
    "driver.execute_script(\"document.body.style.zoom='100%'\")"
   ]
  },
  {
   "cell_type": "code",
   "execution_count": 272,
   "id": "c116cfef",
   "metadata": {},
   "outputs": [],
   "source": [
    "product24 = driver.find_element(\"xpath\",'/html/body/div[1]/div/div[2]/div/div/div[2]/section/ul/li[24]/a/div/div')"
   ]
  },
  {
   "cell_type": "code",
   "execution_count": 273,
   "id": "3d0cdf82",
   "metadata": {},
   "outputs": [],
   "source": [
    "product24.click()"
   ]
  },
  {
   "cell_type": "code",
   "execution_count": 274,
   "id": "283dbedc",
   "metadata": {},
   "outputs": [],
   "source": [
    "driver.execute_script(\"document.body.style.zoom='25%'\")"
   ]
  },
  {
   "cell_type": "code",
   "execution_count": 275,
   "id": "d15ba36e",
   "metadata": {},
   "outputs": [],
   "source": [
    "data = driver.page_source"
   ]
  },
  {
   "cell_type": "code",
   "execution_count": 276,
   "id": "65369397",
   "metadata": {},
   "outputs": [],
   "source": [
    "soup = bs4.BeautifulSoup(data)"
   ]
  },
  {
   "cell_type": "code",
   "execution_count": 277,
   "id": "f70b9bb4",
   "metadata": {},
   "outputs": [],
   "source": [
    "product24_score = soup.find_all('div',{'class':'flex items-center'})"
   ]
  },
  {
   "cell_type": "code",
   "execution_count": 278,
   "id": "1eee1779",
   "metadata": {},
   "outputs": [
    {
     "data": {
      "text/plain": [
       "['จำนวน 1มีสินค้าทั้งหมด 47 ชิ้น']"
      ]
     },
     "execution_count": 278,
     "metadata": {},
     "output_type": "execute_result"
    }
   ],
   "source": [
    "product24_score_list = []\n",
    "for product in product24_score:\n",
    "    text = product.text.strip()\n",
    "    if text:\n",
    "        product24_score_list.append(text)\n",
    "product24_score_list = product24_score_list[2]\n",
    "product24_score_list = product24_score_list.split('\\n')\n",
    "product24_score_list"
   ]
  },
  {
   "cell_type": "code",
   "execution_count": 279,
   "id": "bfe08798",
   "metadata": {},
   "outputs": [],
   "source": [
    "driver.back()"
   ]
  },
  {
   "cell_type": "code",
   "execution_count": 280,
   "id": "622b4f5b",
   "metadata": {},
   "outputs": [],
   "source": [
    "driver.execute_script(\"document.body.style.zoom='100%'\")"
   ]
  },
  {
   "cell_type": "code",
   "execution_count": 281,
   "id": "d9702076",
   "metadata": {},
   "outputs": [],
   "source": [
    "product25 = driver.find_element(\"xpath\",'/html/body/div[1]/div/div[2]/div/div/div[2]/section/ul/li[25]/a/div/div')"
   ]
  },
  {
   "cell_type": "code",
   "execution_count": 282,
   "id": "be0b8548",
   "metadata": {},
   "outputs": [],
   "source": [
    "product25.click()"
   ]
  },
  {
   "cell_type": "code",
   "execution_count": 283,
   "id": "3b47d6ba",
   "metadata": {},
   "outputs": [],
   "source": [
    "driver.execute_script(\"document.body.style.zoom='25%'\")"
   ]
  },
  {
   "cell_type": "code",
   "execution_count": 284,
   "id": "5d8f0b07",
   "metadata": {},
   "outputs": [],
   "source": [
    "data = driver.page_source"
   ]
  },
  {
   "cell_type": "code",
   "execution_count": 285,
   "id": "6b688193",
   "metadata": {},
   "outputs": [],
   "source": [
    "soup = bs4.BeautifulSoup(data)"
   ]
  },
  {
   "cell_type": "code",
   "execution_count": 286,
   "id": "eff7e830",
   "metadata": {},
   "outputs": [],
   "source": [
    "product25_score = soup.find_all('div',{'class':'flex items-center'})"
   ]
  },
  {
   "cell_type": "code",
   "execution_count": 287,
   "id": "e05a98bc",
   "metadata": {},
   "outputs": [
    {
     "data": {
      "text/plain": [
       "['จำนวน 1มีสินค้าทั้งหมด 40 ชิ้น']"
      ]
     },
     "execution_count": 287,
     "metadata": {},
     "output_type": "execute_result"
    }
   ],
   "source": [
    "product25_score_list = []\n",
    "for product in product25_score:\n",
    "    text = product.text.strip()\n",
    "    if text:\n",
    "        product25_score_list.append(text)\n",
    "product25_score_list = product25_score_list[2]\n",
    "product25_score_list = product25_score_list.split('\\n')\n",
    "product25_score_list"
   ]
  },
  {
   "cell_type": "code",
   "execution_count": 288,
   "id": "d9045e9c",
   "metadata": {},
   "outputs": [],
   "source": [
    "driver.back()"
   ]
  },
  {
   "cell_type": "code",
   "execution_count": 289,
   "id": "917a1426",
   "metadata": {},
   "outputs": [],
   "source": [
    "driver.execute_script(\"document.body.style.zoom='100%'\")"
   ]
  },
  {
   "cell_type": "code",
   "execution_count": 290,
   "id": "f6c63ff4",
   "metadata": {},
   "outputs": [],
   "source": [
    "product26 = driver.find_element(\"xpath\",'/html/body/div[1]/div/div[2]/div/div/div[2]/section/ul/li[26]/a/div/div')"
   ]
  },
  {
   "cell_type": "code",
   "execution_count": 291,
   "id": "6f735369",
   "metadata": {},
   "outputs": [],
   "source": [
    "product26.click()"
   ]
  },
  {
   "cell_type": "code",
   "execution_count": 292,
   "id": "f442e1f8",
   "metadata": {},
   "outputs": [],
   "source": [
    "driver.execute_script(\"document.body.style.zoom='25%'\")"
   ]
  },
  {
   "cell_type": "code",
   "execution_count": 293,
   "id": "d35c3c84",
   "metadata": {},
   "outputs": [],
   "source": [
    "data = driver.page_source"
   ]
  },
  {
   "cell_type": "code",
   "execution_count": 294,
   "id": "b0515fe2",
   "metadata": {},
   "outputs": [],
   "source": [
    "soup = bs4.BeautifulSoup(data)"
   ]
  },
  {
   "cell_type": "code",
   "execution_count": 295,
   "id": "ca352636",
   "metadata": {},
   "outputs": [],
   "source": [
    "product26_score = soup.find_all('div',{'class':'flex items-center'})"
   ]
  },
  {
   "cell_type": "code",
   "execution_count": 296,
   "id": "047f2e66",
   "metadata": {},
   "outputs": [
    {
     "data": {
      "text/plain": [
       "['จำนวน 1มีสินค้าทั้งหมด 99 ชิ้น']"
      ]
     },
     "execution_count": 296,
     "metadata": {},
     "output_type": "execute_result"
    }
   ],
   "source": [
    "product26_score_list = []\n",
    "for product in product26_score:\n",
    "    text = product.text.strip()\n",
    "    if text:\n",
    "        product26_score_list.append(text)\n",
    "product26_score_list = product26_score_list[2]\n",
    "product26_score_list = product26_score_list.split('\\n')\n",
    "product26_score_list"
   ]
  },
  {
   "cell_type": "code",
   "execution_count": 297,
   "id": "3ebfde4b",
   "metadata": {},
   "outputs": [],
   "source": [
    "driver.back()"
   ]
  },
  {
   "cell_type": "code",
   "execution_count": 298,
   "id": "5f7d2fd8",
   "metadata": {},
   "outputs": [],
   "source": [
    "driver.execute_script(\"document.body.style.zoom='100%'\")"
   ]
  },
  {
   "cell_type": "code",
   "execution_count": 299,
   "id": "d9149e87",
   "metadata": {},
   "outputs": [],
   "source": [
    "product27 = driver.find_element(\"xpath\",'/html/body/div[1]/div/div[2]/div/div/div[2]/section/ul/li[27]/a/div/div')"
   ]
  },
  {
   "cell_type": "code",
   "execution_count": 300,
   "id": "e2dc082e",
   "metadata": {},
   "outputs": [],
   "source": [
    "product27.click()"
   ]
  },
  {
   "cell_type": "code",
   "execution_count": 301,
   "id": "a92f57a5",
   "metadata": {},
   "outputs": [],
   "source": [
    "driver.execute_script(\"document.body.style.zoom='25%'\")"
   ]
  },
  {
   "cell_type": "code",
   "execution_count": 302,
   "id": "e6e12a29",
   "metadata": {},
   "outputs": [],
   "source": [
    "data = driver.page_source"
   ]
  },
  {
   "cell_type": "code",
   "execution_count": 303,
   "id": "96ff0d4c",
   "metadata": {},
   "outputs": [],
   "source": [
    "soup = bs4.BeautifulSoup(data)"
   ]
  },
  {
   "cell_type": "code",
   "execution_count": 304,
   "id": "5e16aa0e",
   "metadata": {},
   "outputs": [],
   "source": [
    "product27_score = soup.find_all('div',{'class':'flex items-center'})"
   ]
  },
  {
   "cell_type": "code",
   "execution_count": 305,
   "id": "dfec4ac9",
   "metadata": {},
   "outputs": [
    {
     "data": {
      "text/plain": [
       "['จำนวน 1มีสินค้าทั้งหมด 48 ชิ้น']"
      ]
     },
     "execution_count": 305,
     "metadata": {},
     "output_type": "execute_result"
    }
   ],
   "source": [
    "product27_score_list = []\n",
    "for product in product27_score:\n",
    "    text = product.text.strip()\n",
    "    if text:\n",
    "        product27_score_list.append(text)\n",
    "product27_score_list = product27_score_list[2]\n",
    "product27_score_list = product27_score_list.split('\\n')\n",
    "product27_score_list"
   ]
  },
  {
   "cell_type": "code",
   "execution_count": 306,
   "id": "1950b673",
   "metadata": {},
   "outputs": [],
   "source": [
    "driver.back()"
   ]
  },
  {
   "cell_type": "code",
   "execution_count": 307,
   "id": "1946c1e8",
   "metadata": {},
   "outputs": [],
   "source": [
    "driver.execute_script(\"document.body.style.zoom='100%'\")"
   ]
  },
  {
   "cell_type": "code",
   "execution_count": 308,
   "id": "cc932dbf",
   "metadata": {},
   "outputs": [],
   "source": [
    "product28 = driver.find_element(\"xpath\",'/html/body/div[1]/div/div[2]/div/div/div[2]/section/ul/li[28]/a/div/div')"
   ]
  },
  {
   "cell_type": "code",
   "execution_count": 309,
   "id": "586758e7",
   "metadata": {},
   "outputs": [],
   "source": [
    "product28.click()"
   ]
  },
  {
   "cell_type": "code",
   "execution_count": 310,
   "id": "46b6f239",
   "metadata": {},
   "outputs": [],
   "source": [
    "driver.execute_script(\"document.body.style.zoom='25%'\")"
   ]
  },
  {
   "cell_type": "code",
   "execution_count": 311,
   "id": "56f45171",
   "metadata": {},
   "outputs": [],
   "source": [
    "data = driver.page_source"
   ]
  },
  {
   "cell_type": "code",
   "execution_count": 312,
   "id": "b3f5ead6",
   "metadata": {},
   "outputs": [],
   "source": [
    "soup = bs4.BeautifulSoup(data)"
   ]
  },
  {
   "cell_type": "code",
   "execution_count": 313,
   "id": "dbebea75",
   "metadata": {},
   "outputs": [],
   "source": [
    "product28_score = soup.find_all('div',{'class':'flex items-center'})"
   ]
  },
  {
   "cell_type": "code",
   "execution_count": 314,
   "id": "9ed198c3",
   "metadata": {},
   "outputs": [
    {
     "data": {
      "text/plain": [
       "['จำนวน 1มีสินค้าทั้งหมด 50 ชิ้น']"
      ]
     },
     "execution_count": 314,
     "metadata": {},
     "output_type": "execute_result"
    }
   ],
   "source": [
    "product28_score_list = []\n",
    "for product in product28_score:\n",
    "    text = product.text.strip()\n",
    "    if text:\n",
    "        product28_score_list.append(text)\n",
    "product28_score_list = product28_score_list[2]\n",
    "product28_score_list = product28_score_list.split('\\n')\n",
    "product28_score_list"
   ]
  },
  {
   "cell_type": "code",
   "execution_count": 315,
   "id": "90b1a329",
   "metadata": {},
   "outputs": [],
   "source": [
    "driver.back()"
   ]
  },
  {
   "cell_type": "code",
   "execution_count": 316,
   "id": "cd6d78ae",
   "metadata": {},
   "outputs": [],
   "source": [
    "driver.execute_script(\"document.body.style.zoom='100%'\")"
   ]
  },
  {
   "cell_type": "code",
   "execution_count": 317,
   "id": "378be045",
   "metadata": {},
   "outputs": [],
   "source": [
    "product29 = driver.find_element(\"xpath\",'/html/body/div[1]/div/div[2]/div/div/div[2]/section/ul/li[29]/a/div/div')"
   ]
  },
  {
   "cell_type": "code",
   "execution_count": 318,
   "id": "1615fe85",
   "metadata": {},
   "outputs": [],
   "source": [
    "product29.click()"
   ]
  },
  {
   "cell_type": "code",
   "execution_count": 319,
   "id": "ce2481a0",
   "metadata": {},
   "outputs": [],
   "source": [
    "driver.execute_script(\"document.body.style.zoom='25%'\")"
   ]
  },
  {
   "cell_type": "code",
   "execution_count": 320,
   "id": "7cdd2dfe",
   "metadata": {},
   "outputs": [],
   "source": [
    "data = driver.page_source"
   ]
  },
  {
   "cell_type": "code",
   "execution_count": 321,
   "id": "4e13b483",
   "metadata": {},
   "outputs": [],
   "source": [
    "soup = bs4.BeautifulSoup(data)"
   ]
  },
  {
   "cell_type": "code",
   "execution_count": 322,
   "id": "2eaffe03",
   "metadata": {},
   "outputs": [],
   "source": [
    "product29_score = soup.find_all('div',{'class':'flex items-center'})"
   ]
  },
  {
   "cell_type": "code",
   "execution_count": 323,
   "id": "0e8dfd5a",
   "metadata": {},
   "outputs": [
    {
     "data": {
      "text/plain": [
       "['จำนวน 1มีสินค้าทั้งหมด 40 ชิ้น']"
      ]
     },
     "execution_count": 323,
     "metadata": {},
     "output_type": "execute_result"
    }
   ],
   "source": [
    "product29_score_list = []\n",
    "for product in product29_score:\n",
    "    text = product.text.strip()\n",
    "    if text:\n",
    "        product29_score_list.append(text)\n",
    "product29_score_list = product29_score_list[2]\n",
    "product29_score_list = product29_score_list.split('\\n')\n",
    "product29_score_list"
   ]
  },
  {
   "cell_type": "code",
   "execution_count": 324,
   "id": "6b66eeb4",
   "metadata": {},
   "outputs": [],
   "source": [
    "driver.back()"
   ]
  },
  {
   "cell_type": "code",
   "execution_count": 325,
   "id": "9fa6036c",
   "metadata": {},
   "outputs": [],
   "source": [
    "driver.execute_script(\"document.body.style.zoom='100%'\")"
   ]
  },
  {
   "cell_type": "code",
   "execution_count": 326,
   "id": "2c18beca",
   "metadata": {},
   "outputs": [],
   "source": [
    "product30 = driver.find_element(\"xpath\",'/html/body/div[1]/div/div[2]/div/div/div[2]/section/ul/li[30]/a/div/div')"
   ]
  },
  {
   "cell_type": "code",
   "execution_count": 327,
   "id": "933e6664",
   "metadata": {},
   "outputs": [],
   "source": [
    "product30.click()"
   ]
  },
  {
   "cell_type": "code",
   "execution_count": 328,
   "id": "5872329b",
   "metadata": {},
   "outputs": [],
   "source": [
    "driver.execute_script(\"document.body.style.zoom='25%'\")"
   ]
  },
  {
   "cell_type": "code",
   "execution_count": 329,
   "id": "a3d8282d",
   "metadata": {},
   "outputs": [],
   "source": [
    "data = driver.page_source"
   ]
  },
  {
   "cell_type": "code",
   "execution_count": 330,
   "id": "f803bf83",
   "metadata": {},
   "outputs": [],
   "source": [
    "soup = bs4.BeautifulSoup(data)"
   ]
  },
  {
   "cell_type": "code",
   "execution_count": 331,
   "id": "3d4121ef",
   "metadata": {},
   "outputs": [],
   "source": [
    "product29_score = soup.find_all('div',{'class':'flex items-center'})"
   ]
  },
  {
   "cell_type": "code",
   "execution_count": 332,
   "id": "5a2f55ba",
   "metadata": {},
   "outputs": [
    {
     "data": {
      "text/plain": [
       "['จำนวน 1มีสินค้าทั้งหมด 16 ชิ้น']"
      ]
     },
     "execution_count": 332,
     "metadata": {},
     "output_type": "execute_result"
    }
   ],
   "source": [
    "product29_score_list = []\n",
    "for product in product29_score:\n",
    "    text = product.text.strip()\n",
    "    if text:\n",
    "        product29_score_list.append(text)\n",
    "product29_score_list = product29_score_list[2]\n",
    "product29_score_list = product29_score_list.split('\\n')\n",
    "product29_score_list"
   ]
  },
  {
   "cell_type": "code",
   "execution_count": 333,
   "id": "b59fbfa1",
   "metadata": {},
   "outputs": [],
   "source": [
    "driver.back()"
   ]
  },
  {
   "cell_type": "code",
   "execution_count": 356,
   "id": "8ce2863f",
   "metadata": {},
   "outputs": [],
   "source": [
    "driver.execute_script(\"document.body.style.zoom='100%'\")"
   ]
  },
  {
   "cell_type": "code",
   "execution_count": 357,
   "id": "237d637e",
   "metadata": {},
   "outputs": [],
   "source": [
    "product30 = driver.find_element(\"xpath\",'/html/body/div[1]/div/div[2]/div/div/div[2]/section/ul/li[30]/a/div/div')"
   ]
  },
  {
   "cell_type": "code",
   "execution_count": 358,
   "id": "1926f89a",
   "metadata": {},
   "outputs": [],
   "source": [
    "product30.click()"
   ]
  },
  {
   "cell_type": "code",
   "execution_count": 359,
   "id": "17258b11",
   "metadata": {},
   "outputs": [],
   "source": [
    "driver.execute_script(\"document.body.style.zoom='25%'\")"
   ]
  },
  {
   "cell_type": "code",
   "execution_count": 360,
   "id": "066c10bb",
   "metadata": {},
   "outputs": [],
   "source": [
    "data = driver.page_source"
   ]
  },
  {
   "cell_type": "code",
   "execution_count": 361,
   "id": "06216cc2",
   "metadata": {},
   "outputs": [],
   "source": [
    "soup = bs4.BeautifulSoup(data)"
   ]
  },
  {
   "cell_type": "code",
   "execution_count": 362,
   "id": "f60f72ad",
   "metadata": {},
   "outputs": [],
   "source": [
    "product30_score = soup.find_all('div',{'class':'flex items-center'})"
   ]
  },
  {
   "cell_type": "code",
   "execution_count": 363,
   "id": "c3e19dfb",
   "metadata": {},
   "outputs": [
    {
     "data": {
      "text/plain": [
       "['จำนวน 1มีสินค้าทั้งหมด 20 ชิ้น']"
      ]
     },
     "execution_count": 363,
     "metadata": {},
     "output_type": "execute_result"
    }
   ],
   "source": [
    "product30_score_list = []\n",
    "for product in product30_score:\n",
    "    text = product.text.strip()\n",
    "    if text:\n",
    "        product30_score_list.append(text)\n",
    "product30_score_list = product30_score_list[2]\n",
    "product30_score_list = product30_score_list.split('\\n')\n",
    "product30_score_list"
   ]
  },
  {
   "cell_type": "code",
   "execution_count": 364,
   "id": "64cc4410",
   "metadata": {},
   "outputs": [],
   "source": [
    "driver.back()"
   ]
  },
  {
   "cell_type": "code",
   "execution_count": 365,
   "id": "2cb03e97",
   "metadata": {},
   "outputs": [],
   "source": [
    "product_stock_list = product1_score_list + product2_score_list + product3_score_list + product4_score_list + product5_score_list + product6_score_list + product7_score_list + product8_score_list + product9_score_list + product10_score_list + product11_score_list + product12_score_list + product13_score_list + product14_score_list + product15_score_list + product16_score_list + product17_score_list + product18_score_list + product19_score_list + product20_score_list + product21_score_list + product22_score_list + product23_score_list + product24_score_list + product25_score_list + product26_score_list + product27_score_list + product28_score_list + product29_score_list + product30_score_list"
   ]
  },
  {
   "cell_type": "code",
   "execution_count": 366,
   "id": "f81b8d43",
   "metadata": {
    "scrolled": true
   },
   "outputs": [
    {
     "data": {
      "text/plain": [
       "['จำนวน 1มีสินค้าทั้งหมด 31 ชิ้น',\n",
       " 'จำนวน 1มีสินค้าทั้งหมด 696 ชิ้น',\n",
       " 'จำนวน 1มีสินค้าทั้งหมด 1752 ชิ้น',\n",
       " 'จำนวน 1มีสินค้าทั้งหมด 27982 ชิ้น',\n",
       " 'จำนวน 1มีสินค้าทั้งหมด 295 ชิ้น',\n",
       " 'จำนวน 1มีสินค้าทั้งหมด 692 ชิ้น',\n",
       " 'จำนวน 1มีสินค้าทั้งหมด 1774 ชิ้น',\n",
       " 'จำนวน 1มีสินค้าทั้งหมด 464 ชิ้น',\n",
       " 'จำนวน 1มีสินค้าทั้งหมด 97 ชิ้น',\n",
       " 'จำนวน 1มีสินค้าทั้งหมด 97 ชิ้น',\n",
       " 'จำนวน 1มีสินค้าทั้งหมด 97 ชิ้น',\n",
       " 'จำนวน 1มีสินค้าทั้งหมด 204 ชิ้น',\n",
       " 'จำนวน 1มีสินค้าทั้งหมด 49 ชิ้น',\n",
       " 'จำนวน 1มีสินค้าทั้งหมด 26 ชิ้น',\n",
       " 'จำนวน 1มีสินค้าทั้งหมด 98 ชิ้น',\n",
       " 'จำนวน 1มีสินค้าทั้งหมด 233 ชิ้น',\n",
       " 'จำนวน 1มีสินค้าทั้งหมด 344 ชิ้น',\n",
       " 'จำนวน 1มีสินค้าทั้งหมด 99 ชิ้น',\n",
       " 'จำนวน 1มีสินค้าทั้งหมด 50 ชิ้น',\n",
       " 'จำนวน 1มีสินค้าทั้งหมด 53 ชิ้น',\n",
       " 'จำนวน 1มีสินค้าทั้งหมด 40 ชิ้น',\n",
       " 'จำนวน 1มีสินค้าทั้งหมด 48 ชิ้น',\n",
       " 'จำนวน 1มีสินค้าทั้งหมด 40 ชิ้น',\n",
       " 'จำนวน 1มีสินค้าทั้งหมด 37 ชิ้น',\n",
       " 'จำนวน 1มีสินค้าทั้งหมด 50 ชิ้น',\n",
       " 'จำนวน 1มีสินค้าทั้งหมด 47 ชิ้น',\n",
       " 'จำนวน 1มีสินค้าทั้งหมด 117 ชิ้น',\n",
       " 'จำนวน 1มีสินค้าทั้งหมด 50 ชิ้น',\n",
       " 'จำนวน 1มีสินค้าทั้งหมด 20 ชิ้น',\n",
       " 'จำนวน 1มีสินค้าทั้งหมด 20 ชิ้น']"
      ]
     },
     "execution_count": 366,
     "metadata": {},
     "output_type": "execute_result"
    }
   ],
   "source": [
    "product_stock_list"
   ]
  },
  {
   "cell_type": "code",
   "execution_count": 367,
   "id": "9e8ed597",
   "metadata": {},
   "outputs": [],
   "source": [
    "shopee_data = pd.DataFrame([store_name_list, store_score_list, store_promotion_list, product_name_list, product_price_list, product_sale_list, product_stock_list])"
   ]
  },
  {
   "cell_type": "code",
   "execution_count": 368,
   "id": "e10ddc38",
   "metadata": {},
   "outputs": [
    {
     "data": {
      "text/html": [
       "<div>\n",
       "<style scoped>\n",
       "    .dataframe tbody tr th:only-of-type {\n",
       "        vertical-align: middle;\n",
       "    }\n",
       "\n",
       "    .dataframe tbody tr th {\n",
       "        vertical-align: top;\n",
       "    }\n",
       "\n",
       "    .dataframe thead th {\n",
       "        text-align: right;\n",
       "    }\n",
       "</style>\n",
       "<table border=\"1\" class=\"dataframe\">\n",
       "  <thead>\n",
       "    <tr style=\"text-align: right;\">\n",
       "      <th></th>\n",
       "      <th>name</th>\n",
       "      <th>score</th>\n",
       "      <th>promotion</th>\n",
       "      <th>product_name</th>\n",
       "      <th>price</th>\n",
       "      <th>sale</th>\n",
       "      <th>stock</th>\n",
       "    </tr>\n",
       "  </thead>\n",
       "  <tbody>\n",
       "    <tr>\n",
       "      <th>0</th>\n",
       "      <td>24storebybn.officialActive 5 ชั่วโมง  ที่ผ่านมา</td>\n",
       "      <td>4.8 (การให้คะแนนทั้งหมด 2.2พัน)</td>\n",
       "      <td>ส่วนลด ฿20ขั้นต่ำ ฿299ใช้ได้ก่อน: 20.10.2023</td>\n",
       "      <td>มีสินค้าพร้อมส่ง✅ ผ้าคาดผมมัดย้อมทรงสามเหลี่ยม...</td>\n",
       "      <td>฿79</td>\n",
       "      <td>ขายแล้ว 49 ชิ้น</td>\n",
       "      <td>จำนวน 1มีสินค้าทั้งหมด 31 ชิ้น</td>\n",
       "    </tr>\n",
       "    <tr>\n",
       "      <th>1</th>\n",
       "      <td>None</td>\n",
       "      <td>None</td>\n",
       "      <td>ส่วนลด 5%ขั้นต่ำ ฿299 สูงสุด ฿200ใกล้หมดอายุ: ...</td>\n",
       "      <td>เสื้อยืดมัดย้อม🔵สีม่อฮ่อม🔵ใส่ได้ทั้งหญิง/ชาย🔵</td>\n",
       "      <td>฿179 - ฿249</td>\n",
       "      <td>ขายแล้ว 4 ชิ้น</td>\n",
       "      <td>จำนวน 1มีสินค้าทั้งหมด 696 ชิ้น</td>\n",
       "    </tr>\n",
       "    <tr>\n",
       "      <th>2</th>\n",
       "      <td>None</td>\n",
       "      <td>None</td>\n",
       "      <td>ส่วนลด ฿30ขั้นต่ำ ฿399ใช้ได้ก่อน: 12.11.2023</td>\n",
       "      <td>💥Collection2💥 🌈เสื้อยืดมัดย้อมแฟชั่น🎨 เนื้อผ้า...</td>\n",
       "      <td>฿187 - ฿255</td>\n",
       "      <td>ขายแล้ว 93 ชิ้น</td>\n",
       "      <td>จำนวน 1มีสินค้าทั้งหมด 1752 ชิ้น</td>\n",
       "    </tr>\n",
       "    <tr>\n",
       "      <th>3</th>\n",
       "      <td>None</td>\n",
       "      <td>None</td>\n",
       "      <td>ส่วนลด ฿50ขั้นต่ำ ฿799สินค้าที่กำหนดใช้ได้ก่อน...</td>\n",
       "      <td>🔥UNISEX ขายดีที่สุด ถูกที่สุด🔥 🌈เสื้อยืดมัดย้อ...</td>\n",
       "      <td>฿187 - ฿255</td>\n",
       "      <td>ขายแล้ว 1.5พัน ชิ้น</td>\n",
       "      <td>จำนวน 1มีสินค้าทั้งหมด 27982 ชิ้น</td>\n",
       "    </tr>\n",
       "    <tr>\n",
       "      <th>4</th>\n",
       "      <td>None</td>\n",
       "      <td>None</td>\n",
       "      <td>None</td>\n",
       "      <td>🌈เสื้อปกคอจีนมัดย้อม/แขนสั้น (มีกระเป๋าหน้าอก)...</td>\n",
       "      <td>฿187</td>\n",
       "      <td>ขายแล้ว 803 ชิ้น</td>\n",
       "      <td>จำนวน 1มีสินค้าทั้งหมด 295 ชิ้น</td>\n",
       "    </tr>\n",
       "    <tr>\n",
       "      <th>5</th>\n",
       "      <td>None</td>\n",
       "      <td>None</td>\n",
       "      <td>None</td>\n",
       "      <td>เสื้อยืดมัดย้อม🔵สีม่อฮ่อม🔵ใส่ได้ทั้งหญิง/ชาย🔵ผ...</td>\n",
       "      <td>฿187 - ฿255</td>\n",
       "      <td>ขายแล้ว 8 ชิ้น</td>\n",
       "      <td>จำนวน 1มีสินค้าทั้งหมด 692 ชิ้น</td>\n",
       "    </tr>\n",
       "    <tr>\n",
       "      <th>6</th>\n",
       "      <td>None</td>\n",
       "      <td>None</td>\n",
       "      <td>None</td>\n",
       "      <td>💣เสื้อยืดมัดย้อมดำกัดลาย 💣 ใส่แล้วเท่ นุ่ม สบา...</td>\n",
       "      <td>฿169 - ฿229</td>\n",
       "      <td>ขายแล้ว 25 ชิ้น</td>\n",
       "      <td>จำนวน 1มีสินค้าทั้งหมด 1774 ชิ้น</td>\n",
       "    </tr>\n",
       "    <tr>\n",
       "      <th>7</th>\n",
       "      <td>None</td>\n",
       "      <td>None</td>\n",
       "      <td>None</td>\n",
       "      <td>🌈เสื้อเชิ้ตฮาวายมัดย้อม(มีกระเป๋าหน้าอก) 🌈เนื้...</td>\n",
       "      <td>฿198</td>\n",
       "      <td>ขายแล้ว 2.9พัน ชิ้น</td>\n",
       "      <td>จำนวน 1มีสินค้าทั้งหมด 464 ชิ้น</td>\n",
       "    </tr>\n",
       "    <tr>\n",
       "      <th>8</th>\n",
       "      <td>None</td>\n",
       "      <td>None</td>\n",
       "      <td>None</td>\n",
       "      <td>🌈เสื้อเชิ้ตฮาวายมัดย้อม 🌈No.8🟦</td>\n",
       "      <td>฿198</td>\n",
       "      <td>ขายแล้ว 10 ชิ้น</td>\n",
       "      <td>จำนวน 1มีสินค้าทั้งหมด 97 ชิ้น</td>\n",
       "    </tr>\n",
       "    <tr>\n",
       "      <th>9</th>\n",
       "      <td>None</td>\n",
       "      <td>None</td>\n",
       "      <td>None</td>\n",
       "      <td>🌈เสื้อเชิ้ตฮาวายมัดย้อม 🌈No.9🟦</td>\n",
       "      <td>฿198</td>\n",
       "      <td>ขายแล้ว 13 ชิ้น</td>\n",
       "      <td>จำนวน 1มีสินค้าทั้งหมด 97 ชิ้น</td>\n",
       "    </tr>\n",
       "    <tr>\n",
       "      <th>10</th>\n",
       "      <td>None</td>\n",
       "      <td>None</td>\n",
       "      <td>None</td>\n",
       "      <td>🌈เสื้อเชิ้ตฮาวายมัดย้อม 🌈No.7🟦</td>\n",
       "      <td>฿198</td>\n",
       "      <td>ขายแล้ว 20 ชิ้น</td>\n",
       "      <td>จำนวน 1มีสินค้าทั้งหมด 97 ชิ้น</td>\n",
       "    </tr>\n",
       "    <tr>\n",
       "      <th>11</th>\n",
       "      <td>None</td>\n",
       "      <td>None</td>\n",
       "      <td>None</td>\n",
       "      <td>🌈เสื้อปกคอจีนมัดย้อม/แขนยาว (มีกระเป๋าหน้าอก🌈 ...</td>\n",
       "      <td>฿198</td>\n",
       "      <td>ขายแล้ว 480 ชิ้น</td>\n",
       "      <td>จำนวน 1มีสินค้าทั้งหมด 204 ชิ้น</td>\n",
       "    </tr>\n",
       "    <tr>\n",
       "      <th>12</th>\n",
       "      <td>None</td>\n",
       "      <td>None</td>\n",
       "      <td>None</td>\n",
       "      <td>🌈เสื้อเชิ้ตฮาวายมัดย้อม 🌈No.12🟦</td>\n",
       "      <td>฿198</td>\n",
       "      <td>ขายแล้ว 209 ชิ้น</td>\n",
       "      <td>จำนวน 1มีสินค้าทั้งหมด 49 ชิ้น</td>\n",
       "    </tr>\n",
       "    <tr>\n",
       "      <th>13</th>\n",
       "      <td>None</td>\n",
       "      <td>None</td>\n",
       "      <td>None</td>\n",
       "      <td>🔹เสื้อคอจีนมัดย้อม/แขนยาว🔹☁️ลายท้องฟ้า☁️</td>\n",
       "      <td>฿198</td>\n",
       "      <td>ขายแล้ว 10 ชิ้น</td>\n",
       "      <td>จำนวน 1มีสินค้าทั้งหมด 26 ชิ้น</td>\n",
       "    </tr>\n",
       "    <tr>\n",
       "      <th>14</th>\n",
       "      <td>None</td>\n",
       "      <td>None</td>\n",
       "      <td>None</td>\n",
       "      <td>🌈เสื้อเชิ้ตฮาวายมัดย้อม 🌈No.10🟦</td>\n",
       "      <td>฿198</td>\n",
       "      <td>ขายแล้ว 6 ชิ้น</td>\n",
       "      <td>จำนวน 1มีสินค้าทั้งหมด 98 ชิ้น</td>\n",
       "    </tr>\n",
       "    <tr>\n",
       "      <th>15</th>\n",
       "      <td>None</td>\n",
       "      <td>None</td>\n",
       "      <td>None</td>\n",
       "      <td>เสื้อยืดมัดย้อมเด็กๆ | 𝗦𝗛𝗜𝗥𝗧 𝗙𝗢𝗥 𝗞𝗜𝗗𝗦 👶🏻 Cotto...</td>\n",
       "      <td>฿150</td>\n",
       "      <td>ขายแล้ว 6 ชิ้น</td>\n",
       "      <td>จำนวน 1มีสินค้าทั้งหมด 233 ชิ้น</td>\n",
       "    </tr>\n",
       "    <tr>\n",
       "      <th>16</th>\n",
       "      <td>None</td>\n",
       "      <td>None</td>\n",
       "      <td>None</td>\n",
       "      <td>💙เสื้อยืดมัดย้อม💙สีม่อฮ่อม🌧ใส่ได้ทั้งหญิง/ชาย ...</td>\n",
       "      <td>฿187 - ฿255</td>\n",
       "      <td>ขายแล้ว 9 ชิ้น</td>\n",
       "      <td>จำนวน 1มีสินค้าทั้งหมด 344 ชิ้น</td>\n",
       "    </tr>\n",
       "    <tr>\n",
       "      <th>17</th>\n",
       "      <td>None</td>\n",
       "      <td>None</td>\n",
       "      <td>None</td>\n",
       "      <td>🟦 เสื้อเชิ้ตฮาวายมัดย้อม 🟦เข้ม+ท้องฟ้า☁️</td>\n",
       "      <td>฿198</td>\n",
       "      <td>ขายแล้ว 1 ชิ้น</td>\n",
       "      <td>จำนวน 1มีสินค้าทั้งหมด 99 ชิ้น</td>\n",
       "    </tr>\n",
       "    <tr>\n",
       "      <th>18</th>\n",
       "      <td>None</td>\n",
       "      <td>None</td>\n",
       "      <td>None</td>\n",
       "      <td>☁️เสื้อคอจีนมัดย้อม/แขนสั้น💙 No.7</td>\n",
       "      <td>฿187</td>\n",
       "      <td>ขายแล้ว 47 ชิ้น</td>\n",
       "      <td>จำนวน 1มีสินค้าทั้งหมด 50 ชิ้น</td>\n",
       "    </tr>\n",
       "    <tr>\n",
       "      <th>19</th>\n",
       "      <td>None</td>\n",
       "      <td>None</td>\n",
       "      <td>None</td>\n",
       "      <td>⭐️NEW⭐️กางเกงขายาวมัดย้อม รุ่น OCEAN PANTS (ผู...</td>\n",
       "      <td>฿189</td>\n",
       "      <td>ขายแล้ว 92 ชิ้น</td>\n",
       "      <td>จำนวน 1มีสินค้าทั้งหมด 53 ชิ้น</td>\n",
       "    </tr>\n",
       "    <tr>\n",
       "      <th>20</th>\n",
       "      <td>None</td>\n",
       "      <td>None</td>\n",
       "      <td>None</td>\n",
       "      <td>NEW IN🌧 ⭐️ สินค้าใหม่ ⭐️ เสื้อแขนกุดสไตล์มัดย้...</td>\n",
       "      <td>฿169</td>\n",
       "      <td>ขายแล้ว 10 ชิ้น</td>\n",
       "      <td>จำนวน 1มีสินค้าทั้งหมด 40 ชิ้น</td>\n",
       "    </tr>\n",
       "    <tr>\n",
       "      <th>21</th>\n",
       "      <td>None</td>\n",
       "      <td>None</td>\n",
       "      <td>None</td>\n",
       "      <td>🧧เสื้อปกคอจีนมัดย้อม/แขนสั้น (มีกระเป๋าหน้าอก)...</td>\n",
       "      <td>฿187</td>\n",
       "      <td>ขายแล้ว 7 ชิ้น</td>\n",
       "      <td>จำนวน 1มีสินค้าทั้งหมด 48 ชิ้น</td>\n",
       "    </tr>\n",
       "    <tr>\n",
       "      <th>22</th>\n",
       "      <td>None</td>\n",
       "      <td>None</td>\n",
       "      <td>None</td>\n",
       "      <td>🧧เสื้อปกคอจีนมัดย้อม/แขนยาว (มีกระเป๋าหน้าอก) ...</td>\n",
       "      <td>฿198</td>\n",
       "      <td>ขายแล้ว 41 ชิ้น</td>\n",
       "      <td>จำนวน 1มีสินค้าทั้งหมด 40 ชิ้น</td>\n",
       "    </tr>\n",
       "    <tr>\n",
       "      <th>23</th>\n",
       "      <td>None</td>\n",
       "      <td>None</td>\n",
       "      <td>None</td>\n",
       "      <td>☀️เสื้อคอจีนมัดย้อม/แขนยาว☀️เข้ม+ท้องฟ้า☁️</td>\n",
       "      <td>฿198</td>\n",
       "      <td>ขายแล้ว 260 ชิ้น</td>\n",
       "      <td>จำนวน 1มีสินค้าทั้งหมด 37 ชิ้น</td>\n",
       "    </tr>\n",
       "    <tr>\n",
       "      <th>24</th>\n",
       "      <td>None</td>\n",
       "      <td>None</td>\n",
       "      <td>None</td>\n",
       "      <td>🔹เสื้อคอจีนมัดย้อม/แขนสั้น🔹☁️ลายท้องฟ้า☁️</td>\n",
       "      <td>฿187</td>\n",
       "      <td>ขายแล้ว 6 ชิ้น</td>\n",
       "      <td>จำนวน 1มีสินค้าทั้งหมด 50 ชิ้น</td>\n",
       "    </tr>\n",
       "    <tr>\n",
       "      <th>25</th>\n",
       "      <td>None</td>\n",
       "      <td>None</td>\n",
       "      <td>None</td>\n",
       "      <td>🌈เสื้อเชิ้ตฮาวายมัดย้อม 🌈No.11🟦</td>\n",
       "      <td>฿198</td>\n",
       "      <td>ขายแล้ว 83 ชิ้น</td>\n",
       "      <td>จำนวน 1มีสินค้าทั้งหมด 47 ชิ้น</td>\n",
       "    </tr>\n",
       "    <tr>\n",
       "      <th>26</th>\n",
       "      <td>None</td>\n",
       "      <td>None</td>\n",
       "      <td>None</td>\n",
       "      <td>✅เสื้อยืด 𝗖𝗥𝗢𝗣 𝗧𝗢𝗣 เอวลอยสไตล์มัดย้อม🌧6 แบบ 6 ลาย</td>\n",
       "      <td>฿179</td>\n",
       "      <td>ขายแล้ว 18 ชิ้น</td>\n",
       "      <td>จำนวน 1มีสินค้าทั้งหมด 117 ชิ้น</td>\n",
       "    </tr>\n",
       "    <tr>\n",
       "      <th>27</th>\n",
       "      <td>None</td>\n",
       "      <td>None</td>\n",
       "      <td>None</td>\n",
       "      <td>💙เสื้อคอจีนมัดย้อม/แขนสั้น💙เข้ม+ท้องฟ้า☁️</td>\n",
       "      <td>฿187</td>\n",
       "      <td>ขายแล้ว 4 ชิ้น</td>\n",
       "      <td>จำนวน 1มีสินค้าทั้งหมด 50 ชิ้น</td>\n",
       "    </tr>\n",
       "    <tr>\n",
       "      <th>28</th>\n",
       "      <td>None</td>\n",
       "      <td>None</td>\n",
       "      <td>None</td>\n",
       "      <td>🐱สินค้าพร้อมส่ง🐶สร้อยปลอกคอหมา/แมว สไตล์มัดย้อ...</td>\n",
       "      <td>฿79</td>\n",
       "      <td>None</td>\n",
       "      <td>จำนวน 1มีสินค้าทั้งหมด 20 ชิ้น</td>\n",
       "    </tr>\n",
       "    <tr>\n",
       "      <th>29</th>\n",
       "      <td>None</td>\n",
       "      <td>None</td>\n",
       "      <td>None</td>\n",
       "      <td>มีสินค้าพร้อมส่ง✅ ผ้าคาดผมมัดย้อม (ยางยืดรอบเส...</td>\n",
       "      <td>฿69</td>\n",
       "      <td>None</td>\n",
       "      <td>จำนวน 1มีสินค้าทั้งหมด 20 ชิ้น</td>\n",
       "    </tr>\n",
       "  </tbody>\n",
       "</table>\n",
       "</div>"
      ],
      "text/plain": [
       "                                               name  \\\n",
       "0   24storebybn.officialActive 5 ชั่วโมง  ที่ผ่านมา   \n",
       "1                                              None   \n",
       "2                                              None   \n",
       "3                                              None   \n",
       "4                                              None   \n",
       "5                                              None   \n",
       "6                                              None   \n",
       "7                                              None   \n",
       "8                                              None   \n",
       "9                                              None   \n",
       "10                                             None   \n",
       "11                                             None   \n",
       "12                                             None   \n",
       "13                                             None   \n",
       "14                                             None   \n",
       "15                                             None   \n",
       "16                                             None   \n",
       "17                                             None   \n",
       "18                                             None   \n",
       "19                                             None   \n",
       "20                                             None   \n",
       "21                                             None   \n",
       "22                                             None   \n",
       "23                                             None   \n",
       "24                                             None   \n",
       "25                                             None   \n",
       "26                                             None   \n",
       "27                                             None   \n",
       "28                                             None   \n",
       "29                                             None   \n",
       "\n",
       "                              score  \\\n",
       "0   4.8 (การให้คะแนนทั้งหมด 2.2พัน)   \n",
       "1                              None   \n",
       "2                              None   \n",
       "3                              None   \n",
       "4                              None   \n",
       "5                              None   \n",
       "6                              None   \n",
       "7                              None   \n",
       "8                              None   \n",
       "9                              None   \n",
       "10                             None   \n",
       "11                             None   \n",
       "12                             None   \n",
       "13                             None   \n",
       "14                             None   \n",
       "15                             None   \n",
       "16                             None   \n",
       "17                             None   \n",
       "18                             None   \n",
       "19                             None   \n",
       "20                             None   \n",
       "21                             None   \n",
       "22                             None   \n",
       "23                             None   \n",
       "24                             None   \n",
       "25                             None   \n",
       "26                             None   \n",
       "27                             None   \n",
       "28                             None   \n",
       "29                             None   \n",
       "\n",
       "                                            promotion  \\\n",
       "0        ส่วนลด ฿20ขั้นต่ำ ฿299ใช้ได้ก่อน: 20.10.2023   \n",
       "1   ส่วนลด 5%ขั้นต่ำ ฿299 สูงสุด ฿200ใกล้หมดอายุ: ...   \n",
       "2        ส่วนลด ฿30ขั้นต่ำ ฿399ใช้ได้ก่อน: 12.11.2023   \n",
       "3   ส่วนลด ฿50ขั้นต่ำ ฿799สินค้าที่กำหนดใช้ได้ก่อน...   \n",
       "4                                                None   \n",
       "5                                                None   \n",
       "6                                                None   \n",
       "7                                                None   \n",
       "8                                                None   \n",
       "9                                                None   \n",
       "10                                               None   \n",
       "11                                               None   \n",
       "12                                               None   \n",
       "13                                               None   \n",
       "14                                               None   \n",
       "15                                               None   \n",
       "16                                               None   \n",
       "17                                               None   \n",
       "18                                               None   \n",
       "19                                               None   \n",
       "20                                               None   \n",
       "21                                               None   \n",
       "22                                               None   \n",
       "23                                               None   \n",
       "24                                               None   \n",
       "25                                               None   \n",
       "26                                               None   \n",
       "27                                               None   \n",
       "28                                               None   \n",
       "29                                               None   \n",
       "\n",
       "                                         product_name        price  \\\n",
       "0   มีสินค้าพร้อมส่ง✅ ผ้าคาดผมมัดย้อมทรงสามเหลี่ยม...          ฿79   \n",
       "1       เสื้อยืดมัดย้อม🔵สีม่อฮ่อม🔵ใส่ได้ทั้งหญิง/ชาย🔵  ฿179 - ฿249   \n",
       "2   💥Collection2💥 🌈เสื้อยืดมัดย้อมแฟชั่น🎨 เนื้อผ้า...  ฿187 - ฿255   \n",
       "3   🔥UNISEX ขายดีที่สุด ถูกที่สุด🔥 🌈เสื้อยืดมัดย้อ...  ฿187 - ฿255   \n",
       "4   🌈เสื้อปกคอจีนมัดย้อม/แขนสั้น (มีกระเป๋าหน้าอก)...         ฿187   \n",
       "5   เสื้อยืดมัดย้อม🔵สีม่อฮ่อม🔵ใส่ได้ทั้งหญิง/ชาย🔵ผ...  ฿187 - ฿255   \n",
       "6   💣เสื้อยืดมัดย้อมดำกัดลาย 💣 ใส่แล้วเท่ นุ่ม สบา...  ฿169 - ฿229   \n",
       "7   🌈เสื้อเชิ้ตฮาวายมัดย้อม(มีกระเป๋าหน้าอก) 🌈เนื้...         ฿198   \n",
       "8                      🌈เสื้อเชิ้ตฮาวายมัดย้อม 🌈No.8🟦         ฿198   \n",
       "9                      🌈เสื้อเชิ้ตฮาวายมัดย้อม 🌈No.9🟦         ฿198   \n",
       "10                     🌈เสื้อเชิ้ตฮาวายมัดย้อม 🌈No.7🟦         ฿198   \n",
       "11  🌈เสื้อปกคอจีนมัดย้อม/แขนยาว (มีกระเป๋าหน้าอก🌈 ...         ฿198   \n",
       "12                    🌈เสื้อเชิ้ตฮาวายมัดย้อม 🌈No.12🟦         ฿198   \n",
       "13           🔹เสื้อคอจีนมัดย้อม/แขนยาว🔹☁️ลายท้องฟ้า☁️         ฿198   \n",
       "14                    🌈เสื้อเชิ้ตฮาวายมัดย้อม 🌈No.10🟦         ฿198   \n",
       "15  เสื้อยืดมัดย้อมเด็กๆ | 𝗦𝗛𝗜𝗥𝗧 𝗙𝗢𝗥 𝗞𝗜𝗗𝗦 👶🏻 Cotto...         ฿150   \n",
       "16  💙เสื้อยืดมัดย้อม💙สีม่อฮ่อม🌧ใส่ได้ทั้งหญิง/ชาย ...  ฿187 - ฿255   \n",
       "17           🟦 เสื้อเชิ้ตฮาวายมัดย้อม 🟦เข้ม+ท้องฟ้า☁️         ฿198   \n",
       "18                  ☁️เสื้อคอจีนมัดย้อม/แขนสั้น💙 No.7         ฿187   \n",
       "19  ⭐️NEW⭐️กางเกงขายาวมัดย้อม รุ่น OCEAN PANTS (ผู...         ฿189   \n",
       "20  NEW IN🌧 ⭐️ สินค้าใหม่ ⭐️ เสื้อแขนกุดสไตล์มัดย้...         ฿169   \n",
       "21  🧧เสื้อปกคอจีนมัดย้อม/แขนสั้น (มีกระเป๋าหน้าอก)...         ฿187   \n",
       "22  🧧เสื้อปกคอจีนมัดย้อม/แขนยาว (มีกระเป๋าหน้าอก) ...         ฿198   \n",
       "23         ☀️เสื้อคอจีนมัดย้อม/แขนยาว☀️เข้ม+ท้องฟ้า☁️         ฿198   \n",
       "24          🔹เสื้อคอจีนมัดย้อม/แขนสั้น🔹☁️ลายท้องฟ้า☁️         ฿187   \n",
       "25                    🌈เสื้อเชิ้ตฮาวายมัดย้อม 🌈No.11🟦         ฿198   \n",
       "26  ✅เสื้อยืด 𝗖𝗥𝗢𝗣 𝗧𝗢𝗣 เอวลอยสไตล์มัดย้อม🌧6 แบบ 6 ลาย         ฿179   \n",
       "27          💙เสื้อคอจีนมัดย้อม/แขนสั้น💙เข้ม+ท้องฟ้า☁️         ฿187   \n",
       "28  🐱สินค้าพร้อมส่ง🐶สร้อยปลอกคอหมา/แมว สไตล์มัดย้อ...          ฿79   \n",
       "29  มีสินค้าพร้อมส่ง✅ ผ้าคาดผมมัดย้อม (ยางยืดรอบเส...          ฿69   \n",
       "\n",
       "                   sale                              stock  \n",
       "0       ขายแล้ว 49 ชิ้น     จำนวน 1มีสินค้าทั้งหมด 31 ชิ้น  \n",
       "1        ขายแล้ว 4 ชิ้น    จำนวน 1มีสินค้าทั้งหมด 696 ชิ้น  \n",
       "2       ขายแล้ว 93 ชิ้น   จำนวน 1มีสินค้าทั้งหมด 1752 ชิ้น  \n",
       "3   ขายแล้ว 1.5พัน ชิ้น  จำนวน 1มีสินค้าทั้งหมด 27982 ชิ้น  \n",
       "4      ขายแล้ว 803 ชิ้น    จำนวน 1มีสินค้าทั้งหมด 295 ชิ้น  \n",
       "5        ขายแล้ว 8 ชิ้น    จำนวน 1มีสินค้าทั้งหมด 692 ชิ้น  \n",
       "6       ขายแล้ว 25 ชิ้น   จำนวน 1มีสินค้าทั้งหมด 1774 ชิ้น  \n",
       "7   ขายแล้ว 2.9พัน ชิ้น    จำนวน 1มีสินค้าทั้งหมด 464 ชิ้น  \n",
       "8       ขายแล้ว 10 ชิ้น     จำนวน 1มีสินค้าทั้งหมด 97 ชิ้น  \n",
       "9       ขายแล้ว 13 ชิ้น     จำนวน 1มีสินค้าทั้งหมด 97 ชิ้น  \n",
       "10      ขายแล้ว 20 ชิ้น     จำนวน 1มีสินค้าทั้งหมด 97 ชิ้น  \n",
       "11     ขายแล้ว 480 ชิ้น    จำนวน 1มีสินค้าทั้งหมด 204 ชิ้น  \n",
       "12     ขายแล้ว 209 ชิ้น     จำนวน 1มีสินค้าทั้งหมด 49 ชิ้น  \n",
       "13      ขายแล้ว 10 ชิ้น     จำนวน 1มีสินค้าทั้งหมด 26 ชิ้น  \n",
       "14       ขายแล้ว 6 ชิ้น     จำนวน 1มีสินค้าทั้งหมด 98 ชิ้น  \n",
       "15       ขายแล้ว 6 ชิ้น    จำนวน 1มีสินค้าทั้งหมด 233 ชิ้น  \n",
       "16       ขายแล้ว 9 ชิ้น    จำนวน 1มีสินค้าทั้งหมด 344 ชิ้น  \n",
       "17       ขายแล้ว 1 ชิ้น     จำนวน 1มีสินค้าทั้งหมด 99 ชิ้น  \n",
       "18      ขายแล้ว 47 ชิ้น     จำนวน 1มีสินค้าทั้งหมด 50 ชิ้น  \n",
       "19      ขายแล้ว 92 ชิ้น     จำนวน 1มีสินค้าทั้งหมด 53 ชิ้น  \n",
       "20      ขายแล้ว 10 ชิ้น     จำนวน 1มีสินค้าทั้งหมด 40 ชิ้น  \n",
       "21       ขายแล้ว 7 ชิ้น     จำนวน 1มีสินค้าทั้งหมด 48 ชิ้น  \n",
       "22      ขายแล้ว 41 ชิ้น     จำนวน 1มีสินค้าทั้งหมด 40 ชิ้น  \n",
       "23     ขายแล้ว 260 ชิ้น     จำนวน 1มีสินค้าทั้งหมด 37 ชิ้น  \n",
       "24       ขายแล้ว 6 ชิ้น     จำนวน 1มีสินค้าทั้งหมด 50 ชิ้น  \n",
       "25      ขายแล้ว 83 ชิ้น     จำนวน 1มีสินค้าทั้งหมด 47 ชิ้น  \n",
       "26      ขายแล้ว 18 ชิ้น    จำนวน 1มีสินค้าทั้งหมด 117 ชิ้น  \n",
       "27       ขายแล้ว 4 ชิ้น     จำนวน 1มีสินค้าทั้งหมด 50 ชิ้น  \n",
       "28                 None     จำนวน 1มีสินค้าทั้งหมด 20 ชิ้น  \n",
       "29                 None     จำนวน 1มีสินค้าทั้งหมด 20 ชิ้น  "
      ]
     },
     "execution_count": 368,
     "metadata": {},
     "output_type": "execute_result"
    }
   ],
   "source": [
    "shopee_data = shopee_data.transpose()\n",
    "shopee_data.columns = ['name','score','promotion','product_name','price', 'sale', 'stock']\n",
    "shopee_data"
   ]
  },
  {
   "cell_type": "code",
   "execution_count": 369,
   "id": "a82c8a53",
   "metadata": {},
   "outputs": [],
   "source": [
    "shopee_data.to_excel(r'/Users/kritchayahirunno/Desktop/webscp/24storebybn.official(11.10).xlsx')"
   ]
  },
  {
   "cell_type": "code",
   "execution_count": null,
   "id": "33a2622e",
   "metadata": {},
   "outputs": [],
   "source": []
  }
 ],
 "metadata": {
  "kernelspec": {
   "display_name": "Python 3",
   "language": "python",
   "name": "python3"
  },
  "language_info": {
   "codemirror_mode": {
    "name": "ipython",
    "version": 3
   },
   "file_extension": ".py",
   "mimetype": "text/x-python",
   "name": "python",
   "nbconvert_exporter": "python",
   "pygments_lexer": "ipython3",
   "version": "3.8.8"
  }
 },
 "nbformat": 4,
 "nbformat_minor": 5
}
