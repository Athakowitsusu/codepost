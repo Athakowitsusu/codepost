{
 "cells": [
  {
   "cell_type": "code",
   "execution_count": 1,
   "id": "0edb05ed",
   "metadata": {},
   "outputs": [],
   "source": [
    "from selenium import webdriver\n",
    "from selenium.webdriver.common.keys import Keys\n",
    "import bs4\n",
    "import pandas as pd"
   ]
  },
  {
   "cell_type": "code",
   "execution_count": 2,
   "id": "2c5f3c75",
   "metadata": {},
   "outputs": [],
   "source": [
    "driver = webdriver.Chrome()"
   ]
  },
  {
   "cell_type": "code",
   "execution_count": 3,
   "id": "8c060eae",
   "metadata": {},
   "outputs": [],
   "source": [
    "driver.get('https://shopee.co.th/makeitindigo?utm_content=3grW3YsCii8SqRTiTTbKPqzAvmwV')"
   ]
  },
  {
   "cell_type": "code",
   "execution_count": 6,
   "id": "7fe2aeed",
   "metadata": {},
   "outputs": [],
   "source": [
    "thai_button = driver.find_element(\"xpath\", '/html/body/div[2]/div[1]/div[1]/div/div[3]/div[1]/button')"
   ]
  },
  {
   "cell_type": "code",
   "execution_count": 7,
   "id": "2cb00751",
   "metadata": {},
   "outputs": [],
   "source": [
    "thai_button.click()"
   ]
  },
  {
   "cell_type": "code",
   "execution_count": 8,
   "id": "0a57ae1f",
   "metadata": {},
   "outputs": [],
   "source": [
    "driver.execute_script(\"document.body.style.zoom='25%'\")"
   ]
  },
  {
   "cell_type": "code",
   "execution_count": 9,
   "id": "ae31a06f",
   "metadata": {},
   "outputs": [],
   "source": [
    "data = driver.page_source"
   ]
  },
  {
   "cell_type": "code",
   "execution_count": 10,
   "id": "6e872a0f",
   "metadata": {},
   "outputs": [],
   "source": [
    "soup = bs4.BeautifulSoup(data)"
   ]
  },
  {
   "cell_type": "code",
   "execution_count": 11,
   "id": "8e4bd4b8",
   "metadata": {},
   "outputs": [],
   "source": [
    "store_name = soup.find_all('div',{'class':'section-seller-overview-horizontal__seller-portrait UgJq78'})"
   ]
  },
  {
   "cell_type": "code",
   "execution_count": 12,
   "id": "96f5bba5",
   "metadata": {},
   "outputs": [
    {
     "data": {
      "text/plain": [
       "['Make it indigo Active 20 นาที  ที่ผ่านมา']"
      ]
     },
     "execution_count": 12,
     "metadata": {},
     "output_type": "execute_result"
    }
   ],
   "source": [
    "store_name_list = []\n",
    "for product in store_name:\n",
    "    text = product.text.strip()\n",
    "    if text:\n",
    "        store_name_list.append(text)\n",
    "store_name_list"
   ]
  },
  {
   "cell_type": "code",
   "execution_count": 13,
   "id": "3020c629",
   "metadata": {},
   "outputs": [],
   "source": [
    "store_score = driver.find_elements(\"xpath\",'/html/body/div[1]/div/div[2]/div/div/div/div[2]/div/div[1]/div/div[2]/div[4]/div[2]/div[2]')"
   ]
  },
  {
   "cell_type": "code",
   "execution_count": 14,
   "id": "71fc485b",
   "metadata": {},
   "outputs": [
    {
     "data": {
      "text/plain": [
       "['4.7 (การให้คะแนนทั้งหมด 19.6พัน)']"
      ]
     },
     "execution_count": 14,
     "metadata": {},
     "output_type": "execute_result"
    }
   ],
   "source": [
    "store_score_list = []\n",
    "for product in store_score:\n",
    "    text = product.text.strip()\n",
    "    if text:\n",
    "        store_score_list.append(text)\n",
    "store_score_list"
   ]
  },
  {
   "cell_type": "code",
   "execution_count": 15,
   "id": "adc5d983",
   "metadata": {},
   "outputs": [],
   "source": [
    "store_promotion = soup.find_all('div',{'class':'SLtncH'})"
   ]
  },
  {
   "cell_type": "code",
   "execution_count": 16,
   "id": "a53b09ea",
   "metadata": {},
   "outputs": [
    {
     "data": {
      "text/plain": [
       "[]"
      ]
     },
     "execution_count": 16,
     "metadata": {},
     "output_type": "execute_result"
    }
   ],
   "source": [
    "store_promotion_list = []\n",
    "for product in store_promotion:\n",
    "    text = product.text.strip()\n",
    "    if text:\n",
    "        store_promotion_list.append(text)\n",
    "store_promotion_list"
   ]
  },
  {
   "cell_type": "code",
   "execution_count": 74,
   "id": "2e1cea9c",
   "metadata": {},
   "outputs": [],
   "source": [
    "search = driver.find_element(\"xpath\",'/html/body/div[1]/div/div[2]/div/header/div[2]/div/div[1]/form/div/div[1]/input')"
   ]
  },
  {
   "cell_type": "code",
   "execution_count": 75,
   "id": "9e396359",
   "metadata": {},
   "outputs": [],
   "source": [
    "search.send_keys('มัดย้อม')"
   ]
  },
  {
   "cell_type": "code",
   "execution_count": 76,
   "id": "4d21a396",
   "metadata": {},
   "outputs": [],
   "source": [
    "search.send_keys(Keys.ENTER)"
   ]
  },
  {
   "cell_type": "code",
   "execution_count": 20,
   "id": "083788b5",
   "metadata": {},
   "outputs": [],
   "source": [
    "data = driver.page_source"
   ]
  },
  {
   "cell_type": "code",
   "execution_count": 21,
   "id": "f0e9df92",
   "metadata": {},
   "outputs": [],
   "source": [
    "soup = bs4.BeautifulSoup(data)"
   ]
  },
  {
   "cell_type": "code",
   "execution_count": 22,
   "id": "439b5f82",
   "metadata": {},
   "outputs": [],
   "source": [
    "product_name = soup.find_all('div',{'class':'FDn--+'})"
   ]
  },
  {
   "cell_type": "code",
   "execution_count": 23,
   "id": "89b2a7be",
   "metadata": {},
   "outputs": [
    {
     "data": {
      "text/plain": [
       "['(ย้อมเย็น 100%) เสื้อยืดมัดย้อม Monday-Sunday ผ่านการฟิกสี สีสดไม่ซีด',\n",
       " 'เสื้อยืดมัดย้อม \"โชคดี\" และ \"ร่ำรวย\"',\n",
       " '\"สีไม่ตก\"เสื้อยืดมัดย้อม คราม ไซส์ S-XXL cotton no.32 100% เนื้อผ้านุ่มไม่ย้วย',\n",
       " '(ย้อมเย็น 100%) เสื้อมัดย้อม ผ้า cotton no.32 100% (เสื้อมัดย้อม) ไซส์ S-XL',\n",
       " 'เสื้อมัดย้อม สีรุ้ง cotton 100% (งานย้อมเย็น สีจะตกน้อยกว่าการย้อมปรติ)',\n",
       " '(ย้อมเย็น 100%) เสื้อมัดย้อมสีพาสเทล cotton 100% no.32 ผ่านกระบวนการฟิกสี สีสด สีไม่ตก',\n",
       " 'เสื้อฮาวายมัดย้อม Super premium spun',\n",
       " 'เสื้อคู่มัดย้อมลายก้นหอย ใส่ไปทะเลย ชิคๆ ย้อมเย็น 100% สีไม่ตกไม่ซีด',\n",
       " 'เสื้อมัดย้อม (สีรุ้ง) เสื้อ oversize',\n",
       " '(ย้อมเย็น 100%) เสื้อฮาวายมัดย้อมสีพาสเทล สีรุ้ง ผ่านการฟิกสี สีสดไม่ซีด',\n",
       " 'เสื้อฮาวายมัดย้อม Super premium spun',\n",
       " 'เสื้อฮาวายมัดย้อม สีพาสเทล (งานย้อมเย็น สีตกน้อยกว่าการย้อมแบบปรติ)',\n",
       " '(ย้อมเย็น 100%) กางเกงมัดย้อมสีรุ้ง สีพาสเทล สีคราม ขาจั้ม ผ่านการฟิกสี สีสดไม่ซีด',\n",
       " '(ย้อมเย็น 100%) เสื้อยืดมัดย้อม สีพาสเทล cotton no.32 100%',\n",
       " 'เสื้อฮาวายมัดย้อม Super premium spun',\n",
       " '(งานย้อมเย็น 100%) เดรสหางปลามัดย้อม สีไม่ตก ไม่ซีด เดรสใส่ไปทะเล',\n",
       " 'เสื้อฮาวายมัดย้อม Super premium spun',\n",
       " 'สายเดี่ยว 2 ชั้น มัดย้อม สายเดี่ยวมัดย้อม',\n",
       " '(ย้อมเย็น 100%) สายเดี่ยว เสื้อฮาวาย มัดย้อมสีพาสเทล เนื้อผ้าสปัน ผ้าพริ้ว สีไม่สด ไม่ตก',\n",
       " '(ย้อมเย็น 100%) สายเดี่ยว เสื้อฮาวาย มัดย้อมสีพาสเทล เขียว-น้ำเงิน เนื้อผ้าสปัน ผ้าพริ้ว สีไม่สด ไม่ตก',\n",
       " 'สายเดี่ยวมัดย้อม หน้าสั้น หลังยาว',\n",
       " '(ย้อมเย็น 100%) สายเดี่ยว เสื้อฮาวาย มัดย้อมสีพาสเทล ชมพู-ส้ม เนื้อผ้าสปัน ผ้าพริ้ว สีไม่สด ไม่ตก',\n",
       " '(ย้อมเย็น 100%) มินิเดรสคอกระตุกมัดย้อมคราม เดรสเปิดไหล่มัดย้อม']"
      ]
     },
     "execution_count": 23,
     "metadata": {},
     "output_type": "execute_result"
    }
   ],
   "source": [
    "product_name_list = []\n",
    "for product in product_name:\n",
    "    text = product.text.strip()\n",
    "    if text:\n",
    "        product_name_list.append(text)\n",
    "product_name_list"
   ]
  },
  {
   "cell_type": "code",
   "execution_count": 24,
   "id": "b420fb32",
   "metadata": {},
   "outputs": [],
   "source": [
    "product_price = soup.find_all('div',{'class':'vioxXd rVLWG6'})"
   ]
  },
  {
   "cell_type": "code",
   "execution_count": 25,
   "id": "06df9c62",
   "metadata": {},
   "outputs": [
    {
     "data": {
      "text/plain": [
       "['฿290',\n",
       " '฿290',\n",
       " '฿250',\n",
       " '฿250',\n",
       " '฿250',\n",
       " '฿229',\n",
       " '฿249',\n",
       " '฿189 - ฿250',\n",
       " '฿350',\n",
       " '฿249 - ฿290',\n",
       " '฿249',\n",
       " '฿290 - ฿550',\n",
       " '฿290 - ฿350',\n",
       " '฿290',\n",
       " '฿390',\n",
       " '฿490',\n",
       " '฿390',\n",
       " '฿189',\n",
       " '฿250 - ฿290',\n",
       " '฿250 - ฿290',\n",
       " '฿189',\n",
       " '฿250 - ฿290',\n",
       " '฿199']"
      ]
     },
     "execution_count": 25,
     "metadata": {},
     "output_type": "execute_result"
    }
   ],
   "source": [
    "product_price_list = []\n",
    "for product in product_price:\n",
    "    text = product.text.strip()\n",
    "    if text:\n",
    "        product_price_list.append(text)\n",
    "product_price_list"
   ]
  },
  {
   "cell_type": "code",
   "execution_count": 26,
   "id": "bda64c3e",
   "metadata": {},
   "outputs": [],
   "source": [
    "product_sale = soup.find_all('div',{'class':'r6HknA uEPGHT'})"
   ]
  },
  {
   "cell_type": "code",
   "execution_count": 27,
   "id": "b0b52a7c",
   "metadata": {},
   "outputs": [
    {
     "data": {
      "text/plain": [
       "['ขายแล้ว 59 ชิ้น',\n",
       " 'ขายแล้ว 52 ชิ้น',\n",
       " 'ขายแล้ว 501 ชิ้น',\n",
       " 'ขายแล้ว 3.2พัน ชิ้น',\n",
       " 'ขายแล้ว 318 ชิ้น',\n",
       " 'ขายแล้ว 151 ชิ้น',\n",
       " 'ขายแล้ว 5 ชิ้น',\n",
       " 'ขายแล้ว 93 ชิ้น',\n",
       " 'ขายแล้ว 35 ชิ้น',\n",
       " 'ขายแล้ว 487 ชิ้น',\n",
       " 'ขายแล้ว 6 ชิ้น',\n",
       " 'ขายแล้ว 80 ชิ้น',\n",
       " 'ขายแล้ว 119 ชิ้น',\n",
       " 'ขายแล้ว 203 ชิ้น',\n",
       " 'ขายแล้ว 29 ชิ้น',\n",
       " 'ขายแล้ว 38 ชิ้น',\n",
       " 'ขายแล้ว 308 ชิ้น',\n",
       " 'ขายแล้ว 8 ชิ้น',\n",
       " 'ขายแล้ว 5 ชิ้น',\n",
       " 'ขายแล้ว 78 ชิ้น',\n",
       " 'ขายแล้ว 3 ชิ้น',\n",
       " 'ขายแล้ว 11 ชิ้น']"
      ]
     },
     "execution_count": 27,
     "metadata": {},
     "output_type": "execute_result"
    }
   ],
   "source": [
    "product_sale_list = []\n",
    "for product in product_sale:\n",
    "    text = product.text.strip()\n",
    "    if text:\n",
    "        product_sale_list.append(text)\n",
    "product_sale_list"
   ]
  },
  {
   "cell_type": "code",
   "execution_count": 28,
   "id": "2c1f2ffe",
   "metadata": {},
   "outputs": [],
   "source": [
    "driver.execute_script(\"document.body.style.zoom='100%'\")"
   ]
  },
  {
   "cell_type": "code",
   "execution_count": 29,
   "id": "f1ca3651",
   "metadata": {},
   "outputs": [],
   "source": [
    "product1 = driver.find_element(\"xpath\", '/html/body/div[1]/div/div[2]/div/div/div[2]/section/ul/li[1]')"
   ]
  },
  {
   "cell_type": "code",
   "execution_count": 30,
   "id": "5aaac8fe",
   "metadata": {},
   "outputs": [],
   "source": [
    "product1.click()"
   ]
  },
  {
   "cell_type": "code",
   "execution_count": 31,
   "id": "6f8228d9",
   "metadata": {},
   "outputs": [],
   "source": [
    "driver.execute_script(\"document.body.style.zoom='25%'\")"
   ]
  },
  {
   "cell_type": "code",
   "execution_count": 32,
   "id": "2c4e5269",
   "metadata": {},
   "outputs": [],
   "source": [
    "data = driver.page_source"
   ]
  },
  {
   "cell_type": "code",
   "execution_count": 33,
   "id": "7ff92582",
   "metadata": {},
   "outputs": [],
   "source": [
    "soup = bs4.BeautifulSoup(data)"
   ]
  },
  {
   "cell_type": "code",
   "execution_count": 34,
   "id": "7f458add",
   "metadata": {},
   "outputs": [],
   "source": [
    "product1_score = soup.find_all('div',{'class':'flex items-center'})"
   ]
  },
  {
   "cell_type": "code",
   "execution_count": 35,
   "id": "7d2430bd",
   "metadata": {},
   "outputs": [
    {
     "data": {
      "text/plain": [
       "['จำนวน 1มีสินค้าทั้งหมด 115 ชิ้น']"
      ]
     },
     "execution_count": 35,
     "metadata": {},
     "output_type": "execute_result"
    }
   ],
   "source": [
    "product1_score_list = []\n",
    "for product in product1_score:\n",
    "    text = product.text.strip()\n",
    "    if text:\n",
    "        product1_score_list.append(text)\n",
    "product1_score_list = product1_score_list[2]\n",
    "product1_score_list = product1_score_list.split('\\n')\n",
    "product1_score_list"
   ]
  },
  {
   "cell_type": "code",
   "execution_count": 36,
   "id": "6daad4c4",
   "metadata": {},
   "outputs": [],
   "source": [
    "driver.back()"
   ]
  },
  {
   "cell_type": "code",
   "execution_count": 37,
   "id": "eb8f5aaf",
   "metadata": {},
   "outputs": [],
   "source": [
    "driver.execute_script(\"document.body.style.zoom='100%'\")"
   ]
  },
  {
   "cell_type": "code",
   "execution_count": 38,
   "id": "ba54a8fd",
   "metadata": {},
   "outputs": [],
   "source": [
    "product2 = driver.find_element(\"xpath\", '/html/body/div[1]/div/div[2]/div/div/div[2]/section/ul/li[2]/a/div/div')"
   ]
  },
  {
   "cell_type": "code",
   "execution_count": 39,
   "id": "bc756d7e",
   "metadata": {},
   "outputs": [],
   "source": [
    "product2.click()"
   ]
  },
  {
   "cell_type": "code",
   "execution_count": 40,
   "id": "62e2ec18",
   "metadata": {},
   "outputs": [],
   "source": [
    "driver.execute_script(\"document.body.style.zoom='25%'\")"
   ]
  },
  {
   "cell_type": "code",
   "execution_count": 41,
   "id": "5a380f5a",
   "metadata": {},
   "outputs": [],
   "source": [
    "data = driver.page_source"
   ]
  },
  {
   "cell_type": "code",
   "execution_count": 42,
   "id": "ec7950b5",
   "metadata": {},
   "outputs": [],
   "source": [
    "soup = bs4.BeautifulSoup(data)"
   ]
  },
  {
   "cell_type": "code",
   "execution_count": 43,
   "id": "bf2593c4",
   "metadata": {},
   "outputs": [],
   "source": [
    "product2_score = soup.find_all('div',{'class':'flex items-center'})"
   ]
  },
  {
   "cell_type": "code",
   "execution_count": 44,
   "id": "1dbd861e",
   "metadata": {},
   "outputs": [
    {
     "data": {
      "text/plain": [
       "['จำนวน 1มีสินค้าทั้งหมด 33 ชิ้น']"
      ]
     },
     "execution_count": 44,
     "metadata": {},
     "output_type": "execute_result"
    }
   ],
   "source": [
    "product2_score_list = []\n",
    "for product in product2_score:\n",
    "    text = product.text.strip()\n",
    "    if text:\n",
    "        product2_score_list.append(text)\n",
    "product2_score_list = product2_score_list[2]\n",
    "product2_score_list = product2_score_list.split('\\n')\n",
    "product2_score_list"
   ]
  },
  {
   "cell_type": "code",
   "execution_count": 45,
   "id": "8c8ed98b",
   "metadata": {},
   "outputs": [],
   "source": [
    "driver.back()"
   ]
  },
  {
   "cell_type": "code",
   "execution_count": 46,
   "id": "77149df0",
   "metadata": {},
   "outputs": [],
   "source": [
    "driver.execute_script(\"document.body.style.zoom='100%'\")"
   ]
  },
  {
   "cell_type": "code",
   "execution_count": 47,
   "id": "1a0d7478",
   "metadata": {},
   "outputs": [],
   "source": [
    "product3 = driver.find_element(\"xpath\",'/html/body/div[1]/div/div[2]/div/div/div[2]/section/ul/li[3]/a/div/div')"
   ]
  },
  {
   "cell_type": "code",
   "execution_count": 48,
   "id": "37de635d",
   "metadata": {},
   "outputs": [],
   "source": [
    "product3.click()"
   ]
  },
  {
   "cell_type": "code",
   "execution_count": 49,
   "id": "a7610ec5",
   "metadata": {},
   "outputs": [],
   "source": [
    "driver.execute_script(\"document.body.style.zoom='25%'\")"
   ]
  },
  {
   "cell_type": "code",
   "execution_count": 50,
   "id": "b1897f2b",
   "metadata": {},
   "outputs": [],
   "source": [
    "data = driver.page_source"
   ]
  },
  {
   "cell_type": "code",
   "execution_count": 51,
   "id": "ab3ab80f",
   "metadata": {},
   "outputs": [],
   "source": [
    "soup = bs4.BeautifulSoup(data)"
   ]
  },
  {
   "cell_type": "code",
   "execution_count": 52,
   "id": "fb5d446a",
   "metadata": {},
   "outputs": [],
   "source": [
    "product3_score = soup.find_all('div',{'class':'flex items-center'})"
   ]
  },
  {
   "cell_type": "code",
   "execution_count": 53,
   "id": "11a2f9f9",
   "metadata": {},
   "outputs": [
    {
     "data": {
      "text/plain": [
       "['จำนวน 1มีสินค้าทั้งหมด 3029 ชิ้น']"
      ]
     },
     "execution_count": 53,
     "metadata": {},
     "output_type": "execute_result"
    }
   ],
   "source": [
    "product3_score_list = []\n",
    "for product in product3_score:\n",
    "    text = product.text.strip()\n",
    "    if text:\n",
    "        product3_score_list.append(text)\n",
    "product3_score_list = product3_score_list[2]\n",
    "product3_score_list = product3_score_list.split('\\n')\n",
    "product3_score_list"
   ]
  },
  {
   "cell_type": "code",
   "execution_count": 54,
   "id": "bdcaaffa",
   "metadata": {},
   "outputs": [],
   "source": [
    "driver.back()"
   ]
  },
  {
   "cell_type": "code",
   "execution_count": 55,
   "id": "4a4fb590",
   "metadata": {},
   "outputs": [],
   "source": [
    "driver.execute_script(\"document.body.style.zoom='100%'\")"
   ]
  },
  {
   "cell_type": "code",
   "execution_count": 56,
   "id": "6d21ee4f",
   "metadata": {},
   "outputs": [],
   "source": [
    "product4 = driver.find_element(\"xpath\",'/html/body/div[1]/div/div[2]/div/div/div[2]/section/ul/li[4]/a/div/div')"
   ]
  },
  {
   "cell_type": "code",
   "execution_count": 57,
   "id": "a7e8173e",
   "metadata": {},
   "outputs": [],
   "source": [
    "product4.click()"
   ]
  },
  {
   "cell_type": "code",
   "execution_count": 58,
   "id": "8e6e61a3",
   "metadata": {},
   "outputs": [],
   "source": [
    "driver.execute_script(\"document.body.style.zoom='25%'\")"
   ]
  },
  {
   "cell_type": "code",
   "execution_count": 59,
   "id": "43d4486a",
   "metadata": {},
   "outputs": [],
   "source": [
    "data = driver.page_source"
   ]
  },
  {
   "cell_type": "code",
   "execution_count": 60,
   "id": "2c14cfca",
   "metadata": {},
   "outputs": [],
   "source": [
    "soup = bs4.BeautifulSoup(data)"
   ]
  },
  {
   "cell_type": "code",
   "execution_count": 61,
   "id": "bda7035d",
   "metadata": {},
   "outputs": [],
   "source": [
    "product4_score = soup.find_all('div',{'class':'flex items-center'})"
   ]
  },
  {
   "cell_type": "code",
   "execution_count": 62,
   "id": "42ad6f9a",
   "metadata": {},
   "outputs": [
    {
     "data": {
      "text/plain": [
       "['จำนวน 1มีสินค้าทั้งหมด 3376 ชิ้น']"
      ]
     },
     "execution_count": 62,
     "metadata": {},
     "output_type": "execute_result"
    }
   ],
   "source": [
    "product4_score_list = []\n",
    "for product in product4_score:\n",
    "    text = product.text.strip()\n",
    "    if text:\n",
    "        product4_score_list.append(text)\n",
    "product4_score_list = product4_score_list[2]\n",
    "product4_score_list = product4_score_list.split('\\n')\n",
    "product4_score_list "
   ]
  },
  {
   "cell_type": "code",
   "execution_count": 63,
   "id": "cbacd8ff",
   "metadata": {},
   "outputs": [],
   "source": [
    "driver.back()"
   ]
  },
  {
   "cell_type": "code",
   "execution_count": 64,
   "id": "995e5f26",
   "metadata": {},
   "outputs": [],
   "source": [
    "driver.execute_script(\"document.body.style.zoom='100%'\")"
   ]
  },
  {
   "cell_type": "code",
   "execution_count": 65,
   "id": "9870faa7",
   "metadata": {},
   "outputs": [],
   "source": [
    "product5 = driver.find_element(\"xpath\",'/html/body/div[1]/div/div[2]/div/div/div[2]/section/ul/li[5]/a/div/div')"
   ]
  },
  {
   "cell_type": "code",
   "execution_count": 66,
   "id": "82681c41",
   "metadata": {},
   "outputs": [],
   "source": [
    "product5.click()"
   ]
  },
  {
   "cell_type": "code",
   "execution_count": 67,
   "id": "5fc9f289",
   "metadata": {},
   "outputs": [],
   "source": [
    "driver.execute_script(\"document.body.style.zoom='25%'\")"
   ]
  },
  {
   "cell_type": "code",
   "execution_count": 68,
   "id": "4c28577f",
   "metadata": {},
   "outputs": [],
   "source": [
    "data = driver.page_source"
   ]
  },
  {
   "cell_type": "code",
   "execution_count": 69,
   "id": "566c575a",
   "metadata": {},
   "outputs": [],
   "source": [
    "soup = bs4.BeautifulSoup(data)"
   ]
  },
  {
   "cell_type": "code",
   "execution_count": 70,
   "id": "e2ec181d",
   "metadata": {},
   "outputs": [],
   "source": [
    "product5_score = soup.find_all('div',{'class':'flex items-center'})"
   ]
  },
  {
   "cell_type": "code",
   "execution_count": 71,
   "id": "c6891060",
   "metadata": {},
   "outputs": [
    {
     "data": {
      "text/plain": [
       "['จำนวน 1มีสินค้าทั้งหมด 127 ชิ้น']"
      ]
     },
     "execution_count": 71,
     "metadata": {},
     "output_type": "execute_result"
    }
   ],
   "source": [
    "product5_score_list = []\n",
    "for product in product5_score:\n",
    "    text = product.text.strip()\n",
    "    if text:\n",
    "        product5_score_list.append(text)\n",
    "product5_score_list = product5_score_list[2]\n",
    "product5_score_list = product5_score_list.split('\\n')\n",
    "product5_score_list"
   ]
  },
  {
   "cell_type": "code",
   "execution_count": 73,
   "id": "d3295513",
   "metadata": {},
   "outputs": [],
   "source": [
    "driver.back()"
   ]
  },
  {
   "cell_type": "code",
   "execution_count": 77,
   "id": "b6cf7ead",
   "metadata": {},
   "outputs": [],
   "source": [
    "driver.execute_script(\"document.body.style.zoom='100%'\")"
   ]
  },
  {
   "cell_type": "code",
   "execution_count": 78,
   "id": "fd8c22b2",
   "metadata": {},
   "outputs": [],
   "source": [
    "product6 = driver.find_element(\"xpath\",'/html/body/div[1]/div/div[2]/div/div/div[2]/section/ul/li[6]/a/div/div')"
   ]
  },
  {
   "cell_type": "code",
   "execution_count": 79,
   "id": "86b51f89",
   "metadata": {},
   "outputs": [],
   "source": [
    "product6.click()"
   ]
  },
  {
   "cell_type": "code",
   "execution_count": 80,
   "id": "ea30d7a4",
   "metadata": {},
   "outputs": [],
   "source": [
    "driver.execute_script(\"document.body.style.zoom='25%'\")"
   ]
  },
  {
   "cell_type": "code",
   "execution_count": 82,
   "id": "a891a104",
   "metadata": {},
   "outputs": [],
   "source": [
    "data = driver.page_source"
   ]
  },
  {
   "cell_type": "code",
   "execution_count": 83,
   "id": "3978826d",
   "metadata": {},
   "outputs": [],
   "source": [
    "soup = bs4.BeautifulSoup(data)"
   ]
  },
  {
   "cell_type": "code",
   "execution_count": 84,
   "id": "a90e7819",
   "metadata": {},
   "outputs": [],
   "source": [
    "product6_score = soup.find_all('div',{'class':'flex items-center'})"
   ]
  },
  {
   "cell_type": "code",
   "execution_count": 85,
   "id": "428b1790",
   "metadata": {},
   "outputs": [
    {
     "data": {
      "text/plain": [
       "['จำนวน 1มีสินค้าทั้งหมด 431 ชิ้น']"
      ]
     },
     "execution_count": 85,
     "metadata": {},
     "output_type": "execute_result"
    }
   ],
   "source": [
    "product6_score_list = []\n",
    "for product in product6_score:\n",
    "    text = product.text.strip()\n",
    "    if text:\n",
    "        product6_score_list.append(text)\n",
    "product6_score_list = product6_score_list[2]\n",
    "product6_score_list = product6_score_list.split('\\n')\n",
    "product6_score_list"
   ]
  },
  {
   "cell_type": "code",
   "execution_count": 86,
   "id": "f47b80ad",
   "metadata": {},
   "outputs": [],
   "source": [
    "driver.back()"
   ]
  },
  {
   "cell_type": "code",
   "execution_count": 87,
   "id": "cf047078",
   "metadata": {},
   "outputs": [],
   "source": [
    "driver.execute_script(\"document.body.style.zoom='100%'\")"
   ]
  },
  {
   "cell_type": "code",
   "execution_count": 88,
   "id": "e19bf53e",
   "metadata": {},
   "outputs": [],
   "source": [
    "product7 = driver.find_element(\"xpath\",'/html/body/div[1]/div/div[2]/div/div/div[2]/section/ul/li[7]/a/div/div')"
   ]
  },
  {
   "cell_type": "code",
   "execution_count": 89,
   "id": "9fcd65fc",
   "metadata": {},
   "outputs": [],
   "source": [
    "product7.click()"
   ]
  },
  {
   "cell_type": "code",
   "execution_count": 90,
   "id": "6dc50f19",
   "metadata": {},
   "outputs": [],
   "source": [
    "driver.execute_script(\"document.body.style.zoom='25%'\")"
   ]
  },
  {
   "cell_type": "code",
   "execution_count": 91,
   "id": "34e77298",
   "metadata": {},
   "outputs": [],
   "source": [
    "data = driver.page_source"
   ]
  },
  {
   "cell_type": "code",
   "execution_count": 92,
   "id": "a85df7d4",
   "metadata": {},
   "outputs": [],
   "source": [
    "soup = bs4.BeautifulSoup(data)"
   ]
  },
  {
   "cell_type": "code",
   "execution_count": 93,
   "id": "bf327986",
   "metadata": {},
   "outputs": [],
   "source": [
    "product7_score = soup.find_all('div',{'class':'flex items-center'})"
   ]
  },
  {
   "cell_type": "code",
   "execution_count": 94,
   "id": "7c38564b",
   "metadata": {},
   "outputs": [
    {
     "data": {
      "text/plain": [
       "['จำนวน 1มีสินค้าทั้งหมด 115 ชิ้น']"
      ]
     },
     "execution_count": 94,
     "metadata": {},
     "output_type": "execute_result"
    }
   ],
   "source": [
    "product7_score_list = []\n",
    "for product in product7_score:\n",
    "    text = product.text.strip()\n",
    "    if text:\n",
    "        product7_score_list.append(text)\n",
    "product7_score_list = product7_score_list[2]\n",
    "product7_score_list = product7_score_list.split('\\n')\n",
    "product7_score_list"
   ]
  },
  {
   "cell_type": "code",
   "execution_count": 95,
   "id": "2886900c",
   "metadata": {},
   "outputs": [],
   "source": [
    "driver.back()"
   ]
  },
  {
   "cell_type": "code",
   "execution_count": 96,
   "id": "f0a4b1c5",
   "metadata": {},
   "outputs": [],
   "source": [
    "driver.execute_script(\"document.body.style.zoom='100%'\")"
   ]
  },
  {
   "cell_type": "code",
   "execution_count": 97,
   "id": "09b9615c",
   "metadata": {},
   "outputs": [],
   "source": [
    "product8 = driver.find_element(\"xpath\",'/html/body/div[1]/div/div[2]/div/div/div[2]/section/ul/li[8]/a/div/div')"
   ]
  },
  {
   "cell_type": "code",
   "execution_count": 98,
   "id": "718403a4",
   "metadata": {},
   "outputs": [],
   "source": [
    "product8.click()"
   ]
  },
  {
   "cell_type": "code",
   "execution_count": 99,
   "id": "6af41f75",
   "metadata": {},
   "outputs": [],
   "source": [
    "driver.execute_script(\"document.body.style.zoom='25%'\")"
   ]
  },
  {
   "cell_type": "code",
   "execution_count": 100,
   "id": "a184c6e3",
   "metadata": {},
   "outputs": [],
   "source": [
    "data = driver.page_source"
   ]
  },
  {
   "cell_type": "code",
   "execution_count": 101,
   "id": "87a969af",
   "metadata": {},
   "outputs": [],
   "source": [
    "soup = bs4.BeautifulSoup(data)"
   ]
  },
  {
   "cell_type": "code",
   "execution_count": 102,
   "id": "c2d15e80",
   "metadata": {},
   "outputs": [],
   "source": [
    "product8_score = soup.find_all('div',{'class':'flex items-center'})"
   ]
  },
  {
   "cell_type": "code",
   "execution_count": 103,
   "id": "d3ac9d76",
   "metadata": {},
   "outputs": [
    {
     "data": {
      "text/plain": [
       "['จำนวน 1มีสินค้าทั้งหมด 416 ชิ้น']"
      ]
     },
     "execution_count": 103,
     "metadata": {},
     "output_type": "execute_result"
    }
   ],
   "source": [
    "product8_score_list = []\n",
    "for product in product8_score:\n",
    "    text = product.text.strip()\n",
    "    if text:\n",
    "        product8_score_list.append(text)\n",
    "product8_score_list = product8_score_list[2]\n",
    "product8_score_list = product8_score_list.split('\\n')\n",
    "product8_score_list"
   ]
  },
  {
   "cell_type": "code",
   "execution_count": 104,
   "id": "eff85ca7",
   "metadata": {},
   "outputs": [],
   "source": [
    "driver.back()"
   ]
  },
  {
   "cell_type": "code",
   "execution_count": 105,
   "id": "dcfffc0f",
   "metadata": {},
   "outputs": [],
   "source": [
    "driver.execute_script(\"document.body.style.zoom='100%'\")"
   ]
  },
  {
   "cell_type": "code",
   "execution_count": 106,
   "id": "da081e15",
   "metadata": {},
   "outputs": [],
   "source": [
    "product9 = driver.find_element(\"xpath\",'/html/body/div[1]/div/div[2]/div/div/div[2]/section/ul/li[9]/a/div/div')"
   ]
  },
  {
   "cell_type": "code",
   "execution_count": 107,
   "id": "26fe5c9f",
   "metadata": {},
   "outputs": [],
   "source": [
    "product9.click()"
   ]
  },
  {
   "cell_type": "code",
   "execution_count": 108,
   "id": "283516cb",
   "metadata": {},
   "outputs": [],
   "source": [
    "driver.execute_script(\"document.body.style.zoom='25%'\")"
   ]
  },
  {
   "cell_type": "code",
   "execution_count": 109,
   "id": "4136b779",
   "metadata": {},
   "outputs": [],
   "source": [
    "data = driver.page_source"
   ]
  },
  {
   "cell_type": "code",
   "execution_count": 110,
   "id": "57f1e460",
   "metadata": {},
   "outputs": [],
   "source": [
    "soup = bs4.BeautifulSoup(data)"
   ]
  },
  {
   "cell_type": "code",
   "execution_count": 111,
   "id": "6326bc9e",
   "metadata": {},
   "outputs": [],
   "source": [
    "product9_score = soup.find_all('div',{'class':'flex items-center'})"
   ]
  },
  {
   "cell_type": "code",
   "execution_count": 112,
   "id": "5bc436dc",
   "metadata": {},
   "outputs": [
    {
     "data": {
      "text/plain": [
       "['จำนวน 1มีสินค้าทั้งหมด 487 ชิ้น']"
      ]
     },
     "execution_count": 112,
     "metadata": {},
     "output_type": "execute_result"
    }
   ],
   "source": [
    "product9_score_list = []\n",
    "for product in product9_score:\n",
    "    text = product.text.strip()\n",
    "    if text:\n",
    "        product9_score_list.append(text)\n",
    "product9_score_list = product9_score_list[2]\n",
    "product9_score_list = product9_score_list.split('\\n')\n",
    "product9_score_list"
   ]
  },
  {
   "cell_type": "code",
   "execution_count": 113,
   "id": "687fb87f",
   "metadata": {},
   "outputs": [],
   "source": [
    "driver.back()"
   ]
  },
  {
   "cell_type": "code",
   "execution_count": 114,
   "id": "d2870184",
   "metadata": {},
   "outputs": [],
   "source": [
    "driver.execute_script(\"document.body.style.zoom='100%'\")"
   ]
  },
  {
   "cell_type": "code",
   "execution_count": 115,
   "id": "0ef73533",
   "metadata": {},
   "outputs": [],
   "source": [
    "product10 = driver.find_element(\"xpath\",'/html/body/div[1]/div/div[2]/div/div/div[2]/section/ul/li[10]/a/div/div')"
   ]
  },
  {
   "cell_type": "code",
   "execution_count": 116,
   "id": "ec8df4ea",
   "metadata": {},
   "outputs": [],
   "source": [
    "product10.click()"
   ]
  },
  {
   "cell_type": "code",
   "execution_count": 117,
   "id": "4e204e20",
   "metadata": {},
   "outputs": [],
   "source": [
    "driver.execute_script(\"document.body.style.zoom='25%'\")"
   ]
  },
  {
   "cell_type": "code",
   "execution_count": 118,
   "id": "e5bf4de7",
   "metadata": {},
   "outputs": [],
   "source": [
    "data = driver.page_source"
   ]
  },
  {
   "cell_type": "code",
   "execution_count": 119,
   "id": "1355edb7",
   "metadata": {},
   "outputs": [],
   "source": [
    "soup = bs4.BeautifulSoup(data)"
   ]
  },
  {
   "cell_type": "code",
   "execution_count": 120,
   "id": "2a694e18",
   "metadata": {},
   "outputs": [],
   "source": [
    "product10_score = soup.find_all('div',{'class':'flex items-center'})"
   ]
  },
  {
   "cell_type": "code",
   "execution_count": 121,
   "id": "87f5b012",
   "metadata": {},
   "outputs": [
    {
     "data": {
      "text/plain": [
       "['จำนวน 1มีสินค้าทั้งหมด 110 ชิ้น']"
      ]
     },
     "execution_count": 121,
     "metadata": {},
     "output_type": "execute_result"
    }
   ],
   "source": [
    "product10_score_list = []\n",
    "for product in product10_score:\n",
    "    text = product.text.strip()\n",
    "    if text:\n",
    "        product10_score_list.append(text)\n",
    "product10_score_list = product10_score_list[2]\n",
    "product10_score_list = product10_score_list.split('\\n')\n",
    "product10_score_list"
   ]
  },
  {
   "cell_type": "code",
   "execution_count": 122,
   "id": "3e2b4c6c",
   "metadata": {},
   "outputs": [],
   "source": [
    "driver.back()"
   ]
  },
  {
   "cell_type": "code",
   "execution_count": 123,
   "id": "6148388b",
   "metadata": {},
   "outputs": [],
   "source": [
    "driver.execute_script(\"document.body.style.zoom='100%'\")"
   ]
  },
  {
   "cell_type": "code",
   "execution_count": 124,
   "id": "5073438a",
   "metadata": {},
   "outputs": [],
   "source": [
    "product11 = driver.find_element(\"xpath\",'/html/body/div[1]/div/div[2]/div/div/div[2]/section/ul/li[11]/a/div/div')"
   ]
  },
  {
   "cell_type": "code",
   "execution_count": 125,
   "id": "a3ad9fd6",
   "metadata": {},
   "outputs": [],
   "source": [
    "product11.click()"
   ]
  },
  {
   "cell_type": "code",
   "execution_count": 126,
   "id": "65cbb2e1",
   "metadata": {},
   "outputs": [],
   "source": [
    "driver.execute_script(\"document.body.style.zoom='25%'\")"
   ]
  },
  {
   "cell_type": "code",
   "execution_count": 127,
   "id": "78b766dc",
   "metadata": {},
   "outputs": [],
   "source": [
    "data = driver.page_source"
   ]
  },
  {
   "cell_type": "code",
   "execution_count": 128,
   "id": "301481a3",
   "metadata": {},
   "outputs": [],
   "source": [
    "soup = bs4.BeautifulSoup(data)"
   ]
  },
  {
   "cell_type": "code",
   "execution_count": 129,
   "id": "7e73c4b9",
   "metadata": {},
   "outputs": [],
   "source": [
    "product11_score = soup.find_all('div',{'class':'flex items-center'})"
   ]
  },
  {
   "cell_type": "code",
   "execution_count": 130,
   "id": "59d07a4e",
   "metadata": {},
   "outputs": [
    {
     "data": {
      "text/plain": [
       "['จำนวน 1มีสินค้าทั้งหมด 117 ชิ้น']"
      ]
     },
     "execution_count": 130,
     "metadata": {},
     "output_type": "execute_result"
    }
   ],
   "source": [
    "product11_score_list = []\n",
    "for product in product11_score:\n",
    "    text = product.text.strip()\n",
    "    if text:\n",
    "        product11_score_list.append(text)\n",
    "product11_score_list = product11_score_list[2]\n",
    "product11_score_list = product11_score_list.split('\\n')\n",
    "product11_score_list"
   ]
  },
  {
   "cell_type": "code",
   "execution_count": 131,
   "id": "e7678b71",
   "metadata": {},
   "outputs": [],
   "source": [
    "driver.back()"
   ]
  },
  {
   "cell_type": "code",
   "execution_count": 132,
   "id": "3daf8dcf",
   "metadata": {},
   "outputs": [],
   "source": [
    "driver.execute_script(\"document.body.style.zoom='100%'\")"
   ]
  },
  {
   "cell_type": "code",
   "execution_count": 133,
   "id": "4bbc0023",
   "metadata": {},
   "outputs": [],
   "source": [
    "product12 = driver.find_element(\"xpath\",'/html/body/div[1]/div/div[2]/div/div/div[2]/section/ul/li[12]/a/div/div')"
   ]
  },
  {
   "cell_type": "code",
   "execution_count": 134,
   "id": "394bad88",
   "metadata": {},
   "outputs": [],
   "source": [
    "product12.click()"
   ]
  },
  {
   "cell_type": "code",
   "execution_count": 135,
   "id": "84a9754f",
   "metadata": {},
   "outputs": [],
   "source": [
    "driver.execute_script(\"document.body.style.zoom='25%'\")"
   ]
  },
  {
   "cell_type": "code",
   "execution_count": 136,
   "id": "4e7d47bc",
   "metadata": {},
   "outputs": [],
   "source": [
    "data = driver.page_source"
   ]
  },
  {
   "cell_type": "code",
   "execution_count": 137,
   "id": "d8050117",
   "metadata": {},
   "outputs": [],
   "source": [
    "soup = bs4.BeautifulSoup(data)"
   ]
  },
  {
   "cell_type": "code",
   "execution_count": 138,
   "id": "a3c95756",
   "metadata": {},
   "outputs": [],
   "source": [
    "product12_score = soup.find_all('div',{'class':'flex items-center'})"
   ]
  },
  {
   "cell_type": "code",
   "execution_count": 139,
   "id": "b4b1ce33",
   "metadata": {},
   "outputs": [
    {
     "data": {
      "text/plain": [
       "['จำนวน 1มีสินค้าทั้งหมด 460 ชิ้น']"
      ]
     },
     "execution_count": 139,
     "metadata": {},
     "output_type": "execute_result"
    }
   ],
   "source": [
    "product12_score_list = []\n",
    "for product in product12_score:\n",
    "    text = product.text.strip()\n",
    "    if text:\n",
    "        product12_score_list.append(text)\n",
    "product12_score_list = product12_score_list[2]\n",
    "product12_score_list = product12_score_list.split('\\n')\n",
    "product12_score_list"
   ]
  },
  {
   "cell_type": "code",
   "execution_count": 140,
   "id": "3cc32f50",
   "metadata": {},
   "outputs": [],
   "source": [
    "driver.back()"
   ]
  },
  {
   "cell_type": "code",
   "execution_count": 141,
   "id": "a7824dac",
   "metadata": {},
   "outputs": [],
   "source": [
    "driver.execute_script(\"document.body.style.zoom='100%'\")"
   ]
  },
  {
   "cell_type": "code",
   "execution_count": 142,
   "id": "1e6393f7",
   "metadata": {},
   "outputs": [],
   "source": [
    "product13 = driver.find_element(\"xpath\",'/html/body/div[1]/div/div[2]/div/div/div[2]/section/ul/li[13]/a/div/div')"
   ]
  },
  {
   "cell_type": "code",
   "execution_count": 143,
   "id": "0fb25ae3",
   "metadata": {},
   "outputs": [],
   "source": [
    "product13.click()"
   ]
  },
  {
   "cell_type": "code",
   "execution_count": 144,
   "id": "43dd6c08",
   "metadata": {},
   "outputs": [],
   "source": [
    "driver.execute_script(\"document.body.style.zoom='25%'\")"
   ]
  },
  {
   "cell_type": "code",
   "execution_count": 145,
   "id": "d1105dcc",
   "metadata": {},
   "outputs": [],
   "source": [
    "data = driver.page_source"
   ]
  },
  {
   "cell_type": "code",
   "execution_count": 146,
   "id": "09ac632b",
   "metadata": {},
   "outputs": [],
   "source": [
    "soup = bs4.BeautifulSoup(data)"
   ]
  },
  {
   "cell_type": "code",
   "execution_count": 147,
   "id": "73a115c7",
   "metadata": {},
   "outputs": [],
   "source": [
    "product13_score = soup.find_all('div',{'class':'flex items-center'})"
   ]
  },
  {
   "cell_type": "code",
   "execution_count": 148,
   "id": "ea9bc2d6",
   "metadata": {},
   "outputs": [
    {
     "data": {
      "text/plain": [
       "['จำนวน 1มีสินค้าทั้งหมด 154 ชิ้น']"
      ]
     },
     "execution_count": 148,
     "metadata": {},
     "output_type": "execute_result"
    }
   ],
   "source": [
    "product13_score_list = []\n",
    "for product in product13_score:\n",
    "    text = product.text.strip()\n",
    "    if text:\n",
    "        product13_score_list.append(text)\n",
    "product13_score_list = product13_score_list[2]\n",
    "product13_score_list = product13_score_list.split('\\n')\n",
    "product13_score_list"
   ]
  },
  {
   "cell_type": "code",
   "execution_count": 149,
   "id": "1a26b7ca",
   "metadata": {},
   "outputs": [],
   "source": [
    "driver.back()"
   ]
  },
  {
   "cell_type": "code",
   "execution_count": 150,
   "id": "b72d03b9",
   "metadata": {},
   "outputs": [],
   "source": [
    "driver.execute_script(\"document.body.style.zoom='100%'\")"
   ]
  },
  {
   "cell_type": "code",
   "execution_count": 151,
   "id": "56bf1320",
   "metadata": {},
   "outputs": [],
   "source": [
    "product14 = driver.find_element(\"xpath\",'/html/body/div[1]/div/div[2]/div/div/div[2]/section/ul/li[14]/a/div/div')"
   ]
  },
  {
   "cell_type": "code",
   "execution_count": 152,
   "id": "ff8d43aa",
   "metadata": {},
   "outputs": [],
   "source": [
    "product14.click()"
   ]
  },
  {
   "cell_type": "code",
   "execution_count": 153,
   "id": "a8033eb5",
   "metadata": {},
   "outputs": [],
   "source": [
    "driver.execute_script(\"document.body.style.zoom='25%'\")"
   ]
  },
  {
   "cell_type": "code",
   "execution_count": 154,
   "id": "a677608a",
   "metadata": {},
   "outputs": [],
   "source": [
    "data = driver.page_source"
   ]
  },
  {
   "cell_type": "code",
   "execution_count": 155,
   "id": "5f3624ef",
   "metadata": {},
   "outputs": [],
   "source": [
    "soup = bs4.BeautifulSoup(data)"
   ]
  },
  {
   "cell_type": "code",
   "execution_count": 156,
   "id": "6de2fffc",
   "metadata": {},
   "outputs": [],
   "source": [
    "product14_score = soup.find_all('div',{'class':'flex items-center'})"
   ]
  },
  {
   "cell_type": "code",
   "execution_count": 157,
   "id": "ab3dbfdc",
   "metadata": {},
   "outputs": [
    {
     "data": {
      "text/plain": [
       "['จำนวน 1มีสินค้าทั้งหมด 1732 ชิ้น']"
      ]
     },
     "execution_count": 157,
     "metadata": {},
     "output_type": "execute_result"
    }
   ],
   "source": [
    "product14_score_list = []\n",
    "for product in product14_score:\n",
    "    text = product.text.strip()\n",
    "    if text:\n",
    "        product14_score_list.append(text)\n",
    "product14_score_list = product14_score_list[2]\n",
    "product14_score_list = product14_score_list.split('\\n')\n",
    "product14_score_list"
   ]
  },
  {
   "cell_type": "code",
   "execution_count": 158,
   "id": "479c4587",
   "metadata": {},
   "outputs": [],
   "source": [
    "driver.back()"
   ]
  },
  {
   "cell_type": "code",
   "execution_count": 159,
   "id": "adf183a6",
   "metadata": {},
   "outputs": [],
   "source": [
    "driver.execute_script(\"document.body.style.zoom='100%'\")"
   ]
  },
  {
   "cell_type": "code",
   "execution_count": 160,
   "id": "2cc91a75",
   "metadata": {},
   "outputs": [],
   "source": [
    "product15 = driver.find_element(\"xpath\",'/html/body/div[1]/div/div[2]/div/div/div[2]/section/ul/li[15]/a/div/div')"
   ]
  },
  {
   "cell_type": "code",
   "execution_count": 161,
   "id": "94e2d838",
   "metadata": {},
   "outputs": [],
   "source": [
    "product15.click()"
   ]
  },
  {
   "cell_type": "code",
   "execution_count": 162,
   "id": "327f6e7d",
   "metadata": {},
   "outputs": [],
   "source": [
    "driver.execute_script(\"document.body.style.zoom='25%'\")"
   ]
  },
  {
   "cell_type": "code",
   "execution_count": 163,
   "id": "50828a7b",
   "metadata": {},
   "outputs": [],
   "source": [
    "data = driver.page_source"
   ]
  },
  {
   "cell_type": "code",
   "execution_count": 164,
   "id": "dfec11ef",
   "metadata": {},
   "outputs": [],
   "source": [
    "soup = bs4.BeautifulSoup(data)"
   ]
  },
  {
   "cell_type": "code",
   "execution_count": 165,
   "id": "5a5f601a",
   "metadata": {},
   "outputs": [],
   "source": [
    "product15_score = soup.find_all('div',{'class':'flex items-center'})"
   ]
  },
  {
   "cell_type": "code",
   "execution_count": 166,
   "id": "424ee7bf",
   "metadata": {},
   "outputs": [
    {
     "data": {
      "text/plain": [
       "['จำนวน 1มีสินค้าทั้งหมด 100 ชิ้น']"
      ]
     },
     "execution_count": 166,
     "metadata": {},
     "output_type": "execute_result"
    }
   ],
   "source": [
    "product15_score_list = []\n",
    "for product in product15_score:\n",
    "    text = product.text.strip()\n",
    "    if text:\n",
    "        product15_score_list.append(text)\n",
    "product15_score_list = product15_score_list[2]\n",
    "product15_score_list = product15_score_list.split('\\n')\n",
    "product15_score_list"
   ]
  },
  {
   "cell_type": "code",
   "execution_count": 167,
   "id": "7078a218",
   "metadata": {},
   "outputs": [],
   "source": [
    "driver.back()"
   ]
  },
  {
   "cell_type": "code",
   "execution_count": 168,
   "id": "41d690f7",
   "metadata": {},
   "outputs": [],
   "source": [
    "driver.execute_script(\"document.body.style.zoom='100%'\")"
   ]
  },
  {
   "cell_type": "code",
   "execution_count": 169,
   "id": "b5714619",
   "metadata": {},
   "outputs": [],
   "source": [
    "product16 = driver.find_element(\"xpath\",'/html/body/div[1]/div/div[2]/div/div/div[2]/section/ul/li[16]/a/div/div')"
   ]
  },
  {
   "cell_type": "code",
   "execution_count": 170,
   "id": "a9c2ba68",
   "metadata": {},
   "outputs": [],
   "source": [
    "product16.click()"
   ]
  },
  {
   "cell_type": "code",
   "execution_count": 171,
   "id": "ea23eabe",
   "metadata": {},
   "outputs": [],
   "source": [
    "driver.execute_script(\"document.body.style.zoom='25%'\")"
   ]
  },
  {
   "cell_type": "code",
   "execution_count": 172,
   "id": "f99fbcfd",
   "metadata": {},
   "outputs": [],
   "source": [
    "data = driver.page_source"
   ]
  },
  {
   "cell_type": "code",
   "execution_count": 173,
   "id": "bf049541",
   "metadata": {},
   "outputs": [],
   "source": [
    "soup = bs4.BeautifulSoup(data)"
   ]
  },
  {
   "cell_type": "code",
   "execution_count": 174,
   "id": "4423f465",
   "metadata": {},
   "outputs": [],
   "source": [
    "product16_score = soup.find_all('div',{'class':'flex items-center'})"
   ]
  },
  {
   "cell_type": "code",
   "execution_count": 175,
   "id": "40126476",
   "metadata": {},
   "outputs": [
    {
     "data": {
      "text/plain": [
       "['จำนวน 1มีสินค้าทั้งหมด 80 ชิ้น']"
      ]
     },
     "execution_count": 175,
     "metadata": {},
     "output_type": "execute_result"
    }
   ],
   "source": [
    "product16_score_list = []\n",
    "for product in product16_score:\n",
    "    text = product.text.strip()\n",
    "    if text:\n",
    "        product16_score_list.append(text)\n",
    "product16_score_list = product16_score_list[2]\n",
    "product16_score_list = product16_score_list.split('\\n')\n",
    "product16_score_list"
   ]
  },
  {
   "cell_type": "code",
   "execution_count": 176,
   "id": "66afdf54",
   "metadata": {},
   "outputs": [],
   "source": [
    "driver.back()"
   ]
  },
  {
   "cell_type": "code",
   "execution_count": 177,
   "id": "b5db9dda",
   "metadata": {},
   "outputs": [],
   "source": [
    "driver.execute_script(\"document.body.style.zoom='100%'\")"
   ]
  },
  {
   "cell_type": "code",
   "execution_count": 178,
   "id": "7218a489",
   "metadata": {},
   "outputs": [],
   "source": [
    "product17 = driver.find_element(\"xpath\",'/html/body/div[1]/div/div[2]/div/div/div[2]/section/ul/li[17]/a/div/div')"
   ]
  },
  {
   "cell_type": "code",
   "execution_count": 179,
   "id": "d662798a",
   "metadata": {},
   "outputs": [],
   "source": [
    "product17.click()"
   ]
  },
  {
   "cell_type": "code",
   "execution_count": 180,
   "id": "49a0b411",
   "metadata": {},
   "outputs": [],
   "source": [
    "driver.execute_script(\"document.body.style.zoom='25%'\")"
   ]
  },
  {
   "cell_type": "code",
   "execution_count": 181,
   "id": "0d38ac6c",
   "metadata": {},
   "outputs": [],
   "source": [
    "data = driver.page_source"
   ]
  },
  {
   "cell_type": "code",
   "execution_count": 182,
   "id": "2386d6c0",
   "metadata": {},
   "outputs": [],
   "source": [
    "soup = bs4.BeautifulSoup(data)"
   ]
  },
  {
   "cell_type": "code",
   "execution_count": 183,
   "id": "88a99df2",
   "metadata": {},
   "outputs": [],
   "source": [
    "product17_score = soup.find_all('div',{'class':'flex items-center'})"
   ]
  },
  {
   "cell_type": "code",
   "execution_count": 184,
   "id": "d9f93211",
   "metadata": {},
   "outputs": [
    {
     "data": {
      "text/plain": [
       "['จำนวน 1มีสินค้าทั้งหมด 92 ชิ้น']"
      ]
     },
     "execution_count": 184,
     "metadata": {},
     "output_type": "execute_result"
    }
   ],
   "source": [
    "product17_score_list = []\n",
    "for product in product17_score:\n",
    "    text = product.text.strip()\n",
    "    if text:\n",
    "        product17_score_list.append(text)\n",
    "product17_score_list = product17_score_list[2]\n",
    "product17_score_list = product17_score_list.split('\\n')\n",
    "product17_score_list"
   ]
  },
  {
   "cell_type": "code",
   "execution_count": 185,
   "id": "bb696eb8",
   "metadata": {},
   "outputs": [],
   "source": [
    "driver.back()"
   ]
  },
  {
   "cell_type": "code",
   "execution_count": 186,
   "id": "651babfd",
   "metadata": {},
   "outputs": [],
   "source": [
    "driver.execute_script(\"document.body.style.zoom='100%'\")"
   ]
  },
  {
   "cell_type": "code",
   "execution_count": 187,
   "id": "cc36c873",
   "metadata": {},
   "outputs": [],
   "source": [
    "product18 = driver.find_element(\"xpath\",'/html/body/div[1]/div/div[2]/div/div/div[2]/section/ul/li[18]/a/div/div')"
   ]
  },
  {
   "cell_type": "code",
   "execution_count": 188,
   "id": "c35f721f",
   "metadata": {},
   "outputs": [],
   "source": [
    "product18.click()"
   ]
  },
  {
   "cell_type": "code",
   "execution_count": 189,
   "id": "e964c329",
   "metadata": {},
   "outputs": [],
   "source": [
    "driver.execute_script(\"document.body.style.zoom='25%'\")"
   ]
  },
  {
   "cell_type": "code",
   "execution_count": 190,
   "id": "a2a7a767",
   "metadata": {},
   "outputs": [],
   "source": [
    "data = driver.page_source"
   ]
  },
  {
   "cell_type": "code",
   "execution_count": 191,
   "id": "fa025e0a",
   "metadata": {},
   "outputs": [],
   "source": [
    "soup = bs4.BeautifulSoup(data)"
   ]
  },
  {
   "cell_type": "code",
   "execution_count": 192,
   "id": "03605ffa",
   "metadata": {},
   "outputs": [],
   "source": [
    "product18_score = soup.find_all('div',{'class':'flex items-center'})"
   ]
  },
  {
   "cell_type": "code",
   "execution_count": 193,
   "id": "10a00c42",
   "metadata": {},
   "outputs": [
    {
     "data": {
      "text/plain": [
       "['จำนวน 1มีสินค้าทั้งหมด 305 ชิ้น']"
      ]
     },
     "execution_count": 193,
     "metadata": {},
     "output_type": "execute_result"
    }
   ],
   "source": [
    "product18_score_list = []\n",
    "for product in product18_score:\n",
    "    text = product.text.strip()\n",
    "    if text:\n",
    "        product18_score_list.append(text)\n",
    "product18_score_list = product18_score_list[2]\n",
    "product18_score_list = product18_score_list.split('\\n')\n",
    "product18_score_list"
   ]
  },
  {
   "cell_type": "code",
   "execution_count": 194,
   "id": "132686b8",
   "metadata": {},
   "outputs": [],
   "source": [
    "driver.back()"
   ]
  },
  {
   "cell_type": "code",
   "execution_count": 195,
   "id": "9b4dbc5a",
   "metadata": {},
   "outputs": [],
   "source": [
    "driver.execute_script(\"document.body.style.zoom='100%'\")"
   ]
  },
  {
   "cell_type": "code",
   "execution_count": 196,
   "id": "b1590179",
   "metadata": {},
   "outputs": [],
   "source": [
    "product19 = driver.find_element(\"xpath\",'/html/body/div[1]/div/div[2]/div/div/div[2]/section/ul/li[19]/a/div/div')"
   ]
  },
  {
   "cell_type": "code",
   "execution_count": 197,
   "id": "27630df4",
   "metadata": {},
   "outputs": [],
   "source": [
    "product19.click()"
   ]
  },
  {
   "cell_type": "code",
   "execution_count": 198,
   "id": "ac24af14",
   "metadata": {},
   "outputs": [],
   "source": [
    "driver.execute_script(\"document.body.style.zoom='25%'\")"
   ]
  },
  {
   "cell_type": "code",
   "execution_count": 199,
   "id": "3b4475d7",
   "metadata": {},
   "outputs": [],
   "source": [
    "data = driver.page_source"
   ]
  },
  {
   "cell_type": "code",
   "execution_count": 200,
   "id": "9ec270e7",
   "metadata": {},
   "outputs": [],
   "source": [
    "soup = bs4.BeautifulSoup(data)"
   ]
  },
  {
   "cell_type": "code",
   "execution_count": 201,
   "id": "b600a771",
   "metadata": {},
   "outputs": [],
   "source": [
    "product19_score = soup.find_all('div',{'class':'flex items-center'})"
   ]
  },
  {
   "cell_type": "code",
   "execution_count": 202,
   "id": "27465c1b",
   "metadata": {},
   "outputs": [
    {
     "data": {
      "text/plain": [
       "['จำนวน 1มีสินค้าทั้งหมด 112 ชิ้น']"
      ]
     },
     "execution_count": 202,
     "metadata": {},
     "output_type": "execute_result"
    }
   ],
   "source": [
    "product19_score_list = []\n",
    "for product in product19_score:\n",
    "    text = product.text.strip()\n",
    "    if text:\n",
    "        product19_score_list.append(text)\n",
    "product19_score_list = product19_score_list[2]\n",
    "product19_score_list = product19_score_list.split('\\n')\n",
    "product19_score_list"
   ]
  },
  {
   "cell_type": "code",
   "execution_count": 203,
   "id": "870049f8",
   "metadata": {},
   "outputs": [],
   "source": [
    "driver.back()"
   ]
  },
  {
   "cell_type": "code",
   "execution_count": 198,
   "id": "e56a13b9",
   "metadata": {},
   "outputs": [],
   "source": [
    "driver.execute_script(\"document.body.style.zoom='100%'\")"
   ]
  },
  {
   "cell_type": "code",
   "execution_count": 199,
   "id": "aa97cd9f",
   "metadata": {},
   "outputs": [],
   "source": [
    "product20 = driver.find_element(\"xpath\",'/html/body/div[1]/div/div[2]/div/div/div[2]/section/ul/li[20]/a/div/div')"
   ]
  },
  {
   "cell_type": "code",
   "execution_count": 200,
   "id": "5ed52191",
   "metadata": {},
   "outputs": [],
   "source": [
    "product20.click()"
   ]
  },
  {
   "cell_type": "code",
   "execution_count": 201,
   "id": "ad4cae76",
   "metadata": {},
   "outputs": [],
   "source": [
    "driver.execute_script(\"document.body.style.zoom='25%'\")"
   ]
  },
  {
   "cell_type": "code",
   "execution_count": 202,
   "id": "649d072b",
   "metadata": {},
   "outputs": [],
   "source": [
    "data = driver.page_source"
   ]
  },
  {
   "cell_type": "code",
   "execution_count": 203,
   "id": "c0233870",
   "metadata": {},
   "outputs": [],
   "source": [
    "soup = bs4.BeautifulSoup(data)"
   ]
  },
  {
   "cell_type": "code",
   "execution_count": 204,
   "id": "91d263b0",
   "metadata": {},
   "outputs": [],
   "source": [
    "product20_score = soup.find_all('div',{'class':'flex items-center'})"
   ]
  },
  {
   "cell_type": "code",
   "execution_count": 205,
   "id": "18415fba",
   "metadata": {},
   "outputs": [
    {
     "data": {
      "text/plain": [
       "['จำนวน 1มีสินค้าทั้งหมด 460 ชิ้น']"
      ]
     },
     "execution_count": 205,
     "metadata": {},
     "output_type": "execute_result"
    }
   ],
   "source": [
    "product20_score_list = []\n",
    "for product in product20_score:\n",
    "    text = product.text.strip()\n",
    "    if text:\n",
    "        product20_score_list.append(text)\n",
    "product20_score_list = product20_score_list[2]\n",
    "product20_score_list = product20_score_list.split('\\n')\n",
    "product20_score_list"
   ]
  },
  {
   "cell_type": "code",
   "execution_count": 209,
   "id": "90562353",
   "metadata": {},
   "outputs": [],
   "source": [
    "driver.back()"
   ]
  },
  {
   "cell_type": "code",
   "execution_count": 207,
   "id": "10d4d496",
   "metadata": {},
   "outputs": [],
   "source": [
    "driver.execute_script(\"document.body.style.zoom='100%'\")"
   ]
  },
  {
   "cell_type": "code",
   "execution_count": 214,
   "id": "1e5a742e",
   "metadata": {},
   "outputs": [],
   "source": [
    "product21 = driver.find_element(\"xpath\",'/html/body/div[1]/div/div[2]/div/div/div[2]/section/ul/li[21]/a/div/div')"
   ]
  },
  {
   "cell_type": "code",
   "execution_count": 215,
   "id": "e87ec720",
   "metadata": {},
   "outputs": [],
   "source": [
    "product21.click()"
   ]
  },
  {
   "cell_type": "code",
   "execution_count": 216,
   "id": "c8cd5bb7",
   "metadata": {},
   "outputs": [],
   "source": [
    "driver.execute_script(\"document.body.style.zoom='25%'\")"
   ]
  },
  {
   "cell_type": "code",
   "execution_count": 217,
   "id": "cc9cd018",
   "metadata": {},
   "outputs": [],
   "source": [
    "data = driver.page_source"
   ]
  },
  {
   "cell_type": "code",
   "execution_count": 218,
   "id": "280f5018",
   "metadata": {},
   "outputs": [],
   "source": [
    "soup = bs4.BeautifulSoup(data)"
   ]
  },
  {
   "cell_type": "code",
   "execution_count": 219,
   "id": "6c64574f",
   "metadata": {},
   "outputs": [],
   "source": [
    "product21_score = soup.find_all('div',{'class':'flex items-center'})"
   ]
  },
  {
   "cell_type": "code",
   "execution_count": 220,
   "id": "bcd075a1",
   "metadata": {},
   "outputs": [
    {
     "data": {
      "text/plain": [
       "['จำนวน 1มีสินค้าทั้งหมด 115 ชิ้น']"
      ]
     },
     "execution_count": 220,
     "metadata": {},
     "output_type": "execute_result"
    }
   ],
   "source": [
    "product21_score_list = []\n",
    "for product in product21_score:\n",
    "    text = product.text.strip()\n",
    "    if text:\n",
    "        product21_score_list.append(text)\n",
    "product21_score_list = product21_score_list[2]\n",
    "product21_score_list = product21_score_list.split('\\n')\n",
    "product21_score_list"
   ]
  },
  {
   "cell_type": "code",
   "execution_count": 221,
   "id": "74b1e7ba",
   "metadata": {},
   "outputs": [],
   "source": [
    "driver.back()"
   ]
  },
  {
   "cell_type": "code",
   "execution_count": 222,
   "id": "168c0dbb",
   "metadata": {},
   "outputs": [],
   "source": [
    "driver.execute_script(\"document.body.style.zoom='100%'\")"
   ]
  },
  {
   "cell_type": "code",
   "execution_count": 223,
   "id": "f077c185",
   "metadata": {},
   "outputs": [],
   "source": [
    "product22 = driver.find_element(\"xpath\",'/html/body/div[1]/div/div[2]/div/div/div[2]/section/ul/li[22]/a/div/div')"
   ]
  },
  {
   "cell_type": "code",
   "execution_count": 224,
   "id": "60edd052",
   "metadata": {},
   "outputs": [],
   "source": [
    "product22.click()"
   ]
  },
  {
   "cell_type": "code",
   "execution_count": 225,
   "id": "6c5f6717",
   "metadata": {},
   "outputs": [],
   "source": [
    "driver.execute_script(\"document.body.style.zoom='25%'\")"
   ]
  },
  {
   "cell_type": "code",
   "execution_count": 227,
   "id": "7421dbb3",
   "metadata": {},
   "outputs": [],
   "source": [
    "data = driver.page_source"
   ]
  },
  {
   "cell_type": "code",
   "execution_count": 228,
   "id": "67808134",
   "metadata": {},
   "outputs": [],
   "source": [
    "soup = bs4.BeautifulSoup(data)"
   ]
  },
  {
   "cell_type": "code",
   "execution_count": 229,
   "id": "1458c8b9",
   "metadata": {},
   "outputs": [],
   "source": [
    "product22_score = soup.find_all('div',{'class':'flex items-center'})"
   ]
  },
  {
   "cell_type": "code",
   "execution_count": 230,
   "id": "a6b1b77c",
   "metadata": {},
   "outputs": [
    {
     "data": {
      "text/plain": [
       "['จำนวน 1มีสินค้าทั้งหมด 92 ชิ้น']"
      ]
     },
     "execution_count": 230,
     "metadata": {},
     "output_type": "execute_result"
    }
   ],
   "source": [
    "product22_score_list = []\n",
    "for product in product22_score:\n",
    "    text = product.text.strip()\n",
    "    if text:\n",
    "        product22_score_list.append(text)\n",
    "product22_score_list = product22_score_list[2]\n",
    "product22_score_list = product22_score_list.split('\\n')\n",
    "product22_score_list"
   ]
  },
  {
   "cell_type": "code",
   "execution_count": 232,
   "id": "3c9f2156",
   "metadata": {},
   "outputs": [],
   "source": [
    "driver.back()"
   ]
  },
  {
   "cell_type": "code",
   "execution_count": 236,
   "id": "8dfd2b4c",
   "metadata": {},
   "outputs": [],
   "source": [
    "driver.execute_script(\"document.body.style.zoom='100%'\")"
   ]
  },
  {
   "cell_type": "code",
   "execution_count": 237,
   "id": "e23be8ec",
   "metadata": {},
   "outputs": [],
   "source": [
    "product23 = driver.find_element(\"xpath\",'/html/body/div[1]/div/div[2]/div/div/div[2]/section/ul/li[23]/a/div/div')"
   ]
  },
  {
   "cell_type": "code",
   "execution_count": 238,
   "id": "4d278b34",
   "metadata": {},
   "outputs": [],
   "source": [
    "product23.click()"
   ]
  },
  {
   "cell_type": "code",
   "execution_count": 239,
   "id": "892db3fa",
   "metadata": {},
   "outputs": [],
   "source": [
    "driver.execute_script(\"document.body.style.zoom='25%'\")"
   ]
  },
  {
   "cell_type": "code",
   "execution_count": 240,
   "id": "1b7ec8ea",
   "metadata": {},
   "outputs": [],
   "source": [
    "data = driver.page_source"
   ]
  },
  {
   "cell_type": "code",
   "execution_count": 241,
   "id": "6a2596f4",
   "metadata": {},
   "outputs": [],
   "source": [
    "soup = bs4.BeautifulSoup(data)"
   ]
  },
  {
   "cell_type": "code",
   "execution_count": 242,
   "id": "79af46bd",
   "metadata": {},
   "outputs": [],
   "source": [
    "product23_score = soup.find_all('div',{'class':'flex items-center'})"
   ]
  },
  {
   "cell_type": "code",
   "execution_count": 243,
   "id": "906f54ce",
   "metadata": {},
   "outputs": [
    {
     "data": {
      "text/plain": [
       "['จำนวน 1มีสินค้าทั้งหมด 189 ชิ้น']"
      ]
     },
     "execution_count": 243,
     "metadata": {},
     "output_type": "execute_result"
    }
   ],
   "source": [
    "product23_score_list = []\n",
    "for product in product23_score:\n",
    "    text = product.text.strip()\n",
    "    if text:\n",
    "        product23_score_list.append(text)\n",
    "product23_score_list = product23_score_list[2]\n",
    "product23_score_list = product23_score_list.split('\\n')\n",
    "product23_score_list"
   ]
  },
  {
   "cell_type": "code",
   "execution_count": 244,
   "id": "d2bab352",
   "metadata": {},
   "outputs": [],
   "source": [
    "driver.back()"
   ]
  },
  {
   "cell_type": "code",
   "execution_count": 245,
   "id": "7d7d5d7d",
   "metadata": {},
   "outputs": [],
   "source": [
    "product_stock_list = product1_score_list + product2_score_list + product3_score_list + product4_score_list + product5_score_list + product6_score_list + product7_score_list + product8_score_list + product9_score_list + product10_score_list + product11_score_list + product12_score_list + product13_score_list + product14_score_list + product15_score_list + product16_score_list + product17_score_list + product18_score_list + product19_score_list + product20_score_list + product21_score_list + product22_score_list + product23_score_list"
   ]
  },
  {
   "cell_type": "code",
   "execution_count": 246,
   "id": "fa814c08",
   "metadata": {},
   "outputs": [
    {
     "data": {
      "text/plain": [
       "['จำนวน 1มีสินค้าทั้งหมด 33 ชิ้น',\n",
       " 'จำนวน 1มีสินค้าทั้งหมด 127 ชิ้น',\n",
       " 'จำนวน 1มีสินค้าทั้งหมด 3369 ชิ้น',\n",
       " 'จำนวน 1มีสินค้าทั้งหมด 115 ชิ้น',\n",
       " 'จำนวน 1มีสินค้าทั้งหมด 315 ชิ้น',\n",
       " 'จำนวน 1มีสินค้าทั้งหมด 112 ชิ้น',\n",
       " 'จำนวน 1มีสินค้าทั้งหมด 416 ชิ้น',\n",
       " 'จำนวน 1มีสินค้าทั้งหมด 431 ชิ้น',\n",
       " 'จำนวน 1มีสินค้าทั้งหมด 3376 ชิ้น',\n",
       " 'จำนวน 1มีสินค้าทั้งหมด 100 ชิ้น',\n",
       " 'จำนวน 1มีสินค้าทั้งหมด 117 ชิ้น',\n",
       " 'จำนวน 1มีสินค้าทั้งหมด 115 ชิ้น',\n",
       " 'จำนวน 1มีสินค้าทั้งหมด 487 ชิ้น',\n",
       " 'จำนวน 1มีสินค้าทั้งหมด 117 ชิ้น',\n",
       " 'จำนวน 1มีสินค้าทั้งหมด 305 ชิ้น',\n",
       " 'จำนวน 1มีสินค้าทั้งหมด 80 ชิ้น',\n",
       " 'จำนวน 1มีสินค้าทั้งหมด 418 ชิ้น',\n",
       " 'จำนวน 1มีสินค้าทั้งหมด 154 ชิ้น',\n",
       " 'จำนวน 1มีสินค้าทั้งหมด 1932 ชิ้น',\n",
       " 'จำนวน 1มีสินค้าทั้งหมด 460 ชิ้น',\n",
       " 'จำนวน 1มีสินค้าทั้งหมด 115 ชิ้น',\n",
       " 'จำนวน 1มีสินค้าทั้งหมด 92 ชิ้น',\n",
       " 'จำนวน 1มีสินค้าทั้งหมด 189 ชิ้น']"
      ]
     },
     "execution_count": 246,
     "metadata": {},
     "output_type": "execute_result"
    }
   ],
   "source": [
    "product_stock_list"
   ]
  },
  {
   "cell_type": "code",
   "execution_count": 247,
   "id": "2701fe02",
   "metadata": {},
   "outputs": [],
   "source": [
    "shopee_data = pd.DataFrame([store_name_list, store_score_list, store_promotion_list, product_name_list, product_price_list, product_sale_list, product_stock_list])"
   ]
  },
  {
   "cell_type": "code",
   "execution_count": 248,
   "id": "ff28d2bb",
   "metadata": {},
   "outputs": [
    {
     "data": {
      "text/html": [
       "<div>\n",
       "<style scoped>\n",
       "    .dataframe tbody tr th:only-of-type {\n",
       "        vertical-align: middle;\n",
       "    }\n",
       "\n",
       "    .dataframe tbody tr th {\n",
       "        vertical-align: top;\n",
       "    }\n",
       "\n",
       "    .dataframe thead th {\n",
       "        text-align: right;\n",
       "    }\n",
       "</style>\n",
       "<table border=\"1\" class=\"dataframe\">\n",
       "  <thead>\n",
       "    <tr style=\"text-align: right;\">\n",
       "      <th></th>\n",
       "      <th>name</th>\n",
       "      <th>score</th>\n",
       "      <th>promotion</th>\n",
       "      <th>product_name</th>\n",
       "      <th>price</th>\n",
       "      <th>sale</th>\n",
       "      <th>stock</th>\n",
       "    </tr>\n",
       "  </thead>\n",
       "  <tbody>\n",
       "    <tr>\n",
       "      <th>0</th>\n",
       "      <td>Make it indigo Active 21 นาที  ที่ผ่านมา</td>\n",
       "      <td>4.7 (การให้คะแนนทั้งหมด 19.6พัน)</td>\n",
       "      <td>None</td>\n",
       "      <td>เสื้อยืดมัดย้อม \"โชคดี\" และ \"ร่ำรวย\"</td>\n",
       "      <td>฿290</td>\n",
       "      <td>ขายแล้ว 52 ชิ้น</td>\n",
       "      <td>จำนวน 1มีสินค้าทั้งหมด 33 ชิ้น</td>\n",
       "    </tr>\n",
       "    <tr>\n",
       "      <th>1</th>\n",
       "      <td>None</td>\n",
       "      <td>None</td>\n",
       "      <td>None</td>\n",
       "      <td>เสื้อมัดย้อม สีรุ้ง cotton 100% (งานย้อมเย็น ส...</td>\n",
       "      <td>฿250</td>\n",
       "      <td>ขายแล้ว 318 ชิ้น</td>\n",
       "      <td>จำนวน 1มีสินค้าทั้งหมด 127 ชิ้น</td>\n",
       "    </tr>\n",
       "    <tr>\n",
       "      <th>2</th>\n",
       "      <td>None</td>\n",
       "      <td>None</td>\n",
       "      <td>None</td>\n",
       "      <td>\"สีไม่ตก\"เสื้อยืดมัดย้อม คราม ไซส์ S-XXL cotto...</td>\n",
       "      <td>฿250</td>\n",
       "      <td>ขายแล้ว 501 ชิ้น</td>\n",
       "      <td>จำนวน 1มีสินค้าทั้งหมด 3369 ชิ้น</td>\n",
       "    </tr>\n",
       "    <tr>\n",
       "      <th>3</th>\n",
       "      <td>None</td>\n",
       "      <td>None</td>\n",
       "      <td>None</td>\n",
       "      <td>(ย้อมเย็น 100%) เสื้อยืดมัดย้อม Monday-Sunday ...</td>\n",
       "      <td>฿290</td>\n",
       "      <td>ขายแล้ว 59 ชิ้น</td>\n",
       "      <td>จำนวน 1มีสินค้าทั้งหมด 115 ชิ้น</td>\n",
       "    </tr>\n",
       "    <tr>\n",
       "      <th>4</th>\n",
       "      <td>None</td>\n",
       "      <td>None</td>\n",
       "      <td>None</td>\n",
       "      <td>(ย้อมเย็น 100%) เสื้อฮาวายมัดย้อมสีพาสเทล สีรุ...</td>\n",
       "      <td>฿290</td>\n",
       "      <td>ขายแล้ว 486 ชิ้น</td>\n",
       "      <td>จำนวน 1มีสินค้าทั้งหมด 315 ชิ้น</td>\n",
       "    </tr>\n",
       "    <tr>\n",
       "      <th>5</th>\n",
       "      <td>None</td>\n",
       "      <td>None</td>\n",
       "      <td>None</td>\n",
       "      <td>(ย้อมเย็น 100%) สายเดี่ยว เสื้อฮาวาย มัดย้อมสี...</td>\n",
       "      <td>฿250 - ฿290</td>\n",
       "      <td>ขายแล้ว 8 ชิ้น</td>\n",
       "      <td>จำนวน 1มีสินค้าทั้งหมด 112 ชิ้น</td>\n",
       "    </tr>\n",
       "    <tr>\n",
       "      <th>6</th>\n",
       "      <td>None</td>\n",
       "      <td>None</td>\n",
       "      <td>None</td>\n",
       "      <td>เสื้อคู่มัดย้อมลายก้นหอย ใส่ไปทะเลย ชิคๆ ย้อมเ...</td>\n",
       "      <td>฿189 - ฿250</td>\n",
       "      <td>ขายแล้ว 93 ชิ้น</td>\n",
       "      <td>จำนวน 1มีสินค้าทั้งหมด 416 ชิ้น</td>\n",
       "    </tr>\n",
       "    <tr>\n",
       "      <th>7</th>\n",
       "      <td>None</td>\n",
       "      <td>None</td>\n",
       "      <td>None</td>\n",
       "      <td>(ย้อมเย็น 100%) เสื้อมัดย้อมสีพาสเทล cotton 10...</td>\n",
       "      <td>฿229</td>\n",
       "      <td>ขายแล้ว 151 ชิ้น</td>\n",
       "      <td>จำนวน 1มีสินค้าทั้งหมด 431 ชิ้น</td>\n",
       "    </tr>\n",
       "    <tr>\n",
       "      <th>8</th>\n",
       "      <td>None</td>\n",
       "      <td>None</td>\n",
       "      <td>None</td>\n",
       "      <td>(ย้อมเย็น 100%) เสื้อมัดย้อม ผ้า cotton no.32 ...</td>\n",
       "      <td>฿250</td>\n",
       "      <td>ขายแล้ว 3.2พัน ชิ้น</td>\n",
       "      <td>จำนวน 1มีสินค้าทั้งหมด 3376 ชิ้น</td>\n",
       "    </tr>\n",
       "    <tr>\n",
       "      <th>9</th>\n",
       "      <td>None</td>\n",
       "      <td>None</td>\n",
       "      <td>None</td>\n",
       "      <td>เสื้อฮาวายมัดย้อม Super premium spun</td>\n",
       "      <td>฿390</td>\n",
       "      <td>ขายแล้ว 29 ชิ้น</td>\n",
       "      <td>จำนวน 1มีสินค้าทั้งหมด 100 ชิ้น</td>\n",
       "    </tr>\n",
       "    <tr>\n",
       "      <th>10</th>\n",
       "      <td>None</td>\n",
       "      <td>None</td>\n",
       "      <td>None</td>\n",
       "      <td>(ย้อมเย็น 100%) สายเดี่ยว เสื้อฮาวาย มัดย้อมสี...</td>\n",
       "      <td>฿250 - ฿290</td>\n",
       "      <td>ขายแล้ว 3 ชิ้น</td>\n",
       "      <td>จำนวน 1มีสินค้าทั้งหมด 117 ชิ้น</td>\n",
       "    </tr>\n",
       "    <tr>\n",
       "      <th>11</th>\n",
       "      <td>None</td>\n",
       "      <td>None</td>\n",
       "      <td>None</td>\n",
       "      <td>(ย้อมเย็น 100%) สายเดี่ยว เสื้อฮาวาย มัดย้อมสี...</td>\n",
       "      <td>฿250 - ฿290</td>\n",
       "      <td>ขายแล้ว 5 ชิ้น</td>\n",
       "      <td>จำนวน 1มีสินค้าทั้งหมด 115 ชิ้น</td>\n",
       "    </tr>\n",
       "    <tr>\n",
       "      <th>12</th>\n",
       "      <td>None</td>\n",
       "      <td>None</td>\n",
       "      <td>None</td>\n",
       "      <td>เสื้อมัดย้อม (สีรุ้ง) เสื้อ oversize</td>\n",
       "      <td>฿350</td>\n",
       "      <td>ขายแล้ว 35 ชิ้น</td>\n",
       "      <td>จำนวน 1มีสินค้าทั้งหมด 487 ชิ้น</td>\n",
       "    </tr>\n",
       "    <tr>\n",
       "      <th>13</th>\n",
       "      <td>None</td>\n",
       "      <td>None</td>\n",
       "      <td>None</td>\n",
       "      <td>เสื้อฮาวายมัดย้อม Super premium spun</td>\n",
       "      <td>฿249</td>\n",
       "      <td>ขายแล้ว 6 ชิ้น</td>\n",
       "      <td>จำนวน 1มีสินค้าทั้งหมด 117 ชิ้น</td>\n",
       "    </tr>\n",
       "    <tr>\n",
       "      <th>14</th>\n",
       "      <td>None</td>\n",
       "      <td>None</td>\n",
       "      <td>None</td>\n",
       "      <td>สายเดี่ยว 2 ชั้น มัดย้อม สายเดี่ยวมัดย้อม</td>\n",
       "      <td>฿189</td>\n",
       "      <td>ขายแล้ว 308 ชิ้น</td>\n",
       "      <td>จำนวน 1มีสินค้าทั้งหมด 305 ชิ้น</td>\n",
       "    </tr>\n",
       "    <tr>\n",
       "      <th>15</th>\n",
       "      <td>None</td>\n",
       "      <td>None</td>\n",
       "      <td>None</td>\n",
       "      <td>(งานย้อมเย็น 100%) เดรสหางปลามัดย้อม สีไม่ตก ไ...</td>\n",
       "      <td>฿490</td>\n",
       "      <td>ขายแล้ว 78 ชิ้น</td>\n",
       "      <td>จำนวน 1มีสินค้าทั้งหมด 80 ชิ้น</td>\n",
       "    </tr>\n",
       "    <tr>\n",
       "      <th>16</th>\n",
       "      <td>None</td>\n",
       "      <td>None</td>\n",
       "      <td>None</td>\n",
       "      <td>สายเดี่ยวมัดย้อม หน้าสั้น หลังยาว</td>\n",
       "      <td>฿189</td>\n",
       "      <td>ขายแล้ว 119 ชิ้น</td>\n",
       "      <td>จำนวน 1มีสินค้าทั้งหมด 418 ชิ้น</td>\n",
       "    </tr>\n",
       "    <tr>\n",
       "      <th>17</th>\n",
       "      <td>None</td>\n",
       "      <td>None</td>\n",
       "      <td>None</td>\n",
       "      <td>(ย้อมเย็น 100%) กางเกงมัดย้อมสีรุ้ง สีพาสเทล ส...</td>\n",
       "      <td>฿290 - ฿350</td>\n",
       "      <td>ขายแล้ว 203 ชิ้น</td>\n",
       "      <td>จำนวน 1มีสินค้าทั้งหมด 154 ชิ้น</td>\n",
       "    </tr>\n",
       "    <tr>\n",
       "      <th>18</th>\n",
       "      <td>None</td>\n",
       "      <td>None</td>\n",
       "      <td>None</td>\n",
       "      <td>(ย้อมเย็น 100%) เสื้อยืดมัดย้อม สีพาสเทล cotto...</td>\n",
       "      <td>฿290</td>\n",
       "      <td>ขายแล้ว 80 ชิ้น</td>\n",
       "      <td>จำนวน 1มีสินค้าทั้งหมด 1932 ชิ้น</td>\n",
       "    </tr>\n",
       "    <tr>\n",
       "      <th>19</th>\n",
       "      <td>None</td>\n",
       "      <td>None</td>\n",
       "      <td>None</td>\n",
       "      <td>เสื้อฮาวายมัดย้อม สีพาสเทล (งานย้อมเย็น สีตกน้...</td>\n",
       "      <td>฿290 - ฿550</td>\n",
       "      <td>ขายแล้ว 5 ชิ้น</td>\n",
       "      <td>จำนวน 1มีสินค้าทั้งหมด 460 ชิ้น</td>\n",
       "    </tr>\n",
       "    <tr>\n",
       "      <th>20</th>\n",
       "      <td>None</td>\n",
       "      <td>None</td>\n",
       "      <td>None</td>\n",
       "      <td>เสื้อฮาวายมัดย้อม Super premium spun</td>\n",
       "      <td>฿249</td>\n",
       "      <td>ขายแล้ว 38 ชิ้น</td>\n",
       "      <td>จำนวน 1มีสินค้าทั้งหมด 115 ชิ้น</td>\n",
       "    </tr>\n",
       "    <tr>\n",
       "      <th>21</th>\n",
       "      <td>None</td>\n",
       "      <td>None</td>\n",
       "      <td>None</td>\n",
       "      <td>เสื้อฮาวายมัดย้อม Super premium spun</td>\n",
       "      <td>฿390</td>\n",
       "      <td>ขายแล้ว 11 ชิ้น</td>\n",
       "      <td>จำนวน 1มีสินค้าทั้งหมด 92 ชิ้น</td>\n",
       "    </tr>\n",
       "    <tr>\n",
       "      <th>22</th>\n",
       "      <td>None</td>\n",
       "      <td>None</td>\n",
       "      <td>None</td>\n",
       "      <td>(ย้อมเย็น 100%) มินิเดรสคอกระตุกมัดย้อมคราม เด...</td>\n",
       "      <td>฿199</td>\n",
       "      <td>None</td>\n",
       "      <td>จำนวน 1มีสินค้าทั้งหมด 189 ชิ้น</td>\n",
       "    </tr>\n",
       "  </tbody>\n",
       "</table>\n",
       "</div>"
      ],
      "text/plain": [
       "                                        name  \\\n",
       "0   Make it indigo Active 21 นาที  ที่ผ่านมา   \n",
       "1                                       None   \n",
       "2                                       None   \n",
       "3                                       None   \n",
       "4                                       None   \n",
       "5                                       None   \n",
       "6                                       None   \n",
       "7                                       None   \n",
       "8                                       None   \n",
       "9                                       None   \n",
       "10                                      None   \n",
       "11                                      None   \n",
       "12                                      None   \n",
       "13                                      None   \n",
       "14                                      None   \n",
       "15                                      None   \n",
       "16                                      None   \n",
       "17                                      None   \n",
       "18                                      None   \n",
       "19                                      None   \n",
       "20                                      None   \n",
       "21                                      None   \n",
       "22                                      None   \n",
       "\n",
       "                               score promotion  \\\n",
       "0   4.7 (การให้คะแนนทั้งหมด 19.6พัน)      None   \n",
       "1                               None      None   \n",
       "2                               None      None   \n",
       "3                               None      None   \n",
       "4                               None      None   \n",
       "5                               None      None   \n",
       "6                               None      None   \n",
       "7                               None      None   \n",
       "8                               None      None   \n",
       "9                               None      None   \n",
       "10                              None      None   \n",
       "11                              None      None   \n",
       "12                              None      None   \n",
       "13                              None      None   \n",
       "14                              None      None   \n",
       "15                              None      None   \n",
       "16                              None      None   \n",
       "17                              None      None   \n",
       "18                              None      None   \n",
       "19                              None      None   \n",
       "20                              None      None   \n",
       "21                              None      None   \n",
       "22                              None      None   \n",
       "\n",
       "                                         product_name        price  \\\n",
       "0                เสื้อยืดมัดย้อม \"โชคดี\" และ \"ร่ำรวย\"         ฿290   \n",
       "1   เสื้อมัดย้อม สีรุ้ง cotton 100% (งานย้อมเย็น ส...         ฿250   \n",
       "2   \"สีไม่ตก\"เสื้อยืดมัดย้อม คราม ไซส์ S-XXL cotto...         ฿250   \n",
       "3   (ย้อมเย็น 100%) เสื้อยืดมัดย้อม Monday-Sunday ...         ฿290   \n",
       "4   (ย้อมเย็น 100%) เสื้อฮาวายมัดย้อมสีพาสเทล สีรุ...         ฿290   \n",
       "5   (ย้อมเย็น 100%) สายเดี่ยว เสื้อฮาวาย มัดย้อมสี...  ฿250 - ฿290   \n",
       "6   เสื้อคู่มัดย้อมลายก้นหอย ใส่ไปทะเลย ชิคๆ ย้อมเ...  ฿189 - ฿250   \n",
       "7   (ย้อมเย็น 100%) เสื้อมัดย้อมสีพาสเทล cotton 10...         ฿229   \n",
       "8   (ย้อมเย็น 100%) เสื้อมัดย้อม ผ้า cotton no.32 ...         ฿250   \n",
       "9                เสื้อฮาวายมัดย้อม Super premium spun         ฿390   \n",
       "10  (ย้อมเย็น 100%) สายเดี่ยว เสื้อฮาวาย มัดย้อมสี...  ฿250 - ฿290   \n",
       "11  (ย้อมเย็น 100%) สายเดี่ยว เสื้อฮาวาย มัดย้อมสี...  ฿250 - ฿290   \n",
       "12               เสื้อมัดย้อม (สีรุ้ง) เสื้อ oversize         ฿350   \n",
       "13               เสื้อฮาวายมัดย้อม Super premium spun         ฿249   \n",
       "14          สายเดี่ยว 2 ชั้น มัดย้อม สายเดี่ยวมัดย้อม         ฿189   \n",
       "15  (งานย้อมเย็น 100%) เดรสหางปลามัดย้อม สีไม่ตก ไ...         ฿490   \n",
       "16                  สายเดี่ยวมัดย้อม หน้าสั้น หลังยาว         ฿189   \n",
       "17  (ย้อมเย็น 100%) กางเกงมัดย้อมสีรุ้ง สีพาสเทล ส...  ฿290 - ฿350   \n",
       "18  (ย้อมเย็น 100%) เสื้อยืดมัดย้อม สีพาสเทล cotto...         ฿290   \n",
       "19  เสื้อฮาวายมัดย้อม สีพาสเทล (งานย้อมเย็น สีตกน้...  ฿290 - ฿550   \n",
       "20               เสื้อฮาวายมัดย้อม Super premium spun         ฿249   \n",
       "21               เสื้อฮาวายมัดย้อม Super premium spun         ฿390   \n",
       "22  (ย้อมเย็น 100%) มินิเดรสคอกระตุกมัดย้อมคราม เด...         ฿199   \n",
       "\n",
       "                   sale                             stock  \n",
       "0       ขายแล้ว 52 ชิ้น    จำนวน 1มีสินค้าทั้งหมด 33 ชิ้น  \n",
       "1      ขายแล้ว 318 ชิ้น   จำนวน 1มีสินค้าทั้งหมด 127 ชิ้น  \n",
       "2      ขายแล้ว 501 ชิ้น  จำนวน 1มีสินค้าทั้งหมด 3369 ชิ้น  \n",
       "3       ขายแล้ว 59 ชิ้น   จำนวน 1มีสินค้าทั้งหมด 115 ชิ้น  \n",
       "4      ขายแล้ว 486 ชิ้น   จำนวน 1มีสินค้าทั้งหมด 315 ชิ้น  \n",
       "5        ขายแล้ว 8 ชิ้น   จำนวน 1มีสินค้าทั้งหมด 112 ชิ้น  \n",
       "6       ขายแล้ว 93 ชิ้น   จำนวน 1มีสินค้าทั้งหมด 416 ชิ้น  \n",
       "7      ขายแล้ว 151 ชิ้น   จำนวน 1มีสินค้าทั้งหมด 431 ชิ้น  \n",
       "8   ขายแล้ว 3.2พัน ชิ้น  จำนวน 1มีสินค้าทั้งหมด 3376 ชิ้น  \n",
       "9       ขายแล้ว 29 ชิ้น   จำนวน 1มีสินค้าทั้งหมด 100 ชิ้น  \n",
       "10       ขายแล้ว 3 ชิ้น   จำนวน 1มีสินค้าทั้งหมด 117 ชิ้น  \n",
       "11       ขายแล้ว 5 ชิ้น   จำนวน 1มีสินค้าทั้งหมด 115 ชิ้น  \n",
       "12      ขายแล้ว 35 ชิ้น   จำนวน 1มีสินค้าทั้งหมด 487 ชิ้น  \n",
       "13       ขายแล้ว 6 ชิ้น   จำนวน 1มีสินค้าทั้งหมด 117 ชิ้น  \n",
       "14     ขายแล้ว 308 ชิ้น   จำนวน 1มีสินค้าทั้งหมด 305 ชิ้น  \n",
       "15      ขายแล้ว 78 ชิ้น    จำนวน 1มีสินค้าทั้งหมด 80 ชิ้น  \n",
       "16     ขายแล้ว 119 ชิ้น   จำนวน 1มีสินค้าทั้งหมด 418 ชิ้น  \n",
       "17     ขายแล้ว 203 ชิ้น   จำนวน 1มีสินค้าทั้งหมด 154 ชิ้น  \n",
       "18      ขายแล้ว 80 ชิ้น  จำนวน 1มีสินค้าทั้งหมด 1932 ชิ้น  \n",
       "19       ขายแล้ว 5 ชิ้น   จำนวน 1มีสินค้าทั้งหมด 460 ชิ้น  \n",
       "20      ขายแล้ว 38 ชิ้น   จำนวน 1มีสินค้าทั้งหมด 115 ชิ้น  \n",
       "21      ขายแล้ว 11 ชิ้น    จำนวน 1มีสินค้าทั้งหมด 92 ชิ้น  \n",
       "22                 None   จำนวน 1มีสินค้าทั้งหมด 189 ชิ้น  "
      ]
     },
     "execution_count": 248,
     "metadata": {},
     "output_type": "execute_result"
    }
   ],
   "source": [
    "shopee_data = shopee_data.transpose()\n",
    "shopee_data.columns = ['name','score','promotion','product_name','price', 'sale', 'stock']\n",
    "shopee_data"
   ]
  },
  {
   "cell_type": "code",
   "execution_count": 237,
   "id": "f9892e98",
   "metadata": {},
   "outputs": [],
   "source": [
    "shopee_data.to_excel(r'/Users/kritchayahirunno/Desktop/webscp/Make it indigo(.10).xlsx')"
   ]
  },
  {
   "cell_type": "code",
   "execution_count": null,
   "id": "880c3cd4",
   "metadata": {},
   "outputs": [],
   "source": []
  },
  {
   "cell_type": "code",
   "execution_count": null,
   "id": "cefc7b34",
   "metadata": {},
   "outputs": [],
   "source": []
  }
 ],
 "metadata": {
  "kernelspec": {
   "display_name": "Python 3",
   "language": "python",
   "name": "python3"
  },
  "language_info": {
   "codemirror_mode": {
    "name": "ipython",
    "version": 3
   },
   "file_extension": ".py",
   "mimetype": "text/x-python",
   "name": "python",
   "nbconvert_exporter": "python",
   "pygments_lexer": "ipython3",
   "version": "3.8.8"
  }
 },
 "nbformat": 4,
 "nbformat_minor": 5
}
