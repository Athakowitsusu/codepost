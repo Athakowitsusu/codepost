{
 "cells": [
  {
   "cell_type": "code",
   "execution_count": 39,
   "id": "f13ab598",
   "metadata": {},
   "outputs": [],
   "source": [
    "from selenium import webdriver\n",
    "from selenium.webdriver.common.keys import Keys\n",
    "import bs4\n",
    "import pandas as pd"
   ]
  },
  {
   "cell_type": "code",
   "execution_count": 40,
   "id": "b91b2997",
   "metadata": {},
   "outputs": [],
   "source": [
    "driver = webdriver.Chrome()"
   ]
  },
  {
   "cell_type": "code",
   "execution_count": 41,
   "id": "95dca432",
   "metadata": {},
   "outputs": [],
   "source": [
    "driver.get('https://shopee.co.th/wiputtshop?utm_content=3grW3YsCiiCNFdHqxn9SEHTYLLxw')"
   ]
  },
  {
   "cell_type": "code",
   "execution_count": 42,
   "id": "3f9b9f0d",
   "metadata": {},
   "outputs": [],
   "source": [
    "thai_button = driver.find_element(\"xpath\", '/html/body/div[2]/div[1]/div[1]/div/div[3]/div[1]/button')"
   ]
  },
  {
   "cell_type": "code",
   "execution_count": 43,
   "id": "8cbcc6fc",
   "metadata": {},
   "outputs": [],
   "source": [
    "thai_button.click()"
   ]
  },
  {
   "cell_type": "code",
   "execution_count": 44,
   "id": "f04d3f3d",
   "metadata": {},
   "outputs": [],
   "source": [
    "driver.execute_script(\"document.body.style.zoom='25%'\")"
   ]
  },
  {
   "cell_type": "code",
   "execution_count": 45,
   "id": "5311f2f6",
   "metadata": {},
   "outputs": [],
   "source": [
    "data = driver.page_source"
   ]
  },
  {
   "cell_type": "code",
   "execution_count": 46,
   "id": "d8e0a95d",
   "metadata": {},
   "outputs": [],
   "source": [
    "soup = bs4.BeautifulSoup(data)"
   ]
  },
  {
   "cell_type": "code",
   "execution_count": 47,
   "id": "cde88436",
   "metadata": {},
   "outputs": [],
   "source": [
    "store_name = soup.find_all('div',{'class':'section-seller-overview-horizontal__seller-portrait UgJq78'})"
   ]
  },
  {
   "cell_type": "code",
   "execution_count": 48,
   "id": "a7eb99eb",
   "metadata": {},
   "outputs": [
    {
     "data": {
      "text/plain": [
       "['wiputtshopActive 2 ชั่วโมง  ที่ผ่านมา']"
      ]
     },
     "execution_count": 48,
     "metadata": {},
     "output_type": "execute_result"
    }
   ],
   "source": [
    "store_name_list = []\n",
    "for product in store_name:\n",
    "    text = product.text.strip()\n",
    "    if text:\n",
    "        store_name_list.append(text)\n",
    "store_name_list"
   ]
  },
  {
   "cell_type": "code",
   "execution_count": 49,
   "id": "37715a48",
   "metadata": {},
   "outputs": [],
   "source": [
    "store_score = driver.find_elements(\"xpath\",'/html/body/div[1]/div/div[2]/div/div/div/div[2]/div/div[1]/div/div[2]/div[4]/div[2]/div[2]')"
   ]
  },
  {
   "cell_type": "code",
   "execution_count": 50,
   "id": "c61d8612",
   "metadata": {},
   "outputs": [
    {
     "data": {
      "text/plain": [
       "['4.7 (การให้คะแนนทั้งหมด 13พัน)']"
      ]
     },
     "execution_count": 50,
     "metadata": {},
     "output_type": "execute_result"
    }
   ],
   "source": [
    "store_score_list = []\n",
    "for product in store_score:\n",
    "    text = product.text.strip()\n",
    "    if text:\n",
    "        store_score_list.append(text)\n",
    "store_score_list"
   ]
  },
  {
   "cell_type": "code",
   "execution_count": 51,
   "id": "8b52a216",
   "metadata": {},
   "outputs": [],
   "source": [
    "store_promotion = soup.find_all('div',{'class':'SLtncH'})"
   ]
  },
  {
   "cell_type": "code",
   "execution_count": 52,
   "id": "1e2d81c4",
   "metadata": {},
   "outputs": [
    {
     "data": {
      "text/plain": [
       "[]"
      ]
     },
     "execution_count": 52,
     "metadata": {},
     "output_type": "execute_result"
    }
   ],
   "source": [
    "store_promotion_list = []\n",
    "for product in store_promotion:\n",
    "    text = product.text.strip()\n",
    "    if text:\n",
    "        store_promotion_list.append(text)\n",
    "store_promotion_list"
   ]
  },
  {
   "cell_type": "code",
   "execution_count": 53,
   "id": "54861d66",
   "metadata": {},
   "outputs": [],
   "source": [
    "search = driver.find_element(\"xpath\",'/html/body/div[1]/div/div[2]/div/header/div[2]/div/div[1]/form/div/div[1]/input')"
   ]
  },
  {
   "cell_type": "code",
   "execution_count": 54,
   "id": "a2241a85",
   "metadata": {},
   "outputs": [],
   "source": [
    "search.send_keys('มัดย้อม')"
   ]
  },
  {
   "cell_type": "code",
   "execution_count": 55,
   "id": "1abfb578",
   "metadata": {},
   "outputs": [],
   "source": [
    "search.send_keys(Keys.ENTER)"
   ]
  },
  {
   "cell_type": "code",
   "execution_count": 56,
   "id": "4fd53e0f",
   "metadata": {},
   "outputs": [],
   "source": [
    "data = driver.page_source"
   ]
  },
  {
   "cell_type": "code",
   "execution_count": 57,
   "id": "c70ce6c4",
   "metadata": {},
   "outputs": [],
   "source": [
    "soup = bs4.BeautifulSoup(data)"
   ]
  },
  {
   "cell_type": "code",
   "execution_count": 58,
   "id": "69fc35f7",
   "metadata": {},
   "outputs": [],
   "source": [
    "product_name = soup.find_all('div',{'class':'FDn--+'})"
   ]
  },
  {
   "cell_type": "code",
   "execution_count": 59,
   "id": "60e38211",
   "metadata": {},
   "outputs": [
    {
     "data": {
      "text/plain": [
       "['เสื้อมัดย้อม ผ้าฝ้าย ปีกค้างคาว (แจ้งลายทางแชท)',\n",
       " 'เสื้อมัดย้อม คอวีรูดอก 🌸แจ้งลายทางแชท',\n",
       " 'เดรสมัดย้อม มัดย้อม ปีกค้างคาว สายผูกลูกปัด เสื้อมัดย้อม',\n",
       " 'ที่คาดผม💙ผ้าโพกหัว💙หมวกมัดย้อม เสื้อมัดย้อม',\n",
       " 'เสื้อคลุมมัดย้อมสีฟ้าคราม (แจ้งลายทางแชท)',\n",
       " 'จั้มสูทแขนกุดมัดย้อมผ้าฝ้าย (แจ้งลายทางแชท)',\n",
       " 'เสื้อมัดย้อมคอกระเหรี่ยง',\n",
       " 'ชุดมัดย้อม มัดย้อม จั้มสูทสายเดี่ยว เสื้อมัดย้อม จัดส่งkerry22฿ (แจ้งลายทางแชท)',\n",
       " 'เสื้อเชิ้ตแขนสั้นมัดย้อมสีฟ้าคราม มัดย้อม เสื้อมัดย้อม',\n",
       " 'มินิ เดรสมัดย้อม มัดย้อม แต่งชายปอมๆ เสื้อมัดย้อม',\n",
       " 'ชุดมัดย้อม เลือกลายได้ แจ้งลายทางแชท',\n",
       " 'เสื้อมัดย้อมสีพาสเทล ใส่ไปทะเล 🌈new arrival',\n",
       " 'เสื้อมัดย้อม สายเดี่ยว มัดย้อม',\n",
       " 'เสื้อมัดย้อม แขนยาวผูกเอว ‼️ new arrival แจ้งลายทางแชทค่ะ',\n",
       " 'เสื้อมัดย้อม คอกระเหรี่ยง 🌞เสื้อผ้าแฟชั่น มัดย้อม เดรสมัดย้อม',\n",
       " 'ชุดมัดย้อม เดรสมัดย้อม',\n",
       " 'เสื้อมัดย้อมคอกระเหรี่ยง ชายเรียบ',\n",
       " 'เสื้อมัดย้อม แขนยาว (ใส่ได้ทั้งชายและหญิง)',\n",
       " 'เสื้อมัดย้อม มัดย้อม สีพาสเทล 🌸🌿 แจ้งลายทางแชท',\n",
       " 'เสื้อมัดย้อมเปิดไหล่',\n",
       " 'เสื้อมัดย้อม มัดย้อม ปาดไหล่ (แจ้งลายทางแชท)',\n",
       " 'ชุดเดรสมัดย้อม สม็อคเอว💙 มัดย้อมคราม',\n",
       " 'เสื้อยืดมัดย้อม เสื้อมัดย้อม (แจ้งลายทางแชท)',\n",
       " 'เสื้อมัดย้อมสายเดี่ยว',\n",
       " 'มินิเดรสมัดย้อม มัดย้อม แขนยาว เสื้อมัดย้อม',\n",
       " 'เสื้อเชิ้ตมัดย้อมผู้ชาย',\n",
       " 'เดรสมัดย้อม มัดย้อม คอกระเหรี่ยง เสื้อมัดย้อม เสื้อผ้าแฟชั่น',\n",
       " 'ชุดเอี้ยม มัดย้อม สีพาสเทล 🌸 (แจ้งลายทางแชท)\\u200b เสื้อมัดยัอม',\n",
       " 'เสื้อมัดย้อม มินิเดรส 🌊new arrival มัดย้อม',\n",
       " 'ชุดมัดย้อม มีเก็บเงินปลายทาง แจ้งลายทางแชท']"
      ]
     },
     "execution_count": 59,
     "metadata": {},
     "output_type": "execute_result"
    }
   ],
   "source": [
    "product_name_list = []\n",
    "for product in product_name:\n",
    "    text = product.text.strip()\n",
    "    if text:\n",
    "        product_name_list.append(text)\n",
    "product_name_list"
   ]
  },
  {
   "cell_type": "code",
   "execution_count": 60,
   "id": "b2189e1e",
   "metadata": {},
   "outputs": [],
   "source": [
    "product_price = soup.find_all('div',{'class':'vioxXd rVLWG6'})"
   ]
  },
  {
   "cell_type": "code",
   "execution_count": 61,
   "id": "a9de98f7",
   "metadata": {},
   "outputs": [
    {
     "data": {
      "text/plain": [
       "['฿199',\n",
       " '฿159',\n",
       " '฿199',\n",
       " '฿45',\n",
       " '฿169',\n",
       " '฿230',\n",
       " '฿129',\n",
       " '฿199',\n",
       " '฿159 - ฿169',\n",
       " '฿189',\n",
       " '฿129',\n",
       " '฿189',\n",
       " '฿109 - ฿129',\n",
       " '฿179',\n",
       " '฿79 - ฿139',\n",
       " '฿200',\n",
       " '฿119',\n",
       " '฿159',\n",
       " '฿139',\n",
       " '฿159',\n",
       " '฿159',\n",
       " '฿229',\n",
       " '฿159',\n",
       " '฿119',\n",
       " '฿179',\n",
       " '฿189',\n",
       " '฿149 - ฿189',\n",
       " '฿199',\n",
       " '฿149 - ฿169',\n",
       " '฿129']"
      ]
     },
     "execution_count": 61,
     "metadata": {},
     "output_type": "execute_result"
    }
   ],
   "source": [
    "product_price_list = []\n",
    "for product in product_price:\n",
    "    text = product.text.strip()\n",
    "    if text:\n",
    "        product_price_list.append(text)\n",
    "product_price_list"
   ]
  },
  {
   "cell_type": "code",
   "execution_count": 62,
   "id": "f973ed8c",
   "metadata": {},
   "outputs": [],
   "source": [
    "product_sale = soup.find_all('div',{'class':'r6HknA uEPGHT'})"
   ]
  },
  {
   "cell_type": "code",
   "execution_count": 63,
   "id": "1edbfcf3",
   "metadata": {},
   "outputs": [
    {
     "data": {
      "text/plain": [
       "['ขายแล้ว 222 ชิ้น',\n",
       " 'ขายแล้ว 338 ชิ้น',\n",
       " 'ขายแล้ว 586 ชิ้น',\n",
       " 'ขายแล้ว 561 ชิ้น',\n",
       " 'ขายแล้ว 149 ชิ้น',\n",
       " 'ขายแล้ว 338 ชิ้น',\n",
       " 'ขายแล้ว 44 ชิ้น',\n",
       " 'ขายแล้ว 590 ชิ้น',\n",
       " 'ขายแล้ว 1.1พัน ชิ้น',\n",
       " 'ขายแล้ว 1พัน ชิ้น',\n",
       " 'ขายแล้ว 78 ชิ้น',\n",
       " 'ขายแล้ว 144 ชิ้น',\n",
       " 'ขายแล้ว 451 ชิ้น',\n",
       " 'ขายแล้ว 517 ชิ้น',\n",
       " 'ขายแล้ว 17.4พัน ชิ้น',\n",
       " 'ขายแล้ว 853 ชิ้น',\n",
       " 'ขายแล้ว 383 ชิ้น',\n",
       " 'ขายแล้ว 254 ชิ้น',\n",
       " 'ขายแล้ว 63 ชิ้น',\n",
       " 'ขายแล้ว 619 ชิ้น',\n",
       " 'ขายแล้ว 261 ชิ้น',\n",
       " 'ขายแล้ว 575 ชิ้น',\n",
       " 'ขายแล้ว 138 ชิ้น',\n",
       " 'ขายแล้ว 576 ชิ้น',\n",
       " 'ขายแล้ว 139 ชิ้น',\n",
       " 'ขายแล้ว 6.9พัน ชิ้น',\n",
       " 'ขายแล้ว 650 ชิ้น',\n",
       " 'ขายแล้ว 2.6พัน ชิ้น',\n",
       " 'ขายแล้ว 145 ชิ้น']"
      ]
     },
     "execution_count": 63,
     "metadata": {},
     "output_type": "execute_result"
    }
   ],
   "source": [
    "product_sale_list = []\n",
    "for product in product_sale:\n",
    "    text = product.text.strip()\n",
    "    if text:\n",
    "        product_sale_list.append(text)\n",
    "product_sale_list"
   ]
  },
  {
   "cell_type": "code",
   "execution_count": 317,
   "id": "363b7bcc",
   "metadata": {},
   "outputs": [],
   "source": [
    "driver.execute_script(\"document.body.style.zoom='100%'\")"
   ]
  },
  {
   "cell_type": "code",
   "execution_count": 318,
   "id": "ce972cb2",
   "metadata": {},
   "outputs": [],
   "source": [
    "product1 = driver.find_element(\"xpath\", '/html/body/div[1]/div/div[2]/div/div/div[2]/section/ul/li[1]')"
   ]
  },
  {
   "cell_type": "code",
   "execution_count": 319,
   "id": "22cc6bf9",
   "metadata": {},
   "outputs": [],
   "source": [
    "product1.click()"
   ]
  },
  {
   "cell_type": "code",
   "execution_count": 320,
   "id": "18bd298f",
   "metadata": {},
   "outputs": [],
   "source": [
    "driver.execute_script(\"document.body.style.zoom='25%'\")"
   ]
  },
  {
   "cell_type": "code",
   "execution_count": 321,
   "id": "e6a1f7cd",
   "metadata": {},
   "outputs": [],
   "source": [
    "data = driver.page_source"
   ]
  },
  {
   "cell_type": "code",
   "execution_count": 322,
   "id": "1b8adc12",
   "metadata": {},
   "outputs": [],
   "source": [
    "soup = bs4.BeautifulSoup(data)"
   ]
  },
  {
   "cell_type": "code",
   "execution_count": 323,
   "id": "af79dc21",
   "metadata": {},
   "outputs": [],
   "source": [
    "product1_score = soup.find_all('div',{'class':'flex items-center'})"
   ]
  },
  {
   "cell_type": "code",
   "execution_count": 324,
   "id": "c3ac2b2d",
   "metadata": {},
   "outputs": [
    {
     "data": {
      "text/plain": [
       "['จำนวน 1มีสินค้าทั้งหมด 60 ชิ้น']"
      ]
     },
     "execution_count": 324,
     "metadata": {},
     "output_type": "execute_result"
    }
   ],
   "source": [
    "product1_score_list = []\n",
    "for product in product1_score:\n",
    "    text = product.text.strip()\n",
    "    if text:\n",
    "        product1_score_list.append(text)\n",
    "product1_score_list = product1_score_list[2]\n",
    "product1_score_list = product1_score_list.split('\\n')\n",
    "product1_score_list"
   ]
  },
  {
   "cell_type": "code",
   "execution_count": 34,
   "id": "8c64d0fd",
   "metadata": {},
   "outputs": [],
   "source": [
    "driver.back()"
   ]
  },
  {
   "cell_type": "code",
   "execution_count": 35,
   "id": "5e5a2f17",
   "metadata": {},
   "outputs": [],
   "source": [
    "driver.execute_script(\"document.body.style.zoom='100%'\")"
   ]
  },
  {
   "cell_type": "code",
   "execution_count": 65,
   "id": "68cc6c51",
   "metadata": {},
   "outputs": [],
   "source": [
    "product2 = driver.find_element(\"xpath\", '/html/body/div[1]/div/div[2]/div/div/div[2]/section/ul/li[2]/a/div/div')"
   ]
  },
  {
   "cell_type": "code",
   "execution_count": 66,
   "id": "eaa0079d",
   "metadata": {},
   "outputs": [],
   "source": [
    "product2.click()"
   ]
  },
  {
   "cell_type": "code",
   "execution_count": 67,
   "id": "28f3a61c",
   "metadata": {},
   "outputs": [],
   "source": [
    "driver.execute_script(\"document.body.style.zoom='25%'\")"
   ]
  },
  {
   "cell_type": "code",
   "execution_count": 68,
   "id": "9b39a8d8",
   "metadata": {},
   "outputs": [],
   "source": [
    "data = driver.page_source"
   ]
  },
  {
   "cell_type": "code",
   "execution_count": 69,
   "id": "ee9850d8",
   "metadata": {},
   "outputs": [],
   "source": [
    "soup = bs4.BeautifulSoup(data)"
   ]
  },
  {
   "cell_type": "code",
   "execution_count": 70,
   "id": "d3e4938f",
   "metadata": {},
   "outputs": [],
   "source": [
    "product2_score = soup.find_all('div',{'class':'flex items-center'})"
   ]
  },
  {
   "cell_type": "code",
   "execution_count": 71,
   "id": "32839b84",
   "metadata": {},
   "outputs": [
    {
     "data": {
      "text/plain": [
       "['จำนวน 1มีสินค้าทั้งหมด 492 ชิ้น']"
      ]
     },
     "execution_count": 71,
     "metadata": {},
     "output_type": "execute_result"
    }
   ],
   "source": [
    "product2_score_list = []\n",
    "for product in product2_score:\n",
    "    text = product.text.strip()\n",
    "    if text:\n",
    "        product2_score_list.append(text)\n",
    "product2_score_list = product2_score_list[2]\n",
    "product2_score_list = product2_score_list.split('\\n')\n",
    "product2_score_list"
   ]
  },
  {
   "cell_type": "code",
   "execution_count": 72,
   "id": "6584fbac",
   "metadata": {},
   "outputs": [],
   "source": [
    "driver.back()"
   ]
  },
  {
   "cell_type": "code",
   "execution_count": 73,
   "id": "cec994ea",
   "metadata": {},
   "outputs": [],
   "source": [
    "driver.execute_script(\"document.body.style.zoom='100%'\")"
   ]
  },
  {
   "cell_type": "code",
   "execution_count": 74,
   "id": "6c65c18b",
   "metadata": {},
   "outputs": [],
   "source": [
    "product3 = driver.find_element(\"xpath\",'/html/body/div[1]/div/div[2]/div/div/div[2]/section/ul/li[3]/a/div/div')"
   ]
  },
  {
   "cell_type": "code",
   "execution_count": 75,
   "id": "5c7f7426",
   "metadata": {},
   "outputs": [],
   "source": [
    "product3.click()"
   ]
  },
  {
   "cell_type": "code",
   "execution_count": 76,
   "id": "c97432e5",
   "metadata": {},
   "outputs": [],
   "source": [
    "driver.execute_script(\"document.body.style.zoom='25%'\")"
   ]
  },
  {
   "cell_type": "code",
   "execution_count": 77,
   "id": "906ab68f",
   "metadata": {},
   "outputs": [],
   "source": [
    "data = driver.page_source"
   ]
  },
  {
   "cell_type": "code",
   "execution_count": 78,
   "id": "04d96221",
   "metadata": {},
   "outputs": [],
   "source": [
    "soup = bs4.BeautifulSoup(data)"
   ]
  },
  {
   "cell_type": "code",
   "execution_count": 79,
   "id": "8d285658",
   "metadata": {},
   "outputs": [],
   "source": [
    "product3_score = soup.find_all('div',{'class':'flex items-center'})"
   ]
  },
  {
   "cell_type": "code",
   "execution_count": 80,
   "id": "cfd0f148",
   "metadata": {},
   "outputs": [
    {
     "data": {
      "text/plain": [
       "['จำนวน 1มีสินค้าทั้งหมด 8 ชิ้น']"
      ]
     },
     "execution_count": 80,
     "metadata": {},
     "output_type": "execute_result"
    }
   ],
   "source": [
    "product3_score_list = []\n",
    "for product in product3_score:\n",
    "    text = product.text.strip()\n",
    "    if text:\n",
    "        product3_score_list.append(text)\n",
    "product3_score_list = product3_score_list[2]\n",
    "product3_score_list = product3_score_list.split('\\n')\n",
    "product3_score_list"
   ]
  },
  {
   "cell_type": "code",
   "execution_count": 325,
   "id": "3b16c6cf",
   "metadata": {},
   "outputs": [],
   "source": [
    "driver.back()"
   ]
  },
  {
   "cell_type": "code",
   "execution_count": 326,
   "id": "22292378",
   "metadata": {},
   "outputs": [],
   "source": [
    "driver.execute_script(\"document.body.style.zoom='100%'\")"
   ]
  },
  {
   "cell_type": "code",
   "execution_count": 327,
   "id": "1e3cf27f",
   "metadata": {},
   "outputs": [],
   "source": [
    "product4 = driver.find_element(\"xpath\",'/html/body/div[1]/div/div[2]/div/div/div[2]/section/ul/li[4]/a/div/div')"
   ]
  },
  {
   "cell_type": "code",
   "execution_count": null,
   "id": "9dbc01c4",
   "metadata": {},
   "outputs": [],
   "source": [
    "product4.click()"
   ]
  },
  {
   "cell_type": "code",
   "execution_count": 225,
   "id": "859dfca4",
   "metadata": {},
   "outputs": [],
   "source": [
    "driver.execute_script(\"document.body.style.zoom='25%'\")"
   ]
  },
  {
   "cell_type": "code",
   "execution_count": 226,
   "id": "39a5aa57",
   "metadata": {},
   "outputs": [],
   "source": [
    "data = driver.page_source"
   ]
  },
  {
   "cell_type": "code",
   "execution_count": 227,
   "id": "d6c290ed",
   "metadata": {},
   "outputs": [],
   "source": [
    "soup = bs4.BeautifulSoup(data)"
   ]
  },
  {
   "cell_type": "code",
   "execution_count": 228,
   "id": "069f6cdf",
   "metadata": {},
   "outputs": [],
   "source": [
    "product4_score = soup.find_all('div',{'class':'flex items-center'})"
   ]
  },
  {
   "cell_type": "code",
   "execution_count": 229,
   "id": "53cd72b9",
   "metadata": {},
   "outputs": [
    {
     "data": {
      "text/plain": [
       "['จำนวน 1มีสินค้าทั้งหมด 40 ชิ้น']"
      ]
     },
     "execution_count": 229,
     "metadata": {},
     "output_type": "execute_result"
    }
   ],
   "source": [
    "product4_score_list = []\n",
    "for product in product4_score:\n",
    "    text = product.text.strip()\n",
    "    if text:\n",
    "        product4_score_list.append(text)\n",
    "product4_score_list = product4_score_list[2]\n",
    "product4_score_list = product4_score_list.split('\\n')\n",
    "product4_score_list "
   ]
  },
  {
   "cell_type": "code",
   "execution_count": 230,
   "id": "1466f971",
   "metadata": {},
   "outputs": [],
   "source": [
    "driver.back()"
   ]
  },
  {
   "cell_type": "code",
   "execution_count": 82,
   "id": "9554ab0a",
   "metadata": {},
   "outputs": [],
   "source": [
    "driver.execute_script(\"document.body.style.zoom='100%'\")"
   ]
  },
  {
   "cell_type": "code",
   "execution_count": 83,
   "id": "90853014",
   "metadata": {},
   "outputs": [],
   "source": [
    "product5 = driver.find_element(\"xpath\",'/html/body/div[1]/div/div[2]/div/div/div[2]/section/ul/li[5]/a/div/div')"
   ]
  },
  {
   "cell_type": "code",
   "execution_count": 84,
   "id": "a6e7e64d",
   "metadata": {},
   "outputs": [],
   "source": [
    "product5.click()"
   ]
  },
  {
   "cell_type": "code",
   "execution_count": 85,
   "id": "d49777a2",
   "metadata": {},
   "outputs": [],
   "source": [
    "driver.execute_script(\"document.body.style.zoom='25%'\")"
   ]
  },
  {
   "cell_type": "code",
   "execution_count": 86,
   "id": "fe383745",
   "metadata": {},
   "outputs": [],
   "source": [
    "data = driver.page_source"
   ]
  },
  {
   "cell_type": "code",
   "execution_count": 87,
   "id": "86b02424",
   "metadata": {},
   "outputs": [],
   "source": [
    "soup = bs4.BeautifulSoup(data)"
   ]
  },
  {
   "cell_type": "code",
   "execution_count": 88,
   "id": "52d5f376",
   "metadata": {},
   "outputs": [],
   "source": [
    "product5_score = soup.find_all('div',{'class':'flex items-center'})"
   ]
  },
  {
   "cell_type": "code",
   "execution_count": 89,
   "id": "2f8e77d6",
   "metadata": {},
   "outputs": [
    {
     "data": {
      "text/plain": [
       "['จำนวน 1มีสินค้าทั้งหมด 6 ชิ้น']"
      ]
     },
     "execution_count": 89,
     "metadata": {},
     "output_type": "execute_result"
    }
   ],
   "source": [
    "product5_score_list = []\n",
    "for product in product5_score:\n",
    "    text = product.text.strip()\n",
    "    if text:\n",
    "        product5_score_list.append(text)\n",
    "product5_score_list = product5_score_list[2]\n",
    "product5_score_list = product5_score_list.split('\\n')\n",
    "product5_score_list"
   ]
  },
  {
   "cell_type": "code",
   "execution_count": 90,
   "id": "4ebd3784",
   "metadata": {},
   "outputs": [],
   "source": [
    "driver.back()"
   ]
  },
  {
   "cell_type": "code",
   "execution_count": 91,
   "id": "9fd42727",
   "metadata": {},
   "outputs": [],
   "source": [
    "driver.execute_script(\"document.body.style.zoom='100%'\")"
   ]
  },
  {
   "cell_type": "code",
   "execution_count": 92,
   "id": "50c72d49",
   "metadata": {},
   "outputs": [],
   "source": [
    "product6 = driver.find_element(\"xpath\",'/html/body/div[1]/div/div[2]/div/div/div[2]/section/ul/li[6]/a/div/div')"
   ]
  },
  {
   "cell_type": "code",
   "execution_count": 93,
   "id": "076d4bdf",
   "metadata": {},
   "outputs": [],
   "source": [
    "product6.click()"
   ]
  },
  {
   "cell_type": "code",
   "execution_count": 94,
   "id": "828b202c",
   "metadata": {},
   "outputs": [],
   "source": [
    "driver.execute_script(\"document.body.style.zoom='25%'\")"
   ]
  },
  {
   "cell_type": "code",
   "execution_count": 95,
   "id": "63a9a0c6",
   "metadata": {},
   "outputs": [],
   "source": [
    "data = driver.page_source"
   ]
  },
  {
   "cell_type": "code",
   "execution_count": 96,
   "id": "59bf9d49",
   "metadata": {},
   "outputs": [],
   "source": [
    "soup = bs4.BeautifulSoup(data)"
   ]
  },
  {
   "cell_type": "code",
   "execution_count": 97,
   "id": "f2803a83",
   "metadata": {},
   "outputs": [],
   "source": [
    "product6_score = soup.find_all('div',{'class':'flex items-center'})"
   ]
  },
  {
   "cell_type": "code",
   "execution_count": 98,
   "id": "bf18f577",
   "metadata": {},
   "outputs": [
    {
     "data": {
      "text/plain": [
       "['จำนวน 1มีสินค้าทั้งหมด 21 ชิ้น']"
      ]
     },
     "execution_count": 98,
     "metadata": {},
     "output_type": "execute_result"
    }
   ],
   "source": [
    "product6_score_list = []\n",
    "for product in product6_score:\n",
    "    text = product.text.strip()\n",
    "    if text:\n",
    "        product6_score_list.append(text)\n",
    "product6_score_list = product6_score_list[2]\n",
    "product6_score_list = product6_score_list.split('\\n')\n",
    "product6_score_list"
   ]
  },
  {
   "cell_type": "code",
   "execution_count": 99,
   "id": "565d1bda",
   "metadata": {},
   "outputs": [],
   "source": [
    "driver.back()"
   ]
  },
  {
   "cell_type": "code",
   "execution_count": 100,
   "id": "543c5bdf",
   "metadata": {},
   "outputs": [],
   "source": [
    "driver.execute_script(\"document.body.style.zoom='100%'\")"
   ]
  },
  {
   "cell_type": "code",
   "execution_count": 101,
   "id": "5de723aa",
   "metadata": {},
   "outputs": [],
   "source": [
    "product7 = driver.find_element(\"xpath\",'/html/body/div[1]/div/div[2]/div/div/div[2]/section/ul/li[7]/a/div/div')"
   ]
  },
  {
   "cell_type": "code",
   "execution_count": 102,
   "id": "6c96e783",
   "metadata": {},
   "outputs": [],
   "source": [
    "product7.click()"
   ]
  },
  {
   "cell_type": "code",
   "execution_count": 103,
   "id": "8ccb561a",
   "metadata": {},
   "outputs": [],
   "source": [
    "driver.execute_script(\"document.body.style.zoom='25%'\")"
   ]
  },
  {
   "cell_type": "code",
   "execution_count": 104,
   "id": "de1f4ae3",
   "metadata": {},
   "outputs": [],
   "source": [
    "data = driver.page_source"
   ]
  },
  {
   "cell_type": "code",
   "execution_count": 105,
   "id": "4138349a",
   "metadata": {},
   "outputs": [],
   "source": [
    "soup = bs4.BeautifulSoup(data)"
   ]
  },
  {
   "cell_type": "code",
   "execution_count": 106,
   "id": "68f86604",
   "metadata": {},
   "outputs": [],
   "source": [
    "product7_score = soup.find_all('div',{'class':'flex items-center'})"
   ]
  },
  {
   "cell_type": "code",
   "execution_count": 107,
   "id": "4c6173ee",
   "metadata": {},
   "outputs": [
    {
     "data": {
      "text/plain": [
       "['จำนวน 1มีสินค้าทั้งหมด 15 ชิ้น']"
      ]
     },
     "execution_count": 107,
     "metadata": {},
     "output_type": "execute_result"
    }
   ],
   "source": [
    "product7_score_list = []\n",
    "for product in product7_score:\n",
    "    text = product.text.strip()\n",
    "    if text:\n",
    "        product7_score_list.append(text)\n",
    "product7_score_list = product7_score_list[2]\n",
    "product7_score_list = product7_score_list.split('\\n')\n",
    "product7_score_list"
   ]
  },
  {
   "cell_type": "code",
   "execution_count": 108,
   "id": "aa6bbc91",
   "metadata": {},
   "outputs": [],
   "source": [
    "driver.back()"
   ]
  },
  {
   "cell_type": "code",
   "execution_count": 109,
   "id": "8f7777e5",
   "metadata": {},
   "outputs": [],
   "source": [
    "driver.execute_script(\"document.body.style.zoom='100%'\")"
   ]
  },
  {
   "cell_type": "code",
   "execution_count": 110,
   "id": "8152b27f",
   "metadata": {},
   "outputs": [],
   "source": [
    "product8 = driver.find_element(\"xpath\",'/html/body/div[1]/div/div[2]/div/div/div[2]/section/ul/li[8]/a/div/div')"
   ]
  },
  {
   "cell_type": "code",
   "execution_count": 111,
   "id": "71539c2e",
   "metadata": {},
   "outputs": [],
   "source": [
    "product8.click()"
   ]
  },
  {
   "cell_type": "code",
   "execution_count": 112,
   "id": "bc00a10b",
   "metadata": {},
   "outputs": [],
   "source": [
    "driver.execute_script(\"document.body.style.zoom='25%'\")"
   ]
  },
  {
   "cell_type": "code",
   "execution_count": 113,
   "id": "d95a6799",
   "metadata": {},
   "outputs": [],
   "source": [
    "data = driver.page_source"
   ]
  },
  {
   "cell_type": "code",
   "execution_count": 114,
   "id": "266c4587",
   "metadata": {},
   "outputs": [],
   "source": [
    "soup = bs4.BeautifulSoup(data)"
   ]
  },
  {
   "cell_type": "code",
   "execution_count": 115,
   "id": "f2d97f3a",
   "metadata": {},
   "outputs": [],
   "source": [
    "product8_score = soup.find_all('div',{'class':'flex items-center'})"
   ]
  },
  {
   "cell_type": "code",
   "execution_count": 116,
   "id": "636c735d",
   "metadata": {},
   "outputs": [
    {
     "data": {
      "text/plain": [
       "['จำนวน 1มีสินค้าทั้งหมด 15 ชิ้น']"
      ]
     },
     "execution_count": 116,
     "metadata": {},
     "output_type": "execute_result"
    }
   ],
   "source": [
    "product8_score_list = []\n",
    "for product in product8_score:\n",
    "    text = product.text.strip()\n",
    "    if text:\n",
    "        product8_score_list.append(text)\n",
    "product8_score_list = product8_score_list[2]\n",
    "product8_score_list = product8_score_list.split('\\n')\n",
    "product8_score_list"
   ]
  },
  {
   "cell_type": "code",
   "execution_count": 117,
   "id": "074bcf28",
   "metadata": {},
   "outputs": [],
   "source": [
    "driver.back()"
   ]
  },
  {
   "cell_type": "code",
   "execution_count": 118,
   "id": "58cab182",
   "metadata": {},
   "outputs": [],
   "source": [
    "driver.execute_script(\"document.body.style.zoom='100%'\")"
   ]
  },
  {
   "cell_type": "code",
   "execution_count": 119,
   "id": "c4b8e32f",
   "metadata": {},
   "outputs": [],
   "source": [
    "product9 = driver.find_element(\"xpath\",'/html/body/div[1]/div/div[2]/div/div/div[2]/section/ul/li[9]/a/div/div')"
   ]
  },
  {
   "cell_type": "code",
   "execution_count": 120,
   "id": "a55d1650",
   "metadata": {},
   "outputs": [],
   "source": [
    "product9.click()"
   ]
  },
  {
   "cell_type": "code",
   "execution_count": 121,
   "id": "d7562bdf",
   "metadata": {},
   "outputs": [],
   "source": [
    "driver.execute_script(\"document.body.style.zoom='25%'\")"
   ]
  },
  {
   "cell_type": "code",
   "execution_count": 122,
   "id": "a520552d",
   "metadata": {},
   "outputs": [],
   "source": [
    "data = driver.page_source"
   ]
  },
  {
   "cell_type": "code",
   "execution_count": 123,
   "id": "c31971fe",
   "metadata": {},
   "outputs": [],
   "source": [
    "soup = bs4.BeautifulSoup(data)"
   ]
  },
  {
   "cell_type": "code",
   "execution_count": 124,
   "id": "9bc9697d",
   "metadata": {},
   "outputs": [],
   "source": [
    "product9_score = soup.find_all('div',{'class':'flex items-center'})"
   ]
  },
  {
   "cell_type": "code",
   "execution_count": 125,
   "id": "e6e83328",
   "metadata": {},
   "outputs": [
    {
     "data": {
      "text/plain": [
       "['จำนวน 1มีสินค้าทั้งหมด 15 ชิ้น']"
      ]
     },
     "execution_count": 125,
     "metadata": {},
     "output_type": "execute_result"
    }
   ],
   "source": [
    "product9_score_list = []\n",
    "for product in product9_score:\n",
    "    text = product.text.strip()\n",
    "    if text:\n",
    "        product9_score_list.append(text)\n",
    "product9_score_list = product9_score_list[2]\n",
    "product9_score_list = product9_score_list.split('\\n')\n",
    "product9_score_list"
   ]
  },
  {
   "cell_type": "code",
   "execution_count": 126,
   "id": "d58d02ff",
   "metadata": {},
   "outputs": [],
   "source": [
    "driver.back()"
   ]
  },
  {
   "cell_type": "code",
   "execution_count": 127,
   "id": "88904241",
   "metadata": {},
   "outputs": [],
   "source": [
    "driver.execute_script(\"document.body.style.zoom='100%'\")"
   ]
  },
  {
   "cell_type": "code",
   "execution_count": 128,
   "id": "1a407c80",
   "metadata": {},
   "outputs": [],
   "source": [
    "product10 = driver.find_element(\"xpath\",'//html/body/div[1]/div/div[2]/div/div/div[2]/section/ul/li[10]/a/div/div')"
   ]
  },
  {
   "cell_type": "code",
   "execution_count": 129,
   "id": "29d97050",
   "metadata": {},
   "outputs": [],
   "source": [
    "product10.click()"
   ]
  },
  {
   "cell_type": "code",
   "execution_count": 130,
   "id": "013540b8",
   "metadata": {},
   "outputs": [],
   "source": [
    "driver.execute_script(\"document.body.style.zoom='25%'\")"
   ]
  },
  {
   "cell_type": "code",
   "execution_count": 131,
   "id": "a6215520",
   "metadata": {},
   "outputs": [],
   "source": [
    "data = driver.page_source"
   ]
  },
  {
   "cell_type": "code",
   "execution_count": 132,
   "id": "39418659",
   "metadata": {},
   "outputs": [],
   "source": [
    "soup = bs4.BeautifulSoup(data)"
   ]
  },
  {
   "cell_type": "code",
   "execution_count": 133,
   "id": "ad095720",
   "metadata": {},
   "outputs": [],
   "source": [
    "product10_score = soup.find_all('div',{'class':'flex items-center'})"
   ]
  },
  {
   "cell_type": "code",
   "execution_count": 134,
   "id": "acc731a1",
   "metadata": {},
   "outputs": [
    {
     "data": {
      "text/plain": [
       "['จำนวน 1มีสินค้าทั้งหมด 15 ชิ้น']"
      ]
     },
     "execution_count": 134,
     "metadata": {},
     "output_type": "execute_result"
    }
   ],
   "source": [
    "product10_score_list = []\n",
    "for product in product10_score:\n",
    "    text = product.text.strip()\n",
    "    if text:\n",
    "        product10_score_list.append(text)\n",
    "product10_score_list = product10_score_list[2]\n",
    "product10_score_list = product10_score_list.split('\\n')\n",
    "product10_score_list"
   ]
  },
  {
   "cell_type": "code",
   "execution_count": 135,
   "id": "0c288312",
   "metadata": {},
   "outputs": [],
   "source": [
    "driver.back()"
   ]
  },
  {
   "cell_type": "code",
   "execution_count": 136,
   "id": "6470b81e",
   "metadata": {},
   "outputs": [],
   "source": [
    "driver.execute_script(\"document.body.style.zoom='100%'\")"
   ]
  },
  {
   "cell_type": "code",
   "execution_count": 137,
   "id": "9a76fbf7",
   "metadata": {},
   "outputs": [],
   "source": [
    "product11 = driver.find_element(\"xpath\",'/html/body/div[1]/div/div[2]/div/div/div[2]/section/ul/li[11]/a/div/div')"
   ]
  },
  {
   "cell_type": "code",
   "execution_count": 138,
   "id": "06a404ad",
   "metadata": {},
   "outputs": [],
   "source": [
    "product11.click()"
   ]
  },
  {
   "cell_type": "code",
   "execution_count": 139,
   "id": "917fce41",
   "metadata": {},
   "outputs": [],
   "source": [
    "driver.execute_script(\"document.body.style.zoom='25%'\")"
   ]
  },
  {
   "cell_type": "code",
   "execution_count": 140,
   "id": "94d36eef",
   "metadata": {},
   "outputs": [],
   "source": [
    "data = driver.page_source"
   ]
  },
  {
   "cell_type": "code",
   "execution_count": 141,
   "id": "d4bd052f",
   "metadata": {},
   "outputs": [],
   "source": [
    "soup = bs4.BeautifulSoup(data)"
   ]
  },
  {
   "cell_type": "code",
   "execution_count": 142,
   "id": "b86b6778",
   "metadata": {},
   "outputs": [],
   "source": [
    "product11_score = soup.find_all('div',{'class':'flex items-center'})"
   ]
  },
  {
   "cell_type": "code",
   "execution_count": 143,
   "id": "a0d8d18c",
   "metadata": {},
   "outputs": [
    {
     "data": {
      "text/plain": [
       "['จำนวน 1มีสินค้าทั้งหมด 15 ชิ้น']"
      ]
     },
     "execution_count": 143,
     "metadata": {},
     "output_type": "execute_result"
    }
   ],
   "source": [
    "product11_score_list = []\n",
    "for product in product11_score:\n",
    "    text = product.text.strip()\n",
    "    if text:\n",
    "        product11_score_list.append(text)\n",
    "product11_score_list = product11_score_list[2]\n",
    "product11_score_list = product11_score_list.split('\\n')\n",
    "product11_score_list"
   ]
  },
  {
   "cell_type": "code",
   "execution_count": 144,
   "id": "b07f1340",
   "metadata": {},
   "outputs": [],
   "source": [
    "driver.back()"
   ]
  },
  {
   "cell_type": "code",
   "execution_count": 145,
   "id": "8425a9d8",
   "metadata": {},
   "outputs": [],
   "source": [
    "driver.execute_script(\"document.body.style.zoom='100%'\")"
   ]
  },
  {
   "cell_type": "code",
   "execution_count": 146,
   "id": "85c24808",
   "metadata": {},
   "outputs": [],
   "source": [
    "product12 = driver.find_element(\"xpath\",'/html/body/div[1]/div/div[2]/div/div/div[2]/section/ul/li[12]/a/div/div')"
   ]
  },
  {
   "cell_type": "code",
   "execution_count": 147,
   "id": "931dbaa7",
   "metadata": {},
   "outputs": [],
   "source": [
    "product12.click()"
   ]
  },
  {
   "cell_type": "code",
   "execution_count": 148,
   "id": "99de87d1",
   "metadata": {},
   "outputs": [],
   "source": [
    "driver.execute_script(\"document.body.style.zoom='25%'\")"
   ]
  },
  {
   "cell_type": "code",
   "execution_count": 149,
   "id": "1c4cf238",
   "metadata": {},
   "outputs": [],
   "source": [
    "data = driver.page_source"
   ]
  },
  {
   "cell_type": "code",
   "execution_count": 150,
   "id": "90582720",
   "metadata": {},
   "outputs": [],
   "source": [
    "soup = bs4.BeautifulSoup(data)"
   ]
  },
  {
   "cell_type": "code",
   "execution_count": 151,
   "id": "90fa42d8",
   "metadata": {},
   "outputs": [],
   "source": [
    "product12_score = soup.find_all('div',{'class':'flex items-center'})"
   ]
  },
  {
   "cell_type": "code",
   "execution_count": 152,
   "id": "4b980cd3",
   "metadata": {},
   "outputs": [
    {
     "data": {
      "text/plain": [
       "['จำนวน 1มีสินค้าทั้งหมด 10 ชิ้น']"
      ]
     },
     "execution_count": 152,
     "metadata": {},
     "output_type": "execute_result"
    }
   ],
   "source": [
    "product12_score_list = []\n",
    "for product in product12_score:\n",
    "    text = product.text.strip()\n",
    "    if text:\n",
    "        product12_score_list.append(text)\n",
    "product12_score_list = product12_score_list[2]\n",
    "product12_score_list = product12_score_list.split('\\n')\n",
    "product12_score_list"
   ]
  },
  {
   "cell_type": "code",
   "execution_count": 153,
   "id": "6b0d9627",
   "metadata": {},
   "outputs": [],
   "source": [
    "driver.back()"
   ]
  },
  {
   "cell_type": "code",
   "execution_count": 154,
   "id": "ee697816",
   "metadata": {},
   "outputs": [],
   "source": [
    "driver.execute_script(\"document.body.style.zoom='100%'\")"
   ]
  },
  {
   "cell_type": "code",
   "execution_count": 155,
   "id": "56934862",
   "metadata": {},
   "outputs": [],
   "source": [
    "product13 = driver.find_element(\"xpath\",'/html/body/div[1]/div/div[2]/div/div/div[2]/section/ul/li[13]/a/div/div')"
   ]
  },
  {
   "cell_type": "code",
   "execution_count": 156,
   "id": "ee86d07e",
   "metadata": {},
   "outputs": [],
   "source": [
    "product13.click()"
   ]
  },
  {
   "cell_type": "code",
   "execution_count": 157,
   "id": "23bc4aec",
   "metadata": {},
   "outputs": [],
   "source": [
    "driver.execute_script(\"document.body.style.zoom='25%'\")"
   ]
  },
  {
   "cell_type": "code",
   "execution_count": 158,
   "id": "92e42808",
   "metadata": {},
   "outputs": [],
   "source": [
    "data = driver.page_source"
   ]
  },
  {
   "cell_type": "code",
   "execution_count": 159,
   "id": "997734a3",
   "metadata": {},
   "outputs": [],
   "source": [
    "soup = bs4.BeautifulSoup(data)"
   ]
  },
  {
   "cell_type": "code",
   "execution_count": 160,
   "id": "7900fb17",
   "metadata": {},
   "outputs": [],
   "source": [
    "product13_score = soup.find_all('div',{'class':'flex items-center'})"
   ]
  },
  {
   "cell_type": "code",
   "execution_count": 161,
   "id": "075abf55",
   "metadata": {},
   "outputs": [
    {
     "data": {
      "text/plain": [
       "['จำนวน 1มีสินค้าทั้งหมด 10 ชิ้น']"
      ]
     },
     "execution_count": 161,
     "metadata": {},
     "output_type": "execute_result"
    }
   ],
   "source": [
    "product13_score_list = []\n",
    "for product in product13_score:\n",
    "    text = product.text.strip()\n",
    "    if text:\n",
    "        product13_score_list.append(text)\n",
    "product13_score_list = product13_score_list[2]\n",
    "product13_score_list = product13_score_list.split('\\n')\n",
    "product13_score_list"
   ]
  },
  {
   "cell_type": "code",
   "execution_count": 162,
   "id": "467cae7d",
   "metadata": {},
   "outputs": [],
   "source": [
    "driver.back()"
   ]
  },
  {
   "cell_type": "code",
   "execution_count": 163,
   "id": "5111183a",
   "metadata": {},
   "outputs": [],
   "source": [
    "driver.execute_script(\"document.body.style.zoom='100%'\")"
   ]
  },
  {
   "cell_type": "code",
   "execution_count": 164,
   "id": "1e89ee2e",
   "metadata": {},
   "outputs": [],
   "source": [
    "product14 = driver.find_element(\"xpath\",'/html/body/div[1]/div/div[2]/div/div/div[2]/section/ul/li[14]/a/div/div')"
   ]
  },
  {
   "cell_type": "code",
   "execution_count": 165,
   "id": "9c28de60",
   "metadata": {},
   "outputs": [],
   "source": [
    "product14.click()"
   ]
  },
  {
   "cell_type": "code",
   "execution_count": 166,
   "id": "a5445023",
   "metadata": {},
   "outputs": [],
   "source": [
    "driver.execute_script(\"document.body.style.zoom='25%'\")"
   ]
  },
  {
   "cell_type": "code",
   "execution_count": 167,
   "id": "fac6e690",
   "metadata": {},
   "outputs": [],
   "source": [
    "data = driver.page_source"
   ]
  },
  {
   "cell_type": "code",
   "execution_count": 168,
   "id": "c524632c",
   "metadata": {},
   "outputs": [],
   "source": [
    "soup = bs4.BeautifulSoup(data)"
   ]
  },
  {
   "cell_type": "code",
   "execution_count": 169,
   "id": "e2191186",
   "metadata": {},
   "outputs": [],
   "source": [
    "product14_score = soup.find_all('div',{'class':'flex items-center'})"
   ]
  },
  {
   "cell_type": "code",
   "execution_count": 170,
   "id": "03ce8526",
   "metadata": {},
   "outputs": [
    {
     "data": {
      "text/plain": [
       "['จำนวน 1มีสินค้าทั้งหมด 40 ชิ้น']"
      ]
     },
     "execution_count": 170,
     "metadata": {},
     "output_type": "execute_result"
    }
   ],
   "source": [
    "product14_score_list = []\n",
    "for product in product14_score:\n",
    "    text = product.text.strip()\n",
    "    if text:\n",
    "        product14_score_list.append(text)\n",
    "product14_score_list = product14_score_list[2]\n",
    "product14_score_list = product14_score_list.split('\\n')\n",
    "product14_score_list"
   ]
  },
  {
   "cell_type": "code",
   "execution_count": 171,
   "id": "8df16514",
   "metadata": {},
   "outputs": [],
   "source": [
    "driver.back()"
   ]
  },
  {
   "cell_type": "code",
   "execution_count": 172,
   "id": "ee36c38b",
   "metadata": {},
   "outputs": [],
   "source": [
    "driver.execute_script(\"document.body.style.zoom='100%'\")"
   ]
  },
  {
   "cell_type": "code",
   "execution_count": 173,
   "id": "5045fc14",
   "metadata": {},
   "outputs": [],
   "source": [
    "product15 = driver.find_element(\"xpath\",'/html/body/div[1]/div/div[2]/div/div/div[2]/section/ul/li[15]/a/div/div')"
   ]
  },
  {
   "cell_type": "code",
   "execution_count": 174,
   "id": "6f970e2c",
   "metadata": {},
   "outputs": [],
   "source": [
    "product15.click()"
   ]
  },
  {
   "cell_type": "code",
   "execution_count": 175,
   "id": "10c8a5da",
   "metadata": {},
   "outputs": [],
   "source": [
    "driver.execute_script(\"document.body.style.zoom='25%'\")"
   ]
  },
  {
   "cell_type": "code",
   "execution_count": 176,
   "id": "0fc06b08",
   "metadata": {},
   "outputs": [],
   "source": [
    "data = driver.page_source"
   ]
  },
  {
   "cell_type": "code",
   "execution_count": 177,
   "id": "8e231026",
   "metadata": {},
   "outputs": [],
   "source": [
    "soup = bs4.BeautifulSoup(data)"
   ]
  },
  {
   "cell_type": "code",
   "execution_count": 178,
   "id": "44617e71",
   "metadata": {},
   "outputs": [],
   "source": [
    "product15_score = soup.find_all('div',{'class':'flex items-center'})"
   ]
  },
  {
   "cell_type": "code",
   "execution_count": 179,
   "id": "3666caf7",
   "metadata": {},
   "outputs": [
    {
     "data": {
      "text/plain": [
       "['จำนวน 1มีสินค้าทั้งหมด 40 ชิ้น']"
      ]
     },
     "execution_count": 179,
     "metadata": {},
     "output_type": "execute_result"
    }
   ],
   "source": [
    "product15_score_list = []\n",
    "for product in product15_score:\n",
    "    text = product.text.strip()\n",
    "    if text:\n",
    "        product15_score_list.append(text)\n",
    "product15_score_list = product15_score_list[2]\n",
    "product15_score_list = product15_score_list.split('\\n')\n",
    "product15_score_list"
   ]
  },
  {
   "cell_type": "code",
   "execution_count": 180,
   "id": "490ac5b0",
   "metadata": {},
   "outputs": [],
   "source": [
    "driver.back()"
   ]
  },
  {
   "cell_type": "code",
   "execution_count": 181,
   "id": "9d59ce3c",
   "metadata": {},
   "outputs": [],
   "source": [
    "driver.execute_script(\"document.body.style.zoom='100%'\")"
   ]
  },
  {
   "cell_type": "code",
   "execution_count": 182,
   "id": "8eb9817a",
   "metadata": {},
   "outputs": [],
   "source": [
    "product16 = driver.find_element(\"xpath\",'/html/body/div[1]/div/div[2]/div/div/div[2]/section/ul/li[16]/a/div/div')"
   ]
  },
  {
   "cell_type": "code",
   "execution_count": 183,
   "id": "80f922e3",
   "metadata": {},
   "outputs": [],
   "source": [
    "product16.click()"
   ]
  },
  {
   "cell_type": "code",
   "execution_count": 184,
   "id": "df71067c",
   "metadata": {},
   "outputs": [],
   "source": [
    "driver.execute_script(\"document.body.style.zoom='25%'\")"
   ]
  },
  {
   "cell_type": "code",
   "execution_count": 185,
   "id": "f5274f13",
   "metadata": {},
   "outputs": [],
   "source": [
    "data = driver.page_source"
   ]
  },
  {
   "cell_type": "code",
   "execution_count": 186,
   "id": "ad2d52b1",
   "metadata": {},
   "outputs": [],
   "source": [
    "soup = bs4.BeautifulSoup(data)"
   ]
  },
  {
   "cell_type": "code",
   "execution_count": 187,
   "id": "1af8be1b",
   "metadata": {},
   "outputs": [],
   "source": [
    "product16_score = soup.find_all('div',{'class':'flex items-center'})"
   ]
  },
  {
   "cell_type": "code",
   "execution_count": 188,
   "id": "533c22ab",
   "metadata": {},
   "outputs": [
    {
     "data": {
      "text/plain": [
       "['จำนวน 1มีสินค้าทั้งหมด 40 ชิ้น']"
      ]
     },
     "execution_count": 188,
     "metadata": {},
     "output_type": "execute_result"
    }
   ],
   "source": [
    "product16_score_list = []\n",
    "for product in product16_score:\n",
    "    text = product.text.strip()\n",
    "    if text:\n",
    "        product16_score_list.append(text)\n",
    "product16_score_list = product16_score_list[2]\n",
    "product16_score_list = product16_score_list.split('\\n')\n",
    "product16_score_list"
   ]
  },
  {
   "cell_type": "code",
   "execution_count": 189,
   "id": "cf3ac162",
   "metadata": {},
   "outputs": [],
   "source": [
    "driver.back()"
   ]
  },
  {
   "cell_type": "code",
   "execution_count": 190,
   "id": "ec81b49b",
   "metadata": {},
   "outputs": [],
   "source": [
    "driver.execute_script(\"document.body.style.zoom='100%'\")"
   ]
  },
  {
   "cell_type": "code",
   "execution_count": 191,
   "id": "aca808ad",
   "metadata": {},
   "outputs": [],
   "source": [
    "product17 = driver.find_element(\"xpath\",'/html/body/div[1]/div/div[2]/div/div/div[2]/section/ul/li[17]/a/div/div')"
   ]
  },
  {
   "cell_type": "code",
   "execution_count": 192,
   "id": "bf83287e",
   "metadata": {},
   "outputs": [],
   "source": [
    "product17.click()"
   ]
  },
  {
   "cell_type": "code",
   "execution_count": 193,
   "id": "a7459349",
   "metadata": {},
   "outputs": [],
   "source": [
    "driver.execute_script(\"document.body.style.zoom='25%'\")"
   ]
  },
  {
   "cell_type": "code",
   "execution_count": 194,
   "id": "92b8bcdc",
   "metadata": {},
   "outputs": [],
   "source": [
    "data = driver.page_source"
   ]
  },
  {
   "cell_type": "code",
   "execution_count": 195,
   "id": "7efad4ba",
   "metadata": {},
   "outputs": [],
   "source": [
    "soup = bs4.BeautifulSoup(data)"
   ]
  },
  {
   "cell_type": "code",
   "execution_count": 196,
   "id": "2ef5276f",
   "metadata": {},
   "outputs": [],
   "source": [
    "product17_score = soup.find_all('div',{'class':'flex items-center'})"
   ]
  },
  {
   "cell_type": "code",
   "execution_count": 197,
   "id": "57781bd9",
   "metadata": {},
   "outputs": [
    {
     "data": {
      "text/plain": [
       "['จำนวน 1มีสินค้าทั้งหมด 50 ชิ้น']"
      ]
     },
     "execution_count": 197,
     "metadata": {},
     "output_type": "execute_result"
    }
   ],
   "source": [
    "product17_score_list = []\n",
    "for product in product17_score:\n",
    "    text = product.text.strip()\n",
    "    if text:\n",
    "        product17_score_list.append(text)\n",
    "product17_score_list = product17_score_list[2]\n",
    "product17_score_list = product17_score_list.split('\\n')\n",
    "product17_score_list"
   ]
  },
  {
   "cell_type": "code",
   "execution_count": 198,
   "id": "f4993002",
   "metadata": {},
   "outputs": [],
   "source": [
    "driver.back()"
   ]
  },
  {
   "cell_type": "code",
   "execution_count": 199,
   "id": "674304ce",
   "metadata": {},
   "outputs": [],
   "source": [
    "driver.execute_script(\"document.body.style.zoom='100%'\")"
   ]
  },
  {
   "cell_type": "code",
   "execution_count": 200,
   "id": "caa61be9",
   "metadata": {},
   "outputs": [],
   "source": [
    "product18 = driver.find_element(\"xpath\",'/html/body/div[1]/div/div[2]/div[1]/div/div[2]/section/ul/li[18]/a/div/div')"
   ]
  },
  {
   "cell_type": "code",
   "execution_count": 201,
   "id": "c50d95a1",
   "metadata": {},
   "outputs": [],
   "source": [
    "product18.click()"
   ]
  },
  {
   "cell_type": "code",
   "execution_count": 202,
   "id": "4a197917",
   "metadata": {},
   "outputs": [],
   "source": [
    "driver.execute_script(\"document.body.style.zoom='25%'\")"
   ]
  },
  {
   "cell_type": "code",
   "execution_count": 203,
   "id": "a711ba95",
   "metadata": {},
   "outputs": [],
   "source": [
    "data = driver.page_source"
   ]
  },
  {
   "cell_type": "code",
   "execution_count": 204,
   "id": "91f9044f",
   "metadata": {},
   "outputs": [],
   "source": [
    "soup = bs4.BeautifulSoup(data)"
   ]
  },
  {
   "cell_type": "code",
   "execution_count": 205,
   "id": "3a559293",
   "metadata": {},
   "outputs": [],
   "source": [
    "product18_score = soup.find_all('div',{'class':'flex items-center'})"
   ]
  },
  {
   "cell_type": "code",
   "execution_count": 206,
   "id": "85469ec2",
   "metadata": {},
   "outputs": [
    {
     "data": {
      "text/plain": [
       "['จำนวน 1มีสินค้าทั้งหมด 4 ชิ้น']"
      ]
     },
     "execution_count": 206,
     "metadata": {},
     "output_type": "execute_result"
    }
   ],
   "source": [
    "product18_score_list = []\n",
    "for product in product18_score:\n",
    "    text = product.text.strip()\n",
    "    if text:\n",
    "        product18_score_list.append(text)\n",
    "product18_score_list = product18_score_list[2]\n",
    "product18_score_list = product18_score_list.split('\\n')\n",
    "product18_score_list"
   ]
  },
  {
   "cell_type": "code",
   "execution_count": 207,
   "id": "f2426114",
   "metadata": {},
   "outputs": [],
   "source": [
    "driver.back()"
   ]
  },
  {
   "cell_type": "code",
   "execution_count": 208,
   "id": "eb3ecc4d",
   "metadata": {},
   "outputs": [],
   "source": [
    "driver.execute_script(\"document.body.style.zoom='100%'\")"
   ]
  },
  {
   "cell_type": "code",
   "execution_count": 209,
   "id": "5803d495",
   "metadata": {},
   "outputs": [],
   "source": [
    "product19 = driver.find_element(\"xpath\",'/html/body/div[1]/div/div[2]/div/div/div[2]/section/ul/li[19]/a/div/div')"
   ]
  },
  {
   "cell_type": "code",
   "execution_count": 210,
   "id": "314b64be",
   "metadata": {},
   "outputs": [],
   "source": [
    "product19.click()"
   ]
  },
  {
   "cell_type": "code",
   "execution_count": 211,
   "id": "0e14c35d",
   "metadata": {},
   "outputs": [],
   "source": [
    "driver.execute_script(\"document.body.style.zoom='25%'\")"
   ]
  },
  {
   "cell_type": "code",
   "execution_count": 212,
   "id": "bb14954b",
   "metadata": {},
   "outputs": [],
   "source": [
    "data = driver.page_source"
   ]
  },
  {
   "cell_type": "code",
   "execution_count": 213,
   "id": "1b26ac27",
   "metadata": {},
   "outputs": [],
   "source": [
    "soup = bs4.BeautifulSoup(data)"
   ]
  },
  {
   "cell_type": "code",
   "execution_count": 214,
   "id": "7f09c728",
   "metadata": {},
   "outputs": [],
   "source": [
    "product19_score = soup.find_all('div',{'class':'flex items-center'})"
   ]
  },
  {
   "cell_type": "code",
   "execution_count": 215,
   "id": "52d5f6e5",
   "metadata": {},
   "outputs": [
    {
     "data": {
      "text/plain": [
       "['จำนวน 1มีสินค้าทั้งหมด 4 ชิ้น']"
      ]
     },
     "execution_count": 215,
     "metadata": {},
     "output_type": "execute_result"
    }
   ],
   "source": [
    "product19_score_list = []\n",
    "for product in product19_score:\n",
    "    text = product.text.strip()\n",
    "    if text:\n",
    "        product19_score_list.append(text)\n",
    "product19_score_list = product19_score_list[2]\n",
    "product19_score_list = product19_score_list.split('\\n')\n",
    "product19_score_list"
   ]
  },
  {
   "cell_type": "code",
   "execution_count": 216,
   "id": "8c68d3f5",
   "metadata": {},
   "outputs": [],
   "source": [
    "driver.back()"
   ]
  },
  {
   "cell_type": "code",
   "execution_count": 217,
   "id": "3f6a2071",
   "metadata": {},
   "outputs": [],
   "source": [
    "driver.execute_script(\"document.body.style.zoom='100%'\")"
   ]
  },
  {
   "cell_type": "code",
   "execution_count": 218,
   "id": "53bf0546",
   "metadata": {},
   "outputs": [],
   "source": [
    "product20 = driver.find_element(\"xpath\",'/html/body/div[1]/div/div[2]/div/div/div[2]/section/ul/li[20]/a/div/div')"
   ]
  },
  {
   "cell_type": "code",
   "execution_count": 219,
   "id": "0bed45a2",
   "metadata": {},
   "outputs": [],
   "source": [
    "product20.click()"
   ]
  },
  {
   "cell_type": "code",
   "execution_count": 220,
   "id": "7a399d98",
   "metadata": {},
   "outputs": [],
   "source": [
    "driver.execute_script(\"document.body.style.zoom='25%'\")"
   ]
  },
  {
   "cell_type": "code",
   "execution_count": 221,
   "id": "de433772",
   "metadata": {},
   "outputs": [],
   "source": [
    "data = driver.page_source"
   ]
  },
  {
   "cell_type": "code",
   "execution_count": 222,
   "id": "1a9a9b7b",
   "metadata": {},
   "outputs": [],
   "source": [
    "soup = bs4.BeautifulSoup(data)"
   ]
  },
  {
   "cell_type": "code",
   "execution_count": 223,
   "id": "a1225540",
   "metadata": {},
   "outputs": [],
   "source": [
    "product20_score = soup.find_all('div',{'class':'flex items-center'})"
   ]
  },
  {
   "cell_type": "code",
   "execution_count": 224,
   "id": "61cfc2e9",
   "metadata": {},
   "outputs": [
    {
     "data": {
      "text/plain": [
       "['จำนวน 1มีสินค้าทั้งหมด 8 ชิ้น']"
      ]
     },
     "execution_count": 224,
     "metadata": {},
     "output_type": "execute_result"
    }
   ],
   "source": [
    "product20_score_list = []\n",
    "for product in product20_score:\n",
    "    text = product.text.strip()\n",
    "    if text:\n",
    "        product20_score_list.append(text)\n",
    "product20_score_list = product20_score_list[2]\n",
    "product20_score_list = product20_score_list.split('\\n')\n",
    "product20_score_list"
   ]
  },
  {
   "cell_type": "code",
   "execution_count": 225,
   "id": "0a70c46c",
   "metadata": {},
   "outputs": [],
   "source": [
    "driver.back()"
   ]
  },
  {
   "cell_type": "code",
   "execution_count": 226,
   "id": "21f9563e",
   "metadata": {},
   "outputs": [],
   "source": [
    "driver.execute_script(\"document.body.style.zoom='100%'\")"
   ]
  },
  {
   "cell_type": "code",
   "execution_count": 227,
   "id": "8158702b",
   "metadata": {},
   "outputs": [],
   "source": [
    "product21 = driver.find_element(\"xpath\",'/html/body/div[1]/div/div[2]/div/div/div[2]/section/ul/li[21]/a/div/div')"
   ]
  },
  {
   "cell_type": "code",
   "execution_count": 228,
   "id": "1d8d24f7",
   "metadata": {},
   "outputs": [],
   "source": [
    "product21.click()"
   ]
  },
  {
   "cell_type": "code",
   "execution_count": 229,
   "id": "bc809680",
   "metadata": {},
   "outputs": [],
   "source": [
    "driver.execute_script(\"document.body.style.zoom='25%'\")"
   ]
  },
  {
   "cell_type": "code",
   "execution_count": 230,
   "id": "c8b6a5c0",
   "metadata": {},
   "outputs": [],
   "source": [
    "data = driver.page_source"
   ]
  },
  {
   "cell_type": "code",
   "execution_count": 231,
   "id": "8580453b",
   "metadata": {},
   "outputs": [],
   "source": [
    "soup = bs4.BeautifulSoup(data)"
   ]
  },
  {
   "cell_type": "code",
   "execution_count": 232,
   "id": "f3e1acb6",
   "metadata": {},
   "outputs": [],
   "source": [
    "product21_score = soup.find_all('div',{'class':'flex items-center'})"
   ]
  },
  {
   "cell_type": "code",
   "execution_count": 233,
   "id": "1caea803",
   "metadata": {},
   "outputs": [
    {
     "data": {
      "text/plain": [
       "['จำนวน 1มีสินค้าทั้งหมด 8 ชิ้น']"
      ]
     },
     "execution_count": 233,
     "metadata": {},
     "output_type": "execute_result"
    }
   ],
   "source": [
    "product21_score_list = []\n",
    "for product in product21_score:\n",
    "    text = product.text.strip()\n",
    "    if text:\n",
    "        product21_score_list.append(text)\n",
    "product21_score_list = product21_score_list[2]\n",
    "product21_score_list = product21_score_list.split('\\n')\n",
    "product21_score_list"
   ]
  },
  {
   "cell_type": "code",
   "execution_count": 234,
   "id": "f969406d",
   "metadata": {},
   "outputs": [],
   "source": [
    "driver.back()"
   ]
  },
  {
   "cell_type": "code",
   "execution_count": 235,
   "id": "abec7874",
   "metadata": {},
   "outputs": [],
   "source": [
    "driver.execute_script(\"document.body.style.zoom='100%'\")"
   ]
  },
  {
   "cell_type": "code",
   "execution_count": 236,
   "id": "ae3f3343",
   "metadata": {},
   "outputs": [],
   "source": [
    "product22 = driver.find_element(\"xpath\",'/html/body/div[1]/div/div[2]/div/div/div[2]/section/ul/li[22]/a/div/div')"
   ]
  },
  {
   "cell_type": "code",
   "execution_count": 237,
   "id": "07445584",
   "metadata": {},
   "outputs": [],
   "source": [
    "product22.click()"
   ]
  },
  {
   "cell_type": "code",
   "execution_count": 238,
   "id": "fe5f83d1",
   "metadata": {},
   "outputs": [],
   "source": [
    "driver.execute_script(\"document.body.style.zoom='25%'\")"
   ]
  },
  {
   "cell_type": "code",
   "execution_count": 239,
   "id": "ee0ba774",
   "metadata": {},
   "outputs": [],
   "source": [
    "data = driver.page_source"
   ]
  },
  {
   "cell_type": "code",
   "execution_count": 240,
   "id": "1a3755c0",
   "metadata": {},
   "outputs": [],
   "source": [
    "soup = bs4.BeautifulSoup(data)"
   ]
  },
  {
   "cell_type": "code",
   "execution_count": 241,
   "id": "7e931858",
   "metadata": {},
   "outputs": [],
   "source": [
    "product22_score = soup.find_all('div',{'class':'flex items-center'})"
   ]
  },
  {
   "cell_type": "code",
   "execution_count": 242,
   "id": "12f0306c",
   "metadata": {},
   "outputs": [
    {
     "data": {
      "text/plain": [
       "['จำนวน 1มีสินค้าทั้งหมด 9 ชิ้น']"
      ]
     },
     "execution_count": 242,
     "metadata": {},
     "output_type": "execute_result"
    }
   ],
   "source": [
    "product22_score_list = []\n",
    "for product in product22_score:\n",
    "    text = product.text.strip()\n",
    "    if text:\n",
    "        product22_score_list.append(text)\n",
    "product22_score_list = product22_score_list[2]\n",
    "product22_score_list = product22_score_list.split('\\n')\n",
    "product22_score_list"
   ]
  },
  {
   "cell_type": "code",
   "execution_count": 243,
   "id": "af648e05",
   "metadata": {},
   "outputs": [],
   "source": [
    "driver.back()"
   ]
  },
  {
   "cell_type": "code",
   "execution_count": 244,
   "id": "3aaa5a29",
   "metadata": {},
   "outputs": [],
   "source": [
    "driver.execute_script(\"document.body.style.zoom='100%'\")"
   ]
  },
  {
   "cell_type": "code",
   "execution_count": 245,
   "id": "2b468a2c",
   "metadata": {},
   "outputs": [],
   "source": [
    "product23 = driver.find_element(\"xpath\",'/html/body/div[1]/div/div[2]/div[1]/div/div[2]/section/ul/li[23]/a/div/div')"
   ]
  },
  {
   "cell_type": "code",
   "execution_count": 246,
   "id": "5fd84df7",
   "metadata": {},
   "outputs": [],
   "source": [
    "product23.click()"
   ]
  },
  {
   "cell_type": "code",
   "execution_count": 247,
   "id": "7d292d8f",
   "metadata": {},
   "outputs": [],
   "source": [
    "driver.execute_script(\"document.body.style.zoom='25%'\")"
   ]
  },
  {
   "cell_type": "code",
   "execution_count": 248,
   "id": "9d3aa629",
   "metadata": {},
   "outputs": [],
   "source": [
    "data = driver.page_source"
   ]
  },
  {
   "cell_type": "code",
   "execution_count": 249,
   "id": "64e1270c",
   "metadata": {},
   "outputs": [],
   "source": [
    "soup = bs4.BeautifulSoup(data)"
   ]
  },
  {
   "cell_type": "code",
   "execution_count": 250,
   "id": "0b78499a",
   "metadata": {},
   "outputs": [],
   "source": [
    "product23_score = soup.find_all('div',{'class':'flex items-center'})"
   ]
  },
  {
   "cell_type": "code",
   "execution_count": 251,
   "id": "1eaa59e8",
   "metadata": {},
   "outputs": [
    {
     "data": {
      "text/plain": [
       "['จำนวน 1มีสินค้าทั้งหมด 9 ชิ้น']"
      ]
     },
     "execution_count": 251,
     "metadata": {},
     "output_type": "execute_result"
    }
   ],
   "source": [
    "product23_score_list = []\n",
    "for product in product23_score:\n",
    "    text = product.text.strip()\n",
    "    if text:\n",
    "        product23_score_list.append(text)\n",
    "product23_score_list = product23_score_list[2]\n",
    "product23_score_list = product23_score_list.split('\\n')\n",
    "product23_score_list"
   ]
  },
  {
   "cell_type": "code",
   "execution_count": 252,
   "id": "63a08934",
   "metadata": {},
   "outputs": [],
   "source": [
    "driver.back()"
   ]
  },
  {
   "cell_type": "code",
   "execution_count": 253,
   "id": "247352ba",
   "metadata": {},
   "outputs": [],
   "source": [
    "driver.execute_script(\"document.body.style.zoom='100%'\")"
   ]
  },
  {
   "cell_type": "code",
   "execution_count": 254,
   "id": "c506c77a",
   "metadata": {},
   "outputs": [],
   "source": [
    "product24 = driver.find_element(\"xpath\",'/html/body/div[1]/div/div[2]/div/div/div[2]/section/ul/li[24]/a/div/div')"
   ]
  },
  {
   "cell_type": "code",
   "execution_count": 255,
   "id": "ad5e29c5",
   "metadata": {},
   "outputs": [],
   "source": [
    "product24.click()"
   ]
  },
  {
   "cell_type": "code",
   "execution_count": 256,
   "id": "a4b05fb7",
   "metadata": {},
   "outputs": [],
   "source": [
    "driver.execute_script(\"document.body.style.zoom='25%'\")"
   ]
  },
  {
   "cell_type": "code",
   "execution_count": 257,
   "id": "552e775d",
   "metadata": {},
   "outputs": [],
   "source": [
    "data = driver.page_source"
   ]
  },
  {
   "cell_type": "code",
   "execution_count": 258,
   "id": "a6110030",
   "metadata": {},
   "outputs": [],
   "source": [
    "soup = bs4.BeautifulSoup(data)"
   ]
  },
  {
   "cell_type": "code",
   "execution_count": 259,
   "id": "dfcdefbb",
   "metadata": {},
   "outputs": [],
   "source": [
    "product24_score = soup.find_all('div',{'class':'flex items-center'})"
   ]
  },
  {
   "cell_type": "code",
   "execution_count": 260,
   "id": "684a7593",
   "metadata": {},
   "outputs": [
    {
     "data": {
      "text/plain": [
       "['จำนวน 1มีสินค้าทั้งหมด 89 ชิ้น']"
      ]
     },
     "execution_count": 260,
     "metadata": {},
     "output_type": "execute_result"
    }
   ],
   "source": [
    "product24_score_list = []\n",
    "for product in product24_score:\n",
    "    text = product.text.strip()\n",
    "    if text:\n",
    "        product24_score_list.append(text)\n",
    "product24_score_list = product24_score_list[2]\n",
    "product24_score_list = product24_score_list.split('\\n')\n",
    "product24_score_list"
   ]
  },
  {
   "cell_type": "code",
   "execution_count": 261,
   "id": "d68ebd1a",
   "metadata": {},
   "outputs": [],
   "source": [
    "driver.back()"
   ]
  },
  {
   "cell_type": "code",
   "execution_count": 262,
   "id": "70654f09",
   "metadata": {},
   "outputs": [],
   "source": [
    "driver.execute_script(\"document.body.style.zoom='100%'\")"
   ]
  },
  {
   "cell_type": "code",
   "execution_count": 263,
   "id": "704a35e2",
   "metadata": {},
   "outputs": [],
   "source": [
    "product25 = driver.find_element(\"xpath\",'/html/body/div[1]/div/div[2]/div/div/div[2]/section/ul/li[25]/a/div/div')"
   ]
  },
  {
   "cell_type": "code",
   "execution_count": 264,
   "id": "5f50f1b8",
   "metadata": {},
   "outputs": [],
   "source": [
    "product25.click()"
   ]
  },
  {
   "cell_type": "code",
   "execution_count": 265,
   "id": "7359defd",
   "metadata": {},
   "outputs": [],
   "source": [
    "driver.execute_script(\"document.body.style.zoom='25%'\")"
   ]
  },
  {
   "cell_type": "code",
   "execution_count": 266,
   "id": "d8fd9184",
   "metadata": {},
   "outputs": [],
   "source": [
    "data = driver.page_source"
   ]
  },
  {
   "cell_type": "code",
   "execution_count": 267,
   "id": "dacc7ab3",
   "metadata": {},
   "outputs": [],
   "source": [
    "soup = bs4.BeautifulSoup(data)"
   ]
  },
  {
   "cell_type": "code",
   "execution_count": 268,
   "id": "d1356935",
   "metadata": {},
   "outputs": [],
   "source": [
    "product25_score = soup.find_all('div',{'class':'flex items-center'})"
   ]
  },
  {
   "cell_type": "code",
   "execution_count": 269,
   "id": "eefa7ba2",
   "metadata": {},
   "outputs": [
    {
     "data": {
      "text/plain": [
       "['จำนวน 1มีสินค้าทั้งหมด 89 ชิ้น']"
      ]
     },
     "execution_count": 269,
     "metadata": {},
     "output_type": "execute_result"
    }
   ],
   "source": [
    "product25_score_list = []\n",
    "for product in product25_score:\n",
    "    text = product.text.strip()\n",
    "    if text:\n",
    "        product25_score_list.append(text)\n",
    "product25_score_list = product25_score_list[2]\n",
    "product25_score_list = product25_score_list.split('\\n')\n",
    "product25_score_list"
   ]
  },
  {
   "cell_type": "code",
   "execution_count": 270,
   "id": "ddf61bc6",
   "metadata": {},
   "outputs": [],
   "source": [
    "driver.back()"
   ]
  },
  {
   "cell_type": "code",
   "execution_count": 271,
   "id": "53ed0b47",
   "metadata": {},
   "outputs": [],
   "source": [
    "driver.execute_script(\"document.body.style.zoom='100%'\")"
   ]
  },
  {
   "cell_type": "code",
   "execution_count": 272,
   "id": "a521b9ef",
   "metadata": {},
   "outputs": [],
   "source": [
    "product26 = driver.find_element(\"xpath\",'/html/body/div[1]/div/div[2]/div/div/div[2]/section/ul/li[26]/a/div/div')"
   ]
  },
  {
   "cell_type": "code",
   "execution_count": 273,
   "id": "1eab833b",
   "metadata": {},
   "outputs": [],
   "source": [
    "product26.click()"
   ]
  },
  {
   "cell_type": "code",
   "execution_count": 274,
   "id": "904566d2",
   "metadata": {},
   "outputs": [],
   "source": [
    "driver.execute_script(\"document.body.style.zoom='25%'\")"
   ]
  },
  {
   "cell_type": "code",
   "execution_count": 275,
   "id": "91656fc0",
   "metadata": {},
   "outputs": [],
   "source": [
    "data = driver.page_source"
   ]
  },
  {
   "cell_type": "code",
   "execution_count": 276,
   "id": "8d02f8a2",
   "metadata": {},
   "outputs": [],
   "source": [
    "soup = bs4.BeautifulSoup(data)"
   ]
  },
  {
   "cell_type": "code",
   "execution_count": 277,
   "id": "8bd42e9b",
   "metadata": {},
   "outputs": [],
   "source": [
    "product26_score = soup.find_all('div',{'class':'flex items-center'})"
   ]
  },
  {
   "cell_type": "code",
   "execution_count": 278,
   "id": "c7ab76b2",
   "metadata": {},
   "outputs": [
    {
     "data": {
      "text/plain": [
       "['จำนวน 1มีสินค้าทั้งหมด 2 ชิ้น']"
      ]
     },
     "execution_count": 278,
     "metadata": {},
     "output_type": "execute_result"
    }
   ],
   "source": [
    "product26_score_list = []\n",
    "for product in product26_score:\n",
    "    text = product.text.strip()\n",
    "    if text:\n",
    "        product26_score_list.append(text)\n",
    "product26_score_list = product26_score_list[2]\n",
    "product26_score_list = product26_score_list.split('\\n')\n",
    "product26_score_list"
   ]
  },
  {
   "cell_type": "code",
   "execution_count": 279,
   "id": "6db8749c",
   "metadata": {},
   "outputs": [],
   "source": [
    "driver.back()"
   ]
  },
  {
   "cell_type": "code",
   "execution_count": 280,
   "id": "078a574d",
   "metadata": {},
   "outputs": [],
   "source": [
    "driver.execute_script(\"document.body.style.zoom='100%'\")"
   ]
  },
  {
   "cell_type": "code",
   "execution_count": 281,
   "id": "de8bb8b0",
   "metadata": {},
   "outputs": [],
   "source": [
    "product27 = driver.find_element(\"xpath\",'/html/body/div[1]/div/div[2]/div/div/div[2]/section/ul/li[27]/a/div/div')"
   ]
  },
  {
   "cell_type": "code",
   "execution_count": 282,
   "id": "c107a85e",
   "metadata": {},
   "outputs": [],
   "source": [
    "product27.click()"
   ]
  },
  {
   "cell_type": "code",
   "execution_count": 283,
   "id": "1a8e3832",
   "metadata": {},
   "outputs": [],
   "source": [
    "driver.execute_script(\"document.body.style.zoom='25%'\")"
   ]
  },
  {
   "cell_type": "code",
   "execution_count": 284,
   "id": "f62067db",
   "metadata": {},
   "outputs": [],
   "source": [
    "data = driver.page_source"
   ]
  },
  {
   "cell_type": "code",
   "execution_count": 285,
   "id": "a6aeda2c",
   "metadata": {},
   "outputs": [],
   "source": [
    "soup = bs4.BeautifulSoup(data)"
   ]
  },
  {
   "cell_type": "code",
   "execution_count": 286,
   "id": "780527e8",
   "metadata": {},
   "outputs": [],
   "source": [
    "product27_score = soup.find_all('div',{'class':'flex items-center'})"
   ]
  },
  {
   "cell_type": "code",
   "execution_count": 287,
   "id": "b5f840e0",
   "metadata": {},
   "outputs": [
    {
     "data": {
      "text/plain": [
       "['จำนวน 1มีสินค้าทั้งหมด 2 ชิ้น']"
      ]
     },
     "execution_count": 287,
     "metadata": {},
     "output_type": "execute_result"
    }
   ],
   "source": [
    "product27_score_list = []\n",
    "for product in product27_score:\n",
    "    text = product.text.strip()\n",
    "    if text:\n",
    "        product27_score_list.append(text)\n",
    "product27_score_list = product27_score_list[2]\n",
    "product27_score_list = product27_score_list.split('\\n')\n",
    "product27_score_list"
   ]
  },
  {
   "cell_type": "code",
   "execution_count": 288,
   "id": "6de3f989",
   "metadata": {},
   "outputs": [],
   "source": [
    "driver.back()"
   ]
  },
  {
   "cell_type": "code",
   "execution_count": 289,
   "id": "bf61364b",
   "metadata": {},
   "outputs": [],
   "source": [
    "driver.execute_script(\"document.body.style.zoom='100%'\")"
   ]
  },
  {
   "cell_type": "code",
   "execution_count": 290,
   "id": "a70523e6",
   "metadata": {},
   "outputs": [],
   "source": [
    "product28 = driver.find_element(\"xpath\",'/html/body/div[1]/div/div[2]/div/div/div[2]/section/ul/li[28]/a/div/div')"
   ]
  },
  {
   "cell_type": "code",
   "execution_count": 291,
   "id": "344784ef",
   "metadata": {},
   "outputs": [],
   "source": [
    "product28.click()"
   ]
  },
  {
   "cell_type": "code",
   "execution_count": 292,
   "id": "1aa56b0b",
   "metadata": {},
   "outputs": [],
   "source": [
    "driver.execute_script(\"document.body.style.zoom='25%'\")"
   ]
  },
  {
   "cell_type": "code",
   "execution_count": 294,
   "id": "ef9158b3",
   "metadata": {},
   "outputs": [],
   "source": [
    "data = driver.page_source"
   ]
  },
  {
   "cell_type": "code",
   "execution_count": 295,
   "id": "2bef7c4d",
   "metadata": {},
   "outputs": [],
   "source": [
    "soup = bs4.BeautifulSoup(data)"
   ]
  },
  {
   "cell_type": "code",
   "execution_count": 296,
   "id": "b7f274bc",
   "metadata": {},
   "outputs": [],
   "source": [
    "product28_score = soup.find_all('div',{'class':'flex items-center'})"
   ]
  },
  {
   "cell_type": "code",
   "execution_count": 297,
   "id": "741b57c2",
   "metadata": {},
   "outputs": [
    {
     "data": {
      "text/plain": [
       "['จำนวน 1มีสินค้าทั้งหมด 2 ชิ้น']"
      ]
     },
     "execution_count": 297,
     "metadata": {},
     "output_type": "execute_result"
    }
   ],
   "source": [
    "product28_score_list = []\n",
    "for product in product28_score:\n",
    "    text = product.text.strip()\n",
    "    if text:\n",
    "        product28_score_list.append(text)\n",
    "product28_score_list = product28_score_list[2]\n",
    "product28_score_list = product28_score_list.split('\\n')\n",
    "product28_score_list"
   ]
  },
  {
   "cell_type": "code",
   "execution_count": 298,
   "id": "6d62a698",
   "metadata": {},
   "outputs": [],
   "source": [
    "driver.back()"
   ]
  },
  {
   "cell_type": "code",
   "execution_count": 299,
   "id": "dcc9984a",
   "metadata": {},
   "outputs": [],
   "source": [
    "driver.execute_script(\"document.body.style.zoom='100%'\")"
   ]
  },
  {
   "cell_type": "code",
   "execution_count": 300,
   "id": "3b2f70ef",
   "metadata": {},
   "outputs": [],
   "source": [
    "product29 = driver.find_element(\"xpath\",'/html/body/div[1]/div/div[2]/div/div/div[2]/section/ul/li[29]/a/div/div')"
   ]
  },
  {
   "cell_type": "code",
   "execution_count": 301,
   "id": "098be91f",
   "metadata": {},
   "outputs": [],
   "source": [
    "product29.click()"
   ]
  },
  {
   "cell_type": "code",
   "execution_count": 302,
   "id": "0e8c4904",
   "metadata": {},
   "outputs": [],
   "source": [
    "driver.execute_script(\"document.body.style.zoom='25%'\")"
   ]
  },
  {
   "cell_type": "code",
   "execution_count": 303,
   "id": "426649b5",
   "metadata": {},
   "outputs": [],
   "source": [
    "data = driver.page_source"
   ]
  },
  {
   "cell_type": "code",
   "execution_count": 304,
   "id": "c74b4af0",
   "metadata": {},
   "outputs": [],
   "source": [
    "soup = bs4.BeautifulSoup(data)"
   ]
  },
  {
   "cell_type": "code",
   "execution_count": 305,
   "id": "3e6f0e59",
   "metadata": {},
   "outputs": [],
   "source": [
    "product29_score = soup.find_all('div',{'class':'flex items-center'})"
   ]
  },
  {
   "cell_type": "code",
   "execution_count": 306,
   "id": "7000ee23",
   "metadata": {},
   "outputs": [
    {
     "data": {
      "text/plain": [
       "['จำนวน 1มีสินค้าทั้งหมด 2 ชิ้น']"
      ]
     },
     "execution_count": 306,
     "metadata": {},
     "output_type": "execute_result"
    }
   ],
   "source": [
    "product29_score_list = []\n",
    "for product in product29_score:\n",
    "    text = product.text.strip()\n",
    "    if text:\n",
    "        product29_score_list.append(text)\n",
    "product29_score_list = product29_score_list[2]\n",
    "product29_score_list = product29_score_list.split('\\n')\n",
    "product29_score_list"
   ]
  },
  {
   "cell_type": "code",
   "execution_count": 307,
   "id": "f918f703",
   "metadata": {},
   "outputs": [],
   "source": [
    "driver.back()"
   ]
  },
  {
   "cell_type": "code",
   "execution_count": 308,
   "id": "0547d419",
   "metadata": {},
   "outputs": [],
   "source": [
    "driver.execute_script(\"document.body.style.zoom='100%'\")"
   ]
  },
  {
   "cell_type": "code",
   "execution_count": 309,
   "id": "8eec4d47",
   "metadata": {},
   "outputs": [],
   "source": [
    "product30 = driver.find_element(\"xpath\",'/html/body/div[1]/div/div[2]/div/div/div[2]/section/ul/li[30]/a/div/div')"
   ]
  },
  {
   "cell_type": "code",
   "execution_count": 310,
   "id": "e75846ef",
   "metadata": {},
   "outputs": [],
   "source": [
    "product30.click()"
   ]
  },
  {
   "cell_type": "code",
   "execution_count": 311,
   "id": "2c48feb5",
   "metadata": {},
   "outputs": [],
   "source": [
    "driver.execute_script(\"document.body.style.zoom='25%'\")"
   ]
  },
  {
   "cell_type": "code",
   "execution_count": 312,
   "id": "58e53a2e",
   "metadata": {},
   "outputs": [],
   "source": [
    "data = driver.page_source"
   ]
  },
  {
   "cell_type": "code",
   "execution_count": 313,
   "id": "c45fcb9f",
   "metadata": {},
   "outputs": [],
   "source": [
    "soup = bs4.BeautifulSoup(data)"
   ]
  },
  {
   "cell_type": "code",
   "execution_count": 314,
   "id": "445e501e",
   "metadata": {},
   "outputs": [],
   "source": [
    "product30_score = soup.find_all('div',{'class':'flex items-center'})"
   ]
  },
  {
   "cell_type": "code",
   "execution_count": 315,
   "id": "aaf56236",
   "metadata": {},
   "outputs": [
    {
     "data": {
      "text/plain": [
       "['จำนวน 1มีสินค้าทั้งหมด 45 ชิ้น']"
      ]
     },
     "execution_count": 315,
     "metadata": {},
     "output_type": "execute_result"
    }
   ],
   "source": [
    "product30_score_list = []\n",
    "for product in product30_score:\n",
    "    text = product.text.strip()\n",
    "    if text:\n",
    "        product30_score_list.append(text)\n",
    "product30_score_list = product30_score_list[2]\n",
    "product30_score_list = product30_score_list.split('\\n')\n",
    "product30_score_list"
   ]
  },
  {
   "cell_type": "code",
   "execution_count": 316,
   "id": "3e18e0dd",
   "metadata": {},
   "outputs": [],
   "source": [
    "driver.back()"
   ]
  },
  {
   "cell_type": "code",
   "execution_count": 306,
   "id": "26312c47",
   "metadata": {},
   "outputs": [],
   "source": [
    "product_stock_list = product1_score_list + product2_score_list + product3_score_list + product4_score_list + product5_score_list + product6_score_list + product7_score_list + product8_score_list + product9_score_list + product10_score_list + product11_score_list + product12_score_list + product13_score_list + product14_score_list + product15_score_list + product16_score_list + product17_score_list + product18_score_list + product19_score_list + product20_score_list + product21_score_list + product22_score_list + product23_score_list + product24_score_list + product25_score_list + product26_score_list + product27_score_list + product28_score_list + product29_score_list + product30_score_list"
   ]
  },
  {
   "cell_type": "code",
   "execution_count": 307,
   "id": "aa4473cb",
   "metadata": {},
   "outputs": [
    {
     "data": {
      "text/plain": [
       "['จำนวน 1มีสินค้าทั้งหมด 41 ชิ้น',\n",
       " 'จำนวน 1มีสินค้าทั้งหมด 41 ชิ้น',\n",
       " 'จำนวน 1มีสินค้าทั้งหมด 21 ชิ้น',\n",
       " 'จำนวน 1มีสินค้าทั้งหมด 9 ชิ้น',\n",
       " 'จำนวน 1มีสินค้าทั้งหมด 9 ชิ้น',\n",
       " 'จำนวน 1มีสินค้าทั้งหมด 15 ชิ้น',\n",
       " 'จำนวน 1มีสินค้าทั้งหมด 15 ชิ้น',\n",
       " 'จำนวน 1มีสินค้าทั้งหมด 15 ชิ้น',\n",
       " 'จำนวน 1มีสินค้าทั้งหมด 50 ชิ้น',\n",
       " 'จำนวน 1มีสินค้าทั้งหมด 50 ชิ้น',\n",
       " 'จำนวน 1มีสินค้าทั้งหมด 50 ชิ้น',\n",
       " 'จำนวน 1มีสินค้าทั้งหมด 50 ชิ้น',\n",
       " 'จำนวน 1มีสินค้าทั้งหมด 50 ชิ้น',\n",
       " 'จำนวน 1มีสินค้าทั้งหมด 4 ชิ้น',\n",
       " 'จำนวน 1มีสินค้าทั้งหมด 4 ชิ้น',\n",
       " 'จำนวน 1มีสินค้าทั้งหมด 4 ชิ้น',\n",
       " 'จำนวน 1มีสินค้าทั้งหมด 4 ชิ้น',\n",
       " 'จำนวน 1มีสินค้าทั้งหมด 8 ชิ้น',\n",
       " 'จำนวน 1มีสินค้าทั้งหมด 10 ชิ้น',\n",
       " 'จำนวน 1มีสินค้าทั้งหมด 2 ชิ้น',\n",
       " 'จำนวน 1มีสินค้าทั้งหมด 2 ชิ้น',\n",
       " 'จำนวน 1มีสินค้าทั้งหมด 2 ชิ้น',\n",
       " 'จำนวน 1มีสินค้าทั้งหมด 2 ชิ้น',\n",
       " 'จำนวน 1มีสินค้าทั้งหมด 9 ชิ้น',\n",
       " 'จำนวน 1มีสินค้าทั้งหมด 9 ชิ้น',\n",
       " 'จำนวน 1มีสินค้าทั้งหมด 90 ชิ้น',\n",
       " 'จำนวน 1มีสินค้าทั้งหมด 41 ชิ้น',\n",
       " 'จำนวน 1มีสินค้าทั้งหมด 61 ชิ้น',\n",
       " 'จำนวน 1มีสินค้าทั้งหมด 6 ชิ้น',\n",
       " 'จำนวน 1มีสินค้าทั้งหมด 46 ชิ้น']"
      ]
     },
     "execution_count": 307,
     "metadata": {},
     "output_type": "execute_result"
    }
   ],
   "source": [
    "product_stock_list"
   ]
  },
  {
   "cell_type": "code",
   "execution_count": 308,
   "id": "95ea332d",
   "metadata": {},
   "outputs": [],
   "source": [
    "shopee_data = pd.DataFrame([store_name_list, store_score_list, store_promotion_list, product_name_list, product_price_list, product_sale_list, product_stock_list])"
   ]
  },
  {
   "cell_type": "code",
   "execution_count": 309,
   "id": "ccf0758f",
   "metadata": {},
   "outputs": [
    {
     "data": {
      "text/html": [
       "<div>\n",
       "<style scoped>\n",
       "    .dataframe tbody tr th:only-of-type {\n",
       "        vertical-align: middle;\n",
       "    }\n",
       "\n",
       "    .dataframe tbody tr th {\n",
       "        vertical-align: top;\n",
       "    }\n",
       "\n",
       "    .dataframe thead th {\n",
       "        text-align: right;\n",
       "    }\n",
       "</style>\n",
       "<table border=\"1\" class=\"dataframe\">\n",
       "  <thead>\n",
       "    <tr style=\"text-align: right;\">\n",
       "      <th></th>\n",
       "      <th>name</th>\n",
       "      <th>score</th>\n",
       "      <th>promotion</th>\n",
       "      <th>product_name</th>\n",
       "      <th>price</th>\n",
       "      <th>sale</th>\n",
       "      <th>stock</th>\n",
       "    </tr>\n",
       "  </thead>\n",
       "  <tbody>\n",
       "    <tr>\n",
       "      <th>0</th>\n",
       "      <td>wiputtshopActive 32 นาที  ที่ผ่านมา</td>\n",
       "      <td>4.7 (การให้คะแนนทั้งหมด 13พัน)</td>\n",
       "      <td>None</td>\n",
       "      <td>ที่คาดผม💙ผ้าโพกหัว💙หมวกมัดย้อม เสื้อมัดย้อม</td>\n",
       "      <td>฿45</td>\n",
       "      <td>ขายแล้ว 561 ชิ้น</td>\n",
       "      <td>จำนวน 1มีสินค้าทั้งหมด 41 ชิ้น</td>\n",
       "    </tr>\n",
       "    <tr>\n",
       "      <th>1</th>\n",
       "      <td>None</td>\n",
       "      <td>None</td>\n",
       "      <td>None</td>\n",
       "      <td>เสื้อมัดย้อม คอวีรูดอก 🌸แจ้งลายทางแชท</td>\n",
       "      <td>฿159</td>\n",
       "      <td>ขายแล้ว 337 ชิ้น</td>\n",
       "      <td>จำนวน 1มีสินค้าทั้งหมด 41 ชิ้น</td>\n",
       "    </tr>\n",
       "    <tr>\n",
       "      <th>2</th>\n",
       "      <td>None</td>\n",
       "      <td>None</td>\n",
       "      <td>None</td>\n",
       "      <td>จั้มสูทแขนกุดมัดย้อมผ้าฝ้าย (แจ้งลายทางแชท)</td>\n",
       "      <td>฿230</td>\n",
       "      <td>ขายแล้ว 338 ชิ้น</td>\n",
       "      <td>จำนวน 1มีสินค้าทั้งหมด 21 ชิ้น</td>\n",
       "    </tr>\n",
       "    <tr>\n",
       "      <th>3</th>\n",
       "      <td>None</td>\n",
       "      <td>None</td>\n",
       "      <td>None</td>\n",
       "      <td>เดรสมัดย้อม มัดย้อม ปีกค้างคาว สายผูกลูกปัด เส...</td>\n",
       "      <td>฿199</td>\n",
       "      <td>ขายแล้ว 586 ชิ้น</td>\n",
       "      <td>จำนวน 1มีสินค้าทั้งหมด 9 ชิ้น</td>\n",
       "    </tr>\n",
       "    <tr>\n",
       "      <th>4</th>\n",
       "      <td>None</td>\n",
       "      <td>None</td>\n",
       "      <td>None</td>\n",
       "      <td>ชุดมัดย้อม มัดย้อม จั้มสูทสายเดี่ยว เสื้อมัดย้...</td>\n",
       "      <td>฿199</td>\n",
       "      <td>ขายแล้ว 590 ชิ้น</td>\n",
       "      <td>จำนวน 1มีสินค้าทั้งหมด 9 ชิ้น</td>\n",
       "    </tr>\n",
       "    <tr>\n",
       "      <th>5</th>\n",
       "      <td>None</td>\n",
       "      <td>None</td>\n",
       "      <td>None</td>\n",
       "      <td>เสื้อมัดย้อมคอกระเหรี่ยง</td>\n",
       "      <td>฿129</td>\n",
       "      <td>ขายแล้ว 44 ชิ้น</td>\n",
       "      <td>จำนวน 1มีสินค้าทั้งหมด 15 ชิ้น</td>\n",
       "    </tr>\n",
       "    <tr>\n",
       "      <th>6</th>\n",
       "      <td>None</td>\n",
       "      <td>None</td>\n",
       "      <td>None</td>\n",
       "      <td>เสื้อเชิ้ตแขนสั้นมัดย้อมสีฟ้าคราม มัดย้อม เสื้...</td>\n",
       "      <td>฿159 - ฿169</td>\n",
       "      <td>ขายแล้ว 1.1พัน ชิ้น</td>\n",
       "      <td>จำนวน 1มีสินค้าทั้งหมด 15 ชิ้น</td>\n",
       "    </tr>\n",
       "    <tr>\n",
       "      <th>7</th>\n",
       "      <td>None</td>\n",
       "      <td>None</td>\n",
       "      <td>None</td>\n",
       "      <td>เสื้อยืดมัดย้อม เสื้อมัดย้อม (แจ้งลายทางแชท)</td>\n",
       "      <td>฿159</td>\n",
       "      <td>ขายแล้ว 575 ชิ้น</td>\n",
       "      <td>จำนวน 1มีสินค้าทั้งหมด 15 ชิ้น</td>\n",
       "    </tr>\n",
       "    <tr>\n",
       "      <th>8</th>\n",
       "      <td>None</td>\n",
       "      <td>None</td>\n",
       "      <td>None</td>\n",
       "      <td>เสื้อมัดย้อมคอกระเหรี่ยง ชายเรียบ</td>\n",
       "      <td>฿119</td>\n",
       "      <td>ขายแล้ว 17.4พัน ชิ้น</td>\n",
       "      <td>จำนวน 1มีสินค้าทั้งหมด 50 ชิ้น</td>\n",
       "    </tr>\n",
       "    <tr>\n",
       "      <th>9</th>\n",
       "      <td>None</td>\n",
       "      <td>None</td>\n",
       "      <td>None</td>\n",
       "      <td>เสื้อมัดย้อม คอกระเหรี่ยง 🌞เสื้อผ้าแฟชั่น มัดย...</td>\n",
       "      <td>฿79 - ฿139</td>\n",
       "      <td>ขายแล้ว 6.9พัน ชิ้น</td>\n",
       "      <td>จำนวน 1มีสินค้าทั้งหมด 50 ชิ้น</td>\n",
       "    </tr>\n",
       "    <tr>\n",
       "      <th>10</th>\n",
       "      <td>None</td>\n",
       "      <td>None</td>\n",
       "      <td>None</td>\n",
       "      <td>เดรสมัดย้อม มัดย้อม คอกระเหรี่ยง เสื้อมัดย้อม ...</td>\n",
       "      <td>฿149 - ฿189</td>\n",
       "      <td>ขายแล้ว 78 ชิ้น</td>\n",
       "      <td>จำนวน 1มีสินค้าทั้งหมด 50 ชิ้น</td>\n",
       "    </tr>\n",
       "    <tr>\n",
       "      <th>11</th>\n",
       "      <td>None</td>\n",
       "      <td>None</td>\n",
       "      <td>None</td>\n",
       "      <td>ชุดมัดย้อม เลือกลายได้ แจ้งลายทางแชท</td>\n",
       "      <td>฿129</td>\n",
       "      <td>ขายแล้ว 853 ชิ้น</td>\n",
       "      <td>จำนวน 1มีสินค้าทั้งหมด 50 ชิ้น</td>\n",
       "    </tr>\n",
       "    <tr>\n",
       "      <th>12</th>\n",
       "      <td>None</td>\n",
       "      <td>None</td>\n",
       "      <td>None</td>\n",
       "      <td>ชุดมัดย้อม เดรสมัดย้อม</td>\n",
       "      <td>฿200</td>\n",
       "      <td>ขายแล้ว 383 ชิ้น</td>\n",
       "      <td>จำนวน 1มีสินค้าทั้งหมด 50 ชิ้น</td>\n",
       "    </tr>\n",
       "    <tr>\n",
       "      <th>13</th>\n",
       "      <td>None</td>\n",
       "      <td>None</td>\n",
       "      <td>None</td>\n",
       "      <td>เสื้อมัดย้อม แขนยาว (ใส่ได้ทั้งชายและหญิง)</td>\n",
       "      <td>฿159</td>\n",
       "      <td>ขายแล้ว 1พัน ชิ้น</td>\n",
       "      <td>จำนวน 1มีสินค้าทั้งหมด 4 ชิ้น</td>\n",
       "    </tr>\n",
       "    <tr>\n",
       "      <th>14</th>\n",
       "      <td>None</td>\n",
       "      <td>None</td>\n",
       "      <td>None</td>\n",
       "      <td>มินิ เดรสมัดย้อม มัดย้อม แต่งชายปอมๆ เสื้อมัดย้อม</td>\n",
       "      <td>฿189</td>\n",
       "      <td>ขายแล้ว 576 ชิ้น</td>\n",
       "      <td>จำนวน 1มีสินค้าทั้งหมด 4 ชิ้น</td>\n",
       "    </tr>\n",
       "    <tr>\n",
       "      <th>15</th>\n",
       "      <td>None</td>\n",
       "      <td>None</td>\n",
       "      <td>None</td>\n",
       "      <td>มินิเดรสมัดย้อม มัดย้อม แขนยาว เสื้อมัดย้อม</td>\n",
       "      <td>฿179</td>\n",
       "      <td>ขายแล้ว 650 ชิ้น</td>\n",
       "      <td>จำนวน 1มีสินค้าทั้งหมด 4 ชิ้น</td>\n",
       "    </tr>\n",
       "    <tr>\n",
       "      <th>16</th>\n",
       "      <td>None</td>\n",
       "      <td>None</td>\n",
       "      <td>None</td>\n",
       "      <td>ชุดเอี้ยม มัดย้อม สีพาสเทล 🌸 (แจ้งลายทางแชท)​ ...</td>\n",
       "      <td>฿199</td>\n",
       "      <td>ขายแล้ว 63 ชิ้น</td>\n",
       "      <td>จำนวน 1มีสินค้าทั้งหมด 4 ชิ้น</td>\n",
       "    </tr>\n",
       "    <tr>\n",
       "      <th>17</th>\n",
       "      <td>None</td>\n",
       "      <td>None</td>\n",
       "      <td>None</td>\n",
       "      <td>เสื้อมัดย้อมเปิดไหล่</td>\n",
       "      <td>฿159</td>\n",
       "      <td>ขายแล้ว 144 ชิ้น</td>\n",
       "      <td>จำนวน 1มีสินค้าทั้งหมด 8 ชิ้น</td>\n",
       "    </tr>\n",
       "    <tr>\n",
       "      <th>18</th>\n",
       "      <td>None</td>\n",
       "      <td>None</td>\n",
       "      <td>None</td>\n",
       "      <td>เสื้อมัดย้อมสีพาสเทล ใส่ไปทะเล 🌈new arrival</td>\n",
       "      <td>฿189</td>\n",
       "      <td>ขายแล้ว 139 ชิ้น</td>\n",
       "      <td>จำนวน 1มีสินค้าทั้งหมด 10 ชิ้น</td>\n",
       "    </tr>\n",
       "    <tr>\n",
       "      <th>19</th>\n",
       "      <td>None</td>\n",
       "      <td>None</td>\n",
       "      <td>None</td>\n",
       "      <td>เสื้อเชิ้ตมัดย้อมผู้ชาย</td>\n",
       "      <td>฿189</td>\n",
       "      <td>ขายแล้ว 254 ชิ้น</td>\n",
       "      <td>จำนวน 1มีสินค้าทั้งหมด 2 ชิ้น</td>\n",
       "    </tr>\n",
       "    <tr>\n",
       "      <th>20</th>\n",
       "      <td>None</td>\n",
       "      <td>None</td>\n",
       "      <td>None</td>\n",
       "      <td>เสื้อมัดย้อม มัดย้อม สีพาสเทล 🌸🌿 แจ้งลายทางแชท</td>\n",
       "      <td>฿139</td>\n",
       "      <td>ขายแล้ว 619 ชิ้น</td>\n",
       "      <td>จำนวน 1มีสินค้าทั้งหมด 2 ชิ้น</td>\n",
       "    </tr>\n",
       "    <tr>\n",
       "      <th>21</th>\n",
       "      <td>None</td>\n",
       "      <td>None</td>\n",
       "      <td>None</td>\n",
       "      <td>เสื้อมัดย้อม มัดย้อม ปาดไหล่ (แจ้งลายทางแชท)</td>\n",
       "      <td>฿159</td>\n",
       "      <td>ขายแล้ว 451 ชิ้น</td>\n",
       "      <td>จำนวน 1มีสินค้าทั้งหมด 2 ชิ้น</td>\n",
       "    </tr>\n",
       "    <tr>\n",
       "      <th>22</th>\n",
       "      <td>None</td>\n",
       "      <td>None</td>\n",
       "      <td>None</td>\n",
       "      <td>เสื้อมัดย้อม สายเดี่ยว มัดย้อม</td>\n",
       "      <td>฿109 - ฿129</td>\n",
       "      <td>ขายแล้ว 261 ชิ้น</td>\n",
       "      <td>จำนวน 1มีสินค้าทั้งหมด 2 ชิ้น</td>\n",
       "    </tr>\n",
       "    <tr>\n",
       "      <th>23</th>\n",
       "      <td>None</td>\n",
       "      <td>None</td>\n",
       "      <td>None</td>\n",
       "      <td>ชุดเดรสมัดย้อม สม็อคเอว💙 มัดย้อมคราม</td>\n",
       "      <td>฿229</td>\n",
       "      <td>ขายแล้ว 2.6พัน ชิ้น</td>\n",
       "      <td>จำนวน 1มีสินค้าทั้งหมด 9 ชิ้น</td>\n",
       "    </tr>\n",
       "    <tr>\n",
       "      <th>24</th>\n",
       "      <td>None</td>\n",
       "      <td>None</td>\n",
       "      <td>None</td>\n",
       "      <td>เสื้อมัดย้อม มินิเดรส 🌊new arrival มัดย้อม</td>\n",
       "      <td>฿149 - ฿169</td>\n",
       "      <td>ขายแล้ว 138 ชิ้น</td>\n",
       "      <td>จำนวน 1มีสินค้าทั้งหมด 9 ชิ้น</td>\n",
       "    </tr>\n",
       "    <tr>\n",
       "      <th>25</th>\n",
       "      <td>None</td>\n",
       "      <td>None</td>\n",
       "      <td>None</td>\n",
       "      <td>เสื้อมัดย้อมสายเดี่ยว</td>\n",
       "      <td>฿119</td>\n",
       "      <td>ขายแล้ว 517 ชิ้น</td>\n",
       "      <td>จำนวน 1มีสินค้าทั้งหมด 90 ชิ้น</td>\n",
       "    </tr>\n",
       "    <tr>\n",
       "      <th>26</th>\n",
       "      <td>None</td>\n",
       "      <td>None</td>\n",
       "      <td>None</td>\n",
       "      <td>เสื้อมัดย้อม แขนยาวผูกเอว ‼️ new arrival แจ้งล...</td>\n",
       "      <td>฿179</td>\n",
       "      <td>ขายแล้ว 222 ชิ้น</td>\n",
       "      <td>จำนวน 1มีสินค้าทั้งหมด 41 ชิ้น</td>\n",
       "    </tr>\n",
       "    <tr>\n",
       "      <th>27</th>\n",
       "      <td>None</td>\n",
       "      <td>None</td>\n",
       "      <td>None</td>\n",
       "      <td>เสื้อมัดย้อม ผ้าฝ้าย ปีกค้างคาว (แจ้งลายทางแชท)</td>\n",
       "      <td>฿199</td>\n",
       "      <td>ขายแล้ว 149 ชิ้น</td>\n",
       "      <td>จำนวน 1มีสินค้าทั้งหมด 61 ชิ้น</td>\n",
       "    </tr>\n",
       "    <tr>\n",
       "      <th>28</th>\n",
       "      <td>None</td>\n",
       "      <td>None</td>\n",
       "      <td>None</td>\n",
       "      <td>เสื้อคลุมมัดย้อมสีฟ้าคราม (แจ้งลายทางแชท)</td>\n",
       "      <td>฿169</td>\n",
       "      <td>ขายแล้ว 145 ชิ้น</td>\n",
       "      <td>จำนวน 1มีสินค้าทั้งหมด 6 ชิ้น</td>\n",
       "    </tr>\n",
       "    <tr>\n",
       "      <th>29</th>\n",
       "      <td>None</td>\n",
       "      <td>None</td>\n",
       "      <td>None</td>\n",
       "      <td>ชุดมัดย้อม มีเก็บเงินปลายทาง แจ้งลายทางแชท</td>\n",
       "      <td>฿129</td>\n",
       "      <td>None</td>\n",
       "      <td>จำนวน 1มีสินค้าทั้งหมด 46 ชิ้น</td>\n",
       "    </tr>\n",
       "  </tbody>\n",
       "</table>\n",
       "</div>"
      ],
      "text/plain": [
       "                                   name                           score  \\\n",
       "0   wiputtshopActive 32 นาที  ที่ผ่านมา  4.7 (การให้คะแนนทั้งหมด 13พัน)   \n",
       "1                                  None                            None   \n",
       "2                                  None                            None   \n",
       "3                                  None                            None   \n",
       "4                                  None                            None   \n",
       "5                                  None                            None   \n",
       "6                                  None                            None   \n",
       "7                                  None                            None   \n",
       "8                                  None                            None   \n",
       "9                                  None                            None   \n",
       "10                                 None                            None   \n",
       "11                                 None                            None   \n",
       "12                                 None                            None   \n",
       "13                                 None                            None   \n",
       "14                                 None                            None   \n",
       "15                                 None                            None   \n",
       "16                                 None                            None   \n",
       "17                                 None                            None   \n",
       "18                                 None                            None   \n",
       "19                                 None                            None   \n",
       "20                                 None                            None   \n",
       "21                                 None                            None   \n",
       "22                                 None                            None   \n",
       "23                                 None                            None   \n",
       "24                                 None                            None   \n",
       "25                                 None                            None   \n",
       "26                                 None                            None   \n",
       "27                                 None                            None   \n",
       "28                                 None                            None   \n",
       "29                                 None                            None   \n",
       "\n",
       "   promotion                                       product_name        price  \\\n",
       "0       None        ที่คาดผม💙ผ้าโพกหัว💙หมวกมัดย้อม เสื้อมัดย้อม          ฿45   \n",
       "1       None              เสื้อมัดย้อม คอวีรูดอก 🌸แจ้งลายทางแชท         ฿159   \n",
       "2       None        จั้มสูทแขนกุดมัดย้อมผ้าฝ้าย (แจ้งลายทางแชท)         ฿230   \n",
       "3       None  เดรสมัดย้อม มัดย้อม ปีกค้างคาว สายผูกลูกปัด เส...         ฿199   \n",
       "4       None  ชุดมัดย้อม มัดย้อม จั้มสูทสายเดี่ยว เสื้อมัดย้...         ฿199   \n",
       "5       None                           เสื้อมัดย้อมคอกระเหรี่ยง         ฿129   \n",
       "6       None  เสื้อเชิ้ตแขนสั้นมัดย้อมสีฟ้าคราม มัดย้อม เสื้...  ฿159 - ฿169   \n",
       "7       None       เสื้อยืดมัดย้อม เสื้อมัดย้อม (แจ้งลายทางแชท)         ฿159   \n",
       "8       None                  เสื้อมัดย้อมคอกระเหรี่ยง ชายเรียบ         ฿119   \n",
       "9       None  เสื้อมัดย้อม คอกระเหรี่ยง 🌞เสื้อผ้าแฟชั่น มัดย...   ฿79 - ฿139   \n",
       "10      None  เดรสมัดย้อม มัดย้อม คอกระเหรี่ยง เสื้อมัดย้อม ...  ฿149 - ฿189   \n",
       "11      None               ชุดมัดย้อม เลือกลายได้ แจ้งลายทางแชท         ฿129   \n",
       "12      None                             ชุดมัดย้อม เดรสมัดย้อม         ฿200   \n",
       "13      None         เสื้อมัดย้อม แขนยาว (ใส่ได้ทั้งชายและหญิง)         ฿159   \n",
       "14      None  มินิ เดรสมัดย้อม มัดย้อม แต่งชายปอมๆ เสื้อมัดย้อม         ฿189   \n",
       "15      None        มินิเดรสมัดย้อม มัดย้อม แขนยาว เสื้อมัดย้อม         ฿179   \n",
       "16      None  ชุดเอี้ยม มัดย้อม สีพาสเทล 🌸 (แจ้งลายทางแชท)​ ...         ฿199   \n",
       "17      None                               เสื้อมัดย้อมเปิดไหล่         ฿159   \n",
       "18      None        เสื้อมัดย้อมสีพาสเทล ใส่ไปทะเล 🌈new arrival         ฿189   \n",
       "19      None                            เสื้อเชิ้ตมัดย้อมผู้ชาย         ฿189   \n",
       "20      None     เสื้อมัดย้อม มัดย้อม สีพาสเทล 🌸🌿 แจ้งลายทางแชท         ฿139   \n",
       "21      None       เสื้อมัดย้อม มัดย้อม ปาดไหล่ (แจ้งลายทางแชท)         ฿159   \n",
       "22      None                     เสื้อมัดย้อม สายเดี่ยว มัดย้อม  ฿109 - ฿129   \n",
       "23      None               ชุดเดรสมัดย้อม สม็อคเอว💙 มัดย้อมคราม         ฿229   \n",
       "24      None         เสื้อมัดย้อม มินิเดรส 🌊new arrival มัดย้อม  ฿149 - ฿169   \n",
       "25      None                              เสื้อมัดย้อมสายเดี่ยว         ฿119   \n",
       "26      None  เสื้อมัดย้อม แขนยาวผูกเอว ‼️ new arrival แจ้งล...         ฿179   \n",
       "27      None    เสื้อมัดย้อม ผ้าฝ้าย ปีกค้างคาว (แจ้งลายทางแชท)         ฿199   \n",
       "28      None          เสื้อคลุมมัดย้อมสีฟ้าคราม (แจ้งลายทางแชท)         ฿169   \n",
       "29      None         ชุดมัดย้อม มีเก็บเงินปลายทาง แจ้งลายทางแชท         ฿129   \n",
       "\n",
       "                    sale                           stock  \n",
       "0       ขายแล้ว 561 ชิ้น  จำนวน 1มีสินค้าทั้งหมด 41 ชิ้น  \n",
       "1       ขายแล้ว 337 ชิ้น  จำนวน 1มีสินค้าทั้งหมด 41 ชิ้น  \n",
       "2       ขายแล้ว 338 ชิ้น  จำนวน 1มีสินค้าทั้งหมด 21 ชิ้น  \n",
       "3       ขายแล้ว 586 ชิ้น   จำนวน 1มีสินค้าทั้งหมด 9 ชิ้น  \n",
       "4       ขายแล้ว 590 ชิ้น   จำนวน 1มีสินค้าทั้งหมด 9 ชิ้น  \n",
       "5        ขายแล้ว 44 ชิ้น  จำนวน 1มีสินค้าทั้งหมด 15 ชิ้น  \n",
       "6    ขายแล้ว 1.1พัน ชิ้น  จำนวน 1มีสินค้าทั้งหมด 15 ชิ้น  \n",
       "7       ขายแล้ว 575 ชิ้น  จำนวน 1มีสินค้าทั้งหมด 15 ชิ้น  \n",
       "8   ขายแล้ว 17.4พัน ชิ้น  จำนวน 1มีสินค้าทั้งหมด 50 ชิ้น  \n",
       "9    ขายแล้ว 6.9พัน ชิ้น  จำนวน 1มีสินค้าทั้งหมด 50 ชิ้น  \n",
       "10       ขายแล้ว 78 ชิ้น  จำนวน 1มีสินค้าทั้งหมด 50 ชิ้น  \n",
       "11      ขายแล้ว 853 ชิ้น  จำนวน 1มีสินค้าทั้งหมด 50 ชิ้น  \n",
       "12      ขายแล้ว 383 ชิ้น  จำนวน 1มีสินค้าทั้งหมด 50 ชิ้น  \n",
       "13     ขายแล้ว 1พัน ชิ้น   จำนวน 1มีสินค้าทั้งหมด 4 ชิ้น  \n",
       "14      ขายแล้ว 576 ชิ้น   จำนวน 1มีสินค้าทั้งหมด 4 ชิ้น  \n",
       "15      ขายแล้ว 650 ชิ้น   จำนวน 1มีสินค้าทั้งหมด 4 ชิ้น  \n",
       "16       ขายแล้ว 63 ชิ้น   จำนวน 1มีสินค้าทั้งหมด 4 ชิ้น  \n",
       "17      ขายแล้ว 144 ชิ้น   จำนวน 1มีสินค้าทั้งหมด 8 ชิ้น  \n",
       "18      ขายแล้ว 139 ชิ้น  จำนวน 1มีสินค้าทั้งหมด 10 ชิ้น  \n",
       "19      ขายแล้ว 254 ชิ้น   จำนวน 1มีสินค้าทั้งหมด 2 ชิ้น  \n",
       "20      ขายแล้ว 619 ชิ้น   จำนวน 1มีสินค้าทั้งหมด 2 ชิ้น  \n",
       "21      ขายแล้ว 451 ชิ้น   จำนวน 1มีสินค้าทั้งหมด 2 ชิ้น  \n",
       "22      ขายแล้ว 261 ชิ้น   จำนวน 1มีสินค้าทั้งหมด 2 ชิ้น  \n",
       "23   ขายแล้ว 2.6พัน ชิ้น   จำนวน 1มีสินค้าทั้งหมด 9 ชิ้น  \n",
       "24      ขายแล้ว 138 ชิ้น   จำนวน 1มีสินค้าทั้งหมด 9 ชิ้น  \n",
       "25      ขายแล้ว 517 ชิ้น  จำนวน 1มีสินค้าทั้งหมด 90 ชิ้น  \n",
       "26      ขายแล้ว 222 ชิ้น  จำนวน 1มีสินค้าทั้งหมด 41 ชิ้น  \n",
       "27      ขายแล้ว 149 ชิ้น  จำนวน 1มีสินค้าทั้งหมด 61 ชิ้น  \n",
       "28      ขายแล้ว 145 ชิ้น   จำนวน 1มีสินค้าทั้งหมด 6 ชิ้น  \n",
       "29                  None  จำนวน 1มีสินค้าทั้งหมด 46 ชิ้น  "
      ]
     },
     "execution_count": 309,
     "metadata": {},
     "output_type": "execute_result"
    }
   ],
   "source": [
    "shopee_data = shopee_data.transpose()\n",
    "shopee_data.columns = ['name','score','promotion','product_name','price', 'sale', 'stock']\n",
    "shopee_data"
   ]
  },
  {
   "cell_type": "code",
   "execution_count": 308,
   "id": "55221737",
   "metadata": {},
   "outputs": [],
   "source": [
    "shopee_data.to_excel(r'/Users/kritchayahirunno/Desktop/webscp/wiputtshop(8.10).xlsx')"
   ]
  },
  {
   "cell_type": "code",
   "execution_count": null,
   "id": "5620d648",
   "metadata": {},
   "outputs": [],
   "source": []
  }
 ],
 "metadata": {
  "kernelspec": {
   "display_name": "Python 3",
   "language": "python",
   "name": "python3"
  },
  "language_info": {
   "codemirror_mode": {
    "name": "ipython",
    "version": 3
   },
   "file_extension": ".py",
   "mimetype": "text/x-python",
   "name": "python",
   "nbconvert_exporter": "python",
   "pygments_lexer": "ipython3",
   "version": "3.8.8"
  }
 },
 "nbformat": 4,
 "nbformat_minor": 5
}
